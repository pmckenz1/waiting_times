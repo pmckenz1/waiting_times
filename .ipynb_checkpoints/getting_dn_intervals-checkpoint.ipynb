{
 "cells": [
  {
   "cell_type": "code",
   "execution_count": 46,
   "metadata": {},
   "outputs": [],
   "source": [
    "import toytree\n",
    "import ipcoal\n",
    "import numpy as np\n",
    "import pandas as pd"
   ]
  },
  {
   "cell_type": "code",
   "execution_count": 29,
   "metadata": {},
   "outputs": [],
   "source": [
    "tr = toytree.rtree.coaltree(5,7e5,seed=123)"
   ]
  },
  {
   "cell_type": "code",
   "execution_count": 30,
   "metadata": {},
   "outputs": [
    {
     "data": {
      "text/html": [
       "<div class=\"toyplot\" id=\"t08e220411bc94f26abf01c22cb84027c\" style=\"text-align:center\"><svg class=\"toyplot-canvas-Canvas\" height=\"275.0px\" id=\"tb442ca157bda41bcac744b2f6f5cc542\" preserveAspectRatio=\"xMidYMid meet\" style=\"background-color:transparent;border-color:#292724;border-style:none;border-width:1.0;fill:rgb(16.1%,15.3%,14.1%);fill-opacity:1.0;font-family:Helvetica;font-size:12px;opacity:1.0;stroke:rgb(16.1%,15.3%,14.1%);stroke-opacity:1.0;stroke-width:1.0\" viewBox=\"0 0 500.0 275.0\" width=\"500.0px\" xmlns=\"http://www.w3.org/2000/svg\" xmlns:toyplot=\"http://www.sandia.gov/toyplot\" xmlns:xlink=\"http://www.w3.org/1999/xlink\"><g class=\"toyplot-coordinates-Cartesian\" id=\"t3d7b79c2d0a54b3a82891658eb30f626\"><clipPath id=\"t13d5fbb387634f3abccaf9fcd1ba28cb\"><rect height=\"215.0\" width=\"440.0\" x=\"30.0\" y=\"30.0\"></rect></clipPath><g clip-path=\"url(#t13d5fbb387634f3abccaf9fcd1ba28cb)\"><g class=\"toytree-mark-Toytree\" id=\"t2b9c127aa1974646a9eb6d31be736909\"><g class=\"toytree-Edges\" style=\"fill:none;stroke:rgb(14.9%,14.9%,14.9%);stroke-linecap:round;stroke-opacity:1;stroke-width:2\"><path d=\"M 63.8 97.8 L 308.3 132.8\" id=\"8,7\"></path><path d=\"M 308.3 132.8 L 406.5 165.5\" id=\"7,6\"></path><path d=\"M 406.5 165.5 L 421.1 193.5\" id=\"6,5\"></path><path d=\"M 63.8 97.8 L 432.8 62.8\" id=\"8,4\"></path><path d=\"M 308.3 132.8 L 432.8 100.2\" id=\"7,3\"></path><path d=\"M 406.5 165.5 L 432.8 137.5\" id=\"6,2\"></path><path d=\"M 421.1 193.5 L 432.8 174.8\" id=\"5,1\"></path><path d=\"M 421.1 193.5 L 432.8 212.2\" id=\"5,0\"></path></g><g class=\"toytree-AlignEdges\" style=\"stroke:rgb(66.3%,66.3%,66.3%);stroke-dasharray:2, 4;stroke-linecap:round;stroke-opacity:1.0;stroke-width:2\"><path d=\"M 432.8 212.2 L 432.8 212.2\"></path><path d=\"M 432.8 174.8 L 432.8 174.8\"></path><path d=\"M 432.8 137.5 L 432.8 137.5\"></path><path d=\"M 432.8 100.2 L 432.8 100.2\"></path><path d=\"M 432.8 62.8 L 432.8 62.8\"></path></g><g class=\"toytree-Nodes\" style=\"fill:rgb(10.6%,62%,46.7%);fill-opacity:1.0;stroke:rgb(100%,100%,100%);stroke-opacity:1.0;stroke-width:1.5\"><g id=\"node-0\" transform=\"translate(432.780,212.195)\"><circle r=\"7.5\"></circle></g><g id=\"node-1\" transform=\"translate(432.780,174.848)\"><circle r=\"7.5\"></circle></g><g id=\"node-2\" transform=\"translate(432.780,137.500)\"><circle r=\"7.5\"></circle></g><g id=\"node-3\" transform=\"translate(432.780,100.152)\"><circle r=\"7.5\"></circle></g><g id=\"node-4\" transform=\"translate(432.780,62.805)\"><circle r=\"7.5\"></circle></g><g id=\"node-5\" transform=\"translate(421.113,193.521)\"><circle r=\"7.5\"></circle></g><g id=\"node-6\" transform=\"translate(406.538,165.511)\"><circle r=\"7.5\"></circle></g><g id=\"node-7\" transform=\"translate(308.271,132.832)\"><circle r=\"7.5\"></circle></g><g id=\"node-8\" transform=\"translate(63.835,97.818)\"><circle r=\"7.5\"></circle></g></g><g class=\"toytree-NodeLabels\" style=\"fill:rgb(14.9%,14.9%,14.9%);fill-opacity:1.0;font-size:9px;stroke:none\"><g transform=\"translate(430.28,214.49)\"><text>0</text></g><g transform=\"translate(430.28,177.15)\"><text>1</text></g><g transform=\"translate(430.28,139.80)\"><text>2</text></g><g transform=\"translate(430.28,102.45)\"><text>3</text></g><g transform=\"translate(430.28,65.10)\"><text>4</text></g><g transform=\"translate(418.61,195.82)\"><text>5</text></g><g transform=\"translate(404.04,167.81)\"><text>6</text></g><g transform=\"translate(305.77,135.13)\"><text>7</text></g><g transform=\"translate(61.33,100.12)\"><text>8</text></g></g><g class=\"toytree-TipLabels\" style=\"fill:rgb(14.9%,14.9%,14.9%);fill-opacity:1.0;font-family:helvetica;font-size:11px;font-weight:normal;stroke:none;white-space:pre\"><g transform=\"translate(432.78,212.20)rotate(0)\"><text style=\"\" x=\"15.00\" y=\"2.81\">r0</text></g><g transform=\"translate(432.78,174.85)rotate(0)\"><text style=\"\" x=\"15.00\" y=\"2.81\">r1</text></g><g transform=\"translate(432.78,137.50)rotate(0)\"><text style=\"\" x=\"15.00\" y=\"2.81\">r2</text></g><g transform=\"translate(432.78,100.15)rotate(0)\"><text style=\"\" x=\"15.00\" y=\"2.81\">r3</text></g><g transform=\"translate(432.78,62.80)rotate(0)\"><text style=\"\" x=\"15.00\" y=\"2.81\">r4</text></g></g></g></g></g></svg><div class=\"toyplot-behavior\"><script>(function()\n",
       "{\n",
       "var modules={};\n",
       "})();</script></div></div>"
      ]
     },
     "metadata": {},
     "output_type": "display_data"
    }
   ],
   "source": [
    "tr.draw(ts='o',node_labels=True,node_sizes=15,width=500);"
   ]
  },
  {
   "cell_type": "code",
   "execution_count": 31,
   "metadata": {},
   "outputs": [
    {
     "data": {
      "text/plain": [
       "403846.0"
      ]
     },
     "execution_count": 31,
     "metadata": {},
     "output_type": "execute_result"
    }
   ],
   "source": [
    "tr.treenode.height"
   ]
  },
  {
   "cell_type": "markdown",
   "metadata": {},
   "source": [
    "let's simulate a genealogy on this tree with ipcoal"
   ]
  },
  {
   "cell_type": "code",
   "execution_count": 57,
   "metadata": {},
   "outputs": [],
   "source": [
    "mod = ipcoal.Model(tr,Ne=100000)\n",
    "mod.sim_trees(1)"
   ]
  },
  {
   "cell_type": "code",
   "execution_count": 58,
   "metadata": {},
   "outputs": [
    {
     "data": {
      "text/plain": [
       "(<toyplot.canvas.Canvas at 0x1286677b8>,\n",
       " <toyplot.coordinates.Cartesian at 0x128667208>,\n",
       " <toytree.Render.ToytreeMark at 0x128604a90>)"
      ]
     },
     "execution_count": 58,
     "metadata": {},
     "output_type": "execute_result"
    },
    {
     "data": {
      "text/html": [
       "<div class=\"toyplot\" id=\"tf0ad28bbdf894ebd90f46ce66f2bdfca\" style=\"text-align:center\"><svg class=\"toyplot-canvas-Canvas\" height=\"275.0px\" id=\"taf8e609babef49758339c14ccb86fe11\" preserveAspectRatio=\"xMidYMid meet\" style=\"background-color:transparent;border-color:#292724;border-style:none;border-width:1.0;fill:rgb(16.1%,15.3%,14.1%);fill-opacity:1.0;font-family:Helvetica;font-size:12px;opacity:1.0;stroke:rgb(16.1%,15.3%,14.1%);stroke-opacity:1.0;stroke-width:1.0\" viewBox=\"0 0 500.0 275.0\" width=\"500.0px\" xmlns=\"http://www.w3.org/2000/svg\" xmlns:toyplot=\"http://www.sandia.gov/toyplot\" xmlns:xlink=\"http://www.w3.org/1999/xlink\"><g class=\"toyplot-coordinates-Cartesian\" id=\"tc9e534ae60214c448ec57da3129fd503\"><clipPath id=\"t3c3116fa1f3e40aca3fb0d45e85f675c\"><rect height=\"215.0\" width=\"440.0\" x=\"30.0\" y=\"30.0\"></rect></clipPath><g clip-path=\"url(#t3c3116fa1f3e40aca3fb0d45e85f675c)\"><g class=\"toytree-mark-Toytree\" id=\"tcf54c0f45de74d15b34855f9a01d6f43\"><g class=\"toytree-Edges\" style=\"fill:none;stroke:rgb(14.9%,14.9%,14.9%);stroke-linecap:round;stroke-opacity:1;stroke-width:2\"><path d=\"M 63.8 123.5 L 66.7 81.5\" id=\"8,7\"></path><path d=\"M 63.8 123.5 L 311.2 165.5\" id=\"8,6\"></path><path d=\"M 311.2 165.5 L 409.1 193.5\" id=\"6,5\"></path><path d=\"M 66.7 81.5 L 432.8 62.8\" id=\"7,4\"></path><path d=\"M 66.7 81.5 L 432.8 100.2\" id=\"7,3\"></path><path d=\"M 311.2 165.5 L 432.8 137.5\" id=\"6,2\"></path><path d=\"M 409.1 193.5 L 432.8 174.8\" id=\"5,1\"></path><path d=\"M 409.1 193.5 L 432.8 212.2\" id=\"5,0\"></path></g><g class=\"toytree-AlignEdges\" style=\"stroke:rgb(66.3%,66.3%,66.3%);stroke-dasharray:2, 4;stroke-linecap:round;stroke-opacity:1.0;stroke-width:2\"><path d=\"M 432.8 212.2 L 432.8 212.2\"></path><path d=\"M 432.8 174.8 L 432.8 174.8\"></path><path d=\"M 432.8 137.5 L 432.8 137.5\"></path><path d=\"M 432.8 100.2 L 432.8 100.2\"></path><path d=\"M 432.8 62.8 L 432.8 62.8\"></path></g><g class=\"toytree-Nodes\" style=\"fill:rgb(10.6%,62%,46.7%);fill-opacity:1.0;stroke:rgb(100%,100%,100%);stroke-opacity:1.0;stroke-width:1.5\"><g id=\"node-0\" transform=\"translate(432.780,212.195)\"><circle r=\"7.5\"></circle></g><g id=\"node-1\" transform=\"translate(432.780,174.848)\"><circle r=\"7.5\"></circle></g><g id=\"node-2\" transform=\"translate(432.780,137.500)\"><circle r=\"7.5\"></circle></g><g id=\"node-3\" transform=\"translate(432.780,100.152)\"><circle r=\"7.5\"></circle></g><g id=\"node-4\" transform=\"translate(432.780,62.805)\"><circle r=\"7.5\"></circle></g><g id=\"node-5\" transform=\"translate(409.106,193.521)\"><circle r=\"7.5\"></circle></g><g id=\"node-6\" transform=\"translate(311.221,165.511)\"><circle r=\"7.5\"></circle></g><g id=\"node-7\" transform=\"translate(66.728,81.479)\"><circle r=\"7.5\"></circle></g><g id=\"node-8\" transform=\"translate(63.835,123.495)\"><circle r=\"7.5\"></circle></g></g><g class=\"toytree-NodeLabels\" style=\"fill:rgb(14.9%,14.9%,14.9%);fill-opacity:1.0;font-size:9px;stroke:none\"><g transform=\"translate(430.28,214.49)\"><text>0</text></g><g transform=\"translate(430.28,177.15)\"><text>1</text></g><g transform=\"translate(430.28,139.80)\"><text>2</text></g><g transform=\"translate(430.28,102.45)\"><text>3</text></g><g transform=\"translate(430.28,65.10)\"><text>4</text></g><g transform=\"translate(406.60,195.82)\"><text>5</text></g><g transform=\"translate(308.72,167.81)\"><text>6</text></g><g transform=\"translate(64.23,83.78)\"><text>7</text></g><g transform=\"translate(61.33,125.79)\"><text>8</text></g></g><g class=\"toytree-TipLabels\" style=\"fill:rgb(14.9%,14.9%,14.9%);fill-opacity:1.0;font-family:helvetica;font-size:11px;font-weight:normal;stroke:none;white-space:pre\"><g transform=\"translate(432.78,212.20)rotate(0)\"><text style=\"\" x=\"15.00\" y=\"2.81\">r1</text></g><g transform=\"translate(432.78,174.85)rotate(0)\"><text style=\"\" x=\"15.00\" y=\"2.81\">r0</text></g><g transform=\"translate(432.78,137.50)rotate(0)\"><text style=\"\" x=\"15.00\" y=\"2.81\">r2</text></g><g transform=\"translate(432.78,100.15)rotate(0)\"><text style=\"\" x=\"15.00\" y=\"2.81\">r4</text></g><g transform=\"translate(432.78,62.80)rotate(0)\"><text style=\"\" x=\"15.00\" y=\"2.81\">r3</text></g></g></g></g></g></svg><div class=\"toyplot-behavior\"><script>(function()\n",
       "{\n",
       "var modules={};\n",
       "})();</script></div></div>"
      ]
     },
     "metadata": {},
     "output_type": "display_data"
    }
   ],
   "source": [
    "gt = toytree.tree(mod.df.genealogy[0])\n",
    "gt.draw(ts='o',node_labels=True,node_sizes=15,width=500)"
   ]
  },
  {
   "cell_type": "code",
   "execution_count": 59,
   "metadata": {},
   "outputs": [],
   "source": [
    "def get_tree_clade_times(tree):\n",
    "    nodes_ = []\n",
    "    heights_ = []\n",
    "    for curr_node in tree.treenode.traverse():\n",
    "        if not curr_node.is_leaf():\n",
    "            nodes_.append(curr_node.get_leaf_names())\n",
    "            heights_.append(curr_node.height)\n",
    "    pddf = pd.DataFrame([nodes_,heights_],index=['clades','heights']).T\n",
    "    return(pddf)"
   ]
  },
  {
   "cell_type": "code",
   "execution_count": 56,
   "metadata": {},
   "outputs": [
    {
     "data": {
      "text/html": [
       "<div>\n",
       "<style scoped>\n",
       "    .dataframe tbody tr th:only-of-type {\n",
       "        vertical-align: middle;\n",
       "    }\n",
       "\n",
       "    .dataframe tbody tr th {\n",
       "        vertical-align: top;\n",
       "    }\n",
       "\n",
       "    .dataframe thead th {\n",
       "        text-align: right;\n",
       "    }\n",
       "</style>\n",
       "<table border=\"1\" class=\"dataframe\">\n",
       "  <thead>\n",
       "    <tr style=\"text-align: right;\">\n",
       "      <th></th>\n",
       "      <th>clades</th>\n",
       "      <th>heights</th>\n",
       "    </tr>\n",
       "  </thead>\n",
       "  <tbody>\n",
       "    <tr>\n",
       "      <th>0</th>\n",
       "      <td>[r4, r3, r2, r0, r1]</td>\n",
       "      <td>506222</td>\n",
       "    </tr>\n",
       "    <tr>\n",
       "      <th>1</th>\n",
       "      <td>[r3, r2, r0, r1]</td>\n",
       "      <td>181806</td>\n",
       "    </tr>\n",
       "    <tr>\n",
       "      <th>2</th>\n",
       "      <td>[r2, r0, r1]</td>\n",
       "      <td>138176</td>\n",
       "    </tr>\n",
       "    <tr>\n",
       "      <th>3</th>\n",
       "      <td>[r0, r1]</td>\n",
       "      <td>97025</td>\n",
       "    </tr>\n",
       "  </tbody>\n",
       "</table>\n",
       "</div>"
      ],
      "text/plain": [
       "                 clades heights\n",
       "0  [r4, r3, r2, r0, r1]  506222\n",
       "1      [r3, r2, r0, r1]  181806\n",
       "2          [r2, r0, r1]  138176\n",
       "3              [r0, r1]   97025"
      ]
     },
     "execution_count": 56,
     "metadata": {},
     "output_type": "execute_result"
    }
   ],
   "source": [
    "get_tree_clade_times(gt)"
   ]
  },
  {
   "cell_type": "code",
   "execution_count": 60,
   "metadata": {},
   "outputs": [
    {
     "data": {
      "text/html": [
       "<div>\n",
       "<style scoped>\n",
       "    .dataframe tbody tr th:only-of-type {\n",
       "        vertical-align: middle;\n",
       "    }\n",
       "\n",
       "    .dataframe tbody tr th {\n",
       "        vertical-align: top;\n",
       "    }\n",
       "\n",
       "    .dataframe thead th {\n",
       "        text-align: right;\n",
       "    }\n",
       "</style>\n",
       "<table border=\"1\" class=\"dataframe\">\n",
       "  <thead>\n",
       "    <tr style=\"text-align: right;\">\n",
       "      <th></th>\n",
       "      <th>clades</th>\n",
       "      <th>heights</th>\n",
       "    </tr>\n",
       "  </thead>\n",
       "  <tbody>\n",
       "    <tr>\n",
       "      <th>0</th>\n",
       "      <td>[r3, r4, r2, r0, r1]</td>\n",
       "      <td>542539</td>\n",
       "    </tr>\n",
       "    <tr>\n",
       "      <th>1</th>\n",
       "      <td>[r3, r4]</td>\n",
       "      <td>538286</td>\n",
       "    </tr>\n",
       "    <tr>\n",
       "      <th>2</th>\n",
       "      <td>[r2, r0, r1]</td>\n",
       "      <td>178755</td>\n",
       "    </tr>\n",
       "    <tr>\n",
       "      <th>3</th>\n",
       "      <td>[r0, r1]</td>\n",
       "      <td>34813.7</td>\n",
       "    </tr>\n",
       "  </tbody>\n",
       "</table>\n",
       "</div>"
      ],
      "text/plain": [
       "                 clades  heights\n",
       "0  [r3, r4, r2, r0, r1]   542539\n",
       "1              [r3, r4]   538286\n",
       "2          [r2, r0, r1]   178755\n",
       "3              [r0, r1]  34813.7"
      ]
     },
     "execution_count": 60,
     "metadata": {},
     "output_type": "execute_result"
    }
   ],
   "source": [
    "get_tree_clade_times(gt)"
   ]
  },
  {
   "cell_type": "code",
   "execution_count": null,
   "metadata": {},
   "outputs": [],
   "source": []
  }
 ],
 "metadata": {
  "kernelspec": {
   "display_name": "Python 3",
   "language": "python",
   "name": "python3"
  },
  "language_info": {
   "codemirror_mode": {
    "name": "ipython",
    "version": 3
   },
   "file_extension": ".py",
   "mimetype": "text/x-python",
   "name": "python",
   "nbconvert_exporter": "python",
   "pygments_lexer": "ipython3",
   "version": "3.6.7"
  }
 },
 "nbformat": 4,
 "nbformat_minor": 2
}
