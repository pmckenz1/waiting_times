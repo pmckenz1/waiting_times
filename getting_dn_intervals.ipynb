{
 "cells": [
  {
   "cell_type": "code",
   "execution_count": 1,
   "metadata": {},
   "outputs": [],
   "source": [
    "import toytree\n",
    "import ipcoal\n",
    "import numpy as np\n",
    "import pandas as pd"
   ]
  },
  {
   "cell_type": "code",
   "execution_count": 2,
   "metadata": {},
   "outputs": [],
   "source": [
    "tr = toytree.rtree.coaltree(5,7e5,seed=123)"
   ]
  },
  {
   "cell_type": "code",
   "execution_count": 3,
   "metadata": {},
   "outputs": [
    {
     "data": {
      "text/html": [
       "<div class=\"toyplot\" id=\"t6356022bd08849b08b05d5c58a8ac811\" style=\"text-align:center\"><svg class=\"toyplot-canvas-Canvas\" height=\"275.0px\" id=\"t9828279ea00f40e6aa6b10e63439c189\" preserveAspectRatio=\"xMidYMid meet\" style=\"background-color:transparent;border-color:#292724;border-style:none;border-width:1.0;fill:rgb(16.1%,15.3%,14.1%);fill-opacity:1.0;font-family:Helvetica;font-size:12px;opacity:1.0;stroke:rgb(16.1%,15.3%,14.1%);stroke-opacity:1.0;stroke-width:1.0\" viewBox=\"0 0 500.0 275.0\" width=\"500.0px\" xmlns=\"http://www.w3.org/2000/svg\" xmlns:toyplot=\"http://www.sandia.gov/toyplot\" xmlns:xlink=\"http://www.w3.org/1999/xlink\"><g class=\"toyplot-coordinates-Cartesian\" id=\"teff0f7990598449988d3718798a6781a\"><clipPath id=\"t6807c48c853b423196e38e330f313dcb\"><rect height=\"215.0\" width=\"440.0\" x=\"30.0\" y=\"30.0\"></rect></clipPath><g clip-path=\"url(#t6807c48c853b423196e38e330f313dcb)\"><g class=\"toytree-mark-Toytree\" id=\"t448b05d9ca9042b98ad2aba650d9621b\"><g class=\"toytree-Edges\" style=\"fill:none;stroke:rgb(14.9%,14.9%,14.9%);stroke-linecap:round;stroke-opacity:1;stroke-width:2\"><path d=\"M 63.8 97.8 L 308.3 132.8\" id=\"8,7\"></path><path d=\"M 308.3 132.8 L 406.5 165.5\" id=\"7,6\"></path><path d=\"M 406.5 165.5 L 421.1 193.5\" id=\"6,5\"></path><path d=\"M 63.8 97.8 L 432.8 62.8\" id=\"8,4\"></path><path d=\"M 308.3 132.8 L 432.8 100.2\" id=\"7,3\"></path><path d=\"M 406.5 165.5 L 432.8 137.5\" id=\"6,2\"></path><path d=\"M 421.1 193.5 L 432.8 174.8\" id=\"5,1\"></path><path d=\"M 421.1 193.5 L 432.8 212.2\" id=\"5,0\"></path></g><g class=\"toytree-AlignEdges\" style=\"stroke:rgb(66.3%,66.3%,66.3%);stroke-dasharray:2, 4;stroke-linecap:round;stroke-opacity:1.0;stroke-width:2\"><path d=\"M 432.8 212.2 L 432.8 212.2\"></path><path d=\"M 432.8 174.8 L 432.8 174.8\"></path><path d=\"M 432.8 137.5 L 432.8 137.5\"></path><path d=\"M 432.8 100.2 L 432.8 100.2\"></path><path d=\"M 432.8 62.8 L 432.8 62.8\"></path></g><g class=\"toytree-Nodes\" style=\"fill:rgb(10.6%,62%,46.7%);fill-opacity:1.0;stroke:rgb(100%,100%,100%);stroke-opacity:1.0;stroke-width:1.5\"><g id=\"node-0\" transform=\"translate(432.780,212.195)\"><circle r=\"7.5\"></circle></g><g id=\"node-1\" transform=\"translate(432.780,174.848)\"><circle r=\"7.5\"></circle></g><g id=\"node-2\" transform=\"translate(432.780,137.500)\"><circle r=\"7.5\"></circle></g><g id=\"node-3\" transform=\"translate(432.780,100.152)\"><circle r=\"7.5\"></circle></g><g id=\"node-4\" transform=\"translate(432.780,62.805)\"><circle r=\"7.5\"></circle></g><g id=\"node-5\" transform=\"translate(421.113,193.521)\"><circle r=\"7.5\"></circle></g><g id=\"node-6\" transform=\"translate(406.538,165.511)\"><circle r=\"7.5\"></circle></g><g id=\"node-7\" transform=\"translate(308.271,132.832)\"><circle r=\"7.5\"></circle></g><g id=\"node-8\" transform=\"translate(63.835,97.818)\"><circle r=\"7.5\"></circle></g></g><g class=\"toytree-NodeLabels\" style=\"fill:rgb(14.9%,14.9%,14.9%);fill-opacity:1.0;font-size:9px;stroke:none\"><g transform=\"translate(430.28,214.49)\"><text>0</text></g><g transform=\"translate(430.28,177.15)\"><text>1</text></g><g transform=\"translate(430.28,139.80)\"><text>2</text></g><g transform=\"translate(430.28,102.45)\"><text>3</text></g><g transform=\"translate(430.28,65.10)\"><text>4</text></g><g transform=\"translate(418.61,195.82)\"><text>5</text></g><g transform=\"translate(404.04,167.81)\"><text>6</text></g><g transform=\"translate(305.77,135.13)\"><text>7</text></g><g transform=\"translate(61.33,100.12)\"><text>8</text></g></g><g class=\"toytree-TipLabels\" style=\"fill:rgb(14.9%,14.9%,14.9%);fill-opacity:1.0;font-family:helvetica;font-size:11px;font-weight:normal;stroke:none;white-space:pre\"><g transform=\"translate(432.78,212.20)rotate(0)\"><text style=\"\" x=\"15.00\" y=\"2.81\">r0</text></g><g transform=\"translate(432.78,174.85)rotate(0)\"><text style=\"\" x=\"15.00\" y=\"2.81\">r1</text></g><g transform=\"translate(432.78,137.50)rotate(0)\"><text style=\"\" x=\"15.00\" y=\"2.81\">r2</text></g><g transform=\"translate(432.78,100.15)rotate(0)\"><text style=\"\" x=\"15.00\" y=\"2.81\">r3</text></g><g transform=\"translate(432.78,62.80)rotate(0)\"><text style=\"\" x=\"15.00\" y=\"2.81\">r4</text></g></g></g></g></g></svg><div class=\"toyplot-behavior\"><script>(function()\n",
       "{\n",
       "var modules={};\n",
       "})();</script></div></div>"
      ]
     },
     "metadata": {},
     "output_type": "display_data"
    }
   ],
   "source": [
    "tr.draw(ts='o',node_labels=True,node_sizes=15,width=500);"
   ]
  },
  {
   "cell_type": "code",
   "execution_count": 4,
   "metadata": {},
   "outputs": [
    {
     "data": {
      "text/plain": [
       "403846.0"
      ]
     },
     "execution_count": 4,
     "metadata": {},
     "output_type": "execute_result"
    }
   ],
   "source": [
    "tr.treenode.height"
   ]
  },
  {
   "cell_type": "markdown",
   "metadata": {},
   "source": [
    "let's simulate a genealogy on this tree with ipcoal"
   ]
  },
  {
   "cell_type": "code",
   "execution_count": 15,
   "metadata": {},
   "outputs": [],
   "source": [
    "mod = ipcoal.Model(tr,Ne=100000,seed=1235)\n",
    "mod.sim_trees(1)"
   ]
  },
  {
   "cell_type": "code",
   "execution_count": 16,
   "metadata": {},
   "outputs": [
    {
     "data": {
      "text/html": [
       "<div class=\"toyplot\" id=\"tb8b47112f3624d489e24d95547c0b827\" style=\"text-align:center\"><svg class=\"toyplot-canvas-Canvas\" height=\"275.0px\" id=\"ta2fe1848e9d745c3a079df548e716bba\" preserveAspectRatio=\"xMidYMid meet\" style=\"background-color:transparent;border-color:#292724;border-style:none;border-width:1.0;fill:rgb(16.1%,15.3%,14.1%);fill-opacity:1.0;font-family:Helvetica;font-size:12px;opacity:1.0;stroke:rgb(16.1%,15.3%,14.1%);stroke-opacity:1.0;stroke-width:1.0\" viewBox=\"0 0 500.0 275.0\" width=\"500.0px\" xmlns=\"http://www.w3.org/2000/svg\" xmlns:toyplot=\"http://www.sandia.gov/toyplot\" xmlns:xlink=\"http://www.w3.org/1999/xlink\"><g class=\"toyplot-coordinates-Cartesian\" id=\"tb2d7760cea9c40abb1bbd36ab57cd693\"><clipPath id=\"t83f988660d0e413a9529fcb5a91ee3b5\"><rect height=\"215.0\" width=\"440.0\" x=\"30.0\" y=\"30.0\"></rect></clipPath><g clip-path=\"url(#t83f988660d0e413a9529fcb5a91ee3b5)\"><g class=\"toytree-mark-Toytree\" id=\"t65a9bb18fa094f4c9764a2cf21cf0e12\"><g class=\"toytree-Edges\" style=\"fill:none;stroke:rgb(14.9%,14.9%,14.9%);stroke-linecap:round;stroke-opacity:1;stroke-width:2\"><path d=\"M 63.8 123.5 L 205.4 81.5\" id=\"8,7\"></path><path d=\"M 63.8 123.5 L 266.7 165.5\" id=\"8,6\"></path><path d=\"M 266.7 165.5 L 390.5 193.5\" id=\"6,5\"></path><path d=\"M 205.4 81.5 L 432.8 62.8\" id=\"7,4\"></path><path d=\"M 205.4 81.5 L 432.8 100.2\" id=\"7,3\"></path><path d=\"M 266.7 165.5 L 432.8 137.5\" id=\"6,2\"></path><path d=\"M 390.5 193.5 L 432.8 174.8\" id=\"5,1\"></path><path d=\"M 390.5 193.5 L 432.8 212.2\" id=\"5,0\"></path></g><g class=\"toytree-AlignEdges\" style=\"stroke:rgb(66.3%,66.3%,66.3%);stroke-dasharray:2, 4;stroke-linecap:round;stroke-opacity:1.0;stroke-width:2\"><path d=\"M 432.8 212.2 L 432.8 212.2\"></path><path d=\"M 432.8 174.8 L 432.8 174.8\"></path><path d=\"M 432.8 137.5 L 432.8 137.5\"></path><path d=\"M 432.8 100.2 L 432.8 100.2\"></path><path d=\"M 432.8 62.8 L 432.8 62.8\"></path></g><g class=\"toytree-Nodes\" style=\"fill:rgb(10.6%,62%,46.7%);fill-opacity:1.0;stroke:rgb(100%,100%,100%);stroke-opacity:1.0;stroke-width:1.5\"><g id=\"node-0\" transform=\"translate(432.780,212.195)\"><circle r=\"7.5\"></circle></g><g id=\"node-1\" transform=\"translate(432.780,174.848)\"><circle r=\"7.5\"></circle></g><g id=\"node-2\" transform=\"translate(432.780,137.500)\"><circle r=\"7.5\"></circle></g><g id=\"node-3\" transform=\"translate(432.780,100.152)\"><circle r=\"7.5\"></circle></g><g id=\"node-4\" transform=\"translate(432.780,62.805)\"><circle r=\"7.5\"></circle></g><g id=\"node-5\" transform=\"translate(390.536,193.521)\"><circle r=\"7.5\"></circle></g><g id=\"node-6\" transform=\"translate(266.686,165.511)\"><circle r=\"7.5\"></circle></g><g id=\"node-7\" transform=\"translate(205.438,81.479)\"><circle r=\"7.5\"></circle></g><g id=\"node-8\" transform=\"translate(63.835,123.495)\"><circle r=\"7.5\"></circle></g></g><g class=\"toytree-NodeLabels\" style=\"fill:rgb(14.9%,14.9%,14.9%);fill-opacity:1.0;font-size:9px;stroke:none\"><g transform=\"translate(430.28,214.49)\"><text>0</text></g><g transform=\"translate(430.28,177.15)\"><text>1</text></g><g transform=\"translate(430.28,139.80)\"><text>2</text></g><g transform=\"translate(430.28,102.45)\"><text>3</text></g><g transform=\"translate(430.28,65.10)\"><text>4</text></g><g transform=\"translate(388.03,195.82)\"><text>5</text></g><g transform=\"translate(264.18,167.81)\"><text>6</text></g><g transform=\"translate(202.94,83.78)\"><text>7</text></g><g transform=\"translate(61.33,125.79)\"><text>8</text></g></g><g class=\"toytree-TipLabels\" style=\"fill:rgb(14.9%,14.9%,14.9%);fill-opacity:1.0;font-family:helvetica;font-size:11px;font-weight:normal;stroke:none;white-space:pre\"><g transform=\"translate(432.78,212.20)rotate(0)\"><text style=\"\" x=\"15.00\" y=\"2.81\">r2</text></g><g transform=\"translate(432.78,174.85)rotate(0)\"><text style=\"\" x=\"15.00\" y=\"2.81\">r0</text></g><g transform=\"translate(432.78,137.50)rotate(0)\"><text style=\"\" x=\"15.00\" y=\"2.81\">r3</text></g><g transform=\"translate(432.78,100.15)rotate(0)\"><text style=\"\" x=\"15.00\" y=\"2.81\">r4</text></g><g transform=\"translate(432.78,62.80)rotate(0)\"><text style=\"\" x=\"15.00\" y=\"2.81\">r1</text></g></g></g></g></g></svg><div class=\"toyplot-behavior\"><script>(function()\n",
       "{\n",
       "var modules={};\n",
       "})();</script></div></div>"
      ]
     },
     "metadata": {},
     "output_type": "display_data"
    }
   ],
   "source": [
    "gt = toytree.tree(mod.df.genealogy[0])\n",
    "gt.draw(ts='o',node_labels=True,node_sizes=15,width=500);"
   ]
  },
  {
   "cell_type": "code",
   "execution_count": 40,
   "metadata": {},
   "outputs": [],
   "source": [
    "def get_tree_clade_times(tree):\n",
    "    nodes_ = []\n",
    "    heights_ = []\n",
    "    for curr_node in tree.treenode.traverse():\n",
    "        if not curr_node.is_leaf():\n",
    "            nodes_.append(curr_node.get_leaf_names())\n",
    "            heights_.append(curr_node.height)\n",
    "    pddf = pd.DataFrame([nodes_,heights_],index=['clades','heights']).T\n",
    "    return(pddf)"
   ]
  },
  {
   "cell_type": "code",
   "execution_count": 41,
   "metadata": {},
   "outputs": [
    {
     "data": {
      "text/html": [
       "<div>\n",
       "<style scoped>\n",
       "    .dataframe tbody tr th:only-of-type {\n",
       "        vertical-align: middle;\n",
       "    }\n",
       "\n",
       "    .dataframe tbody tr th {\n",
       "        vertical-align: top;\n",
       "    }\n",
       "\n",
       "    .dataframe thead th {\n",
       "        text-align: right;\n",
       "    }\n",
       "</style>\n",
       "<table border=\"1\" class=\"dataframe\">\n",
       "  <thead>\n",
       "    <tr style=\"text-align: right;\">\n",
       "      <th></th>\n",
       "      <th>clades</th>\n",
       "      <th>heights</th>\n",
       "    </tr>\n",
       "  </thead>\n",
       "  <tbody>\n",
       "    <tr>\n",
       "      <th>0</th>\n",
       "      <td>[r4, r3, r2, r1, r0]</td>\n",
       "      <td>403846</td>\n",
       "    </tr>\n",
       "    <tr>\n",
       "      <th>1</th>\n",
       "      <td>[r3, r2, r1, r0]</td>\n",
       "      <td>136288</td>\n",
       "    </tr>\n",
       "    <tr>\n",
       "      <th>2</th>\n",
       "      <td>[r2, r1, r0]</td>\n",
       "      <td>28725</td>\n",
       "    </tr>\n",
       "    <tr>\n",
       "      <th>3</th>\n",
       "      <td>[r1, r0]</td>\n",
       "      <td>12771.6</td>\n",
       "    </tr>\n",
       "  </tbody>\n",
       "</table>\n",
       "</div>"
      ],
      "text/plain": [
       "                 clades  heights\n",
       "0  [r4, r3, r2, r1, r0]   403846\n",
       "1      [r3, r2, r1, r0]   136288\n",
       "2          [r2, r1, r0]    28725\n",
       "3              [r1, r0]  12771.6"
      ]
     },
     "execution_count": 41,
     "metadata": {},
     "output_type": "execute_result"
    }
   ],
   "source": [
    "st_times = get_tree_clade_times(tr)\n",
    "st_times"
   ]
  },
  {
   "cell_type": "code",
   "execution_count": 42,
   "metadata": {
    "scrolled": true
   },
   "outputs": [
    {
     "data": {
      "text/html": [
       "<div>\n",
       "<style scoped>\n",
       "    .dataframe tbody tr th:only-of-type {\n",
       "        vertical-align: middle;\n",
       "    }\n",
       "\n",
       "    .dataframe tbody tr th {\n",
       "        vertical-align: top;\n",
       "    }\n",
       "\n",
       "    .dataframe thead th {\n",
       "        text-align: right;\n",
       "    }\n",
       "</style>\n",
       "<table border=\"1\" class=\"dataframe\">\n",
       "  <thead>\n",
       "    <tr style=\"text-align: right;\">\n",
       "      <th></th>\n",
       "      <th>clades</th>\n",
       "      <th>heights</th>\n",
       "    </tr>\n",
       "  </thead>\n",
       "  <tbody>\n",
       "    <tr>\n",
       "      <th>0</th>\n",
       "      <td>[r4, r1, r2, r0, r3]</td>\n",
       "      <td>539498</td>\n",
       "    </tr>\n",
       "    <tr>\n",
       "      <th>1</th>\n",
       "      <td>[r1, r2, r0, r3]</td>\n",
       "      <td>323406</td>\n",
       "    </tr>\n",
       "    <tr>\n",
       "      <th>2</th>\n",
       "      <td>[r2, r0, r3]</td>\n",
       "      <td>212773</td>\n",
       "    </tr>\n",
       "    <tr>\n",
       "      <th>3</th>\n",
       "      <td>[r0, r3]</td>\n",
       "      <td>207039</td>\n",
       "    </tr>\n",
       "  </tbody>\n",
       "</table>\n",
       "</div>"
      ],
      "text/plain": [
       "                 clades heights\n",
       "0  [r4, r1, r2, r0, r3]  539498\n",
       "1      [r1, r2, r0, r3]  323406\n",
       "2          [r2, r0, r3]  212773\n",
       "3              [r0, r3]  207039"
      ]
     },
     "execution_count": 42,
     "metadata": {},
     "output_type": "execute_result"
    }
   ],
   "source": [
    "gt_times = get_tree_clade_times(gt)\n",
    "gt_times"
   ]
  },
  {
   "cell_type": "code",
   "execution_count": 18,
   "metadata": {},
   "outputs": [],
   "source": [
    "the_node = gt.treenode.search_nodes(idx=6)[0]"
   ]
  },
  {
   "cell_type": "code",
   "execution_count": 25,
   "metadata": {},
   "outputs": [],
   "source": [
    "bot_time = the_node.height\n",
    "top_time = the_node.up.height"
   ]
  },
  {
   "cell_type": "code",
   "execution_count": 20,
   "metadata": {},
   "outputs": [
    {
     "data": {
      "text/plain": [
       "['r0', 'r1']"
      ]
     },
     "execution_count": 20,
     "metadata": {},
     "output_type": "execute_result"
    }
   ],
   "source": [
    "the_node.get_leaf_names()"
   ]
  },
  {
   "cell_type": "code",
   "execution_count": 21,
   "metadata": {},
   "outputs": [
    {
     "data": {
      "text/plain": [
       "['r0', 'r1', 'r2', 'r3']"
      ]
     },
     "execution_count": 21,
     "metadata": {},
     "output_type": "execute_result"
    }
   ],
   "source": [
    "the_node.up.get_leaf_names()"
   ]
  },
  {
   "cell_type": "code",
   "execution_count": 27,
   "metadata": {},
   "outputs": [
    {
     "data": {
      "text/plain": [
       "0    True\n",
       "1    True\n",
       "2    True\n",
       "3    True\n",
       "Name: heights, dtype: bool"
      ]
     },
     "execution_count": 27,
     "metadata": {},
     "output_type": "execute_result"
    }
   ],
   "source": [
    "st_times.heights < top_time"
   ]
  },
  {
   "cell_type": "code",
   "execution_count": 29,
   "metadata": {},
   "outputs": [
    {
     "data": {
      "text/plain": [
       "0     True\n",
       "1    False\n",
       "2    False\n",
       "3    False\n",
       "Name: heights, dtype: bool"
      ]
     },
     "execution_count": 29,
     "metadata": {},
     "output_type": "execute_result"
    }
   ],
   "source": [
    "st_times.heights > bot_time"
   ]
  },
  {
   "cell_type": "code",
   "execution_count": 32,
   "metadata": {},
   "outputs": [
    {
     "data": {
      "text/html": [
       "<div>\n",
       "<style scoped>\n",
       "    .dataframe tbody tr th:only-of-type {\n",
       "        vertical-align: middle;\n",
       "    }\n",
       "\n",
       "    .dataframe tbody tr th {\n",
       "        vertical-align: top;\n",
       "    }\n",
       "\n",
       "    .dataframe thead th {\n",
       "        text-align: right;\n",
       "    }\n",
       "</style>\n",
       "<table border=\"1\" class=\"dataframe\">\n",
       "  <thead>\n",
       "    <tr style=\"text-align: right;\">\n",
       "      <th></th>\n",
       "      <th>clades</th>\n",
       "      <th>heights</th>\n",
       "    </tr>\n",
       "  </thead>\n",
       "  <tbody>\n",
       "    <tr>\n",
       "      <th>1</th>\n",
       "      <td>[r3, r2, r1, r0]</td>\n",
       "      <td>136288</td>\n",
       "    </tr>\n",
       "    <tr>\n",
       "      <th>2</th>\n",
       "      <td>[r2, r1, r0]</td>\n",
       "      <td>28725</td>\n",
       "    </tr>\n",
       "    <tr>\n",
       "      <th>3</th>\n",
       "      <td>[r1, r0]</td>\n",
       "      <td>12771.6</td>\n",
       "    </tr>\n",
       "  </tbody>\n",
       "</table>\n",
       "</div>"
      ],
      "text/plain": [
       "             clades  heights\n",
       "1  [r3, r2, r1, r0]   136288\n",
       "2      [r2, r1, r0]    28725\n",
       "3          [r1, r0]  12771.6"
      ]
     },
     "execution_count": 32,
     "metadata": {},
     "output_type": "execute_result"
    }
   ],
   "source": [
    "st_times[st_times.heights < bot_time]"
   ]
  },
  {
   "cell_type": "code",
   "execution_count": null,
   "metadata": {},
   "outputs": [],
   "source": [
    "st_stims[]"
   ]
  },
  {
   "cell_type": "code",
   "execution_count": null,
   "metadata": {},
   "outputs": [],
   "source": [
    "get_branch_intervals(branch_idx)"
   ]
  },
  {
   "cell_type": "code",
   "execution_count": null,
   "metadata": {},
   "outputs": [],
   "source": []
  }
 ],
 "metadata": {
  "kernelspec": {
   "display_name": "Python 3",
   "language": "python",
   "name": "python3"
  },
  "language_info": {
   "codemirror_mode": {
    "name": "ipython",
    "version": 3
   },
   "file_extension": ".py",
   "mimetype": "text/x-python",
   "name": "python",
   "nbconvert_exporter": "python",
   "pygments_lexer": "ipython3",
   "version": "3.6.7"
  }
 },
 "nbformat": 4,
 "nbformat_minor": 2
}
