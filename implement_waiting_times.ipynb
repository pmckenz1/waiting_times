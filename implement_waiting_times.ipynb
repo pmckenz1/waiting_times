{
 "cells": [
  {
   "cell_type": "code",
   "execution_count": 1,
   "id": "a27ddd13",
   "metadata": {},
   "outputs": [],
   "source": [
    "import toytree\n",
    "import ipcoal\n",
    "import numpy as np\n",
    "import pandas as pd\n",
    "def get_num_edges_at_time(tree, time):\n",
    "    nodes_above = ([idx for idx, node in tree.idx_dict.items() if node.height > time])\n",
    "    edges_above = len(nodes_above) + 1\n",
    "    return edges_above\n",
    "def get_tree_clade_times(tree):\n",
    "    nodes_ = []\n",
    "    heights_ = []\n",
    "    for curr_node in tree.treenode.traverse():\n",
    "        if not curr_node.is_leaf():\n",
    "            nodes_.append(curr_node.get_leaf_names())\n",
    "            heights_.append(curr_node.height)\n",
    "    pddf = pd.DataFrame([nodes_,heights_],index=['clades','heights']).T\n",
    "    return(pddf)"
   ]
  },
  {
   "cell_type": "code",
   "execution_count": 2,
   "id": "c4f4da8a",
   "metadata": {},
   "outputs": [],
   "source": [
    "def get_tree_clade_times(tree):\n",
    "    nodes_ = []\n",
    "    heights_ = []\n",
    "    for curr_node in tree.treenode.traverse():\n",
    "        if not curr_node.is_leaf():\n",
    "            nodes_.append(curr_node.get_leaf_names())\n",
    "            heights_.append(curr_node.height)\n",
    "    pddf = pd.DataFrame([nodes_,heights_],index=['clades','heights']).T\n",
    "    return(pddf)"
   ]
  },
  {
   "cell_type": "code",
   "execution_count": 3,
   "id": "a7ab13e2",
   "metadata": {},
   "outputs": [],
   "source": [
    "def get_branch_intervals(tr, gt, br):\n",
    "    '''\n",
    "    tr = species tree with Ne attribute\n",
    "    gt = gene tree simulated on that species tree\n",
    "    br = treenode representing a branch on the tree\n",
    "    '''\n",
    "    st_times = get_tree_clade_times(tr)\n",
    "    gt_times = get_tree_clade_times(gt)\n",
    "    coalclade = br.get_leaf_names()\n",
    "    \n",
    "    ###temp\n",
    "    st_coal_node = tr.treenode.search_nodes(idx=tr.get_mrca_idx_from_tip_labels(br.get_leaf_names()))[0]\n",
    "    nearest_st_node = st_coal_node\n",
    "    while ((nearest_st_node.height + nearest_st_node.dist) < br.height):\n",
    "        nearest_st_node = nearest_st_node.up\n",
    "    coalclade = nearest_st_node.get_leaf_names()\n",
    "    ###\n",
    "    \n",
    "    \n",
    "    br_lower = br.height\n",
    "    br_upper = br_lower + br.dist\n",
    "    gt_clade_changes = (gt_times.heights < br_upper) & (gt_times.heights > br_lower)\n",
    "    st_clade_changes = (st_times.heights < br_upper) & (st_times.heights > br_lower)\n",
    "    st_time_diffed = st_times[st_clade_changes]\n",
    "    #return(np.array([all(elem in clade for elem in coalclade) for clade in st_time_diffed.clades]))\n",
    "\n",
    "    contains_clade = st_time_diffed[np.array([all(elem in clade for elem in coalclade) for clade in st_time_diffed.clades])]\n",
    "\n",
    "    if not len(contains_clade.columns):\n",
    "        contains_clade = pd.DataFrame(columns=['clades','heights'])\n",
    "    contains_clade = pd.DataFrame([list(contains_clade.clades.append(pd.Series([coalclade]),ignore_index=True)),list(contains_clade.heights.append(pd.Series(br_lower)))],index=['clades','heights']).T\n",
    "    contains_clade = contains_clade.sort_values('heights')\n",
    "\n",
    "    all_members = []\n",
    "    for i in contains_clade.clades:\n",
    "        all_members.extend(i)\n",
    "    all_members = np.unique(all_members)\n",
    "    \n",
    "    relevant_coals = pd.DataFrame(columns=[\"heights\"])\n",
    "\n",
    "    if np.sum(gt_clade_changes):\n",
    "        potential_coals = gt_times[gt_clade_changes]\n",
    "        relevant_coals = potential_coals[[set(i).issubset(all_members) for i in potential_coals.clades]]\n",
    "        relevant_coals = relevant_coals.sort_values('heights')\n",
    "\n",
    "    time_points = np.sort(list(contains_clade.heights) + list(relevant_coals.heights) + [br_upper])\n",
    "    if int(time_points[-1]) == int(time_points[-2]):\n",
    "        time_points = time_points[:-1]\n",
    "    starts = time_points[:-1]\n",
    "    stops = time_points[1:]\n",
    "    lengths = stops-starts\n",
    "    num_to_coal = np.repeat(1,len(starts))\n",
    "    ne = np.repeat(1,len(starts))\n",
    "    a_df = pd.DataFrame([starts,stops,lengths,num_to_coal,ne],index=['starts','stops','lengths','num_to_coal','ne']).T\n",
    "    mids = (a_df.stops + a_df.starts)/2\n",
    "    interval_reduced_trees=[]\n",
    "    \n",
    "    nes = []\n",
    "    for mid in mids:\n",
    "        clade = contains_clade.clades.iloc[np.sum(contains_clade.heights<mid)-1]\n",
    "\n",
    "        cladeNe = tr.treenode.search_nodes(idx=tr.get_mrca_idx_from_tip_labels(clade))[0].Ne\n",
    "        nes.append(cladeNe)\n",
    "        reduced_tree = gt.prune(clade)\n",
    "        interval_reduced_trees.append(reduced_tree.newick)\n",
    "        \n",
    "    a_df['reduced_trees'] = interval_reduced_trees\n",
    "    a_df['mids'] = mids\n",
    "    a_df['ne'] = nes\n",
    "    a_df['num_to_coal'] = a_df.apply(lambda x: get_num_edges_at_time(toytree.tree(x['reduced_trees']), x['mids']), axis=1)\n",
    "    \n",
    "    return a_df"
   ]
  },
  {
   "cell_type": "markdown",
   "id": "1d5647a3",
   "metadata": {},
   "source": [
    "### let's demonstrate:"
   ]
  },
  {
   "cell_type": "code",
   "execution_count": 4,
   "id": "b1f3d6ba",
   "metadata": {},
   "outputs": [],
   "source": [
    "# make a random tree\n",
    "tre = toytree.rtree.bdtree(12,time=1e6,seed=123)"
   ]
  },
  {
   "cell_type": "code",
   "execution_count": 5,
   "id": "b3a2e043",
   "metadata": {},
   "outputs": [],
   "source": [
    "# scale it so that branch lengths that make sense\n",
    "tre = tre.mod.node_scale_root_height(treeheight=1e6)"
   ]
  },
  {
   "cell_type": "code",
   "execution_count": 6,
   "id": "9ed51b97",
   "metadata": {},
   "outputs": [],
   "source": [
    "# set a random Ne to each node\n",
    "node_ne_dict = {i:np.random.randint(100,100000) for i in range(tre.nnodes)}\n",
    "tre = tre.set_node_data('Ne',node_ne_dict)"
   ]
  },
  {
   "cell_type": "code",
   "execution_count": 7,
   "id": "4a99a54a",
   "metadata": {},
   "outputs": [
    {
     "data": {
      "text/html": [
       "<div class=\"toyplot\" id=\"tf3c016d7efae419aa4fab59008a45c81\" style=\"text-align:center\"><svg class=\"toyplot-canvas-Canvas\" xmlns:toyplot=\"http://www.sandia.gov/toyplot\" xmlns:xlink=\"http://www.w3.org/1999/xlink\" xmlns=\"http://www.w3.org/2000/svg\" width=\"500.0px\" height=\"500.0px\" viewBox=\"0 0 500.0 500.0\" preserveAspectRatio=\"xMidYMid meet\" style=\"background-color:transparent;border-color:#292724;border-style:none;border-width:1.0;fill:rgb(16.1%,15.3%,14.1%);fill-opacity:1.0;font-family:Helvetica;font-size:12px;opacity:1.0;stroke:rgb(16.1%,15.3%,14.1%);stroke-opacity:1.0;stroke-width:1.0\" id=\"taff636e862d5455f8f632cc101053a6b\"><g class=\"toyplot-coordinates-Cartesian\" id=\"t4a70395b68e54eebb0e7632664bea4f9\"><clipPath id=\"t91e204a107d747db9cede55ae9a8e278\"><rect x=\"35.0\" y=\"35.0\" width=\"430.0\" height=\"430.0\"></rect></clipPath><g clip-path=\"url(#t91e204a107d747db9cede55ae9a8e278)\"><g class=\"toytree-mark-Toytree\" id=\"t26348793c84f42b5a8635b55b78adba8\"><g class=\"toytree-Edges\" style=\"fill:none;stroke:rgba(16.1%,15.3%,14.1%,1.000);stroke-linecap:round;stroke-width:2.0\"><path d=\"M 74.8 374.4 L 57.2 397.3\" id=\"12,0\" style=\"stroke-width:3.111111111111111\"></path><path d=\"M 74.8 374.4 L 92.3 397.3\" id=\"12,1\" style=\"stroke-width:4.222222222222222\"></path><path d=\"M 101.0 368.3 L 127.3 397.3\" id=\"14,2\" style=\"stroke-width:7.555555555555555\"></path><path d=\"M 131.7 308.9 L 162.4 397.3\" id=\"17,3\" style=\"stroke-width:3.111111111111111\"></path><path d=\"M 215.0 396.9 L 197.4 397.3\" id=\"13,4\" style=\"stroke-width:12.0\"></path><path d=\"M 215.0 396.9 L 232.5 397.3\" id=\"13,5\" style=\"stroke-width:9.777777777777779\"></path><path d=\"M 241.2 365.6 L 267.5 397.3\" id=\"15,6\" style=\"stroke-width:5.333333333333334\"></path><path d=\"M 271.9 162.3 L 302.6 397.3\" id=\"18,7\" style=\"stroke-width:5.333333333333334\"></path><path d=\"M 355.1 348.7 L 337.6 397.3\" id=\"16,8\" style=\"stroke-width:7.555555555555555\"></path><path d=\"M 355.1 348.7 L 372.7 397.3\" id=\"16,9\" style=\"stroke-width:4.222222222222222\"></path><path d=\"M 381.4 282.8 L 407.7 397.3\" id=\"19,10\" style=\"stroke-width:2.0\"></path><path d=\"M 412.1 277.1 L 442.8 397.3\" id=\"21,11\" style=\"stroke-width:10.88888888888889\"></path><path d=\"M 101.0 368.3 L 74.8 374.4\" id=\"14,12\" style=\"stroke-width:9.777777777777779\"></path><path d=\"M 241.2 365.6 L 215.0 396.9\" id=\"15,13\" style=\"stroke-width:5.333333333333334\"></path><path d=\"M 131.7 308.9 L 101.0 368.3\" id=\"17,14\" style=\"stroke-width:10.88888888888889\"></path><path d=\"M 271.9 162.3 L 241.2 365.6\" id=\"18,15\" style=\"stroke-width:7.555555555555555\"></path><path d=\"M 381.4 282.8 L 355.1 348.7\" id=\"19,16\" style=\"stroke-width:12.0\"></path><path d=\"M 201.8 143.9 L 131.7 308.9\" id=\"20,17\" style=\"stroke-width:9.777777777777779\"></path><path d=\"M 201.8 143.9 L 271.9 162.3\" id=\"20,18\" style=\"stroke-width:12.0\"></path><path d=\"M 412.1 277.1 L 381.4 282.8\" id=\"21,19\" style=\"stroke-width:7.555555555555555\"></path><path d=\"M 307.0 56.4 L 201.8 143.9\" id=\"22,20\" style=\"stroke-width:2.0\"></path><path d=\"M 307.0 56.4 L 412.1 277.1\" id=\"22,21\" style=\"stroke-width:9.777777777777779\"></path></g><g class=\"toytree-Nodes\" style=\"fill:rgba(40.0%,76.1%,64.7%,1.000);stroke:#262626;stroke-width:1.0\"><g id=\"node-0\" transform=\"translate(57.229,397.333)\"><circle r=\"7.5\"></circle></g><g id=\"node-1\" transform=\"translate(92.278,397.333)\"><circle r=\"7.5\"></circle></g><g id=\"node-2\" transform=\"translate(127.327,397.333)\"><circle r=\"7.5\"></circle></g><g id=\"node-3\" transform=\"translate(162.377,397.333)\"><circle r=\"7.5\"></circle></g><g id=\"node-4\" transform=\"translate(197.426,397.333)\"><circle r=\"7.5\"></circle></g><g id=\"node-5\" transform=\"translate(232.475,397.333)\"><circle r=\"7.5\"></circle></g><g id=\"node-6\" transform=\"translate(267.525,397.333)\"><circle r=\"7.5\"></circle></g><g id=\"node-7\" transform=\"translate(302.574,397.333)\"><circle r=\"7.5\"></circle></g><g id=\"node-8\" transform=\"translate(337.623,397.333)\"><circle r=\"7.5\"></circle></g><g id=\"node-9\" transform=\"translate(372.673,397.333)\"><circle r=\"7.5\"></circle></g><g id=\"node-10\" transform=\"translate(407.722,397.333)\"><circle r=\"7.5\"></circle></g><g id=\"node-11\" transform=\"translate(442.771,397.333)\"><circle r=\"7.5\"></circle></g><g id=\"node-12\" transform=\"translate(74.754,374.433)\"><circle r=\"7.5\"></circle></g><g id=\"node-13\" transform=\"translate(214.951,396.882)\"><circle r=\"7.5\"></circle></g><g id=\"node-14\" transform=\"translate(101.041,368.277)\"><circle r=\"7.5\"></circle></g><g id=\"node-15\" transform=\"translate(241.238,365.599)\"><circle r=\"7.5\"></circle></g><g id=\"node-16\" transform=\"translate(355.148,348.664)\"><circle r=\"7.5\"></circle></g><g id=\"node-17\" transform=\"translate(131.709,308.857)\"><circle r=\"7.5\"></circle></g><g id=\"node-18\" transform=\"translate(271.906,162.295)\"><circle r=\"7.5\"></circle></g><g id=\"node-19\" transform=\"translate(381.435,282.798)\"><circle r=\"7.5\"></circle></g><g id=\"node-20\" transform=\"translate(201.807,143.851)\"><circle r=\"7.5\"></circle></g><g id=\"node-21\" transform=\"translate(412.103,277.134)\"><circle r=\"7.5\"></circle></g><g id=\"node-22\" transform=\"translate(306.955,56.393)\"><circle r=\"7.5\"></circle></g></g><g class=\"toytree-NodeLabels\" style=\"font-family:Helvetica;font-size:9.0px;font-weight:300;stroke:none;vertical-align:baseline;white-space:pre\"><g class=\"toytree-NodeLabel\" transform=\"translate(57.2289156626506,397.33320548061965)\"><text x=\"-2.5020000000000002\" y=\"2.2995\" style=\"fill:rgb(16.1%,15.3%,14.1%);fill-opacity:1.0\">0</text></g><g class=\"toytree-NodeLabel\" transform=\"translate(92.27820372398685,397.33320548061965)\"><text x=\"-2.5020000000000002\" y=\"2.2995\" style=\"fill:rgb(16.1%,15.3%,14.1%);fill-opacity:1.0\">1</text></g><g class=\"toytree-NodeLabel\" transform=\"translate(127.3274917853231,397.3332054806196)\"><text x=\"-2.5020000000000002\" y=\"2.2995\" style=\"fill:rgb(16.1%,15.3%,14.1%);fill-opacity:1.0\">2</text></g><g class=\"toytree-NodeLabel\" transform=\"translate(162.37677984665936,397.33320548061965)\"><text x=\"-2.5020000000000002\" y=\"2.2995\" style=\"fill:rgb(16.1%,15.3%,14.1%);fill-opacity:1.0\">3</text></g><g class=\"toytree-NodeLabel\" transform=\"translate(197.42606790799562,397.3332054806196)\"><text x=\"-2.5020000000000002\" y=\"2.2995\" style=\"fill:rgb(16.1%,15.3%,14.1%);fill-opacity:1.0\">4</text></g><g class=\"toytree-NodeLabel\" transform=\"translate(232.47535596933182,397.3332054806196)\"><text x=\"-2.5020000000000002\" y=\"2.2995\" style=\"fill:rgb(16.1%,15.3%,14.1%);fill-opacity:1.0\">5</text></g><g class=\"toytree-NodeLabel\" transform=\"translate(267.52464403066807,397.3332054806196)\"><text x=\"-2.5020000000000002\" y=\"2.2995\" style=\"fill:rgb(16.1%,15.3%,14.1%);fill-opacity:1.0\">6</text></g><g class=\"toytree-NodeLabel\" transform=\"translate(302.5739320920044,397.3332054806197)\"><text x=\"-2.5020000000000002\" y=\"2.2995\" style=\"fill:rgb(16.1%,15.3%,14.1%);fill-opacity:1.0\">7</text></g><g class=\"toytree-NodeLabel\" transform=\"translate(337.62322015334064,397.33320548061965)\"><text x=\"-2.5020000000000002\" y=\"2.2995\" style=\"fill:rgb(16.1%,15.3%,14.1%);fill-opacity:1.0\">8</text></g><g class=\"toytree-NodeLabel\" transform=\"translate(372.67250821467684,397.33320548061965)\"><text x=\"-2.5020000000000002\" y=\"2.2995\" style=\"fill:rgb(16.1%,15.3%,14.1%);fill-opacity:1.0\">9</text></g><g class=\"toytree-NodeLabel\" transform=\"translate(407.7217962760131,397.33320548061965)\"><text x=\"-5.0040000000000004\" y=\"2.2995\" style=\"fill:rgb(16.1%,15.3%,14.1%);fill-opacity:1.0\">10</text></g><g class=\"toytree-NodeLabel\" transform=\"translate(442.77108433734935,397.33320548061965)\"><text x=\"-5.0040000000000004\" y=\"2.2995\" style=\"fill:rgb(16.1%,15.3%,14.1%);fill-opacity:1.0\">11</text></g><g class=\"toytree-NodeLabel\" transform=\"translate(74.75355969331872,374.43259902254283)\"><text x=\"-5.0040000000000004\" y=\"2.2995\" style=\"fill:rgb(16.1%,15.3%,14.1%);fill-opacity:1.0\">12</text></g><g class=\"toytree-NodeLabel\" transform=\"translate(214.95071193866372,396.8823834029121)\"><text x=\"-5.0040000000000004\" y=\"2.2995\" style=\"fill:rgb(16.1%,15.3%,14.1%);fill-opacity:1.0\">13</text></g><g class=\"toytree-NodeLabel\" transform=\"translate(101.04052573932091,368.2771049691895)\"><text x=\"-5.0040000000000004\" y=\"2.2995\" style=\"fill:rgb(16.1%,15.3%,14.1%);fill-opacity:1.0\">14</text></g><g class=\"toytree-NodeLabel\" transform=\"translate(241.2376779846659,365.59887048845843)\"><text x=\"-5.0040000000000004\" y=\"2.2995\" style=\"fill:rgb(16.1%,15.3%,14.1%);fill-opacity:1.0\">15</text></g><g class=\"toytree-NodeLabel\" transform=\"translate(355.14786418400877,348.66430906744296)\"><text x=\"-5.0040000000000004\" y=\"2.2995\" style=\"fill:rgb(16.1%,15.3%,14.1%);fill-opacity:1.0\">16</text></g><g class=\"toytree-NodeLabel\" transform=\"translate(131.70865279299014,308.85650529982917)\"><text x=\"-5.0040000000000004\" y=\"2.2995\" style=\"fill:rgb(16.1%,15.3%,14.1%);fill-opacity:1.0\">17</text></g><g class=\"toytree-NodeLabel\" transform=\"translate(271.90580503833513,162.29478033162115)\"><text x=\"-5.0040000000000004\" y=\"2.2995\" style=\"fill:rgb(16.1%,15.3%,14.1%);fill-opacity:1.0\">18</text></g><g class=\"toytree-NodeLabel\" transform=\"translate(381.4348302300109,282.79764414957043)\"><text x=\"-5.0040000000000004\" y=\"2.2995\" style=\"fill:rgb(16.1%,15.3%,14.1%);fill-opacity:1.0\">19</text></g><g class=\"toytree-NodeLabel\" transform=\"translate(201.80722891566265,143.85052036104713)\"><text x=\"-5.0040000000000004\" y=\"2.2995\" style=\"fill:rgb(16.1%,15.3%,14.1%);fill-opacity:1.0\">20</text></g><g class=\"toytree-NodeLabel\" transform=\"translate(412.10295728368015,277.1341223276047)\"><text x=\"-5.0040000000000004\" y=\"2.2995\" style=\"fill:rgb(16.1%,15.3%,14.1%);fill-opacity:1.0\">21</text></g><g class=\"toytree-NodeLabel\" transform=\"translate(306.9550930996714,56.39263568369239)\"><text x=\"-5.0040000000000004\" y=\"2.2995\" style=\"fill:rgb(16.1%,15.3%,14.1%);fill-opacity:1.0\">22</text></g></g><g class=\"toytree-TipLabels\" style=\"fill:rgb(16.1%,15.3%,14.1%);fill-opacity:1.0;font-family:Helvetica;font-size:11.0px;font-weight:300;stroke:none;vertical-align:baseline;white-space:pre\"><g class=\"toytree-TipLabel\" transform=\"translate(57.2289156626506,397.33320548061965)rotate(90.0)\"><text x=\"15.0\" y=\"2.8104999999999993\" style=\"\">r0</text></g><g class=\"toytree-TipLabel\" transform=\"translate(92.27820372398685,397.33320548061965)rotate(90.0)\"><text x=\"15.0\" y=\"2.8104999999999993\" style=\"\">r1</text></g><g class=\"toytree-TipLabel\" transform=\"translate(127.3274917853231,397.3332054806196)rotate(90.0)\"><text x=\"15.0\" y=\"2.8104999999999993\" style=\"\">r2</text></g><g class=\"toytree-TipLabel\" transform=\"translate(162.37677984665936,397.33320548061965)rotate(90.0)\"><text x=\"15.0\" y=\"2.8104999999999993\" style=\"\">r3</text></g><g class=\"toytree-TipLabel\" transform=\"translate(197.42606790799562,397.3332054806196)rotate(90.0)\"><text x=\"15.0\" y=\"2.8104999999999993\" style=\"\">r4</text></g><g class=\"toytree-TipLabel\" transform=\"translate(232.47535596933182,397.3332054806196)rotate(90.0)\"><text x=\"15.0\" y=\"2.8104999999999993\" style=\"\">r5</text></g><g class=\"toytree-TipLabel\" transform=\"translate(267.52464403066807,397.3332054806196)rotate(90.0)\"><text x=\"15.0\" y=\"2.8104999999999993\" style=\"\">r6</text></g><g class=\"toytree-TipLabel\" transform=\"translate(302.5739320920044,397.3332054806197)rotate(90.0)\"><text x=\"15.0\" y=\"2.8104999999999993\" style=\"\">r7</text></g><g class=\"toytree-TipLabel\" transform=\"translate(337.62322015334064,397.33320548061965)rotate(90.0)\"><text x=\"15.0\" y=\"2.8104999999999993\" style=\"\">r8</text></g><g class=\"toytree-TipLabel\" transform=\"translate(372.67250821467684,397.33320548061965)rotate(90.0)\"><text x=\"15.0\" y=\"2.8104999999999993\" style=\"\">r9</text></g><g class=\"toytree-TipLabel\" transform=\"translate(407.7217962760131,397.33320548061965)rotate(90.0)\"><text x=\"15.0\" y=\"2.8104999999999993\" style=\"\">r10</text></g><g class=\"toytree-TipLabel\" transform=\"translate(442.77108433734935,397.33320548061965)rotate(90.0)\"><text x=\"15.0\" y=\"2.8104999999999993\" style=\"\">r11</text></g></g></g></g><g class=\"toyplot-coordinates-Axis\" id=\"t33ed5f1025374396aaeefb3f9409989d\" transform=\"translate(50.0,450.0)rotate(-90.0)translate(0,-15.0)\"><line x1=\"52.66679451938031\" y1=\"0\" x2=\"393.6073643163076\" y2=\"0\" style=\"\"></line><g><line x1=\"52.66679451938031\" y1=\"0\" x2=\"52.66679451938031\" y2=\"5\" style=\"\"></line><line x1=\"137.90193696861212\" y1=\"0\" x2=\"137.90193696861212\" y2=\"5\" style=\"\"></line><line x1=\"223.13707941784395\" y1=\"0\" x2=\"223.13707941784395\" y2=\"5\" style=\"\"></line><line x1=\"308.3722218670757\" y1=\"0\" x2=\"308.3722218670757\" y2=\"5\" style=\"\"></line><line x1=\"393.6073643163076\" y1=\"0\" x2=\"393.6073643163076\" y2=\"5\" style=\"\"></line></g><g><g transform=\"translate(52.66679451938031,-6)\"><text x=\"-2.78\" y=\"-4.440892098500626e-16\" style=\"fill:rgb(16.1%,15.3%,14.1%);fill-opacity:1.0;font-family:helvetica;font-size:10.0px;font-weight:normal;stroke:none;vertical-align:baseline;white-space:pre\">0</text></g><g transform=\"translate(137.90193696861212,-6)\"><text x=\"-16.68\" y=\"-4.440892098500626e-16\" style=\"fill:rgb(16.1%,15.3%,14.1%);fill-opacity:1.0;font-family:helvetica;font-size:10.0px;font-weight:normal;stroke:none;vertical-align:baseline;white-space:pre\">250000</text></g><g transform=\"translate(223.13707941784395,-6)\"><text x=\"-16.68\" y=\"-4.440892098500626e-16\" style=\"fill:rgb(16.1%,15.3%,14.1%);fill-opacity:1.0;font-family:helvetica;font-size:10.0px;font-weight:normal;stroke:none;vertical-align:baseline;white-space:pre\">500000</text></g><g transform=\"translate(308.3722218670757,-6)\"><text x=\"-16.68\" y=\"-4.440892098500626e-16\" style=\"fill:rgb(16.1%,15.3%,14.1%);fill-opacity:1.0;font-family:helvetica;font-size:10.0px;font-weight:normal;stroke:none;vertical-align:baseline;white-space:pre\">750000</text></g><g transform=\"translate(393.6073643163076,-6)\"><text x=\"-19.459999999999997\" y=\"-4.440892098500626e-16\" style=\"fill:rgb(16.1%,15.3%,14.1%);fill-opacity:1.0;font-family:helvetica;font-size:10.0px;font-weight:normal;stroke:none;vertical-align:baseline;white-space:pre\">1000000</text></g></g><g class=\"toyplot-coordinates-Axis-coordinates\" style=\"visibility:hidden\" transform=\"\"><line x1=\"0\" x2=\"0\" y1=\"3.0\" y2=\"-4.5\" style=\"stroke:rgb(43.9%,50.2%,56.5%);stroke-opacity:1.0;stroke-width:1.0\"></line><text x=\"0\" y=\"6\" style=\"alignment-baseline:hanging;fill:rgb(43.9%,50.2%,56.5%);fill-opacity:1.0;font-size:10px;font-weight:normal;stroke:none;text-anchor:middle\"></text></g></g></g></svg><div class=\"toyplot-behavior\"><script>(function()\n",
       "{\n",
       "var modules={};\n",
       "modules[\"toyplot/canvas/id\"] = \"taff636e862d5455f8f632cc101053a6b\";\n",
       "modules[\"toyplot/canvas\"] = (function(canvas_id)\n",
       "    {\n",
       "        return document.querySelector(\"#\" + canvas_id);\n",
       "    })(modules[\"toyplot/canvas/id\"]);\n",
       "modules[\"toyplot.coordinates.Axis\"] = (\n",
       "        function(canvas)\n",
       "        {\n",
       "            function sign(x)\n",
       "            {\n",
       "                return x < 0 ? -1 : x > 0 ? 1 : 0;\n",
       "            }\n",
       "\n",
       "            function mix(a, b, amount)\n",
       "            {\n",
       "                return ((1.0 - amount) * a) + (amount * b);\n",
       "            }\n",
       "\n",
       "            function log(x, base)\n",
       "            {\n",
       "                return Math.log(Math.abs(x)) / Math.log(base);\n",
       "            }\n",
       "\n",
       "            function in_range(a, x, b)\n",
       "            {\n",
       "                var left = Math.min(a, b);\n",
       "                var right = Math.max(a, b);\n",
       "                return left <= x && x <= right;\n",
       "            }\n",
       "\n",
       "            function inside(range, projection)\n",
       "            {\n",
       "                for(var i = 0; i != projection.length; ++i)\n",
       "                {\n",
       "                    var segment = projection[i];\n",
       "                    if(in_range(segment.range.min, range, segment.range.max))\n",
       "                        return true;\n",
       "                }\n",
       "                return false;\n",
       "            }\n",
       "\n",
       "            function to_domain(range, projection)\n",
       "            {\n",
       "                for(var i = 0; i != projection.length; ++i)\n",
       "                {\n",
       "                    var segment = projection[i];\n",
       "                    if(in_range(segment.range.bounds.min, range, segment.range.bounds.max))\n",
       "                    {\n",
       "                        if(segment.scale == \"linear\")\n",
       "                        {\n",
       "                            var amount = (range - segment.range.min) / (segment.range.max - segment.range.min);\n",
       "                            return mix(segment.domain.min, segment.domain.max, amount)\n",
       "                        }\n",
       "                        else if(segment.scale[0] == \"log\")\n",
       "                        {\n",
       "                            var amount = (range - segment.range.min) / (segment.range.max - segment.range.min);\n",
       "                            var base = segment.scale[1];\n",
       "                            return sign(segment.domain.min) * Math.pow(base, mix(log(segment.domain.min, base), log(segment.domain.max, base), amount));\n",
       "                        }\n",
       "                    }\n",
       "                }\n",
       "            }\n",
       "\n",
       "            var axes = {};\n",
       "\n",
       "            function display_coordinates(e)\n",
       "            {\n",
       "                var current = canvas.createSVGPoint();\n",
       "                current.x = e.clientX;\n",
       "                current.y = e.clientY;\n",
       "\n",
       "                for(var axis_id in axes)\n",
       "                {\n",
       "                    var axis = document.querySelector(\"#\" + axis_id);\n",
       "                    var coordinates = axis.querySelector(\".toyplot-coordinates-Axis-coordinates\");\n",
       "                    if(coordinates)\n",
       "                    {\n",
       "                        var projection = axes[axis_id];\n",
       "                        var local = current.matrixTransform(axis.getScreenCTM().inverse());\n",
       "                        if(inside(local.x, projection))\n",
       "                        {\n",
       "                            var domain = to_domain(local.x, projection);\n",
       "                            coordinates.style.visibility = \"visible\";\n",
       "                            coordinates.setAttribute(\"transform\", \"translate(\" + local.x + \")\");\n",
       "                            var text = coordinates.querySelector(\"text\");\n",
       "                            text.textContent = domain.toFixed(2);\n",
       "                        }\n",
       "                        else\n",
       "                        {\n",
       "                            coordinates.style.visibility= \"hidden\";\n",
       "                        }\n",
       "                    }\n",
       "                }\n",
       "            }\n",
       "\n",
       "            canvas.addEventListener(\"click\", display_coordinates);\n",
       "\n",
       "            var module = {};\n",
       "            module.show_coordinates = function(axis_id, projection)\n",
       "            {\n",
       "                axes[axis_id] = projection;\n",
       "            }\n",
       "\n",
       "            return module;\n",
       "        })(modules[\"toyplot/canvas\"]);\n",
       "(function(axis, axis_id, projection)\n",
       "        {\n",
       "            axis.show_coordinates(axis_id, projection);\n",
       "        })(modules[\"toyplot.coordinates.Axis\"],\"t33ed5f1025374396aaeefb3f9409989d\",[{\"domain\": {\"bounds\": {\"max\": Infinity, \"min\": -Infinity}, \"max\": 1018750.0, \"min\": -154474.9999999999}, \"range\": {\"bounds\": {\"max\": Infinity, \"min\": -Infinity}, \"max\": 400.0, \"min\": 0.0}, \"scale\": \"linear\"}]);\n",
       "})();</script></div></div>"
      ]
     },
     "metadata": {},
     "output_type": "display_data"
    }
   ],
   "source": [
    "tre.draw(ts='p',node_labels=True,node_sizes=15,width=500,height=500,node_mask=False);"
   ]
  },
  {
   "cell_type": "markdown",
   "id": "33b2275d",
   "metadata": {},
   "source": [
    "### Now we can define a species tree model and simulate a gene tree"
   ]
  },
  {
   "cell_type": "code",
   "execution_count": 8,
   "id": "4ffe7a70",
   "metadata": {},
   "outputs": [],
   "source": [
    "# define the model\n",
    "mod = ipcoal.Model(tre,Ne=350000,seed_trees=1235)\n",
    "# simulate a gene tree\n",
    "mod.sim_trees(1)"
   ]
  },
  {
   "cell_type": "markdown",
   "id": "35d21055",
   "metadata": {},
   "source": [
    "### Let's look at the gene tree:"
   ]
  },
  {
   "cell_type": "code",
   "execution_count": 9,
   "id": "ebbc5f83",
   "metadata": {},
   "outputs": [
    {
     "data": {
      "text/html": [
       "<div class=\"toyplot\" id=\"tb72616b3a93841978ee4f58fca7b0b76\" style=\"text-align:center\"><svg class=\"toyplot-canvas-Canvas\" xmlns:toyplot=\"http://www.sandia.gov/toyplot\" xmlns:xlink=\"http://www.w3.org/1999/xlink\" xmlns=\"http://www.w3.org/2000/svg\" width=\"500.0px\" height=\"500.0px\" viewBox=\"0 0 500.0 500.0\" preserveAspectRatio=\"xMidYMid meet\" style=\"background-color:transparent;border-color:#292724;border-style:none;border-width:1.0;fill:rgb(16.1%,15.3%,14.1%);fill-opacity:1.0;font-family:Helvetica;font-size:12px;opacity:1.0;stroke:rgb(16.1%,15.3%,14.1%);stroke-opacity:1.0;stroke-width:1.0\" id=\"tfa7a77ee3e3147de8d2b0b51c9cfbe05\"><g class=\"toyplot-coordinates-Cartesian\" id=\"t33387dd33e4445fba82aece2f8093ba6\"><clipPath id=\"t8f762bab455747469179062df755acce\"><rect x=\"35.0\" y=\"35.0\" width=\"430.0\" height=\"430.0\"></rect></clipPath><g clip-path=\"url(#t8f762bab455747469179062df755acce)\"><g class=\"toytree-mark-Toytree\" id=\"t046515bb6f3a4aeeb27ec30adc56e0b2\"><g class=\"toytree-Edges\" style=\"fill:none;stroke:rgba(16.1%,15.3%,14.1%,1.000);stroke-linecap:round;stroke-width:2.0\"><path d=\"M 74.8 276.2 L 57.2 397.3\" id=\"13,0\" style=\"stroke-width:2.0\"></path><path d=\"M 74.8 276.2 L 92.3 397.3\" id=\"13,1\" style=\"stroke-width:2.0\"></path><path d=\"M 101.0 183.4 L 127.3 397.3\" id=\"15,2\" style=\"stroke-width:2.0\"></path><path d=\"M 179.9 368.9 L 162.4 397.3\" id=\"12,3\" style=\"stroke-width:2.0\"></path><path d=\"M 179.9 368.9 L 197.4 397.3\" id=\"12,4\" style=\"stroke-width:2.0\"></path><path d=\"M 206.2 354.8 L 232.5 397.3\" id=\"14,5\" style=\"stroke-width:2.0\"></path><path d=\"M 236.9 216.6 L 267.5 397.3\" id=\"16,6\" style=\"stroke-width:2.0\"></path><path d=\"M 235.8 122.2 L 302.6 397.3\" id=\"18,7\" style=\"stroke-width:2.0\"></path><path d=\"M 286.7 86.0 L 337.6 397.3\" id=\"20,8\" style=\"stroke-width:2.0\"></path><path d=\"M 390.2 337.5 L 372.7 397.3\" id=\"19,9\" style=\"stroke-width:2.0\"></path><path d=\"M 390.2 337.5 L 407.7 397.3\" id=\"19,10\" style=\"stroke-width:2.0\"></path><path d=\"M 416.5 323.8 L 442.8 397.3\" id=\"21,11\" style=\"stroke-width:2.0\"></path><path d=\"M 206.2 354.8 L 179.9 368.9\" id=\"14,12\" style=\"stroke-width:2.0\"></path><path d=\"M 101.0 183.4 L 74.8 276.2\" id=\"15,13\" style=\"stroke-width:2.0\"></path><path d=\"M 236.9 216.6 L 206.2 354.8\" id=\"16,14\" style=\"stroke-width:2.0\"></path><path d=\"M 168.9 123.9 L 101.0 183.4\" id=\"17,15\" style=\"stroke-width:2.0\"></path><path d=\"M 168.9 123.9 L 236.9 216.6\" id=\"17,16\" style=\"stroke-width:2.0\"></path><path d=\"M 235.8 122.2 L 168.9 123.9\" id=\"18,17\" style=\"stroke-width:2.0\"></path><path d=\"M 286.7 86.0 L 235.8 122.2\" id=\"20,18\" style=\"stroke-width:2.0\"></path><path d=\"M 416.5 323.8 L 390.2 337.5\" id=\"21,19\" style=\"stroke-width:2.0\"></path><path d=\"M 351.6 56.4 L 286.7 86.0\" id=\"22,20\" style=\"stroke-width:2.0\"></path><path d=\"M 351.6 56.4 L 416.5 323.8\" id=\"22,21\" style=\"stroke-width:2.0\"></path></g><g class=\"toytree-Nodes\" style=\"fill:rgba(40.0%,76.1%,64.7%,1.000);stroke:#262626;stroke-width:1.0\"><g id=\"node-0\" transform=\"translate(57.229,397.333)\"><circle r=\"7.5\"></circle></g><g id=\"node-1\" transform=\"translate(92.278,397.333)\"><circle r=\"7.5\"></circle></g><g id=\"node-2\" transform=\"translate(127.327,397.333)\"><circle r=\"7.5\"></circle></g><g id=\"node-3\" transform=\"translate(162.377,397.333)\"><circle r=\"7.5\"></circle></g><g id=\"node-4\" transform=\"translate(197.426,397.333)\"><circle r=\"7.5\"></circle></g><g id=\"node-5\" transform=\"translate(232.475,397.333)\"><circle r=\"7.5\"></circle></g><g id=\"node-6\" transform=\"translate(267.525,397.333)\"><circle r=\"7.5\"></circle></g><g id=\"node-7\" transform=\"translate(302.574,397.333)\"><circle r=\"7.5\"></circle></g><g id=\"node-8\" transform=\"translate(337.623,397.333)\"><circle r=\"7.5\"></circle></g><g id=\"node-9\" transform=\"translate(372.673,397.333)\"><circle r=\"7.5\"></circle></g><g id=\"node-10\" transform=\"translate(407.722,397.333)\"><circle r=\"7.5\"></circle></g><g id=\"node-11\" transform=\"translate(442.771,397.333)\"><circle r=\"7.5\"></circle></g><g id=\"node-12\" transform=\"translate(179.901,368.887)\"><circle r=\"7.5\"></circle></g><g id=\"node-13\" transform=\"translate(74.754,276.214)\"><circle r=\"7.5\"></circle></g><g id=\"node-14\" transform=\"translate(206.188,354.817)\"><circle r=\"7.5\"></circle></g><g id=\"node-15\" transform=\"translate(101.041,183.447)\"><circle r=\"7.5\"></circle></g><g id=\"node-16\" transform=\"translate(236.857,216.620)\"><circle r=\"7.5\"></circle></g><g id=\"node-17\" transform=\"translate(168.949,123.922)\"><circle r=\"7.5\"></circle></g><g id=\"node-18\" transform=\"translate(235.761,122.181)\"><circle r=\"7.5\"></circle></g><g id=\"node-19\" transform=\"translate(390.197,337.539)\"><circle r=\"7.5\"></circle></g><g id=\"node-20\" transform=\"translate(286.692,86.031)\"><circle r=\"7.5\"></circle></g><g id=\"node-21\" transform=\"translate(416.484,323.766)\"><circle r=\"7.5\"></circle></g><g id=\"node-22\" transform=\"translate(351.588,56.393)\"><circle r=\"7.5\"></circle></g></g><g class=\"toytree-NodeLabels\" style=\"font-family:Helvetica;font-size:9.0px;font-weight:300;stroke:none;vertical-align:baseline;white-space:pre\"><g class=\"toytree-NodeLabel\" transform=\"translate(57.2289156626506,397.3332054806196)\"><text x=\"-2.5020000000000002\" y=\"2.2995\" style=\"fill:rgb(16.1%,15.3%,14.1%);fill-opacity:1.0\">0</text></g><g class=\"toytree-NodeLabel\" transform=\"translate(92.27820372398685,397.3332054806196)\"><text x=\"-2.5020000000000002\" y=\"2.2995\" style=\"fill:rgb(16.1%,15.3%,14.1%);fill-opacity:1.0\">1</text></g><g class=\"toytree-NodeLabel\" transform=\"translate(127.3274917853231,397.3332054806196)\"><text x=\"-2.5020000000000002\" y=\"2.2995\" style=\"fill:rgb(16.1%,15.3%,14.1%);fill-opacity:1.0\">2</text></g><g class=\"toytree-NodeLabel\" transform=\"translate(162.37677984665936,397.33320548061954)\"><text x=\"-2.5020000000000002\" y=\"2.2995\" style=\"fill:rgb(16.1%,15.3%,14.1%);fill-opacity:1.0\">3</text></g><g class=\"toytree-NodeLabel\" transform=\"translate(197.42606790799562,397.33320548061954)\"><text x=\"-2.5020000000000002\" y=\"2.2995\" style=\"fill:rgb(16.1%,15.3%,14.1%);fill-opacity:1.0\">4</text></g><g class=\"toytree-NodeLabel\" transform=\"translate(232.47535596933182,397.3332054806196)\"><text x=\"-2.5020000000000002\" y=\"2.2995\" style=\"fill:rgb(16.1%,15.3%,14.1%);fill-opacity:1.0\">5</text></g><g class=\"toytree-NodeLabel\" transform=\"translate(267.52464403066807,397.3332054806196)\"><text x=\"-2.5020000000000002\" y=\"2.2995\" style=\"fill:rgb(16.1%,15.3%,14.1%);fill-opacity:1.0\">6</text></g><g class=\"toytree-NodeLabel\" transform=\"translate(302.5739320920044,397.3332054806197)\"><text x=\"-2.5020000000000002\" y=\"2.2995\" style=\"fill:rgb(16.1%,15.3%,14.1%);fill-opacity:1.0\">7</text></g><g class=\"toytree-NodeLabel\" transform=\"translate(337.62322015334064,397.3332054806196)\"><text x=\"-2.5020000000000002\" y=\"2.2995\" style=\"fill:rgb(16.1%,15.3%,14.1%);fill-opacity:1.0\">8</text></g><g class=\"toytree-NodeLabel\" transform=\"translate(372.67250821467684,397.3332054806196)\"><text x=\"-2.5020000000000002\" y=\"2.2995\" style=\"fill:rgb(16.1%,15.3%,14.1%);fill-opacity:1.0\">9</text></g><g class=\"toytree-NodeLabel\" transform=\"translate(407.7217962760131,397.3332054806197)\"><text x=\"-5.0040000000000004\" y=\"2.2995\" style=\"fill:rgb(16.1%,15.3%,14.1%);fill-opacity:1.0\">10</text></g><g class=\"toytree-NodeLabel\" transform=\"translate(442.77108433734935,397.3332054806196)\"><text x=\"-5.0040000000000004\" y=\"2.2995\" style=\"fill:rgb(16.1%,15.3%,14.1%);fill-opacity:1.0\">11</text></g><g class=\"toytree-NodeLabel\" transform=\"translate(179.90142387732746,368.8869467241931)\"><text x=\"-5.0040000000000004\" y=\"2.2995\" style=\"fill:rgb(16.1%,15.3%,14.1%);fill-opacity:1.0\">12</text></g><g class=\"toytree-NodeLabel\" transform=\"translate(74.75355969331872,276.21408921857324)\"><text x=\"-5.0040000000000004\" y=\"2.2995\" style=\"fill:rgb(16.1%,15.3%,14.1%);fill-opacity:1.0\">13</text></g><g class=\"toytree-NodeLabel\" transform=\"translate(206.18838992332968,354.81656376725624)\"><text x=\"-5.0040000000000004\" y=\"2.2995\" style=\"fill:rgb(16.1%,15.3%,14.1%);fill-opacity:1.0\">14</text></g><g class=\"toytree-NodeLabel\" transform=\"translate(101.04052573932091,183.4470802461472)\"><text x=\"-5.0040000000000004\" y=\"2.2995\" style=\"fill:rgb(16.1%,15.3%,14.1%);fill-opacity:1.0\">15</text></g><g class=\"toytree-NodeLabel\" transform=\"translate(236.85651697699888,216.61969850522206)\"><text x=\"-5.0040000000000004\" y=\"2.2995\" style=\"fill:rgb(16.1%,15.3%,14.1%);fill-opacity:1.0\">16</text></g><g class=\"toytree-NodeLabel\" transform=\"translate(168.9485213581599,123.92186031003925)\"><text x=\"-5.0040000000000004\" y=\"2.2995\" style=\"fill:rgb(16.1%,15.3%,14.1%);fill-opacity:1.0\">17</text></g><g class=\"toytree-NodeLabel\" transform=\"translate(235.7612267250821,122.18085277686569)\"><text x=\"-5.0040000000000004\" y=\"2.2995\" style=\"fill:rgb(16.1%,15.3%,14.1%);fill-opacity:1.0\">18</text></g><g class=\"toytree-NodeLabel\" transform=\"translate(390.19715224534497,337.5393008262631)\"><text x=\"-5.0040000000000004\" y=\"2.2995\" style=\"fill:rgb(16.1%,15.3%,14.1%);fill-opacity:1.0\">19</text></g><g class=\"toytree-NodeLabel\" transform=\"translate(286.6922234392113,86.03101232849517)\"><text x=\"-5.0040000000000004\" y=\"2.2995\" style=\"fill:rgb(16.1%,15.3%,14.1%);fill-opacity:1.0\">20</text></g><g class=\"toytree-NodeLabel\" transform=\"translate(416.48411829134716,323.7660620822338)\"><text x=\"-5.0040000000000004\" y=\"2.2995\" style=\"fill:rgb(16.1%,15.3%,14.1%);fill-opacity:1.0\">21</text></g><g class=\"toytree-NodeLabel\" transform=\"translate(351.58817086527927,56.39263568369239)\"><text x=\"-5.0040000000000004\" y=\"2.2995\" style=\"fill:rgb(16.1%,15.3%,14.1%);fill-opacity:1.0\">22</text></g></g><g class=\"toytree-TipLabels\" style=\"fill:rgb(16.1%,15.3%,14.1%);fill-opacity:1.0;font-family:Helvetica;font-size:11.0px;font-weight:300;stroke:none;vertical-align:baseline;white-space:pre\"><g class=\"toytree-TipLabel\" transform=\"translate(57.2289156626506,397.3332054806196)rotate(90.0)\"><text x=\"15.0\" y=\"2.8104999999999993\" style=\"\">r11</text></g><g class=\"toytree-TipLabel\" transform=\"translate(92.27820372398685,397.3332054806196)rotate(90.0)\"><text x=\"15.0\" y=\"2.8104999999999993\" style=\"\">r8</text></g><g class=\"toytree-TipLabel\" transform=\"translate(127.3274917853231,397.3332054806196)rotate(90.0)\"><text x=\"15.0\" y=\"2.8104999999999993\" style=\"\">r9</text></g><g class=\"toytree-TipLabel\" transform=\"translate(162.37677984665936,397.33320548061954)rotate(90.0)\"><text x=\"15.0\" y=\"2.8104999999999993\" style=\"\">r5</text></g><g class=\"toytree-TipLabel\" transform=\"translate(197.42606790799562,397.33320548061954)rotate(90.0)\"><text x=\"15.0\" y=\"2.8104999999999993\" style=\"\">r4</text></g><g class=\"toytree-TipLabel\" transform=\"translate(232.47535596933182,397.3332054806196)rotate(90.0)\"><text x=\"15.0\" y=\"2.8104999999999993\" style=\"\">r6</text></g><g class=\"toytree-TipLabel\" transform=\"translate(267.52464403066807,397.3332054806196)rotate(90.0)\"><text x=\"15.0\" y=\"2.8104999999999993\" style=\"\">r3</text></g><g class=\"toytree-TipLabel\" transform=\"translate(302.5739320920044,397.3332054806197)rotate(90.0)\"><text x=\"15.0\" y=\"2.8104999999999993\" style=\"\">r7</text></g><g class=\"toytree-TipLabel\" transform=\"translate(337.62322015334064,397.3332054806196)rotate(90.0)\"><text x=\"15.0\" y=\"2.8104999999999993\" style=\"\">r10</text></g><g class=\"toytree-TipLabel\" transform=\"translate(372.67250821467684,397.3332054806196)rotate(90.0)\"><text x=\"15.0\" y=\"2.8104999999999993\" style=\"\">r2</text></g><g class=\"toytree-TipLabel\" transform=\"translate(407.7217962760131,397.3332054806197)rotate(90.0)\"><text x=\"15.0\" y=\"2.8104999999999993\" style=\"\">r1</text></g><g class=\"toytree-TipLabel\" transform=\"translate(442.77108433734935,397.3332054806196)rotate(90.0)\"><text x=\"15.0\" y=\"2.8104999999999993\" style=\"\">r0</text></g></g></g></g><g class=\"toyplot-coordinates-Axis\" id=\"te739cf1e9e43425f9d15c97fdc123720\" transform=\"translate(50.0,450.0)rotate(-90.0)translate(0,-15.0)\"><line x1=\"52.66679451938031\" y1=\"0\" x2=\"393.6073643163076\" y2=\"0\" style=\"\"></line><g><line x1=\"52.66679451938031\" y1=\"0\" x2=\"52.66679451938031\" y2=\"5\" style=\"\"></line><line x1=\"100.03869047139193\" y1=\"0\" x2=\"100.03869047139193\" y2=\"5\" style=\"\"></line><line x1=\"147.41058642340354\" y1=\"0\" x2=\"147.41058642340354\" y2=\"5\" style=\"\"></line><line x1=\"194.78248237541516\" y1=\"0\" x2=\"194.78248237541516\" y2=\"5\" style=\"\"></line><line x1=\"242.15437832742674\" y1=\"0\" x2=\"242.15437832742674\" y2=\"5\" style=\"\"></line><line x1=\"289.5262742794384\" y1=\"0\" x2=\"289.5262742794384\" y2=\"5\" style=\"\"></line><line x1=\"336.89817023144997\" y1=\"0\" x2=\"336.89817023144997\" y2=\"5\" style=\"\"></line><line x1=\"384.27006618346155\" y1=\"0\" x2=\"384.27006618346155\" y2=\"5\" style=\"\"></line></g><g><g transform=\"translate(52.66679451938031,-6)\"><text x=\"-2.78\" y=\"-4.440892098500626e-16\" style=\"fill:rgb(16.1%,15.3%,14.1%);fill-opacity:1.0;font-family:helvetica;font-size:10.0px;font-weight:normal;stroke:none;vertical-align:baseline;white-space:pre\">0</text></g><g transform=\"translate(100.03869047139193,-6)\"><text x=\"-16.68\" y=\"-4.440892098500626e-16\" style=\"fill:rgb(16.1%,15.3%,14.1%);fill-opacity:1.0;font-family:helvetica;font-size:10.0px;font-weight:normal;stroke:none;vertical-align:baseline;white-space:pre\">200000</text></g><g transform=\"translate(147.41058642340354,-6)\"><text x=\"-16.68\" y=\"-4.440892098500626e-16\" style=\"fill:rgb(16.1%,15.3%,14.1%);fill-opacity:1.0;font-family:helvetica;font-size:10.0px;font-weight:normal;stroke:none;vertical-align:baseline;white-space:pre\">400000</text></g><g transform=\"translate(194.78248237541516,-6)\"><text x=\"-16.68\" y=\"-4.440892098500626e-16\" style=\"fill:rgb(16.1%,15.3%,14.1%);fill-opacity:1.0;font-family:helvetica;font-size:10.0px;font-weight:normal;stroke:none;vertical-align:baseline;white-space:pre\">600000</text></g><g transform=\"translate(242.15437832742674,-6)\"><text x=\"-16.68\" y=\"-4.440892098500626e-16\" style=\"fill:rgb(16.1%,15.3%,14.1%);fill-opacity:1.0;font-family:helvetica;font-size:10.0px;font-weight:normal;stroke:none;vertical-align:baseline;white-space:pre\">800000</text></g><g transform=\"translate(289.5262742794384,-6)\"><text x=\"-19.459999999999997\" y=\"-4.440892098500626e-16\" style=\"fill:rgb(16.1%,15.3%,14.1%);fill-opacity:1.0;font-family:helvetica;font-size:10.0px;font-weight:normal;stroke:none;vertical-align:baseline;white-space:pre\">1000000</text></g><g transform=\"translate(336.89817023144997,-6)\"><text x=\"-19.459999999999997\" y=\"-4.440892098500626e-16\" style=\"fill:rgb(16.1%,15.3%,14.1%);fill-opacity:1.0;font-family:helvetica;font-size:10.0px;font-weight:normal;stroke:none;vertical-align:baseline;white-space:pre\">1200000</text></g><g transform=\"translate(384.27006618346155,-6)\"><text x=\"-19.459999999999997\" y=\"-4.440892098500626e-16\" style=\"fill:rgb(16.1%,15.3%,14.1%);fill-opacity:1.0;font-family:helvetica;font-size:10.0px;font-weight:normal;stroke:none;vertical-align:baseline;white-space:pre\">1400000</text></g></g><g class=\"toyplot-coordinates-Axis-coordinates\" style=\"visibility:hidden\" transform=\"\"><line x1=\"0\" x2=\"0\" y1=\"3.0\" y2=\"-4.5\" style=\"stroke:rgb(43.9%,50.2%,56.5%);stroke-opacity:1.0;stroke-width:1.0\"></line><text x=\"0\" y=\"6\" style=\"alignment-baseline:hanging;fill:rgb(43.9%,50.2%,56.5%);fill-opacity:1.0;font-size:10px;font-weight:normal;stroke:none;text-anchor:middle\"></text></g></g></g></svg><div class=\"toyplot-behavior\"><script>(function()\n",
       "{\n",
       "var modules={};\n",
       "modules[\"toyplot/canvas/id\"] = \"tfa7a77ee3e3147de8d2b0b51c9cfbe05\";\n",
       "modules[\"toyplot/canvas\"] = (function(canvas_id)\n",
       "    {\n",
       "        return document.querySelector(\"#\" + canvas_id);\n",
       "    })(modules[\"toyplot/canvas/id\"]);\n",
       "modules[\"toyplot.coordinates.Axis\"] = (\n",
       "        function(canvas)\n",
       "        {\n",
       "            function sign(x)\n",
       "            {\n",
       "                return x < 0 ? -1 : x > 0 ? 1 : 0;\n",
       "            }\n",
       "\n",
       "            function mix(a, b, amount)\n",
       "            {\n",
       "                return ((1.0 - amount) * a) + (amount * b);\n",
       "            }\n",
       "\n",
       "            function log(x, base)\n",
       "            {\n",
       "                return Math.log(Math.abs(x)) / Math.log(base);\n",
       "            }\n",
       "\n",
       "            function in_range(a, x, b)\n",
       "            {\n",
       "                var left = Math.min(a, b);\n",
       "                var right = Math.max(a, b);\n",
       "                return left <= x && x <= right;\n",
       "            }\n",
       "\n",
       "            function inside(range, projection)\n",
       "            {\n",
       "                for(var i = 0; i != projection.length; ++i)\n",
       "                {\n",
       "                    var segment = projection[i];\n",
       "                    if(in_range(segment.range.min, range, segment.range.max))\n",
       "                        return true;\n",
       "                }\n",
       "                return false;\n",
       "            }\n",
       "\n",
       "            function to_domain(range, projection)\n",
       "            {\n",
       "                for(var i = 0; i != projection.length; ++i)\n",
       "                {\n",
       "                    var segment = projection[i];\n",
       "                    if(in_range(segment.range.bounds.min, range, segment.range.bounds.max))\n",
       "                    {\n",
       "                        if(segment.scale == \"linear\")\n",
       "                        {\n",
       "                            var amount = (range - segment.range.min) / (segment.range.max - segment.range.min);\n",
       "                            return mix(segment.domain.min, segment.domain.max, amount)\n",
       "                        }\n",
       "                        else if(segment.scale[0] == \"log\")\n",
       "                        {\n",
       "                            var amount = (range - segment.range.min) / (segment.range.max - segment.range.min);\n",
       "                            var base = segment.scale[1];\n",
       "                            return sign(segment.domain.min) * Math.pow(base, mix(log(segment.domain.min, base), log(segment.domain.max, base), amount));\n",
       "                        }\n",
       "                    }\n",
       "                }\n",
       "            }\n",
       "\n",
       "            var axes = {};\n",
       "\n",
       "            function display_coordinates(e)\n",
       "            {\n",
       "                var current = canvas.createSVGPoint();\n",
       "                current.x = e.clientX;\n",
       "                current.y = e.clientY;\n",
       "\n",
       "                for(var axis_id in axes)\n",
       "                {\n",
       "                    var axis = document.querySelector(\"#\" + axis_id);\n",
       "                    var coordinates = axis.querySelector(\".toyplot-coordinates-Axis-coordinates\");\n",
       "                    if(coordinates)\n",
       "                    {\n",
       "                        var projection = axes[axis_id];\n",
       "                        var local = current.matrixTransform(axis.getScreenCTM().inverse());\n",
       "                        if(inside(local.x, projection))\n",
       "                        {\n",
       "                            var domain = to_domain(local.x, projection);\n",
       "                            coordinates.style.visibility = \"visible\";\n",
       "                            coordinates.setAttribute(\"transform\", \"translate(\" + local.x + \")\");\n",
       "                            var text = coordinates.querySelector(\"text\");\n",
       "                            text.textContent = domain.toFixed(2);\n",
       "                        }\n",
       "                        else\n",
       "                        {\n",
       "                            coordinates.style.visibility= \"hidden\";\n",
       "                        }\n",
       "                    }\n",
       "                }\n",
       "            }\n",
       "\n",
       "            canvas.addEventListener(\"click\", display_coordinates);\n",
       "\n",
       "            var module = {};\n",
       "            module.show_coordinates = function(axis_id, projection)\n",
       "            {\n",
       "                axes[axis_id] = projection;\n",
       "            }\n",
       "\n",
       "            return module;\n",
       "        })(modules[\"toyplot/canvas\"]);\n",
       "(function(axis, axis_id, projection)\n",
       "        {\n",
       "            axis.show_coordinates(axis_id, projection);\n",
       "        })(modules[\"toyplot.coordinates.Axis\"],\"te739cf1e9e43425f9d15c97fdc123720\",[{\"domain\": {\"bounds\": {\"max\": Infinity, \"min\": -Infinity}, \"max\": 1466410.4043142924, \"min\": -222354.59848485907}, \"range\": {\"bounds\": {\"max\": Infinity, \"min\": -Infinity}, \"max\": 400.0, \"min\": 0.0}, \"scale\": \"linear\"}]);\n",
       "})();</script></div></div>"
      ]
     },
     "metadata": {},
     "output_type": "display_data"
    }
   ],
   "source": [
    "# extract the gene tree individually\n",
    "gtr = toytree.tree(mod.df.genealogy[0])\n",
    "# draw it\n",
    "gtr.draw(ts='p',node_labels=True,node_sizes=15,width=500,height=500,node_mask=False);"
   ]
  },
  {
   "cell_type": "markdown",
   "id": "08878534",
   "metadata": {},
   "source": [
    "### grab a node of a specific index from the gene tree"
   ]
  },
  {
   "cell_type": "code",
   "execution_count": 10,
   "id": "1938a434",
   "metadata": {},
   "outputs": [
    {
     "name": "stdout",
     "output_type": "stream",
     "text": [
      "\n",
      "   /-r0\n",
      "--|\n",
      "  |   /-r1\n",
      "   \\-|\n",
      "      \\-r2\n"
     ]
    }
   ],
   "source": [
    "# grab node 21\n",
    "mybranch = gtr.treenode.search_nodes(idx=21)[0]\n",
    "print(mybranch)"
   ]
  },
  {
   "cell_type": "markdown",
   "id": "8a896ea4",
   "metadata": {},
   "source": [
    "### get the different `num_to_coal` and `ne` intervals for this branch"
   ]
  },
  {
   "cell_type": "code",
   "execution_count": 11,
   "id": "74629f42",
   "metadata": {},
   "outputs": [
    {
     "data": {
      "text/html": [
       "<div>\n",
       "<style scoped>\n",
       "    .dataframe tbody tr th:only-of-type {\n",
       "        vertical-align: middle;\n",
       "    }\n",
       "\n",
       "    .dataframe tbody tr th {\n",
       "        vertical-align: top;\n",
       "    }\n",
       "\n",
       "    .dataframe thead th {\n",
       "        text-align: right;\n",
       "    }\n",
       "</style>\n",
       "<table border=\"1\" class=\"dataframe\">\n",
       "  <thead>\n",
       "    <tr style=\"text-align: right;\">\n",
       "      <th></th>\n",
       "      <th>starts</th>\n",
       "      <th>stops</th>\n",
       "      <th>lengths</th>\n",
       "      <th>num_to_coal</th>\n",
       "      <th>ne</th>\n",
       "      <th>reduced_trees</th>\n",
       "      <th>mids</th>\n",
       "    </tr>\n",
       "  </thead>\n",
       "  <tbody>\n",
       "    <tr>\n",
       "      <th>0</th>\n",
       "      <td>3.105940e+05</td>\n",
       "      <td>5.113543e+05</td>\n",
       "      <td>200760.268966</td>\n",
       "      <td>2</td>\n",
       "      <td>67549</td>\n",
       "      <td>((r0:310594,(r1:252445,r...</td>\n",
       "      <td>4.109742e+05</td>\n",
       "    </tr>\n",
       "    <tr>\n",
       "      <th>1</th>\n",
       "      <td>5.113543e+05</td>\n",
       "      <td>7.434806e+05</td>\n",
       "      <td>232126.246340</td>\n",
       "      <td>2</td>\n",
       "      <td>67549</td>\n",
       "      <td>((r0:310594,(r1:252445,r...</td>\n",
       "      <td>6.274174e+05</td>\n",
       "    </tr>\n",
       "    <tr>\n",
       "      <th>2</th>\n",
       "      <td>7.434806e+05</td>\n",
       "      <td>7.629566e+05</td>\n",
       "      <td>19476.057159</td>\n",
       "      <td>4</td>\n",
       "      <td>1457</td>\n",
       "      <td>((r0:310594,(r1:252445,r...</td>\n",
       "      <td>7.532186e+05</td>\n",
       "    </tr>\n",
       "    <tr>\n",
       "      <th>3</th>\n",
       "      <td>7.629566e+05</td>\n",
       "      <td>9.030085e+05</td>\n",
       "      <td>140051.891918</td>\n",
       "      <td>3</td>\n",
       "      <td>1457</td>\n",
       "      <td>((r0:310594,(r1:252445,r...</td>\n",
       "      <td>8.329826e+05</td>\n",
       "    </tr>\n",
       "    <tr>\n",
       "      <th>4</th>\n",
       "      <td>9.030085e+05</td>\n",
       "      <td>1.000000e+06</td>\n",
       "      <td>96991.492799</td>\n",
       "      <td>3</td>\n",
       "      <td>1457</td>\n",
       "      <td>((r0:310594,(r1:252445,r...</td>\n",
       "      <td>9.515043e+05</td>\n",
       "    </tr>\n",
       "    <tr>\n",
       "      <th>5</th>\n",
       "      <td>1.000000e+06</td>\n",
       "      <td>1.154319e+06</td>\n",
       "      <td>154318.777731</td>\n",
       "      <td>5</td>\n",
       "      <td>44886</td>\n",
       "      <td>((r0:310594,(r1:252445,r...</td>\n",
       "      <td>1.077159e+06</td>\n",
       "    </tr>\n",
       "    <tr>\n",
       "      <th>6</th>\n",
       "      <td>1.154319e+06</td>\n",
       "      <td>1.161669e+06</td>\n",
       "      <td>7350.381479</td>\n",
       "      <td>4</td>\n",
       "      <td>44886</td>\n",
       "      <td>((r0:310594,(r1:252445,r...</td>\n",
       "      <td>1.157994e+06</td>\n",
       "    </tr>\n",
       "    <tr>\n",
       "      <th>7</th>\n",
       "      <td>1.161669e+06</td>\n",
       "      <td>1.314291e+06</td>\n",
       "      <td>152621.463515</td>\n",
       "      <td>3</td>\n",
       "      <td>44886</td>\n",
       "      <td>((r0:310594,(r1:252445,r...</td>\n",
       "      <td>1.237980e+06</td>\n",
       "    </tr>\n",
       "    <tr>\n",
       "      <th>8</th>\n",
       "      <td>1.314291e+06</td>\n",
       "      <td>1.439421e+06</td>\n",
       "      <td>125130.633044</td>\n",
       "      <td>2</td>\n",
       "      <td>44886</td>\n",
       "      <td>((r0:310594,(r1:252445,r...</td>\n",
       "      <td>1.376856e+06</td>\n",
       "    </tr>\n",
       "  </tbody>\n",
       "</table>\n",
       "</div>"
      ],
      "text/plain": [
       "         starts         stops        lengths  num_to_coal     ne  \\\n",
       "0  3.105940e+05  5.113543e+05  200760.268966            2  67549   \n",
       "1  5.113543e+05  7.434806e+05  232126.246340            2  67549   \n",
       "2  7.434806e+05  7.629566e+05   19476.057159            4   1457   \n",
       "3  7.629566e+05  9.030085e+05  140051.891918            3   1457   \n",
       "4  9.030085e+05  1.000000e+06   96991.492799            3   1457   \n",
       "5  1.000000e+06  1.154319e+06  154318.777731            5  44886   \n",
       "6  1.154319e+06  1.161669e+06    7350.381479            4  44886   \n",
       "7  1.161669e+06  1.314291e+06  152621.463515            3  44886   \n",
       "8  1.314291e+06  1.439421e+06  125130.633044            2  44886   \n",
       "\n",
       "                 reduced_trees          mids  \n",
       "0  ((r0:310594,(r1:252445,r...  4.109742e+05  \n",
       "1  ((r0:310594,(r1:252445,r...  6.274174e+05  \n",
       "2  ((r0:310594,(r1:252445,r...  7.532186e+05  \n",
       "3  ((r0:310594,(r1:252445,r...  8.329826e+05  \n",
       "4  ((r0:310594,(r1:252445,r...  9.515043e+05  \n",
       "5  ((r0:310594,(r1:252445,r...  1.077159e+06  \n",
       "6  ((r0:310594,(r1:252445,r...  1.157994e+06  \n",
       "7  ((r0:310594,(r1:252445,r...  1.237980e+06  \n",
       "8  ((r0:310594,(r1:252445,r...  1.376856e+06  "
      ]
     },
     "execution_count": 11,
     "metadata": {},
     "output_type": "execute_result"
    }
   ],
   "source": [
    "df = get_branch_intervals(tre,gtr,mybranch)\n",
    "df"
   ]
  },
  {
   "cell_type": "markdown",
   "id": "3ca42ddf",
   "metadata": {},
   "source": [
    "### now we can import parts of the math equation..."
   ]
  },
  {
   "cell_type": "markdown",
   "id": "0ca12cc6",
   "metadata": {},
   "source": [
    "For each segment we should define variables --"
   ]
  },
  {
   "cell_type": "code",
   "execution_count": 12,
   "id": "3bc7a865",
   "metadata": {},
   "outputs": [
    {
     "data": {
      "text/plain": [
       "9"
      ]
     },
     "execution_count": 12,
     "metadata": {},
     "output_type": "execute_result"
    }
   ],
   "source": [
    "len(df)"
   ]
  },
  {
   "cell_type": "code",
   "execution_count": 13,
   "id": "a90ce00f",
   "metadata": {},
   "outputs": [
    {
     "data": {
      "text/plain": [
       "1457"
      ]
     },
     "execution_count": 13,
     "metadata": {},
     "output_type": "execute_result"
    }
   ],
   "source": [
    "df.iloc[2]['ne']"
   ]
  },
  {
   "cell_type": "code",
   "execution_count": 14,
   "id": "c086a5e8",
   "metadata": {},
   "outputs": [],
   "source": [
    "def get_i_idx(idx, df):\n",
    "    ### get the i value from a particular interval index\n",
    "    \n",
    "    # ne for the interval\n",
    "    ne_ = df.iloc[idx-1]['ne']\n",
    "    # num to coal for the interval\n",
    "    n2c = df.iloc[idx-1]['num_to_coal']\n",
    "    \n",
    "    # calculate i\n",
    "    return(n2c / (2*ne_))"
   ]
  },
  {
   "cell_type": "code",
   "execution_count": 15,
   "id": "cae9fe7d",
   "metadata": {},
   "outputs": [],
   "source": [
    "def get_sigma_idx(idx, df):\n",
    "    return(df.iloc[idx-1]['stops'])"
   ]
  },
  {
   "cell_type": "code",
   "execution_count": 18,
   "id": "797ff903",
   "metadata": {},
   "outputs": [],
   "source": [
    "def get_length_idx(idx, df):\n",
    "    return(df.iloc[idx-1]['lengths'])"
   ]
  },
  {
   "cell_type": "code",
   "execution_count": 20,
   "id": "2b4437c9",
   "metadata": {},
   "outputs": [
    {
     "data": {
      "text/html": [
       "<div>\n",
       "<style scoped>\n",
       "    .dataframe tbody tr th:only-of-type {\n",
       "        vertical-align: middle;\n",
       "    }\n",
       "\n",
       "    .dataframe tbody tr th {\n",
       "        vertical-align: top;\n",
       "    }\n",
       "\n",
       "    .dataframe thead th {\n",
       "        text-align: right;\n",
       "    }\n",
       "</style>\n",
       "<table border=\"1\" class=\"dataframe\">\n",
       "  <thead>\n",
       "    <tr style=\"text-align: right;\">\n",
       "      <th></th>\n",
       "      <th>starts</th>\n",
       "      <th>stops</th>\n",
       "      <th>lengths</th>\n",
       "      <th>num_to_coal</th>\n",
       "      <th>ne</th>\n",
       "      <th>reduced_trees</th>\n",
       "      <th>mids</th>\n",
       "    </tr>\n",
       "  </thead>\n",
       "  <tbody>\n",
       "    <tr>\n",
       "      <th>0</th>\n",
       "      <td>3.105940e+05</td>\n",
       "      <td>5.113543e+05</td>\n",
       "      <td>200760.268966</td>\n",
       "      <td>2</td>\n",
       "      <td>67549</td>\n",
       "      <td>((r0:310594,(r1:252445,r...</td>\n",
       "      <td>4.109742e+05</td>\n",
       "    </tr>\n",
       "    <tr>\n",
       "      <th>1</th>\n",
       "      <td>5.113543e+05</td>\n",
       "      <td>7.434806e+05</td>\n",
       "      <td>232126.246340</td>\n",
       "      <td>2</td>\n",
       "      <td>67549</td>\n",
       "      <td>((r0:310594,(r1:252445,r...</td>\n",
       "      <td>6.274174e+05</td>\n",
       "    </tr>\n",
       "    <tr>\n",
       "      <th>2</th>\n",
       "      <td>7.434806e+05</td>\n",
       "      <td>7.629566e+05</td>\n",
       "      <td>19476.057159</td>\n",
       "      <td>4</td>\n",
       "      <td>1457</td>\n",
       "      <td>((r0:310594,(r1:252445,r...</td>\n",
       "      <td>7.532186e+05</td>\n",
       "    </tr>\n",
       "    <tr>\n",
       "      <th>3</th>\n",
       "      <td>7.629566e+05</td>\n",
       "      <td>9.030085e+05</td>\n",
       "      <td>140051.891918</td>\n",
       "      <td>3</td>\n",
       "      <td>1457</td>\n",
       "      <td>((r0:310594,(r1:252445,r...</td>\n",
       "      <td>8.329826e+05</td>\n",
       "    </tr>\n",
       "    <tr>\n",
       "      <th>4</th>\n",
       "      <td>9.030085e+05</td>\n",
       "      <td>1.000000e+06</td>\n",
       "      <td>96991.492799</td>\n",
       "      <td>3</td>\n",
       "      <td>1457</td>\n",
       "      <td>((r0:310594,(r1:252445,r...</td>\n",
       "      <td>9.515043e+05</td>\n",
       "    </tr>\n",
       "    <tr>\n",
       "      <th>5</th>\n",
       "      <td>1.000000e+06</td>\n",
       "      <td>1.154319e+06</td>\n",
       "      <td>154318.777731</td>\n",
       "      <td>5</td>\n",
       "      <td>44886</td>\n",
       "      <td>((r0:310594,(r1:252445,r...</td>\n",
       "      <td>1.077159e+06</td>\n",
       "    </tr>\n",
       "    <tr>\n",
       "      <th>6</th>\n",
       "      <td>1.154319e+06</td>\n",
       "      <td>1.161669e+06</td>\n",
       "      <td>7350.381479</td>\n",
       "      <td>4</td>\n",
       "      <td>44886</td>\n",
       "      <td>((r0:310594,(r1:252445,r...</td>\n",
       "      <td>1.157994e+06</td>\n",
       "    </tr>\n",
       "    <tr>\n",
       "      <th>7</th>\n",
       "      <td>1.161669e+06</td>\n",
       "      <td>1.314291e+06</td>\n",
       "      <td>152621.463515</td>\n",
       "      <td>3</td>\n",
       "      <td>44886</td>\n",
       "      <td>((r0:310594,(r1:252445,r...</td>\n",
       "      <td>1.237980e+06</td>\n",
       "    </tr>\n",
       "    <tr>\n",
       "      <th>8</th>\n",
       "      <td>1.314291e+06</td>\n",
       "      <td>1.439421e+06</td>\n",
       "      <td>125130.633044</td>\n",
       "      <td>2</td>\n",
       "      <td>44886</td>\n",
       "      <td>((r0:310594,(r1:252445,r...</td>\n",
       "      <td>1.376856e+06</td>\n",
       "    </tr>\n",
       "  </tbody>\n",
       "</table>\n",
       "</div>"
      ],
      "text/plain": [
       "         starts         stops        lengths  num_to_coal     ne  \\\n",
       "0  3.105940e+05  5.113543e+05  200760.268966            2  67549   \n",
       "1  5.113543e+05  7.434806e+05  232126.246340            2  67549   \n",
       "2  7.434806e+05  7.629566e+05   19476.057159            4   1457   \n",
       "3  7.629566e+05  9.030085e+05  140051.891918            3   1457   \n",
       "4  9.030085e+05  1.000000e+06   96991.492799            3   1457   \n",
       "5  1.000000e+06  1.154319e+06  154318.777731            5  44886   \n",
       "6  1.154319e+06  1.161669e+06    7350.381479            4  44886   \n",
       "7  1.161669e+06  1.314291e+06  152621.463515            3  44886   \n",
       "8  1.314291e+06  1.439421e+06  125130.633044            2  44886   \n",
       "\n",
       "                 reduced_trees          mids  \n",
       "0  ((r0:310594,(r1:252445,r...  4.109742e+05  \n",
       "1  ((r0:310594,(r1:252445,r...  6.274174e+05  \n",
       "2  ((r0:310594,(r1:252445,r...  7.532186e+05  \n",
       "3  ((r0:310594,(r1:252445,r...  8.329826e+05  \n",
       "4  ((r0:310594,(r1:252445,r...  9.515043e+05  \n",
       "5  ((r0:310594,(r1:252445,r...  1.077159e+06  \n",
       "6  ((r0:310594,(r1:252445,r...  1.157994e+06  \n",
       "7  ((r0:310594,(r1:252445,r...  1.237980e+06  \n",
       "8  ((r0:310594,(r1:252445,r...  1.376856e+06  "
      ]
     },
     "execution_count": 20,
     "metadata": {},
     "output_type": "execute_result"
    }
   ],
   "source": [
    "df"
   ]
  },
  {
   "cell_type": "code",
   "execution_count": 19,
   "id": "0fcecc8a",
   "metadata": {
    "scrolled": false
   },
   "outputs": [
    {
     "data": {
      "text/plain": [
       "140051.89191785455"
      ]
     },
     "execution_count": 19,
     "metadata": {},
     "output_type": "execute_result"
    }
   ],
   "source": [
    "get_length_idx(4, df)"
   ]
  },
  {
   "cell_type": "code",
   "execution_count": 35,
   "id": "b89a6ff4",
   "metadata": {},
   "outputs": [],
   "source": [
    "for i in range(5,5):\n",
    "    print(i)"
   ]
  },
  {
   "cell_type": "code",
   "execution_count": 61,
   "id": "e2ab77a1",
   "metadata": {},
   "outputs": [],
   "source": [
    "def get_pij(interval_index, j, df):\n",
    "    curri = get_i_idx(interval_index, df)\n",
    "    currsigma = get_sigma_idx(interval_index, df)\n",
    "    currj = get_i_idx(j, df)\n",
    "    currjsigma = get_sigma_idx(j,df)\n",
    "    currjlen = get_length_idx(j, df)\n",
    "    \n",
    "    mult = -curri*currsigma\n",
    "    \n",
    "    \n",
    "    \n",
    "    m = interval_index + 1\n",
    "    summation = 0\n",
    "    if (j-1) >= m:\n",
    "        for _iter_ in range(m,j): # j-1 in math, but to j here because python range is not inclusive\n",
    "            tempi = get_i_idx(_iter_, df)\n",
    "            #tempsig = get_sigma_idx(_iter_, df)\n",
    "            templen = get_length_idx(_iter_, df)\n",
    "            tempprod = tempi*templen\n",
    "            summation += tempprod\n",
    "    \n",
    "    #return(mult,summation)\n",
    "    exp_portion = np.exp(mult - summation)\n",
    "    \n",
    "    numer = 1-np.exp(-currj*currjlen)\n",
    "    denom = 1/currj\n",
    "    \n",
    "    return(exp_portion * numer * denom)\n",
    "    "
   ]
  },
  {
   "cell_type": "code",
   "execution_count": 50,
   "id": "c152a039",
   "metadata": {},
   "outputs": [],
   "source": [
    "def get_pii(interval_index, df):\n",
    "    curri = get_i_idx(interval_index, df)\n",
    "    currsigma = get_sigma_idx(interval_index, df)\n",
    "    \n",
    "    return (-1 * (1/curri) * np.exp(-1*curri*currsigma))"
   ]
  },
  {
   "cell_type": "markdown",
   "id": "e9ed6cc7",
   "metadata": {},
   "source": [
    "### Prob of tree unchanged given time, branch, and topology"
   ]
  },
  {
   "cell_type": "code",
   "execution_count": 45,
   "id": "f9130be9",
   "metadata": {},
   "outputs": [],
   "source": [
    "t = 311000"
   ]
  },
  {
   "cell_type": "code",
   "execution_count": 56,
   "id": "51942483",
   "metadata": {},
   "outputs": [
    {
     "data": {
      "text/plain": [
       "1"
      ]
     },
     "execution_count": 56,
     "metadata": {},
     "output_type": "execute_result"
    }
   ],
   "source": [
    "interval_idx_at_t = np.sum(df.starts < t)\n",
    "interval_idx_at_t"
   ]
  },
  {
   "cell_type": "code",
   "execution_count": 64,
   "id": "81555fbf",
   "metadata": {},
   "outputs": [
    {
     "data": {
      "text/plain": [
       "70739.29594656517"
      ]
     },
     "execution_count": 64,
     "metadata": {},
     "output_type": "execute_result"
    }
   ],
   "source": [
    "i_at_t = get_i_idx(interval_idx_at_t,df)\n",
    "\n",
    "pij_sum = 0\n",
    "for j in range(interval_idx_at_t,len(df)+1):\n",
    "    pij_sum += get_pij(interval_idx_at_t,j,df)\n",
    "\n",
    "1/i_at_t + np.exp(i_at_t * t)*(get_pii(interval_idx_at_t,df) + pij_sum)"
   ]
  },
  {
   "cell_type": "code",
   "execution_count": 54,
   "id": "3d8122a1",
   "metadata": {},
   "outputs": [
    {
     "data": {
      "text/plain": [
       "0"
      ]
     },
     "execution_count": 54,
     "metadata": {},
     "output_type": "execute_result"
    }
   ],
   "source": [
    "interval_idx_at_t"
   ]
  },
  {
   "cell_type": "code",
   "execution_count": 62,
   "id": "34f53428",
   "metadata": {},
   "outputs": [],
   "source": [
    "pij_sum = 0\n",
    "for j in range(interval_idx_at_t,len(df)+1):\n",
    "    pij_sum += get_pij(interval_idx_at_t,j,df)"
   ]
  },
  {
   "cell_type": "code",
   "execution_count": 63,
   "id": "5a820122",
   "metadata": {},
   "outputs": [
    {
     "data": {
      "text/plain": [
       "66.76841842192805"
      ]
     },
     "execution_count": 63,
     "metadata": {},
     "output_type": "execute_result"
    }
   ],
   "source": [
    "pij_sum"
   ]
  },
  {
   "cell_type": "code",
   "execution_count": 58,
   "id": "59d6d91e",
   "metadata": {},
   "outputs": [
    {
     "data": {
      "text/plain": [
       "-3479.172134404753"
      ]
     },
     "execution_count": 58,
     "metadata": {},
     "output_type": "execute_result"
    }
   ],
   "source": [
    "np.exp(i_at_t * t)*get_pii(interval_idx_at_t,df)"
   ]
  },
  {
   "cell_type": "code",
   "execution_count": null,
   "id": "1ca6067e",
   "metadata": {},
   "outputs": [],
   "source": []
  },
  {
   "cell_type": "code",
   "execution_count": null,
   "id": "9a0e0f05",
   "metadata": {},
   "outputs": [],
   "source": []
  },
  {
   "cell_type": "code",
   "execution_count": 36,
   "id": "de4b42e7",
   "metadata": {},
   "outputs": [
    {
     "data": {
      "text/plain": [
       "-0.05851617415242709"
      ]
     },
     "execution_count": 36,
     "metadata": {},
     "output_type": "execute_result"
    }
   ],
   "source": [
    "get_pii(4, df)"
   ]
  },
  {
   "cell_type": "code",
   "execution_count": 21,
   "id": "a5c94597",
   "metadata": {},
   "outputs": [
    {
     "data": {
      "text/plain": [
       "4.558051341890315e-05"
      ]
     },
     "execution_count": 21,
     "metadata": {},
     "output_type": "execute_result"
    }
   ],
   "source": [
    "get_i_idx(5,df)"
   ]
  },
  {
   "cell_type": "markdown",
   "id": "312597ea",
   "metadata": {},
   "source": [
    "Start with getting the total branch length for the outside of the equation..."
   ]
  },
  {
   "cell_type": "code",
   "execution_count": 24,
   "id": "d7f52aa8",
   "metadata": {},
   "outputs": [],
   "source": [
    "outside_term_b = 1/mybranch.dist"
   ]
  },
  {
   "cell_type": "code",
   "execution_count": 25,
   "id": "f317f183",
   "metadata": {},
   "outputs": [
    {
     "data": {
      "text/plain": [
       "8.858751707321883e-07"
      ]
     },
     "execution_count": 25,
     "metadata": {},
     "output_type": "execute_result"
    }
   ],
   "source": [
    "outside_term_b"
   ]
  },
  {
   "cell_type": "code",
   "execution_count": 26,
   "id": "0703c93b",
   "metadata": {},
   "outputs": [],
   "source": [
    "kb = len(df)"
   ]
  },
  {
   "cell_type": "code",
   "execution_count": 27,
   "id": "dff66a80",
   "metadata": {},
   "outputs": [
    {
     "ename": "SyntaxError",
     "evalue": "unexpected EOF while parsing (2446594651.py, line 1)",
     "output_type": "error",
     "traceback": [
      "\u001b[0;36m  File \u001b[0;32m\"/tmp/ipykernel_15121/2446594651.py\"\u001b[0;36m, line \u001b[0;32m1\u001b[0m\n\u001b[0;31m    for i in range(kb):\u001b[0m\n\u001b[0m                       ^\u001b[0m\n\u001b[0;31mSyntaxError\u001b[0m\u001b[0;31m:\u001b[0m unexpected EOF while parsing\n"
     ]
    }
   ],
   "source": [
    "for xt in range(1,kb+1):\n",
    "    "
   ]
  },
  {
   "cell_type": "code",
   "execution_count": null,
   "id": "56675ab7",
   "metadata": {},
   "outputs": [],
   "source": [
    "for i in range()"
   ]
  }
 ],
 "metadata": {
  "kernelspec": {
   "display_name": "Python 3 (ipykernel)",
   "language": "python",
   "name": "python3"
  },
  "language_info": {
   "codemirror_mode": {
    "name": "ipython",
    "version": 3
   },
   "file_extension": ".py",
   "mimetype": "text/x-python",
   "name": "python",
   "nbconvert_exporter": "python",
   "pygments_lexer": "ipython3",
   "version": "3.8.5"
  }
 },
 "nbformat": 4,
 "nbformat_minor": 5
}
