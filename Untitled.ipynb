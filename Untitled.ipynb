{
 "cells": [
  {
   "cell_type": "code",
   "execution_count": 572,
   "metadata": {},
   "outputs": [],
   "source": [
    "import ipcoal\n",
    "import toytree\n",
    "import numpy as np\n",
    "import pandas as pd\n",
    "from copy import deepcopy\n",
    "from tqdm.notebook import tqdm\n",
    "\n",
    "def in_nested_list(my_list, item):\n",
    "    \"\"\"\n",
    "    Determines if an item is in my_list, even if nested in a lower-level list.\n",
    "    \"\"\"\n",
    "    if item in my_list:\n",
    "        return True\n",
    "    else:\n",
    "        return any(in_nested_list(sublist, item) for sublist in my_list if isinstance(sublist, list))"
   ]
  },
  {
   "cell_type": "code",
   "execution_count": 122,
   "metadata": {},
   "outputs": [
    {
     "data": {
      "text/html": [
       "<div class=\"toyplot\" id=\"tbe08f7df20be4cd396c6396493079836\" style=\"text-align:center\"><svg class=\"toyplot-canvas-Canvas\" height=\"275.0px\" id=\"ta0e2ce96d504444cb3b9abed009fd647\" preserveAspectRatio=\"xMidYMid meet\" style=\"background-color:transparent;border-color:#292724;border-style:none;border-width:1.0;fill:rgb(16.1%,15.3%,14.1%);fill-opacity:1.0;font-family:Helvetica;font-size:12px;opacity:1.0;stroke:rgb(16.1%,15.3%,14.1%);stroke-opacity:1.0;stroke-width:1.0\" viewBox=\"0 0 260.0 275.0\" width=\"260.0px\" xmlns=\"http://www.w3.org/2000/svg\" xmlns:toyplot=\"http://www.sandia.gov/toyplot\" xmlns:xlink=\"http://www.w3.org/1999/xlink\"><g class=\"toyplot-coordinates-Cartesian\" id=\"te29e971cf54049ee82e8af23c932bb61\"><clipPath id=\"tbdbaa9c2cfaa4d778de2e909b18fd7da\"><rect height=\"215.0\" width=\"200.0\" x=\"30.0\" y=\"30.0\"></rect></clipPath><g clip-path=\"url(#tbdbaa9c2cfaa4d778de2e909b18fd7da)\"><g class=\"toytree-mark-Toytree\" id=\"t9a2d8bd9bdba46deb9662571e3cc2011\"><g class=\"toytree-Edges\" style=\"fill:none;stroke:rgb(14.9%,14.9%,14.9%);stroke-linecap:round;stroke-opacity:1;stroke-width:2\"><path d=\"M 51.8 108.8 L 51.8 156.6 L 60.6 156.6\" id=\"8,7\"></path><path d=\"M 60.6 156.6 L 60.6 118.4 L 143.6 118.4\" id=\"7,6\"></path><path d=\"M 60.6 156.6 L 60.6 194.9 L 115.5 194.9\" id=\"7,5\"></path><path d=\"M 51.8 108.8 L 51.8 61.0 L 193.5 61.0\" id=\"8,4\"></path><path d=\"M 143.6 118.4 L 143.6 99.3 L 193.5 99.3\" id=\"6,3\"></path><path d=\"M 143.6 118.4 L 143.6 137.5 L 193.5 137.5\" id=\"6,2\"></path><path d=\"M 115.5 194.9 L 115.5 175.7 L 193.5 175.7\" id=\"5,1\"></path><path d=\"M 115.5 194.9 L 115.5 214.0 L 193.5 214.0\" id=\"5,0\"></path></g><g class=\"toytree-TipLabels\" style=\"fill:rgb(14.9%,14.9%,14.9%);fill-opacity:1.0;font-family:helvetica;font-size:11px;font-weight:normal;stroke:none;white-space:pre\"><g transform=\"translate(193.47,213.99)rotate(0)\"><text style=\"\" x=\"15.00\" y=\"2.81\">r0</text></g><g transform=\"translate(193.47,175.74)rotate(0)\"><text style=\"\" x=\"15.00\" y=\"2.81\">r1</text></g><g transform=\"translate(193.47,137.50)rotate(0)\"><text style=\"\" x=\"15.00\" y=\"2.81\">r2</text></g><g transform=\"translate(193.47,99.26)rotate(0)\"><text style=\"\" x=\"15.00\" y=\"2.81\">r3</text></g><g transform=\"translate(193.47,61.01)rotate(0)\"><text style=\"\" x=\"15.00\" y=\"2.81\">r4</text></g></g></g></g></g></svg><div class=\"toyplot-behavior\"><script>(function()\n",
       "{\n",
       "var modules={};\n",
       "})();</script></div></div>"
      ]
     },
     "metadata": {},
     "output_type": "display_data"
    }
   ],
   "source": [
    "t = toytree.rtree.coaltree(5,1000000,seed=12345)\n",
    "t.draw();"
   ]
  },
  {
   "cell_type": "code",
   "execution_count": 12,
   "metadata": {},
   "outputs": [
    {
     "data": {
      "text/html": [
       "<div class=\"toyplot\" id=\"t184843d32ef441c7b7859b7aae9ee525\" style=\"text-align:center\"><svg class=\"toyplot-canvas-Canvas\" height=\"275.0px\" id=\"t4637933f37044b609675cdfeec52032e\" preserveAspectRatio=\"xMidYMid meet\" style=\"background-color:transparent;border-color:#292724;border-style:none;border-width:1.0;fill:rgb(16.1%,15.3%,14.1%);fill-opacity:1.0;font-family:Helvetica;font-size:12px;opacity:1.0;stroke:rgb(16.1%,15.3%,14.1%);stroke-opacity:1.0;stroke-width:1.0\" viewBox=\"0 0 260.0 275.0\" width=\"260.0px\" xmlns=\"http://www.w3.org/2000/svg\" xmlns:toyplot=\"http://www.sandia.gov/toyplot\" xmlns:xlink=\"http://www.w3.org/1999/xlink\"><g class=\"toyplot-coordinates-Cartesian\" id=\"tcbdca06d91fb4c65ac9acaa075011102\"><clipPath id=\"t2b2120c99632417b97e415677b4aca60\"><rect height=\"215.0\" width=\"200.0\" x=\"30.0\" y=\"30.0\"></rect></clipPath><g clip-path=\"url(#t2b2120c99632417b97e415677b4aca60)\"><g class=\"toytree-mark-Toytree\" id=\"t4cbbb97037a6483fb56ab76dd3f5f2ef\"><g class=\"toytree-Edges\" style=\"fill:none;stroke:rgb(14.9%,14.9%,14.9%);stroke-linecap:round;stroke-opacity:1;stroke-width:2\"><path d=\"M 62.4 109.5 L 62.4 156.2 L 106.5 156.2\" id=\"8,7\"></path><path d=\"M 106.5 156.2 L 106.5 118.8 L 150.5 118.8\" id=\"7,6\"></path><path d=\"M 106.5 156.2 L 106.5 193.5 L 150.5 193.5\" id=\"7,5\"></path><path d=\"M 62.4 109.5 L 62.4 62.8 L 194.6 62.8\" id=\"8,4\"></path><path d=\"M 150.5 118.8 L 150.5 100.2 L 194.6 100.2\" id=\"6,3\"></path><path d=\"M 150.5 118.8 L 150.5 137.5 L 194.6 137.5\" id=\"6,2\"></path><path d=\"M 150.5 193.5 L 150.5 174.8 L 194.6 174.8\" id=\"5,1\"></path><path d=\"M 150.5 193.5 L 150.5 212.2 L 194.6 212.2\" id=\"5,0\"></path></g><g class=\"toytree-Nodes\" style=\"fill:rgb(82.7%,82.7%,82.7%);fill-opacity:1.0;stroke:rgb(14.9%,14.9%,14.9%);stroke-opacity:1.0;stroke-width:1.5\"><g id=\"node-0\" transform=\"translate(194.577,212.195)\"><circle r=\"7.5\"></circle></g><g id=\"node-1\" transform=\"translate(194.577,174.848)\"><circle r=\"7.5\"></circle></g><g id=\"node-2\" transform=\"translate(194.577,137.500)\"><circle r=\"7.5\"></circle></g><g id=\"node-3\" transform=\"translate(194.577,100.152)\"><circle r=\"7.5\"></circle></g><g id=\"node-4\" transform=\"translate(194.577,62.805)\"><circle r=\"7.5\"></circle></g><g id=\"node-5\" transform=\"translate(150.515,193.521)\"><circle r=\"7.5\"></circle></g><g id=\"node-6\" transform=\"translate(150.515,118.826)\"><circle r=\"7.5\"></circle></g><g id=\"node-7\" transform=\"translate(106.454,156.174)\"><circle r=\"7.5\"></circle></g><g id=\"node-8\" transform=\"translate(62.392,109.489)\"><circle r=\"7.5\"></circle></g></g><g class=\"toytree-NodeLabels\" style=\"fill:rgb(14.9%,14.9%,14.9%);fill-opacity:1.0;font-size:9px;stroke:none\"><g transform=\"translate(192.07,214.49)\"><text>0</text></g><g transform=\"translate(192.07,177.15)\"><text>1</text></g><g transform=\"translate(192.07,139.80)\"><text>2</text></g><g transform=\"translate(192.07,102.45)\"><text>3</text></g><g transform=\"translate(192.07,65.10)\"><text>4</text></g><g transform=\"translate(148.01,195.82)\"><text>5</text></g><g transform=\"translate(148.01,121.13)\"><text>6</text></g><g transform=\"translate(103.95,158.47)\"><text>7</text></g><g transform=\"translate(59.89,111.79)\"><text>8</text></g></g><g class=\"toytree-TipLabels\" style=\"fill:rgb(14.9%,14.9%,14.9%);fill-opacity:1.0;font-family:helvetica;font-size:11px;font-weight:normal;stroke:none;white-space:pre\"><g transform=\"translate(194.58,212.20)rotate(0)\"><text style=\"\" x=\"15.00\" y=\"2.81\">r0</text></g><g transform=\"translate(194.58,174.85)rotate(0)\"><text style=\"\" x=\"15.00\" y=\"2.81\">r1</text></g><g transform=\"translate(194.58,137.50)rotate(0)\"><text style=\"\" x=\"15.00\" y=\"2.81\">r2</text></g><g transform=\"translate(194.58,100.15)rotate(0)\"><text style=\"\" x=\"15.00\" y=\"2.81\">r3</text></g><g transform=\"translate(194.58,62.80)rotate(0)\"><text style=\"\" x=\"15.00\" y=\"2.81\">r4</text></g></g></g></g></g></svg><div class=\"toyplot-behavior\"><script>(function()\n",
       "{\n",
       "var modules={};\n",
       "})();</script></div></div>"
      ]
     },
     "metadata": {},
     "output_type": "display_data"
    }
   ],
   "source": [
    "t.draw(ts='s');"
   ]
  },
  {
   "cell_type": "code",
   "execution_count": 123,
   "metadata": {},
   "outputs": [],
   "source": [
    "t = t.set_node_values(\"Ne\",values={0:10000, \n",
    "                               1:300000,\n",
    "                               2:200000,\n",
    "                               3:100,\n",
    "                               4:80000,\n",
    "                               5:75000,\n",
    "                               6:100000,\n",
    "                               7:600000,\n",
    "                               8:200000,\n",
    "                              },default=100)"
   ]
  },
  {
   "cell_type": "code",
   "execution_count": 25,
   "metadata": {},
   "outputs": [
    {
     "data": {
      "text/html": [
       "<div class=\"toyplot\" id=\"t2dcd5c1c90724a79b45c750c147f4240\" style=\"text-align:center\"><svg class=\"toyplot-canvas-Canvas\" height=\"260.0px\" id=\"tb859ccbb125c417c963e9a6a9767463d\" preserveAspectRatio=\"xMidYMid meet\" style=\"background-color:transparent;border-color:#292724;border-style:none;border-width:1.0;fill:rgb(16.1%,15.3%,14.1%);fill-opacity:1.0;font-family:Helvetica;font-size:12px;opacity:1.0;stroke:rgb(16.1%,15.3%,14.1%);stroke-opacity:1.0;stroke-width:1.0\" viewBox=\"0 0 350.0 260.0\" width=\"350.0px\" xmlns=\"http://www.w3.org/2000/svg\" xmlns:toyplot=\"http://www.sandia.gov/toyplot\" xmlns:xlink=\"http://www.w3.org/1999/xlink\"><g class=\"toyplot-coordinates-Cartesian\" id=\"t4f5c38af446b4749bcaecaff9d7143b8\"><clipPath id=\"t8d8839db49664b79af2a2d2e7dd2647a\"><rect height=\"200.0\" width=\"290.0\" x=\"30.0\" y=\"30.0\"></rect></clipPath><g clip-path=\"url(#t8d8839db49664b79af2a2d2e7dd2647a)\"><g class=\"toytree-mark-Toytree\" id=\"tdffe760291ee4a8490ac3011d06b09f6\"><g class=\"toytree-Edges\" style=\"fill:none;stroke:rgb(14.9%,14.9%,14.9%);stroke-linecap:round;stroke-opacity:1;stroke-width:2\"><path d=\"M 133.1 202.8 L 202.9 198.1\" id=\"8,7\" style=\"stroke-width:12.0\"></path><path d=\"M 202.9 198.1 L 147.1 153.3\" id=\"7,6\" style=\"stroke-width:3.111111111111111\"></path><path d=\"M 202.9 198.1 L 258.7 168.5\" id=\"7,5\" style=\"stroke-width:3.111111111111111\"></path><path d=\"M 133.1 202.8 L 63.4 126.4\" id=\"8,4\" style=\"stroke-width:3.111111111111111\"></path><path d=\"M 147.1 153.3 L 119.2 126.4\" id=\"6,3\" style=\"stroke-width:2.0\"></path><path d=\"M 147.1 153.3 L 175.0 126.4\" id=\"6,2\" style=\"stroke-width:5.333333333333334\"></path><path d=\"M 258.7 168.5 L 230.8 126.4\" id=\"5,1\" style=\"stroke-width:6.444444444444445\"></path><path d=\"M 258.7 168.5 L 286.6 126.4\" id=\"5,0\" style=\"stroke-width:2.0\"></path></g><g class=\"toytree-Nodes\" style=\"fill:rgb(40%,76.1%,64.7%);fill-opacity:1.0;stroke:rgb(14.9%,14.9%,14.9%);stroke-opacity:1.0;stroke-width:1\"><g id=\"node-0\" transform=\"translate(286.607,126.418)\"><circle r=\"7.5\"></circle></g><g id=\"node-1\" transform=\"translate(230.804,126.418)\"><circle r=\"7.5\"></circle></g><g id=\"node-2\" transform=\"translate(175.000,126.418)\"><circle r=\"7.5\"></circle></g><g id=\"node-3\" transform=\"translate(119.196,126.418)\"><circle r=\"7.5\"></circle></g><g id=\"node-4\" transform=\"translate(63.393,126.418)\"><circle r=\"7.5\"></circle></g><g id=\"node-5\" transform=\"translate(258.705,168.466)\"><circle r=\"7.5\"></circle></g><g id=\"node-6\" transform=\"translate(147.098,153.287)\"><circle r=\"7.5\"></circle></g><g id=\"node-7\" transform=\"translate(202.902,198.097)\"><circle r=\"7.5\"></circle></g><g id=\"node-8\" transform=\"translate(133.147,202.836)\"><circle r=\"7.5\"></circle></g></g><g class=\"toytree-NodeLabels\" style=\"fill:rgb(14.9%,14.9%,14.9%);fill-opacity:1.0;font-size:9px;stroke:none\"><g transform=\"translate(284.11,128.72)\"><text>0</text></g><g transform=\"translate(228.30,128.72)\"><text>1</text></g><g transform=\"translate(172.50,128.72)\"><text>2</text></g><g transform=\"translate(116.69,128.72)\"><text>3</text></g><g transform=\"translate(60.89,128.72)\"><text>4</text></g><g transform=\"translate(256.20,170.77)\"><text>5</text></g><g transform=\"translate(144.60,155.59)\"><text>6</text></g><g transform=\"translate(200.40,200.40)\"><text>7</text></g><g transform=\"translate(130.65,205.14)\"><text>8</text></g></g><g class=\"toytree-TipLabels\" style=\"fill:rgb(14.9%,14.9%,14.9%);fill-opacity:1.0;font-family:helvetica;font-size:11px;font-weight:normal;stroke:none;white-space:pre\"><g transform=\"translate(286.61,126.42)rotate(-90)\"><text style=\"\" x=\"-24.78\" y=\"2.81\">r0</text></g><g transform=\"translate(230.80,126.42)rotate(-90)\"><text style=\"\" x=\"-24.78\" y=\"2.81\">r1</text></g><g transform=\"translate(175.00,126.42)rotate(-90)\"><text style=\"\" x=\"-24.78\" y=\"2.81\">r2</text></g><g transform=\"translate(119.20,126.42)rotate(-90)\"><text style=\"\" x=\"-24.78\" y=\"2.81\">r3</text></g><g transform=\"translate(63.39,126.42)rotate(-90)\"><text style=\"\" x=\"-24.78\" y=\"2.81\">r4</text></g></g></g></g><g class=\"toyplot-coordinates-Axis\" id=\"t3511bed923bf4b65911708e53a5f3aba\" transform=\"translate(50.0,210.0)rotate(-90.0)translate(0,-20.0)\"><line style=\"\" x1=\"7.164179104477611\" x2=\"83.5820895522388\" y1=\"0\" y2=\"0\"></line><g><line style=\"\" x1=\"83.5820895522388\" x2=\"83.5820895522388\" y1=\"0\" y2=\"5\"></line><line style=\"\" x1=\"121.7910447761194\" x2=\"121.7910447761194\" y1=\"0\" y2=\"5\"></line><line style=\"\" x1=\"160.0\" x2=\"160.0\" y1=\"0\" y2=\"5\"></line></g><g><g transform=\"translate(83.5820895522388,-6)\"><text style=\"fill:rgb(16.1%,15.3%,14.1%);fill-opacity:1.0;font-family:helvetica;font-size:10.0px;font-weight:normal;stroke:none;vertical-align:baseline;white-space:pre\" x=\"-2.78\" y=\"-4.440892098500626e-16\">0</text></g><g transform=\"translate(121.7910447761194,-6)\"><text style=\"fill:rgb(16.1%,15.3%,14.1%);fill-opacity:1.0;font-family:helvetica;font-size:10.0px;font-weight:normal;stroke:none;vertical-align:baseline;white-space:pre\" x=\"-16.68\" y=\"-4.440892098500626e-16\">487980</text></g><g transform=\"translate(160.0,-6)\"><text style=\"fill:rgb(16.1%,15.3%,14.1%);fill-opacity:1.0;font-family:helvetica;font-size:10.0px;font-weight:normal;stroke:none;vertical-align:baseline;white-space:pre\" x=\"-16.68\" y=\"-4.440892098500626e-16\">975960</text></g></g><g class=\"toyplot-coordinates-Axis-coordinates\" style=\"visibility:hidden\" transform=\"\"><line style=\"stroke:rgb(43.9%,50.2%,56.5%);stroke-opacity:1.0;stroke-width:1.0\" x1=\"0\" x2=\"0\" y1=\"3.0\" y2=\"-4.5\"></line><text style=\"alignment-baseline:hanging;fill:rgb(43.9%,50.2%,56.5%);fill-opacity:1.0;font-size:10px;font-weight:normal;stroke:none;text-anchor:middle\" x=\"0\" y=\"6\"></text></g></g></g></svg><div class=\"toyplot-behavior\"><script>(function()\n",
       "{\n",
       "var modules={};\n",
       "modules[\"toyplot/canvas/id\"] = \"tb859ccbb125c417c963e9a6a9767463d\";\n",
       "modules[\"toyplot/canvas\"] = (function(canvas_id)\n",
       "    {\n",
       "        return document.querySelector(\"#\" + canvas_id);\n",
       "    })(modules[\"toyplot/canvas/id\"]);\n",
       "modules[\"toyplot.coordinates.Axis\"] = (\n",
       "        function(canvas)\n",
       "        {\n",
       "            function sign(x)\n",
       "            {\n",
       "                return x < 0 ? -1 : x > 0 ? 1 : 0;\n",
       "            }\n",
       "\n",
       "            function mix(a, b, amount)\n",
       "            {\n",
       "                return ((1.0 - amount) * a) + (amount * b);\n",
       "            }\n",
       "\n",
       "            function log(x, base)\n",
       "            {\n",
       "                return Math.log(Math.abs(x)) / Math.log(base);\n",
       "            }\n",
       "\n",
       "            function in_range(a, x, b)\n",
       "            {\n",
       "                var left = Math.min(a, b);\n",
       "                var right = Math.max(a, b);\n",
       "                return left <= x && x <= right;\n",
       "            }\n",
       "\n",
       "            function inside(range, projection)\n",
       "            {\n",
       "                for(var i = 0; i != projection.length; ++i)\n",
       "                {\n",
       "                    var segment = projection[i];\n",
       "                    if(in_range(segment.range.min, range, segment.range.max))\n",
       "                        return true;\n",
       "                }\n",
       "                return false;\n",
       "            }\n",
       "\n",
       "            function to_domain(range, projection)\n",
       "            {\n",
       "                for(var i = 0; i != projection.length; ++i)\n",
       "                {\n",
       "                    var segment = projection[i];\n",
       "                    if(in_range(segment.range.bounds.min, range, segment.range.bounds.max))\n",
       "                    {\n",
       "                        if(segment.scale == \"linear\")\n",
       "                        {\n",
       "                            var amount = (range - segment.range.min) / (segment.range.max - segment.range.min);\n",
       "                            return mix(segment.domain.min, segment.domain.max, amount)\n",
       "                        }\n",
       "                        else if(segment.scale[0] == \"log\")\n",
       "                        {\n",
       "                            var amount = (range - segment.range.min) / (segment.range.max - segment.range.min);\n",
       "                            var base = segment.scale[1];\n",
       "                            return sign(segment.domain.min) * Math.pow(base, mix(log(segment.domain.min, base), log(segment.domain.max, base), amount));\n",
       "                        }\n",
       "                    }\n",
       "                }\n",
       "            }\n",
       "\n",
       "            var axes = {};\n",
       "\n",
       "            function display_coordinates(e)\n",
       "            {\n",
       "                var current = canvas.createSVGPoint();\n",
       "                current.x = e.clientX;\n",
       "                current.y = e.clientY;\n",
       "\n",
       "                for(var axis_id in axes)\n",
       "                {\n",
       "                    var axis = document.querySelector(\"#\" + axis_id);\n",
       "                    var coordinates = axis.querySelector(\".toyplot-coordinates-Axis-coordinates\");\n",
       "                    if(coordinates)\n",
       "                    {\n",
       "                        var projection = axes[axis_id];\n",
       "                        var local = current.matrixTransform(axis.getScreenCTM().inverse());\n",
       "                        if(inside(local.x, projection))\n",
       "                        {\n",
       "                            var domain = to_domain(local.x, projection);\n",
       "                            coordinates.style.visibility = \"visible\";\n",
       "                            coordinates.setAttribute(\"transform\", \"translate(\" + local.x + \")\");\n",
       "                            var text = coordinates.querySelector(\"text\");\n",
       "                            text.textContent = domain.toFixed(2);\n",
       "                        }\n",
       "                        else\n",
       "                        {\n",
       "                            coordinates.style.visibility= \"hidden\";\n",
       "                        }\n",
       "                    }\n",
       "                }\n",
       "            }\n",
       "\n",
       "            canvas.addEventListener(\"click\", display_coordinates);\n",
       "\n",
       "            var module = {};\n",
       "            module.show_coordinates = function(axis_id, projection)\n",
       "            {\n",
       "                axes[axis_id] = projection;\n",
       "            }\n",
       "\n",
       "            return module;\n",
       "        })(modules[\"toyplot/canvas\"]);\n",
       "(function(axis, axis_id, projection)\n",
       "        {\n",
       "            axis.show_coordinates(axis_id, projection);\n",
       "        })(modules[\"toyplot.coordinates.Axis\"],\"t3511bed923bf4b65911708e53a5f3aba\",[{\"domain\": {\"bounds\": {\"max\": Infinity, \"min\": -Infinity}, \"max\": 975960.0, \"min\": -1067456.25}, \"range\": {\"bounds\": {\"max\": Infinity, \"min\": -Infinity}, \"max\": 160.0, \"min\": 0.0}, \"scale\": \"linear\"}]);\n",
       "})();</script></div></div>"
      ]
     },
     "metadata": {},
     "output_type": "display_data"
    }
   ],
   "source": [
    "t.draw(ts='p');"
   ]
  },
  {
   "cell_type": "code",
   "execution_count": 96,
   "metadata": {},
   "outputs": [],
   "source": [
    "t=t.set_node_values(\"num_surviving\",default=0)\n",
    "t=t.set_node_values(\"num_entering\",default=0)"
   ]
  },
  {
   "cell_type": "code",
   "execution_count": 22,
   "metadata": {},
   "outputs": [],
   "source": [
    "gen = t.treenode.traverse(strategy='postorder')"
   ]
  },
  {
   "cell_type": "code",
   "execution_count": 75,
   "metadata": {},
   "outputs": [],
   "source": [
    "n = next(gen)"
   ]
  },
  {
   "cell_type": "code",
   "execution_count": 76,
   "metadata": {},
   "outputs": [
    {
     "name": "stdout",
     "output_type": "stream",
     "text": [
      "\n",
      "   /-r4\n",
      "  |\n",
      "--|      /-r3\n",
      "  |   /-|\n",
      "  |  |   \\-r2\n",
      "   \\-|\n",
      "     |   /-r1\n",
      "      \\-|\n",
      "         \\-r0\n"
     ]
    }
   ],
   "source": [
    "print(n)"
   ]
  },
  {
   "cell_type": "code",
   "execution_count": 78,
   "metadata": {},
   "outputs": [
    {
     "data": {
      "text/plain": [
       "1.0"
      ]
     },
     "execution_count": 78,
     "metadata": {},
     "output_type": "execute_result"
    }
   ],
   "source": [
    "n.dist"
   ]
  },
  {
   "cell_type": "code",
   "execution_count": 57,
   "metadata": {},
   "outputs": [],
   "source": [
    "import numpy as np"
   ]
  },
  {
   "cell_type": "code",
   "execution_count": 71,
   "metadata": {},
   "outputs": [
    {
     "data": {
      "text/plain": [
       "1469.5143332592438"
      ]
     },
     "execution_count": 71,
     "metadata": {},
     "output_type": "execute_result"
    }
   ],
   "source": [
    "n = 2\n",
    "np.random.exponential((4*1000) / (n*(n-1)))"
   ]
  },
  {
   "cell_type": "code",
   "execution_count": 74,
   "metadata": {
    "scrolled": true
   },
   "outputs": [
    {
     "name": "stdout",
     "output_type": "stream",
     "text": [
      "2\n"
     ]
    }
   ],
   "source": [
    "for i in range(2,1,-1):\n",
    "    print(i)"
   ]
  },
  {
   "cell_type": "code",
   "execution_count": 81,
   "metadata": {},
   "outputs": [
    {
     "data": {
      "text/plain": [
       "True"
      ]
     },
     "execution_count": 81,
     "metadata": {},
     "output_type": "execute_result"
    }
   ],
   "source": [
    "300000000 < np.inf"
   ]
  },
  {
   "cell_type": "code",
   "execution_count": 99,
   "metadata": {},
   "outputs": [],
   "source": [
    "blah = 2"
   ]
  },
  {
   "cell_type": "code",
   "execution_count": 100,
   "metadata": {},
   "outputs": [],
   "source": [
    "blah-=1"
   ]
  },
  {
   "cell_type": "code",
   "execution_count": 101,
   "metadata": {},
   "outputs": [
    {
     "data": {
      "text/plain": [
       "1"
      ]
     },
     "execution_count": 101,
     "metadata": {},
     "output_type": "execute_result"
    }
   ],
   "source": [
    "blah"
   ]
  },
  {
   "cell_type": "code",
   "execution_count": 128,
   "metadata": {},
   "outputs": [
    {
     "data": {
      "text/plain": [
       "4366.415428623027"
      ]
     },
     "execution_count": 128,
     "metadata": {},
     "output_type": "execute_result"
    }
   ],
   "source": [
    "np.random.exponential((4*n.Ne) / (coal*(coal-1)))"
   ]
  },
  {
   "cell_type": "code",
   "execution_count": 129,
   "metadata": {
    "scrolled": true
   },
   "outputs": [
    {
     "data": {
      "text/plain": [
       "0"
      ]
     },
     "execution_count": 129,
     "metadata": {},
     "output_type": "execute_result"
    }
   ],
   "source": [
    "wait"
   ]
  },
  {
   "cell_type": "code",
   "execution_count": 496,
   "metadata": {},
   "outputs": [],
   "source": [
    "def get_coalescences_from_sptree(t):\n",
    "    t=t.set_node_values(\"num_surviving\",default=0)\n",
    "    t=t.set_node_values(\"num_entering\",default=0)\n",
    "\n",
    "    nodes = []\n",
    "    coalescence_times = []\n",
    "    for n in t.treenode.traverse(strategy='postorder'):\n",
    "        if n.is_leaf():\n",
    "            n.num_suriving = 1\n",
    "            n.up.num_entering += 1\n",
    "        elif not n.is_root():\n",
    "            currNe = n.Ne\n",
    "            edgecoaltimes = []\n",
    "            wait = 0\n",
    "            for coal in range(n.num_entering,1,-1):\n",
    "                wait = wait + np.random.exponential((4*n.Ne) / (coal*(coal-1)))\n",
    "                edgecoaltimes.append(wait)\n",
    "            edgecoaltimes = np.array(edgecoaltimes)\n",
    "            num_coals = np.sum(edgecoaltimes < n.dist)\n",
    "            n.num_surviving = n.num_entering - num_coals\n",
    "            for added in edgecoaltimes[edgecoaltimes < n.dist]:\n",
    "                nodes.append(n.idx)\n",
    "                coalescence_times.append(added + n.height)\n",
    "            n.up.num_entering += n.num_surviving\n",
    "        else:\n",
    "            currNe = n.Ne\n",
    "            edgecoaltimes = []\n",
    "            wait = 0\n",
    "            for coal in range(n.num_entering,1,-1):\n",
    "                wait = wait + np.random.exponential((4*n.Ne) / (coal*(coal-1)))\n",
    "                edgecoaltimes.append(wait)\n",
    "            edgecoaltimes = np.array(edgecoaltimes)\n",
    "            num_coals = np.sum(edgecoaltimes < np.inf)\n",
    "            n.num_surviving = n.num_entering - num_coals\n",
    "            for added in edgecoaltimes[edgecoaltimes < np.inf]:\n",
    "                nodes.append(n.idx)\n",
    "                coalescence_times.append(added + n.height)\n",
    "\n",
    "    coalescence_times = np.array(coalescence_times)\n",
    "    nodes = np.array(nodes)\n",
    "\n",
    "    nodes = nodes[np.argsort(coalescence_times)]\n",
    "    coalescence_times = coalescence_times[np.argsort(coalescence_times)]\n",
    "    \n",
    "    return(nodes,coalescence_times)"
   ]
  },
  {
   "cell_type": "code",
   "execution_count": 149,
   "metadata": {},
   "outputs": [
    {
     "name": "stdout",
     "output_type": "stream",
     "text": [
      "\n",
      "   /-r3\n",
      "--|\n",
      "   \\-r2\n",
      "2\n",
      "1\n",
      "1\n",
      "\n",
      "   /-r1\n",
      "--|\n",
      "   \\-r0\n",
      "2\n",
      "0\n",
      "2\n",
      "\n",
      "      /-r3\n",
      "   /-|\n",
      "  |   \\-r2\n",
      "--|\n",
      "  |   /-r1\n",
      "   \\-|\n",
      "      \\-r0\n",
      "3\n",
      "0\n",
      "3\n",
      "\n",
      "   /-r4\n",
      "  |\n",
      "--|      /-r3\n",
      "  |   /-|\n",
      "  |  |   \\-r2\n",
      "   \\-|\n",
      "     |   /-r1\n",
      "      \\-|\n",
      "         \\-r0\n",
      "4\n",
      "3\n",
      "1\n"
     ]
    }
   ],
   "source": [
    "t=t.set_node_values(\"num_surviving\",default=0)\n",
    "t=t.set_node_values(\"num_entering\",default=0)\n",
    "\n",
    "nodes = []\n",
    "coalescence_times = []\n",
    "for n in t.treenode.traverse(strategy='postorder'):\n",
    "    if n.is_leaf():\n",
    "        n.num_suriving = 1\n",
    "        n.up.num_entering += 1\n",
    "    elif not n.is_root():\n",
    "        print(n)\n",
    "        print(n.num_entering)\n",
    "        currNe = n.Ne\n",
    "        edgecoaltimes = []\n",
    "        wait = 0\n",
    "        for coal in range(n.num_entering,1,-1):\n",
    "            wait = wait + np.random.exponential((4*n.Ne) / (coal*(coal-1)))\n",
    "            edgecoaltimes.append(wait)\n",
    "        edgecoaltimes = np.array(edgecoaltimes)\n",
    "        num_coals = np.sum(edgecoaltimes < n.dist)\n",
    "        print(num_coals)\n",
    "        n.num_surviving = n.num_entering - num_coals\n",
    "        for added in edgecoaltimes[edgecoaltimes < n.dist]:\n",
    "            nodes.append(n.idx)\n",
    "            coalescence_times.append(added + n.height)\n",
    "        print(n.num_surviving)\n",
    "        n.up.num_entering += n.num_surviving\n",
    "    else:\n",
    "        print(n)\n",
    "        print(n.num_entering)\n",
    "        currNe = n.Ne\n",
    "        edgecoaltimes = []\n",
    "        wait = 0\n",
    "        for coal in range(n.num_entering,1,-1):\n",
    "            wait = wait + np.random.exponential((4*n.Ne) / (coal*(coal-1)))\n",
    "            edgecoaltimes.append(wait)\n",
    "        edgecoaltimes = np.array(edgecoaltimes)\n",
    "        num_coals = np.sum(edgecoaltimes < np.inf)\n",
    "        print(num_coals)\n",
    "        n.num_surviving = n.num_entering - num_coals\n",
    "        for added in edgecoaltimes[edgecoaltimes < np.inf]:\n",
    "            nodes.append(n.idx)\n",
    "            coalescence_times.append(added + n.height)\n",
    "        print(n.num_surviving)\n",
    "        \n",
    "coalescence_times = np.array(coalescence_times)\n",
    "nodes = np.array(nodes)\n",
    "\n",
    "nodes = nodes[np.argsort(coalescence_times)]\n",
    "coalescence_times = coalescence_times[np.argsort(coalescence_times)]"
   ]
  },
  {
   "cell_type": "code",
   "execution_count": 551,
   "metadata": {},
   "outputs": [
    {
     "name": "stdout",
     "output_type": "stream",
     "text": [
      "[5 6 7 8]\n"
     ]
    }
   ],
   "source": [
    "coalnodes,coalescence_times = get_coalescences_from_sptree(t)\n",
    "print(nodes)"
   ]
  },
  {
   "cell_type": "code",
   "execution_count": 552,
   "metadata": {},
   "outputs": [
    {
     "name": "stdout",
     "output_type": "stream",
     "text": [
      "['r1', 'r0']\n",
      "['r3', 'r2']\n",
      "['r3', 'r2', 'r1', 'r0']\n",
      "['r4', 'r3', 'r2', 'r1', 'r0']\n"
     ]
    }
   ],
   "source": [
    "def build_genealogy_topology_from_coalescences(t,nodes,coalescence_times)\n",
    "    counter = 0\n",
    "    coal_clades = []\n",
    "    clade_recorder = []\n",
    "    for node in nodes:\n",
    "        tstn = t.treenode.search_nodes(idx=node)[0]\n",
    "        options = tstn.get_leaf_names()\n",
    "        print(options)\n",
    "        new_options = reconcile_options(coal_clades,options)\n",
    "        new_choices = [new_options[ch_idx] for ch_idx in np.random.choice(range(len(new_options)),2,replace=False)]\n",
    "        for ch in new_choices:\n",
    "            if ch in coal_clades:\n",
    "                coal_clades.remove(ch)\n",
    "        coal_clades.append(list(new_choices))\n",
    "        clade_recorder.append(new_choices)\n",
    "        counter += 1\n",
    "    strd = str(coal_clades)\n",
    "    genealogy = toytree.tree(strd.replace(\"[\",\"(\").replace(\"]\",\")\").replace(\"'\",\"\") + ';')"
   ]
  },
  {
   "cell_type": "code",
   "execution_count": 553,
   "metadata": {},
   "outputs": [
    {
     "data": {
      "text/plain": [
       "(<toyplot.canvas.Canvas at 0x133573b38>,\n",
       " <toyplot.coordinates.Cartesian at 0x133573c88>,\n",
       " <toytree.Render.ToytreeMark at 0x133a86fd0>)"
      ]
     },
     "execution_count": 553,
     "metadata": {},
     "output_type": "execute_result"
    },
    {
     "data": {
      "text/html": [
       "<div class=\"toyplot\" id=\"tadcbe326a72b449385674111813bee11\" style=\"text-align:center\"><svg class=\"toyplot-canvas-Canvas\" height=\"275.0px\" id=\"t30567be52e0d486a883663c09a63aad8\" preserveAspectRatio=\"xMidYMid meet\" style=\"background-color:transparent;border-color:#292724;border-style:none;border-width:1.0;fill:rgb(16.1%,15.3%,14.1%);fill-opacity:1.0;font-family:Helvetica;font-size:12px;opacity:1.0;stroke:rgb(16.1%,15.3%,14.1%);stroke-opacity:1.0;stroke-width:1.0\" viewBox=\"0 0 260.0 275.0\" width=\"260.0px\" xmlns=\"http://www.w3.org/2000/svg\" xmlns:toyplot=\"http://www.sandia.gov/toyplot\" xmlns:xlink=\"http://www.w3.org/1999/xlink\"><g class=\"toyplot-coordinates-Cartesian\" id=\"t9c4d36e54a5a4e6aa4a4e484182f28cd\"><clipPath id=\"tccec2f3882f244969764d7a774efcdb0\"><rect height=\"215.0\" width=\"200.0\" x=\"30.0\" y=\"30.0\"></rect></clipPath><g clip-path=\"url(#tccec2f3882f244969764d7a774efcdb0)\"><g class=\"toytree-mark-Toytree\" id=\"tb6124919c22843b5808b65569e00f2c1\"><g class=\"toytree-Edges\" style=\"fill:none;stroke:rgb(14.9%,14.9%,14.9%);stroke-linecap:round;stroke-opacity:1;stroke-width:2\"><path d=\"M 51.8 108.8 L 51.8 108.8 L 87.2 108.8\" id=\"9,8\"></path><path d=\"M 87.2 108.8 L 87.2 156.6 L 122.6 156.6\" id=\"8,7\"></path><path d=\"M 122.6 156.6 L 122.6 118.4 L 158.0 118.4\" id=\"7,6\"></path><path d=\"M 122.6 156.6 L 122.6 194.9 L 158.0 194.9\" id=\"7,5\"></path><path d=\"M 87.2 108.8 L 87.2 61.0 L 122.6 61.0\" id=\"8,4\"></path><path d=\"M 158.0 118.4 L 158.0 99.3 L 193.5 99.3\" id=\"6,3\"></path><path d=\"M 158.0 118.4 L 158.0 137.5 L 193.5 137.5\" id=\"6,2\"></path><path d=\"M 158.0 194.9 L 158.0 175.7 L 193.5 175.7\" id=\"5,1\"></path><path d=\"M 158.0 194.9 L 158.0 214.0 L 193.5 214.0\" id=\"5,0\"></path></g><g class=\"toytree-TipLabels\" style=\"fill:rgb(14.9%,14.9%,14.9%);fill-opacity:1.0;font-family:helvetica;font-size:11px;font-weight:normal;stroke:none;white-space:pre\"><g transform=\"translate(193.47,213.99)rotate(0)\"><text style=\"\" x=\"15.00\" y=\"2.81\">r2</text></g><g transform=\"translate(193.47,175.74)rotate(0)\"><text style=\"\" x=\"15.00\" y=\"2.81\">r3</text></g><g transform=\"translate(193.47,137.50)rotate(0)\"><text style=\"\" x=\"15.00\" y=\"2.81\">r0</text></g><g transform=\"translate(193.47,99.26)rotate(0)\"><text style=\"\" x=\"15.00\" y=\"2.81\">r1</text></g><g transform=\"translate(122.62,61.01)rotate(0)\"><text style=\"\" x=\"15.00\" y=\"2.81\">r4</text></g></g></g></g></g></svg><div class=\"toyplot-behavior\"><script>(function()\n",
       "{\n",
       "var modules={};\n",
       "})();</script></div></div>"
      ]
     },
     "metadata": {},
     "output_type": "display_data"
    }
   ],
   "source": [
    "genealogy.draw()"
   ]
  },
  {
   "cell_type": "code",
   "execution_count": 490,
   "metadata": {},
   "outputs": [],
   "source": [
    "strd = str(coal_clades[0])"
   ]
  },
  {
   "cell_type": "code",
   "execution_count": 492,
   "metadata": {},
   "outputs": [],
   "source": [
    "genealogy = toytree.tree(strd.replace(\"[\",\"(\").replace(\"]\",\")\") + ';')"
   ]
  },
  {
   "cell_type": "code",
   "execution_count": null,
   "metadata": {},
   "outputs": [],
   "source": [
    "genealogy."
   ]
  },
  {
   "cell_type": "code",
   "execution_count": 486,
   "metadata": {},
   "outputs": [
    {
     "ename": "NewickError",
     "evalue": "Broken newick structure at: 'r3','r2'),'r1'))",
     "output_type": "error",
     "traceback": [
      "\u001b[0;31m---------------------------------------------------------------------------\u001b[0m",
      "\u001b[0;31mNewickError\u001b[0m                               Traceback (most recent call last)",
      "\u001b[0;32m<ipython-input-486-676a87156a5e>\u001b[0m in \u001b[0;36m<module>\u001b[0;34m\u001b[0m\n\u001b[0;32m----> 1\u001b[0;31m \u001b[0mtoytree\u001b[0m\u001b[0;34m.\u001b[0m\u001b[0mtree\u001b[0m\u001b[0;34m(\u001b[0m\u001b[0;34m\"(('r4', 'r0'), (('r3', 'r2'), 'r1'))\"\u001b[0m\u001b[0;34m)\u001b[0m\u001b[0;34m.\u001b[0m\u001b[0mdraw\u001b[0m\u001b[0;34m(\u001b[0m\u001b[0;34m)\u001b[0m\u001b[0;34m\u001b[0m\u001b[0;34m\u001b[0m\u001b[0m\n\u001b[0m",
      "\u001b[0;32m~/googledrive/projects/toytree/toytree/Toytree.py\u001b[0m in \u001b[0;36m__init__\u001b[0;34m(self, newick, tree_format, **kwargs)\u001b[0m\n\u001b[1;32m     68\u001b[0m         \u001b[0;31m# parse a str, URL, or file\u001b[0m\u001b[0;34m\u001b[0m\u001b[0;34m\u001b[0m\u001b[0;34m\u001b[0m\u001b[0m\n\u001b[1;32m     69\u001b[0m         \u001b[0;32melif\u001b[0m \u001b[0misinstance\u001b[0m\u001b[0;34m(\u001b[0m\u001b[0mnewick\u001b[0m\u001b[0;34m,\u001b[0m \u001b[0;34m(\u001b[0m\u001b[0mstr\u001b[0m\u001b[0;34m,\u001b[0m \u001b[0mbytes\u001b[0m\u001b[0;34m)\u001b[0m\u001b[0;34m)\u001b[0m\u001b[0;34m:\u001b[0m\u001b[0;34m\u001b[0m\u001b[0;34m\u001b[0m\u001b[0m\n\u001b[0;32m---> 70\u001b[0;31m             \u001b[0mself\u001b[0m\u001b[0;34m.\u001b[0m\u001b[0mtreenode\u001b[0m \u001b[0;34m=\u001b[0m \u001b[0mTreeParser\u001b[0m\u001b[0;34m(\u001b[0m\u001b[0mnewick\u001b[0m\u001b[0;34m,\u001b[0m \u001b[0mtree_format\u001b[0m\u001b[0;34m)\u001b[0m\u001b[0;34m.\u001b[0m\u001b[0mtreenodes\u001b[0m\u001b[0;34m[\u001b[0m\u001b[0;36m0\u001b[0m\u001b[0;34m]\u001b[0m\u001b[0;34m\u001b[0m\u001b[0;34m\u001b[0m\u001b[0m\n\u001b[0m\u001b[1;32m     71\u001b[0m \u001b[0;34m\u001b[0m\u001b[0m\n\u001b[1;32m     72\u001b[0m         \u001b[0;31m# make an empty tree\u001b[0m\u001b[0;34m\u001b[0m\u001b[0;34m\u001b[0m\u001b[0;34m\u001b[0m\u001b[0m\n",
      "\u001b[0;32m~/googledrive/projects/toytree/toytree/TreeParser.py\u001b[0m in \u001b[0;36m__init__\u001b[0;34m(self, intree, tree_format, multitree, debug)\u001b[0m\n\u001b[1;32m     78\u001b[0m         \u001b[0;31m# parse intree\u001b[0m\u001b[0;34m\u001b[0m\u001b[0;34m\u001b[0m\u001b[0;34m\u001b[0m\u001b[0m\n\u001b[1;32m     79\u001b[0m         \u001b[0;32mif\u001b[0m \u001b[0;32mnot\u001b[0m \u001b[0mself\u001b[0m\u001b[0;34m.\u001b[0m\u001b[0mdebug\u001b[0m\u001b[0;34m:\u001b[0m\u001b[0;34m\u001b[0m\u001b[0;34m\u001b[0m\u001b[0m\n\u001b[0;32m---> 80\u001b[0;31m             \u001b[0mself\u001b[0m\u001b[0;34m.\u001b[0m\u001b[0m_run\u001b[0m\u001b[0;34m(\u001b[0m\u001b[0;34m)\u001b[0m\u001b[0;34m\u001b[0m\u001b[0;34m\u001b[0m\u001b[0m\n\u001b[0m\u001b[1;32m     81\u001b[0m \u001b[0;34m\u001b[0m\u001b[0m\n\u001b[1;32m     82\u001b[0m \u001b[0;34m\u001b[0m\u001b[0m\n",
      "\u001b[0;32m~/googledrive/projects/toytree/toytree/TreeParser.py\u001b[0m in \u001b[0;36m_run\u001b[0;34m(self)\u001b[0m\n\u001b[1;32m     94\u001b[0m \u001b[0;34m\u001b[0m\u001b[0m\n\u001b[1;32m     95\u001b[0m             \u001b[0;31m# parse newick strings to treenodes list\u001b[0m\u001b[0;34m\u001b[0m\u001b[0;34m\u001b[0m\u001b[0;34m\u001b[0m\u001b[0m\n\u001b[0;32m---> 96\u001b[0;31m             \u001b[0mself\u001b[0m\u001b[0;34m.\u001b[0m\u001b[0mget_treenodes\u001b[0m\u001b[0;34m(\u001b[0m\u001b[0;34m)\u001b[0m\u001b[0;34m\u001b[0m\u001b[0;34m\u001b[0m\u001b[0m\n\u001b[0m\u001b[1;32m     97\u001b[0m \u001b[0;34m\u001b[0m\u001b[0m\n\u001b[1;32m     98\u001b[0m             \u001b[0;31m# apply names from tdict\u001b[0m\u001b[0;34m\u001b[0m\u001b[0;34m\u001b[0m\u001b[0;34m\u001b[0m\u001b[0m\n",
      "\u001b[0;32m~/googledrive/projects/toytree/toytree/TreeParser.py\u001b[0m in \u001b[0;36mget_treenodes\u001b[0;34m(self)\u001b[0m\n\u001b[1;32m    162\u001b[0m \u001b[0;34m\u001b[0m\u001b[0m\n\u001b[1;32m    163\u001b[0m             \u001b[0;31m# extract one tree\u001b[0m\u001b[0;34m\u001b[0m\u001b[0;34m\u001b[0m\u001b[0;34m\u001b[0m\u001b[0m\n\u001b[0;32m--> 164\u001b[0;31m             \u001b[0mself\u001b[0m\u001b[0;34m.\u001b[0m\u001b[0mtreenodes\u001b[0m\u001b[0;34m.\u001b[0m\u001b[0mappend\u001b[0m\u001b[0;34m(\u001b[0m\u001b[0mextractor\u001b[0m\u001b[0;34m.\u001b[0m\u001b[0mnewick_from_string\u001b[0m\u001b[0;34m(\u001b[0m\u001b[0;34m)\u001b[0m\u001b[0;34m)\u001b[0m\u001b[0;34m\u001b[0m\u001b[0;34m\u001b[0m\u001b[0m\n\u001b[0m\u001b[1;32m    165\u001b[0m \u001b[0;34m\u001b[0m\u001b[0m\n\u001b[1;32m    166\u001b[0m         \u001b[0;32melse\u001b[0m\u001b[0;34m:\u001b[0m\u001b[0;34m\u001b[0m\u001b[0;34m\u001b[0m\u001b[0m\n",
      "\u001b[0;32m~/googledrive/projects/toytree/toytree/TreeParser.py\u001b[0m in \u001b[0;36mnewick_from_string\u001b[0;34m(self)\u001b[0m\n\u001b[1;32m    249\u001b[0m             \u001b[0;32mif\u001b[0m \u001b[0msubchunks\u001b[0m\u001b[0;34m[\u001b[0m\u001b[0;34m-\u001b[0m\u001b[0;36m1\u001b[0m\u001b[0;34m]\u001b[0m \u001b[0;34m!=\u001b[0m \u001b[0;34m''\u001b[0m \u001b[0;32mand\u001b[0m \u001b[0;32mnot\u001b[0m \u001b[0msubchunks\u001b[0m\u001b[0;34m[\u001b[0m\u001b[0;34m-\u001b[0m\u001b[0;36m1\u001b[0m\u001b[0;34m]\u001b[0m\u001b[0;34m.\u001b[0m\u001b[0mendswith\u001b[0m\u001b[0;34m(\u001b[0m\u001b[0;34m';'\u001b[0m\u001b[0;34m)\u001b[0m\u001b[0;34m:\u001b[0m\u001b[0;34m\u001b[0m\u001b[0;34m\u001b[0m\u001b[0m\n\u001b[1;32m    250\u001b[0m                 raise NewickError(\n\u001b[0;32m--> 251\u001b[0;31m                     'Broken newick structure at: {}'.format(chunk))\n\u001b[0m\u001b[1;32m    252\u001b[0m \u001b[0;34m\u001b[0m\u001b[0m\n\u001b[1;32m    253\u001b[0m             \u001b[0;31m# Every closing parenthesis will close a node and go up one level.\u001b[0m\u001b[0;34m\u001b[0m\u001b[0;34m\u001b[0m\u001b[0;34m\u001b[0m\u001b[0m\n",
      "\u001b[0;31mNewickError\u001b[0m: Broken newick structure at: 'r3','r2'),'r1'))"
     ]
    }
   ],
   "source": [
    "toytree.tree(\"(('r4', 'r0'), (('r3', 'r2'), 'r1'))\").draw()"
   ]
  },
  {
   "cell_type": "code",
   "execution_count": 465,
   "metadata": {},
   "outputs": [
    {
     "data": {
      "text/plain": [
       "[['r3', 'r2'],\n",
       " ['r4', 'r0'],\n",
       " [['r3', 'r2'], 'r1'],\n",
       " [['r4', 'r0'], [['r3', 'r2'], 'r1']]]"
      ]
     },
     "execution_count": 465,
     "metadata": {},
     "output_type": "execute_result"
    }
   ],
   "source": [
    "clade_recorder"
   ]
  },
  {
   "cell_type": "code",
   "execution_count": 422,
   "metadata": {},
   "outputs": [
    {
     "data": {
      "text/plain": [
       "3"
      ]
     },
     "execution_count": 422,
     "metadata": {},
     "output_type": "execute_result"
    }
   ],
   "source": [
    "counter"
   ]
  },
  {
   "cell_type": "code",
   "execution_count": 416,
   "metadata": {},
   "outputs": [
    {
     "data": {
      "text/plain": [
       "\"[['r4', ['r0', ['r2', 'r3']]], 'r1']\""
      ]
     },
     "execution_count": 416,
     "metadata": {},
     "output_type": "execute_result"
    }
   ],
   "source": [
    "str(coal_clades[0])"
   ]
  },
  {
   "cell_type": "code",
   "execution_count": 414,
   "metadata": {},
   "outputs": [
    {
     "data": {
      "text/plain": [
       "(<toyplot.canvas.Canvas at 0x133b93518>,\n",
       " <toyplot.coordinates.Cartesian at 0x13038b320>,\n",
       " <toytree.Render.ToytreeMark at 0x1303712b0>)"
      ]
     },
     "execution_count": 414,
     "metadata": {},
     "output_type": "execute_result"
    },
    {
     "data": {
      "text/html": [
       "<div class=\"toyplot\" id=\"t3ad59363646d4a1081eb2d60794fce34\" style=\"text-align:center\"><svg class=\"toyplot-canvas-Canvas\" height=\"275.0px\" id=\"t475be89e5b8544199268908040e19c52\" preserveAspectRatio=\"xMidYMid meet\" style=\"background-color:transparent;border-color:#292724;border-style:none;border-width:1.0;fill:rgb(16.1%,15.3%,14.1%);fill-opacity:1.0;font-family:Helvetica;font-size:12px;opacity:1.0;stroke:rgb(16.1%,15.3%,14.1%);stroke-opacity:1.0;stroke-width:1.0\" viewBox=\"0 0 255.0 275.0\" width=\"255.0px\" xmlns=\"http://www.w3.org/2000/svg\" xmlns:toyplot=\"http://www.sandia.gov/toyplot\" xmlns:xlink=\"http://www.w3.org/1999/xlink\"><g class=\"toyplot-coordinates-Cartesian\" id=\"tba6276c425224b3d8782571367779079\"><clipPath id=\"t97199fff0a2f4a0e8408f617ca7b232e\"><rect height=\"215.0\" width=\"195.0\" x=\"30.0\" y=\"30.0\"></rect></clipPath><g clip-path=\"url(#t97199fff0a2f4a0e8408f617ca7b232e)\"><g class=\"toytree-mark-Toytree\" id=\"td0d97342a0a6407693688c86c3e88540\"><g class=\"toytree-Edges\" style=\"fill:none;stroke:rgb(14.9%,14.9%,14.9%);stroke-linecap:round;stroke-opacity:1;stroke-width:2\"></g><g class=\"toytree-TipLabels\" style=\"fill:rgb(14.9%,14.9%,14.9%);fill-opacity:1.0;font-family:helvetica;font-size:11px;font-weight:normal;stroke:none;white-space:pre\"><g transform=\"translate(127.50,137.50)rotate(0)\"><text style=\"\" x=\"15.00\" y=\"2.81\">0</text></g></g></g></g></g></svg><div class=\"toyplot-behavior\"><script>(function()\n",
       "{\n",
       "var modules={};\n",
       "})();</script></div></div>"
      ]
     },
     "metadata": {},
     "output_type": "display_data"
    }
   ],
   "source": [
    "toytree.tree(coal_clades[0]).draw()"
   ]
  },
  {
   "cell_type": "code",
   "execution_count": 405,
   "metadata": {},
   "outputs": [
    {
     "data": {
      "text/plain": [
       "[['r2', 'r3'], [['r4', 'r0'], 'r1']]"
      ]
     },
     "execution_count": 405,
     "metadata": {},
     "output_type": "execute_result"
    }
   ],
   "source": [
    "new_options"
   ]
  },
  {
   "cell_type": "code",
   "execution_count": 384,
   "metadata": {},
   "outputs": [
    {
     "data": {
      "text/plain": [
       "['r3', 'r2', 'r1', 'r0', ('r4', ('r3', 'r2'))]"
      ]
     },
     "execution_count": 384,
     "metadata": {},
     "output_type": "execute_result"
    }
   ],
   "source": [
    "reconcile_options([('r4', ('r3', 'r2'))],['r4', 'r3', 'r2', 'r1','r0'])"
   ]
  },
  {
   "cell_type": "code",
   "execution_count": 382,
   "metadata": {},
   "outputs": [
    {
     "data": {
      "text/plain": [
       "[('r1', (('r3', 'r2'), 'r4')), ('r4', 'r0')]"
      ]
     },
     "execution_count": 382,
     "metadata": {},
     "output_type": "execute_result"
    }
   ],
   "source": [
    "coal_clades"
   ]
  },
  {
   "cell_type": "code",
   "execution_count": 333,
   "metadata": {},
   "outputs": [
    {
     "data": {
      "text/plain": [
       "array([ 411051.94676271, 1069089.2031421 , 1378880.65463357,\n",
       "       2014540.24076208])"
      ]
     },
     "execution_count": 333,
     "metadata": {},
     "output_type": "execute_result"
    }
   ],
   "source": [
    "coalescence_times"
   ]
  },
  {
   "cell_type": "code",
   "execution_count": 334,
   "metadata": {},
   "outputs": [],
   "source": [
    "tstn = t.treenode.search_nodes(idx=6)[0]"
   ]
  },
  {
   "cell_type": "code",
   "execution_count": 335,
   "metadata": {},
   "outputs": [],
   "source": [
    "coaled = tuple(np.sort(np.random.choice(tstn.get_leaf_names(),2,replace=False)))"
   ]
  },
  {
   "cell_type": "code",
   "execution_count": 336,
   "metadata": {},
   "outputs": [],
   "source": [
    "coal_clades.append(coaled)"
   ]
  },
  {
   "cell_type": "code",
   "execution_count": 337,
   "metadata": {},
   "outputs": [],
   "source": [
    "tstn = t.treenode.search_nodes(idx=8)[0]"
   ]
  },
  {
   "cell_type": "code",
   "execution_count": 338,
   "metadata": {},
   "outputs": [],
   "source": [
    "options = tstn.get_leaf_names()"
   ]
  },
  {
   "cell_type": "code",
   "execution_count": 344,
   "metadata": {},
   "outputs": [
    {
     "data": {
      "text/plain": [
       "['r4', 'r3', 'r2', 'r1', 'r0']"
      ]
     },
     "execution_count": 344,
     "metadata": {},
     "output_type": "execute_result"
    }
   ],
   "source": [
    "options"
   ]
  },
  {
   "cell_type": "code",
   "execution_count": 340,
   "metadata": {},
   "outputs": [
    {
     "data": {
      "text/plain": [
       "[('r2', 'r3')]"
      ]
     },
     "execution_count": 340,
     "metadata": {},
     "output_type": "execute_result"
    }
   ],
   "source": [
    "coal_clades"
   ]
  },
  {
   "cell_type": "code",
   "execution_count": 429,
   "metadata": {},
   "outputs": [],
   "source": [
    "def reconcile_options(coal_clades,leaf_options):\n",
    "    real_options = leaf_options.copy()\n",
    "    for i in coal_clades:\n",
    "        #print(i)\n",
    "        any_opts = [x for x in real_options if in_nested_list(i,x)]\n",
    "        real_options = [x for x in real_options if not in_nested_list(i,x)]\n",
    "        if any_opts:\n",
    "            real_options.append(i)\n",
    "    return(real_options)"
   ]
  },
  {
   "cell_type": "code",
   "execution_count": 397,
   "metadata": {},
   "outputs": [
    {
     "data": {
      "text/plain": [
       "True"
      ]
     },
     "execution_count": 397,
     "metadata": {},
     "output_type": "execute_result"
    }
   ],
   "source": [
    "in_nested_list(['r4', ['r3', 'r2']],'r4')"
   ]
  },
  {
   "cell_type": "code",
   "execution_count": 398,
   "metadata": {},
   "outputs": [
    {
     "name": "stdout",
     "output_type": "stream",
     "text": [
      "('r4', ('r3', 'r2'))\n"
     ]
    },
    {
     "data": {
      "text/plain": [
       "['r3', 'r2', 'r1', 'r0', ('r4', ('r3', 'r2'))]"
      ]
     },
     "execution_count": 398,
     "metadata": {},
     "output_type": "execute_result"
    }
   ],
   "source": [
    "reconcile_options([('r4', ('r3', 'r2'))],['r4', 'r3', 'r2', 'r1','r0'])"
   ]
  },
  {
   "cell_type": "code",
   "execution_count": 370,
   "metadata": {},
   "outputs": [
    {
     "data": {
      "text/plain": [
       "['r4', 'r1', 'r0', ('r2', 'r3')]"
      ]
     },
     "execution_count": 370,
     "metadata": {},
     "output_type": "execute_result"
    }
   ],
   "source": [
    "new_options = reconcile_options(coal_clades,options)\n",
    "new_options"
   ]
  },
  {
   "cell_type": "code",
   "execution_count": 371,
   "metadata": {},
   "outputs": [
    {
     "data": {
      "text/plain": [
       "array(['r0', 'r4'], dtype=object)"
      ]
     },
     "execution_count": 371,
     "metadata": {},
     "output_type": "execute_result"
    }
   ],
   "source": [
    "new_choices = np.random.choice(new_options,2,replace=False)\n",
    "new_choices"
   ]
  },
  {
   "cell_type": "code",
   "execution_count": 372,
   "metadata": {},
   "outputs": [],
   "source": [
    "for i in new_choices:\n",
    "    if q in coal_clades:\n",
    "        coal_clades.remove(i)"
   ]
  },
  {
   "cell_type": "code",
   "execution_count": 373,
   "metadata": {},
   "outputs": [],
   "source": [
    "coal_clades.append(tuple(new_choices))"
   ]
  },
  {
   "cell_type": "code",
   "execution_count": 374,
   "metadata": {
    "scrolled": true
   },
   "outputs": [
    {
     "data": {
      "text/plain": [
       "[('r2', 'r3'), ('r0', 'r4')]"
      ]
     },
     "execution_count": 374,
     "metadata": {},
     "output_type": "execute_result"
    }
   ],
   "source": [
    "coal_clades"
   ]
  },
  {
   "cell_type": "code",
   "execution_count": null,
   "metadata": {},
   "outputs": [],
   "source": []
  },
  {
   "cell_type": "code",
   "execution_count": 354,
   "metadata": {},
   "outputs": [
    {
     "data": {
      "text/plain": [
       "['r4', 'r1', 'r0', ('r2', 'r3')]"
      ]
     },
     "execution_count": 354,
     "metadata": {},
     "output_type": "execute_result"
    }
   ],
   "source": [
    "reconcile_options(coal_clades,options)"
   ]
  },
  {
   "cell_type": "code",
   "execution_count": 322,
   "metadata": {},
   "outputs": [
    {
     "data": {
      "text/plain": [
       "['r4', 'r3', 'r2', 'r1', 'r0']"
      ]
     },
     "execution_count": 322,
     "metadata": {},
     "output_type": "execute_result"
    }
   ],
   "source": [
    "options"
   ]
  },
  {
   "cell_type": "code",
   "execution_count": 229,
   "metadata": {
    "scrolled": true
   },
   "outputs": [
    {
     "data": {
      "text/plain": [
       "(('r2', 'r3'), 'r0')"
      ]
     },
     "execution_count": 229,
     "metadata": {},
     "output_type": "execute_result"
    }
   ],
   "source": [
    "coaled"
   ]
  },
  {
   "cell_type": "code",
   "execution_count": null,
   "metadata": {},
   "outputs": [],
   "source": []
  },
  {
   "cell_type": "code",
   "execution_count": 554,
   "metadata": {},
   "outputs": [
    {
     "data": {
      "text/html": [
       "<div class=\"toyplot\" id=\"t302ea96fa35e4be181d9143a1c1d23cd\" style=\"text-align:center\"><svg class=\"toyplot-canvas-Canvas\" height=\"275.0px\" id=\"t0ae3e09e0b3543979779974b05ed29f4\" preserveAspectRatio=\"xMidYMid meet\" style=\"background-color:transparent;border-color:#292724;border-style:none;border-width:1.0;fill:rgb(16.1%,15.3%,14.1%);fill-opacity:1.0;font-family:Helvetica;font-size:12px;opacity:1.0;stroke:rgb(16.1%,15.3%,14.1%);stroke-opacity:1.0;stroke-width:1.0\" viewBox=\"0 0 260.0 275.0\" width=\"260.0px\" xmlns=\"http://www.w3.org/2000/svg\" xmlns:toyplot=\"http://www.sandia.gov/toyplot\" xmlns:xlink=\"http://www.w3.org/1999/xlink\"><g class=\"toyplot-coordinates-Cartesian\" id=\"ta9f910bb54fd45abad0c8fc656de7a37\"><clipPath id=\"t123f5903eeec4358ac1c6a86ea0d0265\"><rect height=\"215.0\" width=\"200.0\" x=\"30.0\" y=\"30.0\"></rect></clipPath><g clip-path=\"url(#t123f5903eeec4358ac1c6a86ea0d0265)\"><g class=\"toytree-mark-Toytree\" id=\"t98e8de7ecf6c4035892b8a6d768c89b2\"><g class=\"toytree-Edges\" style=\"fill:none;stroke:rgb(14.9%,14.9%,14.9%);stroke-linecap:round;stroke-opacity:1;stroke-width:2\"><path d=\"M 51.8 108.8 L 51.8 156.6 L 60.6 156.6\" id=\"8,7\"></path><path d=\"M 60.6 156.6 L 60.6 118.4 L 143.6 118.4\" id=\"7,6\"></path><path d=\"M 60.6 156.6 L 60.6 194.9 L 115.5 194.9\" id=\"7,5\"></path><path d=\"M 51.8 108.8 L 51.8 61.0 L 193.5 61.0\" id=\"8,4\"></path><path d=\"M 143.6 118.4 L 143.6 99.3 L 193.5 99.3\" id=\"6,3\"></path><path d=\"M 143.6 118.4 L 143.6 137.5 L 193.5 137.5\" id=\"6,2\"></path><path d=\"M 115.5 194.9 L 115.5 175.7 L 193.5 175.7\" id=\"5,1\"></path><path d=\"M 115.5 194.9 L 115.5 214.0 L 193.5 214.0\" id=\"5,0\"></path></g><g class=\"toytree-TipLabels\" style=\"fill:rgb(14.9%,14.9%,14.9%);fill-opacity:1.0;font-family:helvetica;font-size:11px;font-weight:normal;stroke:none;white-space:pre\"><g transform=\"translate(193.47,213.99)rotate(0)\"><text style=\"\" x=\"15.00\" y=\"2.81\">r0</text></g><g transform=\"translate(193.47,175.74)rotate(0)\"><text style=\"\" x=\"15.00\" y=\"2.81\">r1</text></g><g transform=\"translate(193.47,137.50)rotate(0)\"><text style=\"\" x=\"15.00\" y=\"2.81\">r2</text></g><g transform=\"translate(193.47,99.26)rotate(0)\"><text style=\"\" x=\"15.00\" y=\"2.81\">r3</text></g><g transform=\"translate(193.47,61.01)rotate(0)\"><text style=\"\" x=\"15.00\" y=\"2.81\">r4</text></g></g></g></g></g></svg><div class=\"toyplot-behavior\"><script>(function()\n",
       "{\n",
       "var modules={};\n",
       "})();</script></div></div>"
      ]
     },
     "metadata": {},
     "output_type": "display_data"
    }
   ],
   "source": [
    "t = toytree.rtree.coaltree(5,1000000,seed=12345)\n",
    "t.draw();"
   ]
  },
  {
   "cell_type": "code",
   "execution_count": 555,
   "metadata": {},
   "outputs": [],
   "source": [
    "t = t.set_node_values(\"Ne\",values={0:10000, \n",
    "                               1:300000,\n",
    "                               2:200000,\n",
    "                               3:100,\n",
    "                               4:80000,\n",
    "                               5:75000,\n",
    "                               6:100000,\n",
    "                               7:600000,\n",
    "                               8:200000,\n",
    "                              },default=100)"
   ]
  },
  {
   "cell_type": "code",
   "execution_count": 556,
   "metadata": {},
   "outputs": [],
   "source": [
    "def flatten(nested_list):\n",
    "    for x in nested_list:\n",
    "        if hasattr(x, '__iter__') and not isinstance(x, str):\n",
    "            for y in flatten(x):\n",
    "                yield y\n",
    "        else:\n",
    "            yield x\n",
    "def get_coalescences_from_sptree(t):\n",
    "    t=t.set_node_values(\"num_surviving\",default=0)\n",
    "    t=t.set_node_values(\"num_entering\",default=0)\n",
    "\n",
    "    nodes = []\n",
    "    coalescence_times = []\n",
    "    for n in t.treenode.traverse(strategy='postorder'):\n",
    "        if n.is_leaf():\n",
    "            n.num_suriving = 1\n",
    "            n.up.num_entering += 1\n",
    "        elif not n.is_root():\n",
    "            currNe = n.Ne\n",
    "            edgecoaltimes = []\n",
    "            wait = 0\n",
    "            for coal in range(n.num_entering,1,-1):\n",
    "                wait = wait + np.random.exponential((4*n.Ne) / (coal*(coal-1)))\n",
    "                edgecoaltimes.append(wait)\n",
    "            edgecoaltimes = np.array(edgecoaltimes)\n",
    "            num_coals = np.sum(edgecoaltimes < n.dist)\n",
    "            n.num_surviving = n.num_entering - num_coals\n",
    "            for added in edgecoaltimes[edgecoaltimes < n.dist]:\n",
    "                nodes.append(n.idx)\n",
    "                coalescence_times.append(added + n.height)\n",
    "            n.up.num_entering += n.num_surviving\n",
    "        else:\n",
    "            currNe = n.Ne\n",
    "            edgecoaltimes = []\n",
    "            wait = 0\n",
    "            for coal in range(n.num_entering,1,-1):\n",
    "                wait = wait + np.random.exponential((4*n.Ne) / (coal*(coal-1)))\n",
    "                edgecoaltimes.append(wait)\n",
    "            edgecoaltimes = np.array(edgecoaltimes)\n",
    "            num_coals = np.sum(edgecoaltimes < np.inf)\n",
    "            n.num_surviving = n.num_entering - num_coals\n",
    "            for added in edgecoaltimes[edgecoaltimes < np.inf]:\n",
    "                nodes.append(n.idx)\n",
    "                coalescence_times.append(added + n.height)\n",
    "\n",
    "    coalescence_times = np.array(coalescence_times)\n",
    "    nodes = np.array(nodes)\n",
    "\n",
    "    nodes = nodes[np.argsort(coalescence_times)]\n",
    "    coalescence_times = coalescence_times[np.argsort(coalescence_times)]\n",
    "    \n",
    "    return(nodes,coalescence_times)"
   ]
  },
  {
   "cell_type": "code",
   "execution_count": 646,
   "metadata": {},
   "outputs": [],
   "source": [
    "def build_genealogy_topology_from_coalescences(t,coalnodes,coalescence_times):\n",
    "    counter = 0\n",
    "    coal_clades = []\n",
    "    clade_recorder = []\n",
    "    for node in coalnodes:\n",
    "        tstn = t.treenode.search_nodes(idx=node)[0]\n",
    "        options = tstn.get_leaf_names()\n",
    "        new_options = reconcile_options(coal_clades,options)\n",
    "        new_choices = [new_options[ch_idx] for ch_idx in np.random.choice(range(len(new_options)),2,replace=False)]\n",
    "        for ch in new_choices:\n",
    "            if ch in coal_clades:\n",
    "                coal_clades.remove(ch)\n",
    "        coal_clades.append(list(new_choices))\n",
    "        clade_recorder.append(new_choices)\n",
    "        counter += 1\n",
    "    strd = str(coal_clades[0])\n",
    "    genealogy = toytree.tree(strd.replace(\"[\",\"(\").replace(\"]\",\")\").replace(\"'\",\"\") + ';')\n",
    "    node_heights = {}\n",
    "    for cl,he in zip(clade_recorder,coalescence_times):\n",
    "        node_idx = genealogy.get_mrca_idx_from_tip_labels(list(flatten(cl)))\n",
    "        node_heights[node_idx] = he\n",
    "        \n",
    "        \n",
    "    for n in genealogy.treenode.traverse('preorder'):\n",
    "        if not n.is_leaf():\n",
    "            for child in n.children:\n",
    "                if not child.is_leaf():\n",
    "                    child.dist = node_heights[n.idx] - node_heights[child.idx]\n",
    "                else:\n",
    "                    child.dist = node_heights[n.idx]\n",
    "    return(genealogy)\n",
    "def sample_genealogy(t):\n",
    "    coalnodes,coalescence_times = get_coalescences_from_sptree(t)\n",
    "    genealogy = build_genealogy_topology_from_coalescences(t,coalnodes,coalescence_times)\n",
    "    return(genealogy)"
   ]
  },
  {
   "cell_type": "code",
   "execution_count": 651,
   "metadata": {},
   "outputs": [],
   "source": [
    "tg = sample_genealogy(t)"
   ]
  },
  {
   "cell_type": "code",
   "execution_count": 652,
   "metadata": {
    "scrolled": true
   },
   "outputs": [
    {
     "data": {
      "text/html": [
       "<div class=\"toyplot\" id=\"tbb48dcbfaf7d48daad2bbc8d1cb9aa7f\" style=\"text-align:center\"><svg class=\"toyplot-canvas-Canvas\" height=\"260.0px\" id=\"ta669be9c2b0a49469567b0882dc0c2f9\" preserveAspectRatio=\"xMidYMid meet\" style=\"background-color:transparent;border-color:#292724;border-style:none;border-width:1.0;fill:rgb(16.1%,15.3%,14.1%);fill-opacity:1.0;font-family:Helvetica;font-size:12px;opacity:1.0;stroke:rgb(16.1%,15.3%,14.1%);stroke-opacity:1.0;stroke-width:1.0\" viewBox=\"0 0 350.0 260.0\" width=\"350.0px\" xmlns=\"http://www.w3.org/2000/svg\" xmlns:toyplot=\"http://www.sandia.gov/toyplot\" xmlns:xlink=\"http://www.w3.org/1999/xlink\"><g class=\"toyplot-coordinates-Cartesian\" id=\"td03f0cbf323646bfb60f5106098e602c\"><clipPath id=\"tbf562b8085b04302bdf9c3620841fb46\"><rect height=\"200.0\" width=\"290.0\" x=\"30.0\" y=\"30.0\"></rect></clipPath><g clip-path=\"url(#tbf562b8085b04302bdf9c3620841fb46)\"><g class=\"toytree-mark-Toytree\" id=\"t21faef1249f74a30a4bac6e0e4ab940a\"><g class=\"toytree-Edges\" style=\"fill:none;stroke:rgb(14.9%,14.9%,14.9%);stroke-linecap:round;stroke-opacity:1;stroke-width:2\"><path d=\"M 133.1 202.8 L 202.9 192.4\" id=\"8,7\"></path><path d=\"M 202.9 192.4 L 147.1 153.5\" id=\"7,6\"></path><path d=\"M 202.9 192.4 L 258.7 152.5\" id=\"7,5\"></path><path d=\"M 133.1 202.8 L 63.4 126.4\" id=\"8,4\"></path><path d=\"M 147.1 153.5 L 119.2 126.4\" id=\"6,3\"></path><path d=\"M 147.1 153.5 L 175.0 126.4\" id=\"6,2\"></path><path d=\"M 258.7 152.5 L 230.8 126.4\" id=\"5,1\"></path><path d=\"M 258.7 152.5 L 286.6 126.4\" id=\"5,0\"></path></g><g class=\"toytree-Nodes\" style=\"fill:rgb(40%,76.1%,64.7%);fill-opacity:1.0;stroke:rgb(14.9%,14.9%,14.9%);stroke-opacity:1.0;stroke-width:1\"><g id=\"node-0\" transform=\"translate(286.607,126.418)\"><circle r=\"7.5\"></circle></g><g id=\"node-1\" transform=\"translate(230.804,126.418)\"><circle r=\"7.5\"></circle></g><g id=\"node-2\" transform=\"translate(175.000,126.418)\"><circle r=\"7.5\"></circle></g><g id=\"node-3\" transform=\"translate(119.196,126.418)\"><circle r=\"7.5\"></circle></g><g id=\"node-4\" transform=\"translate(63.393,126.418)\"><circle r=\"7.5\"></circle></g><g id=\"node-5\" transform=\"translate(258.705,152.495)\"><circle r=\"7.5\"></circle></g><g id=\"node-6\" transform=\"translate(147.098,153.455)\"><circle r=\"7.5\"></circle></g><g id=\"node-7\" transform=\"translate(202.902,192.376)\"><circle r=\"7.5\"></circle></g><g id=\"node-8\" transform=\"translate(133.147,202.836)\"><circle r=\"7.5\"></circle></g></g><g class=\"toytree-NodeLabels\" style=\"fill:rgb(14.9%,14.9%,14.9%);fill-opacity:1.0;font-size:9px;stroke:none\"><g transform=\"translate(284.11,128.72)\"><text>0</text></g><g transform=\"translate(228.30,128.72)\"><text>1</text></g><g transform=\"translate(172.50,128.72)\"><text>2</text></g><g transform=\"translate(116.69,128.72)\"><text>3</text></g><g transform=\"translate(60.89,128.72)\"><text>4</text></g><g transform=\"translate(256.20,154.79)\"><text>5</text></g><g transform=\"translate(144.60,155.75)\"><text>6</text></g><g transform=\"translate(200.40,194.68)\"><text>7</text></g><g transform=\"translate(130.65,205.14)\"><text>8</text></g></g><g class=\"toytree-TipLabels\" style=\"fill:rgb(14.9%,14.9%,14.9%);fill-opacity:1.0;font-family:helvetica;font-size:11px;font-weight:normal;stroke:none;white-space:pre\"><g transform=\"translate(286.61,126.42)rotate(-90)\"><text style=\"\" x=\"-24.78\" y=\"2.81\">r3</text></g><g transform=\"translate(230.80,126.42)rotate(-90)\"><text style=\"\" x=\"-24.78\" y=\"2.81\">r2</text></g><g transform=\"translate(175.00,126.42)rotate(-90)\"><text style=\"\" x=\"-24.78\" y=\"2.81\">r1</text></g><g transform=\"translate(119.20,126.42)rotate(-90)\"><text style=\"\" x=\"-24.78\" y=\"2.81\">r0</text></g><g transform=\"translate(63.39,126.42)rotate(-90)\"><text style=\"\" x=\"-24.78\" y=\"2.81\">r4</text></g></g></g></g><g class=\"toyplot-coordinates-Axis\" id=\"t50fb08b86e114116bc8b4262a004a865\" transform=\"translate(50.0,210.0)rotate(-90.0)translate(0,-20.0)\"><line style=\"\" x1=\"7.164179104477617\" x2=\"83.58208955223881\" y1=\"0\" y2=\"0\"></line><g><line style=\"\" x1=\"83.58208955223881\" x2=\"83.58208955223881\" y1=\"0\" y2=\"5\"></line><line style=\"\" x1=\"121.7910447761194\" x2=\"121.7910447761194\" y1=\"0\" y2=\"5\"></line><line style=\"\" x1=\"160.0\" x2=\"160.0\" y1=\"0\" y2=\"5\"></line></g><g><g transform=\"translate(83.58208955223881,-6)\"><text style=\"fill:rgb(16.1%,15.3%,14.1%);fill-opacity:1.0;font-family:helvetica;font-size:10.0px;font-weight:normal;stroke:none;vertical-align:baseline;white-space:pre\" x=\"-2.78\" y=\"-4.440892098500626e-16\">0</text></g><g transform=\"translate(121.7910447761194,-6)\"><text style=\"fill:rgb(16.1%,15.3%,14.1%);fill-opacity:1.0;font-family:helvetica;font-size:10.0px;font-weight:normal;stroke:none;vertical-align:baseline;white-space:pre\" x=\"-16.68\" y=\"-4.440892098500626e-16\">829921</text></g><g transform=\"translate(160.0,-6)\"><text style=\"fill:rgb(16.1%,15.3%,14.1%);fill-opacity:1.0;font-family:helvetica;font-size:10.0px;font-weight:normal;stroke:none;vertical-align:baseline;white-space:pre\" x=\"-19.459999999999997\" y=\"-4.440892098500626e-16\">1659841</text></g></g><g class=\"toyplot-coordinates-Axis-coordinates\" style=\"visibility:hidden\" transform=\"\"><line style=\"stroke:rgb(43.9%,50.2%,56.5%);stroke-opacity:1.0;stroke-width:1.0\" x1=\"0\" x2=\"0\" y1=\"3.0\" y2=\"-4.5\"></line><text style=\"alignment-baseline:hanging;fill:rgb(43.9%,50.2%,56.5%);fill-opacity:1.0;font-size:10px;font-weight:normal;stroke:none;text-anchor:middle\" x=\"0\" y=\"6\"></text></g></g></g></svg><div class=\"toyplot-behavior\"><script>(function()\n",
       "{\n",
       "var modules={};\n",
       "modules[\"toyplot/canvas/id\"] = \"ta669be9c2b0a49469567b0882dc0c2f9\";\n",
       "modules[\"toyplot/canvas\"] = (function(canvas_id)\n",
       "    {\n",
       "        return document.querySelector(\"#\" + canvas_id);\n",
       "    })(modules[\"toyplot/canvas/id\"]);\n",
       "modules[\"toyplot.coordinates.Axis\"] = (\n",
       "        function(canvas)\n",
       "        {\n",
       "            function sign(x)\n",
       "            {\n",
       "                return x < 0 ? -1 : x > 0 ? 1 : 0;\n",
       "            }\n",
       "\n",
       "            function mix(a, b, amount)\n",
       "            {\n",
       "                return ((1.0 - amount) * a) + (amount * b);\n",
       "            }\n",
       "\n",
       "            function log(x, base)\n",
       "            {\n",
       "                return Math.log(Math.abs(x)) / Math.log(base);\n",
       "            }\n",
       "\n",
       "            function in_range(a, x, b)\n",
       "            {\n",
       "                var left = Math.min(a, b);\n",
       "                var right = Math.max(a, b);\n",
       "                return left <= x && x <= right;\n",
       "            }\n",
       "\n",
       "            function inside(range, projection)\n",
       "            {\n",
       "                for(var i = 0; i != projection.length; ++i)\n",
       "                {\n",
       "                    var segment = projection[i];\n",
       "                    if(in_range(segment.range.min, range, segment.range.max))\n",
       "                        return true;\n",
       "                }\n",
       "                return false;\n",
       "            }\n",
       "\n",
       "            function to_domain(range, projection)\n",
       "            {\n",
       "                for(var i = 0; i != projection.length; ++i)\n",
       "                {\n",
       "                    var segment = projection[i];\n",
       "                    if(in_range(segment.range.bounds.min, range, segment.range.bounds.max))\n",
       "                    {\n",
       "                        if(segment.scale == \"linear\")\n",
       "                        {\n",
       "                            var amount = (range - segment.range.min) / (segment.range.max - segment.range.min);\n",
       "                            return mix(segment.domain.min, segment.domain.max, amount)\n",
       "                        }\n",
       "                        else if(segment.scale[0] == \"log\")\n",
       "                        {\n",
       "                            var amount = (range - segment.range.min) / (segment.range.max - segment.range.min);\n",
       "                            var base = segment.scale[1];\n",
       "                            return sign(segment.domain.min) * Math.pow(base, mix(log(segment.domain.min, base), log(segment.domain.max, base), amount));\n",
       "                        }\n",
       "                    }\n",
       "                }\n",
       "            }\n",
       "\n",
       "            var axes = {};\n",
       "\n",
       "            function display_coordinates(e)\n",
       "            {\n",
       "                var current = canvas.createSVGPoint();\n",
       "                current.x = e.clientX;\n",
       "                current.y = e.clientY;\n",
       "\n",
       "                for(var axis_id in axes)\n",
       "                {\n",
       "                    var axis = document.querySelector(\"#\" + axis_id);\n",
       "                    var coordinates = axis.querySelector(\".toyplot-coordinates-Axis-coordinates\");\n",
       "                    if(coordinates)\n",
       "                    {\n",
       "                        var projection = axes[axis_id];\n",
       "                        var local = current.matrixTransform(axis.getScreenCTM().inverse());\n",
       "                        if(inside(local.x, projection))\n",
       "                        {\n",
       "                            var domain = to_domain(local.x, projection);\n",
       "                            coordinates.style.visibility = \"visible\";\n",
       "                            coordinates.setAttribute(\"transform\", \"translate(\" + local.x + \")\");\n",
       "                            var text = coordinates.querySelector(\"text\");\n",
       "                            text.textContent = domain.toFixed(2);\n",
       "                        }\n",
       "                        else\n",
       "                        {\n",
       "                            coordinates.style.visibility= \"hidden\";\n",
       "                        }\n",
       "                    }\n",
       "                }\n",
       "            }\n",
       "\n",
       "            canvas.addEventListener(\"click\", display_coordinates);\n",
       "\n",
       "            var module = {};\n",
       "            module.show_coordinates = function(axis_id, projection)\n",
       "            {\n",
       "                axes[axis_id] = projection;\n",
       "            }\n",
       "\n",
       "            return module;\n",
       "        })(modules[\"toyplot/canvas\"]);\n",
       "(function(axis, axis_id, projection)\n",
       "        {\n",
       "            axis.show_coordinates(axis_id, projection);\n",
       "        })(modules[\"toyplot.coordinates.Axis\"],\"t50fb08b86e114116bc8b4262a004a865\",[{\"domain\": {\"bounds\": {\"max\": Infinity, \"min\": -Infinity}, \"max\": 1659841.1389018632, \"min\": -1815451.245673913}, \"range\": {\"bounds\": {\"max\": Infinity, \"min\": -Infinity}, \"max\": 160.0, \"min\": 0.0}, \"scale\": \"linear\"}]);\n",
       "})();</script></div></div>"
      ]
     },
     "metadata": {},
     "output_type": "display_data"
    }
   ],
   "source": [
    "tg.draw(ts='p');"
   ]
  },
  {
   "cell_type": "code",
   "execution_count": 565,
   "metadata": {},
   "outputs": [],
   "source": [
    "def get_unique_topologies_from_list(tree_list,unrooted=False):\n",
    "    store_set = set()\n",
    "    store_set.add(tree_list[0])\n",
    "    for indiv_tree in tree_list:\n",
    "        in_set = 0\n",
    "        for stored_tree in store_set:\n",
    "            if not indiv_tree.treenode.robinson_foulds(stored_tree.treenode,unrooted_trees=unrooted)[0]:\n",
    "                in_set = 1\n",
    "                break\n",
    "        if not in_set:\n",
    "            store_set.add(indiv_tree)\n",
    "    return(store_set)\n",
    "\n",
    "def get_topology_frequencies_from_list(tree_list,verbose=True,unrooted = False):\n",
    "    \n",
    "    if verbose:\n",
    "        print(\"getting unique topologies...\")\n",
    "    unique_topos = get_unique_topologies_from_list(tree_list,unrooted)\n",
    "    topo_frequencies = dict()\n",
    "    unique_topos = np.array(list(unique_topos))\n",
    "    \n",
    "    if verbose:\n",
    "        print(\"getting topology frequencies...\")\n",
    "    freqs = []\n",
    "    \n",
    "    if verbose:\n",
    "        for topo in tqdm(unique_topos):\n",
    "            topo_num = 0\n",
    "            for t in tree_list:\n",
    "                if not topo.treenode.robinson_foulds(t.treenode,unrooted_trees=unrooted)[0]:\n",
    "                    topo_num += 1\n",
    "            freqs.append(topo_num)\n",
    "    else:\n",
    "        for topo in unique_topos:\n",
    "            topo_num = 0\n",
    "            for t in tree_list:\n",
    "                if not topo.treenode.robinson_foulds(t.treenode,unrooted_trees=unrooted)[0]:\n",
    "                    topo_num += 1\n",
    "            freqs.append(topo_num)\n",
    "\n",
    "    ordering = np.argsort(freqs)[::-1] #descending order\n",
    "    frequencies = np.array(freqs)[ordering] / len(tree_list)\n",
    "    ordered_unique_topos = unique_topos[ordering]\n",
    "    \n",
    "    return(ordered_unique_topos, frequencies)\n",
    "def test_if_same_topo(tree1,tree2,unrooted=False):\n",
    "    if not tree1.treenode.robinson_foulds(tree2.treenode,unrooted_trees=unrooted)[0]:\n",
    "        return(True)\n",
    "    else:\n",
    "        return(False)"
   ]
  },
  {
   "cell_type": "code",
   "execution_count": 679,
   "metadata": {},
   "outputs": [],
   "source": [
    "theory_gt_tops = [sample_genealogy(t) for i in range(25000)]"
   ]
  },
  {
   "cell_type": "code",
   "execution_count": 680,
   "metadata": {},
   "outputs": [
    {
     "name": "stdout",
     "output_type": "stream",
     "text": [
      "711934.7179143884\n",
      "57985211716.17259\n"
     ]
    }
   ],
   "source": [
    "heightlist = [i.treenode.search_nodes(idx=i.get_mrca_idx_from_tip_labels(['r0','r1']))[0].height for i in theory_gt_tops]\n",
    "print(np.mean(heightlist))\n",
    "print(np.var(heightlist))"
   ]
  },
  {
   "cell_type": "code",
   "execution_count": 681,
   "metadata": {},
   "outputs": [
    {
     "name": "stdout",
     "output_type": "stream",
     "text": [
      "1372440.2183027125\n",
      "164948086020.1308\n"
     ]
    }
   ],
   "source": [
    "heightlist = [i.treenode.search_nodes(idx=i.get_mrca_idx_from_tip_labels(['r0','r1','r2','r3']))[0].height for i in theory_gt_tops]\n",
    "print(np.mean(heightlist))\n",
    "print(np.var(heightlist))"
   ]
  },
  {
   "cell_type": "code",
   "execution_count": 682,
   "metadata": {},
   "outputs": [
    {
     "name": "stdout",
     "output_type": "stream",
     "text": [
      "1511405.0761036924\n",
      "178039392014.79117\n"
     ]
    }
   ],
   "source": [
    "heightlist = [i.treenode.search_nodes(idx=i.get_mrca_idx_from_tip_labels(['r0','r1','r2','r3','r4']))[0].height for i in theory_gt_tops]\n",
    "print(np.mean(heightlist))\n",
    "print(np.var(heightlist))"
   ]
  },
  {
   "cell_type": "code",
   "execution_count": 683,
   "metadata": {},
   "outputs": [],
   "source": [
    "mod = ipcoal.Model(t,Ne=None)\n",
    "mod.sim_trees(25000)\n",
    "ipcoal_gt_tops = [toytree.tree(i) for i in mod.df.genealogy]"
   ]
  },
  {
   "cell_type": "code",
   "execution_count": 684,
   "metadata": {},
   "outputs": [
    {
     "name": "stdout",
     "output_type": "stream",
     "text": [
      "709516.3326711566\n",
      "54685818429.65979\n"
     ]
    }
   ],
   "source": [
    "heightlist = [i.treenode.search_nodes(idx=i.get_mrca_idx_from_tip_labels(['r0','r1']))[0].height for i in ipcoal_gt_tops]\n",
    "print(np.mean(heightlist))\n",
    "print(np.var(heightlist))"
   ]
  },
  {
   "cell_type": "code",
   "execution_count": 685,
   "metadata": {},
   "outputs": [
    {
     "name": "stdout",
     "output_type": "stream",
     "text": [
      "1373605.5870199674\n",
      "165733990610.1974\n"
     ]
    }
   ],
   "source": [
    "heightlist = [i.treenode.search_nodes(idx=i.get_mrca_idx_from_tip_labels(['r0','r1','r2','r3']))[0].height for i in ipcoal_gt_tops]\n",
    "print(np.mean(heightlist))\n",
    "print(np.var(heightlist))"
   ]
  },
  {
   "cell_type": "code",
   "execution_count": 686,
   "metadata": {},
   "outputs": [
    {
     "name": "stdout",
     "output_type": "stream",
     "text": [
      "1510091.865070888\n",
      "176670969850.50748\n"
     ]
    }
   ],
   "source": [
    "heightlist = [i.treenode.search_nodes(idx=i.get_mrca_idx_from_tip_labels(['r0','r1','r2','r3','r4']))[0].height for i in ipcoal_gt_tops]\n",
    "print(np.mean(heightlist))\n",
    "print(np.var(heightlist))"
   ]
  },
  {
   "cell_type": "code",
   "execution_count": 687,
   "metadata": {},
   "outputs": [
    {
     "name": "stdout",
     "output_type": "stream",
     "text": [
      "getting unique topologies...\n",
      "getting topology frequencies...\n"
     ]
    },
    {
     "data": {
      "application/vnd.jupyter.widget-view+json": {
       "model_id": "779db93189874c62a475584ff60dc576",
       "version_major": 2,
       "version_minor": 0
      },
      "text/plain": [
       "HBox(children=(FloatProgress(value=0.0, max=76.0), HTML(value='')))"
      ]
     },
     "metadata": {},
     "output_type": "display_data"
    },
    {
     "name": "stdout",
     "output_type": "stream",
     "text": [
      "\n"
     ]
    },
    {
     "data": {
      "text/plain": [
       "array([3.2456e-01, 2.8872e-01, 2.8372e-01, 8.5200e-03, 8.4400e-03,\n",
       "       6.6000e-03, 5.3600e-03, 5.2400e-03, 4.9600e-03, 4.5600e-03,\n",
       "       4.3200e-03, 4.0400e-03, 3.9600e-03, 3.8800e-03, 3.7600e-03,\n",
       "       3.6800e-03, 3.6400e-03, 3.6000e-03, 3.5600e-03, 3.4000e-03,\n",
       "       3.1200e-03, 2.9200e-03, 2.8000e-03, 2.4400e-03, 2.2800e-03,\n",
       "       2.0800e-03, 1.8800e-03, 2.0000e-04, 2.0000e-04, 1.6000e-04,\n",
       "       1.6000e-04, 1.6000e-04, 1.6000e-04, 1.6000e-04, 1.2000e-04,\n",
       "       1.2000e-04, 1.2000e-04, 1.2000e-04, 1.2000e-04, 1.2000e-04,\n",
       "       1.2000e-04, 1.2000e-04, 8.0000e-05, 8.0000e-05, 8.0000e-05,\n",
       "       8.0000e-05, 8.0000e-05, 8.0000e-05, 8.0000e-05, 8.0000e-05,\n",
       "       8.0000e-05, 8.0000e-05, 8.0000e-05, 4.0000e-05, 4.0000e-05,\n",
       "       4.0000e-05, 4.0000e-05, 4.0000e-05, 4.0000e-05, 4.0000e-05,\n",
       "       4.0000e-05, 4.0000e-05, 4.0000e-05, 4.0000e-05, 4.0000e-05,\n",
       "       4.0000e-05, 4.0000e-05, 4.0000e-05, 4.0000e-05, 4.0000e-05,\n",
       "       4.0000e-05, 4.0000e-05, 4.0000e-05, 4.0000e-05, 4.0000e-05,\n",
       "       4.0000e-05])"
      ]
     },
     "execution_count": 687,
     "metadata": {},
     "output_type": "execute_result"
    }
   ],
   "source": [
    "tops,freqs = get_topology_frequencies_from_list(theory_gt_tops)\n",
    "freqs"
   ]
  },
  {
   "cell_type": "code",
   "execution_count": 688,
   "metadata": {},
   "outputs": [
    {
     "name": "stdout",
     "output_type": "stream",
     "text": [
      "getting unique topologies...\n",
      "getting topology frequencies...\n"
     ]
    },
    {
     "data": {
      "application/vnd.jupyter.widget-view+json": {
       "model_id": "f6721f825b6b4655b466d8a6cf8beedb",
       "version_major": 2,
       "version_minor": 0
      },
      "text/plain": [
       "HBox(children=(FloatProgress(value=0.0, max=81.0), HTML(value='')))"
      ]
     },
     "metadata": {},
     "output_type": "display_data"
    },
    {
     "name": "stdout",
     "output_type": "stream",
     "text": [
      "\n"
     ]
    },
    {
     "data": {
      "text/plain": [
       "array([3.2680e-01, 2.8644e-01, 2.8228e-01, 8.2400e-03, 7.6400e-03,\n",
       "       6.5200e-03, 5.4400e-03, 5.2000e-03, 5.0400e-03, 4.7200e-03,\n",
       "       4.4400e-03, 4.2000e-03, 4.0800e-03, 4.0400e-03, 3.8400e-03,\n",
       "       3.6400e-03, 3.6400e-03, 3.4800e-03, 3.4400e-03, 3.2000e-03,\n",
       "       3.1600e-03, 3.0800e-03, 2.9600e-03, 2.8000e-03, 2.7600e-03,\n",
       "       2.4400e-03, 2.3600e-03, 2.8000e-04, 2.4000e-04, 1.6000e-04,\n",
       "       1.6000e-04, 1.6000e-04, 1.2000e-04, 1.2000e-04, 1.2000e-04,\n",
       "       1.2000e-04, 1.2000e-04, 1.2000e-04, 1.2000e-04, 8.0000e-05,\n",
       "       8.0000e-05, 8.0000e-05, 8.0000e-05, 8.0000e-05, 8.0000e-05,\n",
       "       8.0000e-05, 8.0000e-05, 8.0000e-05, 8.0000e-05, 8.0000e-05,\n",
       "       8.0000e-05, 8.0000e-05, 8.0000e-05, 8.0000e-05, 4.0000e-05,\n",
       "       4.0000e-05, 4.0000e-05, 4.0000e-05, 4.0000e-05, 4.0000e-05,\n",
       "       4.0000e-05, 4.0000e-05, 4.0000e-05, 4.0000e-05, 4.0000e-05,\n",
       "       4.0000e-05, 4.0000e-05, 4.0000e-05, 4.0000e-05, 4.0000e-05,\n",
       "       4.0000e-05, 4.0000e-05, 4.0000e-05, 4.0000e-05, 4.0000e-05,\n",
       "       4.0000e-05, 4.0000e-05, 4.0000e-05, 4.0000e-05, 4.0000e-05,\n",
       "       4.0000e-05])"
      ]
     },
     "execution_count": 688,
     "metadata": {},
     "output_type": "execute_result"
    }
   ],
   "source": [
    "tops,freqs = get_topology_frequencies_from_list(ipcoal_gt_tops)\n",
    "freqs"
   ]
  },
  {
   "cell_type": "markdown",
   "metadata": {},
   "source": [
    "### function to get total tree length"
   ]
  },
  {
   "cell_type": "code",
   "execution_count": 692,
   "metadata": {},
   "outputs": [],
   "source": [
    "def get_tree_length(ttree):\n",
    "    tlength = 0\n",
    "    for n_ in ttree.treenode.traverse(strategy='postorder'):\n",
    "        if not n_.is_root():\n",
    "            tlength += n_.dist\n",
    "    return(tlength)"
   ]
  },
  {
   "cell_type": "code",
   "execution_count": 693,
   "metadata": {},
   "outputs": [
    {
     "data": {
      "text/plain": [
       "3747535.5999999996"
      ]
     },
     "execution_count": 693,
     "metadata": {},
     "output_type": "execute_result"
    }
   ],
   "source": [
    "get_tree_length(t)"
   ]
  },
  {
   "cell_type": "markdown",
   "metadata": {},
   "source": [
    "### function to identify location for a recombination event"
   ]
  },
  {
   "cell_type": "code",
   "execution_count": 716,
   "metadata": {},
   "outputs": [],
   "source": [
    "def get_recombination_location(ttree):\n",
    "    tl = get_tree_length(ttree)\n",
    "    rec_loc_num = np.random.uniform(0,tl)\n",
    "    \n",
    "    accum_length = 0\n",
    "    for n_ in ttree.treenode.traverse(strategy='postorder'):\n",
    "        if accum_length + n_.dist < rec_loc_num:\n",
    "            accum_length += n_.dist\n",
    "        else:\n",
    "            return(n_, (rec_loc_num - accum_length))"
   ]
  },
  {
   "cell_type": "code",
   "execution_count": 757,
   "metadata": {},
   "outputs": [],
   "source": [
    "tn, l = get_recombination_location(t)"
   ]
  },
  {
   "cell_type": "code",
   "execution_count": 758,
   "metadata": {},
   "outputs": [
    {
     "data": {
      "text/plain": [
       "537017.2"
      ]
     },
     "execution_count": 758,
     "metadata": {},
     "output_type": "execute_result"
    }
   ],
   "source": [
    "tn.dist"
   ]
  },
  {
   "cell_type": "code",
   "execution_count": 759,
   "metadata": {},
   "outputs": [
    {
     "data": {
      "text/plain": [
       "484784.9459331031"
      ]
     },
     "execution_count": 759,
     "metadata": {},
     "output_type": "execute_result"
    }
   ],
   "source": [
    "l"
   ]
  },
  {
   "cell_type": "code",
   "execution_count": 761,
   "metadata": {},
   "outputs": [
    {
     "data": {
      "text/plain": [
       "<toytree.TreeNode.TreeNode at 0x133c2c0f0>"
      ]
     },
     "execution_count": 761,
     "metadata": {},
     "output_type": "execute_result"
    }
   ],
   "source": [
    "tn.get_leaves()[0]"
   ]
  },
  {
   "cell_type": "code",
   "execution_count": 763,
   "metadata": {},
   "outputs": [
    {
     "data": {
      "text/plain": [
       "0"
      ]
     },
     "execution_count": 763,
     "metadata": {},
     "output_type": "execute_result"
    }
   ],
   "source": [
    "tn.idx"
   ]
  },
  {
   "cell_type": "markdown",
   "metadata": {},
   "source": [
    "### function to identify timeline of events above recombination point:"
   ]
  },
  {
   "cell_type": "code",
   "execution_count": 764,
   "metadata": {},
   "outputs": [],
   "source": [
    "def collect_Ne_times_above_point(gt_node,rec_dist,sp_tree):\n",
    "    time0 = gt_node.height + rec_dist\n",
    "    # find the node in the species tree just below rec point\n",
    "    # initialize with random leaf below node\n",
    "    sp_node = gt_node.get_leaves()[0]\n",
    "    while sp_node.up.height < time0:\n",
    "        sp_node = sp_node.up\n",
    "    \n",
    "    # now we have the node in the species tree above which the recombination event happens.\n",
    "    # now let's make lists of start and stop times, and Ne values:\n",
    "    starts = []\n",
    "    stops = []\n",
    "    Nes = []\n",
    "    "
   ]
  },
  {
   "cell_type": "code",
   "execution_count": 766,
   "metadata": {},
   "outputs": [
    {
     "data": {
      "text/plain": [
       "0"
      ]
     },
     "execution_count": 766,
     "metadata": {},
     "output_type": "execute_result"
    }
   ],
   "source": [
    "collect_Ne_times_above_point(tn,l,t).idx"
   ]
  },
  {
   "cell_type": "code",
   "execution_count": null,
   "metadata": {},
   "outputs": [],
   "source": []
  },
  {
   "cell_type": "code",
   "execution_count": null,
   "metadata": {},
   "outputs": [],
   "source": []
  },
  {
   "cell_type": "code",
   "execution_count": null,
   "metadata": {},
   "outputs": [],
   "source": []
  },
  {
   "cell_type": "markdown",
   "metadata": {},
   "source": [
    "### Let's start by figuring out recombination in a single population..."
   ]
  },
  {
   "cell_type": "code",
   "execution_count": 775,
   "metadata": {},
   "outputs": [],
   "source": [
    "def sample_coalescent_tree(coalescence_times,taxon_names):\n",
    "    counter = 0\n",
    "    coal_clades = []\n",
    "    clade_recorder = []\n",
    "    for node in range(len(coalescence_times)):\n",
    "        options = taxon_names\n",
    "        new_options = reconcile_options(coal_clades,options)\n",
    "        new_choices = [new_options[ch_idx] for ch_idx in np.random.choice(range(len(new_options)),2,replace=False)]\n",
    "        for ch in new_choices:\n",
    "            if ch in coal_clades:\n",
    "                coal_clades.remove(ch)\n",
    "        coal_clades.append(list(new_choices))\n",
    "        clade_recorder.append(new_choices)\n",
    "        counter += 1\n",
    "    strd = str(coal_clades[0])\n",
    "    genealogy = toytree.tree(strd.replace(\"[\",\"(\").replace(\"]\",\")\").replace(\"'\",\"\") + ';')\n",
    "    node_heights = {}\n",
    "    for cl,he in zip(clade_recorder,coalescence_times):\n",
    "        node_idx = genealogy.get_mrca_idx_from_tip_labels(list(flatten(cl)))\n",
    "        node_heights[node_idx] = he\n",
    "        \n",
    "        \n",
    "    for n in genealogy.treenode.traverse('preorder'):\n",
    "        if not n.is_leaf():\n",
    "            for child in n.children:\n",
    "                if not child.is_leaf():\n",
    "                    child.dist = node_heights[n.idx] - node_heights[child.idx]\n",
    "                else:\n",
    "                    child.dist = node_heights[n.idx]\n",
    "    return(genealogy)"
   ]
  },
  {
   "cell_type": "code",
   "execution_count": 770,
   "metadata": {},
   "outputs": [],
   "source": [
    "ntaxa = 5\n",
    "Ne = 100"
   ]
  },
  {
   "cell_type": "code",
   "execution_count": 773,
   "metadata": {},
   "outputs": [],
   "source": [
    "coaltimes = []\n",
    "currtime = 0\n",
    "for i in range(5,1,-1):\n",
    "    new_wait = np.random.exponential((4*Ne) / (i*(i-1)))\n",
    "    currtime += new_wait\n",
    "    coaltimes.append(currtime)"
   ]
  },
  {
   "cell_type": "code",
   "execution_count": 774,
   "metadata": {},
   "outputs": [
    {
     "data": {
      "text/plain": [
       "[14.27616134481968, 39.40967893346132, 44.542653166138116, 222.52813600778535]"
      ]
     },
     "execution_count": 774,
     "metadata": {},
     "output_type": "execute_result"
    }
   ],
   "source": [
    "coaltimes"
   ]
  },
  {
   "cell_type": "code",
   "execution_count": 785,
   "metadata": {},
   "outputs": [
    {
     "data": {
      "text/html": [
       "<div class=\"toyplot\" id=\"t35a5aa2fb2be4e5aafe543acb4e0898a\" style=\"text-align:center\"><svg class=\"toyplot-canvas-Canvas\" height=\"275.0px\" id=\"t9782a4fc48e84e1f918201ddeee049af\" preserveAspectRatio=\"xMidYMid meet\" style=\"background-color:transparent;border-color:#292724;border-style:none;border-width:1.0;fill:rgb(16.1%,15.3%,14.1%);fill-opacity:1.0;font-family:Helvetica;font-size:12px;opacity:1.0;stroke:rgb(16.1%,15.3%,14.1%);stroke-opacity:1.0;stroke-width:1.0\" viewBox=\"0 0 260.0 275.0\" width=\"260.0px\" xmlns=\"http://www.w3.org/2000/svg\" xmlns:toyplot=\"http://www.sandia.gov/toyplot\" xmlns:xlink=\"http://www.w3.org/1999/xlink\"><g class=\"toyplot-coordinates-Cartesian\" id=\"t581bb7d1f66746f6944e91daadda973e\"><clipPath id=\"tf55f93af2dc44338ba34935a57778cc0\"><rect height=\"215.0\" width=\"200.0\" x=\"30.0\" y=\"30.0\"></rect></clipPath><g clip-path=\"url(#tf55f93af2dc44338ba34935a57778cc0)\"><g class=\"toytree-mark-Toytree\" id=\"t682d86f0df2346f58255fcce70e1b2e7\"><g class=\"toytree-Edges\" style=\"fill:none;stroke:rgb(14.9%,14.9%,14.9%);stroke-linecap:round;stroke-opacity:1;stroke-width:2\"><path d=\"M 51.8 96.9 L 51.8 132.7 L 165.1 132.7\" id=\"8,7\"></path><path d=\"M 165.1 132.7 L 165.1 166.2 L 168.4 166.2\" id=\"7,6\"></path><path d=\"M 168.4 166.2 L 168.4 194.9 L 184.4 194.9\" id=\"6,5\"></path><path d=\"M 51.8 96.9 L 51.8 61.0 L 193.5 61.0\" id=\"8,4\"></path><path d=\"M 165.1 132.7 L 165.1 99.3 L 193.5 99.3\" id=\"7,3\"></path><path d=\"M 168.4 166.2 L 168.4 137.5 L 193.5 137.5\" id=\"6,2\"></path><path d=\"M 184.4 194.9 L 184.4 175.7 L 193.5 175.7\" id=\"5,1\"></path><path d=\"M 184.4 194.9 L 184.4 214.0 L 193.5 214.0\" id=\"5,0\"></path></g><g class=\"toytree-TipLabels\" style=\"fill:rgb(14.9%,14.9%,14.9%);fill-opacity:1.0;font-family:helvetica;font-size:11px;font-weight:normal;stroke:none;white-space:pre\"><g transform=\"translate(193.47,213.99)rotate(0)\"><text style=\"\" x=\"15.00\" y=\"2.81\">r3</text></g><g transform=\"translate(193.47,175.74)rotate(0)\"><text style=\"\" x=\"15.00\" y=\"2.81\">r1</text></g><g transform=\"translate(193.47,137.50)rotate(0)\"><text style=\"\" x=\"15.00\" y=\"2.81\">r4</text></g><g transform=\"translate(193.47,99.26)rotate(0)\"><text style=\"\" x=\"15.00\" y=\"2.81\">r5</text></g><g transform=\"translate(193.47,61.01)rotate(0)\"><text style=\"\" x=\"15.00\" y=\"2.81\">r2</text></g></g></g></g></g></svg><div class=\"toyplot-behavior\"><script>(function()\n",
       "{\n",
       "var modules={};\n",
       "})();</script></div></div>"
      ]
     },
     "metadata": {},
     "output_type": "display_data"
    }
   ],
   "source": [
    "sample_coalescent_tree(coaltimes,['r1','r2','r3','r4','r5']).draw();"
   ]
  },
  {
   "cell_type": "code",
   "execution_count": 782,
   "metadata": {},
   "outputs": [],
   "source": [
    "tree = sample_coalescent_tree(coaltimes,['r1','r2','r3','r4','r5'])"
   ]
  },
  {
   "cell_type": "code",
   "execution_count": 788,
   "metadata": {},
   "outputs": [
    {
     "data": {
      "text/plain": [
       "5"
      ]
     },
     "execution_count": 788,
     "metadata": {},
     "output_type": "execute_result"
    }
   ],
   "source": [
    "tree.ntips"
   ]
  },
  {
   "cell_type": "code",
   "execution_count": 786,
   "metadata": {},
   "outputs": [],
   "source": [
    "def get_coaltimes(tree):\n",
    "    heights = []\n",
    "    for tn in tree.treenode.traverse():\n",
    "        if not tn.is_leaf():\n",
    "            heights.append(tn.height)\n",
    "    return(list(np.sort(heights)))"
   ]
  },
  {
   "cell_type": "code",
   "execution_count": 789,
   "metadata": {},
   "outputs": [
    {
     "data": {
      "text/plain": [
       "[0, 14.276161344819684, 39.40967893346132, 44.54265316613811]"
      ]
     },
     "execution_count": 789,
     "metadata": {},
     "output_type": "execute_result"
    }
   ],
   "source": [
    "[0]+get_coaltimes(tree)[:-1]"
   ]
  },
  {
   "cell_type": "code",
   "execution_count": 801,
   "metadata": {},
   "outputs": [],
   "source": [
    "def num_at_intervals(tree):\n",
    "    cts = get_coaltimes(tree)\n",
    "    starts = [0]+cts\n",
    "    stops = cts\n",
    "    ns = list(range(tree.ntips,0,-1))\n",
    "    return(pd.DataFrame([starts,stops,ns],index=[\"starts\",\"stops\",\"n_lineages\"]).T)"
   ]
  },
  {
   "cell_type": "code",
   "execution_count": 859,
   "metadata": {},
   "outputs": [
    {
     "data": {
      "text/html": [
       "<div>\n",
       "<style scoped>\n",
       "    .dataframe tbody tr th:only-of-type {\n",
       "        vertical-align: middle;\n",
       "    }\n",
       "\n",
       "    .dataframe tbody tr th {\n",
       "        vertical-align: top;\n",
       "    }\n",
       "\n",
       "    .dataframe thead th {\n",
       "        text-align: right;\n",
       "    }\n",
       "</style>\n",
       "<table border=\"1\" class=\"dataframe\">\n",
       "  <thead>\n",
       "    <tr style=\"text-align: right;\">\n",
       "      <th></th>\n",
       "      <th>starts</th>\n",
       "      <th>stops</th>\n",
       "      <th>n_lineages</th>\n",
       "    </tr>\n",
       "  </thead>\n",
       "  <tbody>\n",
       "    <tr>\n",
       "      <th>0</th>\n",
       "      <td>0.000000</td>\n",
       "      <td>14.276161</td>\n",
       "      <td>5.0</td>\n",
       "    </tr>\n",
       "    <tr>\n",
       "      <th>1</th>\n",
       "      <td>14.276161</td>\n",
       "      <td>39.409679</td>\n",
       "      <td>4.0</td>\n",
       "    </tr>\n",
       "    <tr>\n",
       "      <th>2</th>\n",
       "      <td>39.409679</td>\n",
       "      <td>44.542653</td>\n",
       "      <td>3.0</td>\n",
       "    </tr>\n",
       "    <tr>\n",
       "      <th>3</th>\n",
       "      <td>44.542653</td>\n",
       "      <td>222.528136</td>\n",
       "      <td>2.0</td>\n",
       "    </tr>\n",
       "    <tr>\n",
       "      <th>4</th>\n",
       "      <td>222.528136</td>\n",
       "      <td>NaN</td>\n",
       "      <td>1.0</td>\n",
       "    </tr>\n",
       "  </tbody>\n",
       "</table>\n",
       "</div>"
      ],
      "text/plain": [
       "       starts       stops  n_lineages\n",
       "0    0.000000   14.276161         5.0\n",
       "1   14.276161   39.409679         4.0\n",
       "2   39.409679   44.542653         3.0\n",
       "3   44.542653  222.528136         2.0\n",
       "4  222.528136         NaN         1.0"
      ]
     },
     "execution_count": 859,
     "metadata": {},
     "output_type": "execute_result"
    }
   ],
   "source": [
    "interval_table = num_at_intervals(tree)\n",
    "interval_table"
   ]
  },
  {
   "cell_type": "code",
   "execution_count": 882,
   "metadata": {},
   "outputs": [],
   "source": [
    "def repeat_pairwise_coal_waittime(n_lineages, Ne):\n",
    "    '''\n",
    "    this is to take a single focal lineage (a member of \"n_linages\" \n",
    "    and test its waiting time to coalescence with any of the other lineages)\n",
    "    '''\n",
    "    \n",
    "    return(np.random.exponential((2*Ne)/(n_lineages)))"
   ]
  },
  {
   "cell_type": "code",
   "execution_count": 857,
   "metadata": {},
   "outputs": [],
   "source": [
    "tr = 15.3"
   ]
  },
  {
   "cell_type": "code",
   "execution_count": 865,
   "metadata": {},
   "outputs": [
    {
     "data": {
      "text/plain": [
       "starts        14.276161\n",
       "stops         39.409679\n",
       "n_lineages     4.000000\n",
       "Name: 1, dtype: float64"
      ]
     },
     "execution_count": 865,
     "metadata": {},
     "output_type": "execute_result"
    }
   ],
   "source": [
    "row = interval_table.iloc[np.sum(interval_table.starts < tr)-1]\n",
    "row"
   ]
  },
  {
   "cell_type": "code",
   "execution_count": 869,
   "metadata": {},
   "outputs": [
    {
     "data": {
      "text/plain": [
       "24.10967893346132"
      ]
     },
     "execution_count": 869,
     "metadata": {},
     "output_type": "execute_result"
    }
   ],
   "source": [
    "time_in_int = row.stops-tr\n",
    "time_in_int"
   ]
  },
  {
   "cell_type": "code",
   "execution_count": 918,
   "metadata": {},
   "outputs": [
    {
     "name": "stdout",
     "output_type": "stream",
     "text": [
      "50.82947040973409\n",
      "18.703965936050697\n",
      "317.27082223124887\n",
      "149.13511069066493\n"
     ]
    }
   ],
   "source": [
    "chosen_nlin_interval = 0\n",
    "chosen_nlin_time = 0\n",
    "wait = repeat_pairwise_coal_waittime(row.n_lineages,Ne)\n",
    "print(wait)\n",
    "if wait < time_in_int:\n",
    "    chosen_nlin_interval = int(row.n_lineages)\n",
    "    chosen_nlin_time = row.starts + wait\n",
    "else:\n",
    "    if row.n_lineages > 1:\n",
    "        for rowidx in range(int(row.n_lineages-1),1,-1):\n",
    "            brlen = float(interval_table[interval_table.n_lineages.eq(rowidx)].stops - interval_table[interval_table.n_lineages.eq(rowidx)].starts)\n",
    "            wait = repeat_pairwise_coal_waittime(rowidx,Ne)\n",
    "            print(wait)\n",
    "            if wait < brlen:\n",
    "                if not chosen_nlin_interval:\n",
    "                    chosen_nlin_interval = rowidx\n",
    "                    chosen_nlin_time = float(interval_table[interval_table.n_lineages.eq(rowidx)].starts) + wait\n",
    "    if not chosen_nlin_interval:\n",
    "        wait = repeat_pairwise_coal_waittime(1,Ne)\n",
    "        print(wait)\n",
    "        chosen_nlin_interval = 1\n",
    "        chosen_nlin_time = float(interval_table[interval_table.n_lineages.eq(1)].starts) + wait\n",
    "            \n",
    "                \n",
    "                \n",
    "                "
   ]
  },
  {
   "cell_type": "code",
   "execution_count": 919,
   "metadata": {},
   "outputs": [
    {
     "data": {
      "text/plain": [
       "1"
      ]
     },
     "execution_count": 919,
     "metadata": {},
     "output_type": "execute_result"
    }
   ],
   "source": [
    "chosen_nlin_interval"
   ]
  },
  {
   "cell_type": "code",
   "execution_count": 920,
   "metadata": {},
   "outputs": [
    {
     "data": {
      "text/plain": [
       "371.6632466984503"
      ]
     },
     "execution_count": 920,
     "metadata": {},
     "output_type": "execute_result"
    }
   ],
   "source": [
    "chosen_nlin_time"
   ]
  },
  {
   "cell_type": "code",
   "execution_count": 881,
   "metadata": {},
   "outputs": [
    {
     "data": {
      "text/html": [
       "<div>\n",
       "<style scoped>\n",
       "    .dataframe tbody tr th:only-of-type {\n",
       "        vertical-align: middle;\n",
       "    }\n",
       "\n",
       "    .dataframe tbody tr th {\n",
       "        vertical-align: top;\n",
       "    }\n",
       "\n",
       "    .dataframe thead th {\n",
       "        text-align: right;\n",
       "    }\n",
       "</style>\n",
       "<table border=\"1\" class=\"dataframe\">\n",
       "  <thead>\n",
       "    <tr style=\"text-align: right;\">\n",
       "      <th></th>\n",
       "      <th>starts</th>\n",
       "      <th>stops</th>\n",
       "      <th>n_lineages</th>\n",
       "    </tr>\n",
       "  </thead>\n",
       "  <tbody>\n",
       "    <tr>\n",
       "      <th>0</th>\n",
       "      <td>0.000000</td>\n",
       "      <td>14.276161</td>\n",
       "      <td>5.0</td>\n",
       "    </tr>\n",
       "    <tr>\n",
       "      <th>1</th>\n",
       "      <td>14.276161</td>\n",
       "      <td>39.409679</td>\n",
       "      <td>4.0</td>\n",
       "    </tr>\n",
       "    <tr>\n",
       "      <th>2</th>\n",
       "      <td>39.409679</td>\n",
       "      <td>44.542653</td>\n",
       "      <td>3.0</td>\n",
       "    </tr>\n",
       "    <tr>\n",
       "      <th>3</th>\n",
       "      <td>44.542653</td>\n",
       "      <td>222.528136</td>\n",
       "      <td>2.0</td>\n",
       "    </tr>\n",
       "    <tr>\n",
       "      <th>4</th>\n",
       "      <td>222.528136</td>\n",
       "      <td>NaN</td>\n",
       "      <td>1.0</td>\n",
       "    </tr>\n",
       "  </tbody>\n",
       "</table>\n",
       "</div>"
      ],
      "text/plain": [
       "       starts       stops  n_lineages\n",
       "0    0.000000   14.276161         5.0\n",
       "1   14.276161   39.409679         4.0\n",
       "2   39.409679   44.542653         3.0\n",
       "3   44.542653  222.528136         2.0\n",
       "4  222.528136         NaN         1.0"
      ]
     },
     "execution_count": 881,
     "metadata": {},
     "output_type": "execute_result"
    }
   ],
   "source": [
    "interval_table"
   ]
  },
  {
   "cell_type": "code",
   "execution_count": 924,
   "metadata": {},
   "outputs": [],
   "source": [
    "def get_edges_spanning_height(tree,height):\n",
    "    edges = []\n",
    "    for tn in tree.treenode.traverse():\n",
    "        if tn.height < height and (tn.height + tn.dist) > height:\n",
    "            edges.append(tn)\n",
    "    return(edges)"
   ]
  },
  {
   "cell_type": "code",
   "execution_count": 930,
   "metadata": {},
   "outputs": [
    {
     "data": {
      "text/plain": [
       "[<toytree.TreeNode.TreeNode at 0x16183cda0>,\n",
       " <toytree.TreeNode.TreeNode at 0x16183c4e0>,\n",
       " <toytree.TreeNode.TreeNode at 0x16183ceb8>,\n",
       " <toytree.TreeNode.TreeNode at 0x16183c470>]"
      ]
     },
     "execution_count": 930,
     "metadata": {},
     "output_type": "execute_result"
    }
   ],
   "source": [
    "get_edges_spanning_height(tree,15)"
   ]
  },
  {
   "cell_type": "code",
   "execution_count": null,
   "metadata": {},
   "outputs": [],
   "source": []
  },
  {
   "cell_type": "code",
   "execution_count": null,
   "metadata": {},
   "outputs": [],
   "source": []
  },
  {
   "cell_type": "code",
   "execution_count": null,
   "metadata": {},
   "outputs": [],
   "source": []
  },
  {
   "cell_type": "code",
   "execution_count": 958,
   "metadata": {},
   "outputs": [],
   "source": [
    "tree = toytree.rtree.imbtree(8)"
   ]
  },
  {
   "cell_type": "code",
   "execution_count": 962,
   "metadata": {},
   "outputs": [
    {
     "data": {
      "text/html": [
       "<div class=\"toyplot\" id=\"t55fb0ff6482e4a28ace832a123b16437\" style=\"text-align:center\"><svg class=\"toyplot-canvas-Canvas\" height=\"275.0px\" id=\"t8a788425a722439daa920a3964049b75\" preserveAspectRatio=\"xMidYMid meet\" style=\"background-color:transparent;border-color:#292724;border-style:none;border-width:1.0;fill:rgb(16.1%,15.3%,14.1%);fill-opacity:1.0;font-family:Helvetica;font-size:12px;opacity:1.0;stroke:rgb(16.1%,15.3%,14.1%);stroke-opacity:1.0;stroke-width:1.0\" viewBox=\"0 0 260.0 275.0\" width=\"260.0px\" xmlns=\"http://www.w3.org/2000/svg\" xmlns:toyplot=\"http://www.sandia.gov/toyplot\" xmlns:xlink=\"http://www.w3.org/1999/xlink\"><g class=\"toyplot-coordinates-Cartesian\" id=\"tf51bb11902334ba28b7804573b06d9d6\"><clipPath id=\"ta74ef0f2907a416eaa9ac5dd1f0ecacb\"><rect height=\"215.0\" width=\"200.0\" x=\"30.0\" y=\"30.0\"></rect></clipPath><g clip-path=\"url(#ta74ef0f2907a416eaa9ac5dd1f0ecacb)\"><g class=\"toytree-mark-Toytree\" id=\"t9f0221275a9a481bbb7ecf9b2e68f832\"><g class=\"toytree-Edges\" style=\"fill:none;stroke:rgb(14.9%,14.9%,14.9%);stroke-linecap:round;stroke-opacity:1;stroke-width:2\"><path d=\"M 62.4 84.0 L 62.4 105.2 L 81.3 105.2\" id=\"14,13\"></path><path d=\"M 81.3 105.2 L 81.3 126.2 L 100.2 126.2\" id=\"13,12\"></path><path d=\"M 100.2 126.2 L 100.2 146.8 L 119.0 146.8\" id=\"12,11\"></path><path d=\"M 119.0 146.8 L 119.0 166.8 L 137.9 166.8\" id=\"11,10\"></path><path d=\"M 137.9 166.8 L 137.9 185.5 L 156.8 185.5\" id=\"10,9\"></path><path d=\"M 156.8 185.5 L 156.8 201.5 L 175.7 201.5\" id=\"9,8\"></path><path d=\"M 62.4 84.0 L 62.4 62.8 L 194.6 62.8\" id=\"14,7\"></path><path d=\"M 81.3 105.2 L 81.3 84.1 L 194.6 84.1\" id=\"13,6\"></path><path d=\"M 100.2 126.2 L 100.2 105.5 L 194.6 105.5\" id=\"12,5\"></path><path d=\"M 119.0 146.8 L 119.0 126.8 L 194.6 126.8\" id=\"11,4\"></path><path d=\"M 137.9 166.8 L 137.9 148.2 L 194.6 148.2\" id=\"10,3\"></path><path d=\"M 156.8 185.5 L 156.8 169.5 L 194.6 169.5\" id=\"9,2\"></path><path d=\"M 175.7 201.5 L 175.7 190.9 L 194.6 190.9\" id=\"8,1\"></path><path d=\"M 175.7 201.5 L 175.7 212.2 L 194.6 212.2\" id=\"8,0\"></path></g><g class=\"toytree-Nodes\" style=\"fill:rgb(82.7%,82.7%,82.7%);fill-opacity:1.0;stroke:rgb(14.9%,14.9%,14.9%);stroke-opacity:1.0;stroke-width:1.5\"><g id=\"node-0\" transform=\"translate(194.577,212.195)\"><circle r=\"7.5\"></circle></g><g id=\"node-1\" transform=\"translate(194.577,190.854)\"><circle r=\"7.5\"></circle></g><g id=\"node-2\" transform=\"translate(194.577,169.512)\"><circle r=\"7.5\"></circle></g><g id=\"node-3\" transform=\"translate(194.577,148.171)\"><circle r=\"7.5\"></circle></g><g id=\"node-4\" transform=\"translate(194.577,126.829)\"><circle r=\"7.5\"></circle></g><g id=\"node-5\" transform=\"translate(194.577,105.488)\"><circle r=\"7.5\"></circle></g><g id=\"node-6\" transform=\"translate(194.577,84.146)\"><circle r=\"7.5\"></circle></g><g id=\"node-7\" transform=\"translate(194.577,62.805)\"><circle r=\"7.5\"></circle></g><g id=\"node-8\" transform=\"translate(175.693,201.524)\"><circle r=\"7.5\"></circle></g><g id=\"node-9\" transform=\"translate(156.810,185.518)\"><circle r=\"7.5\"></circle></g><g id=\"node-10\" transform=\"translate(137.926,166.845)\"><circle r=\"7.5\"></circle></g><g id=\"node-11\" transform=\"translate(119.043,146.837)\"><circle r=\"7.5\"></circle></g><g id=\"node-12\" transform=\"translate(100.159,126.162)\"><circle r=\"7.5\"></circle></g><g id=\"node-13\" transform=\"translate(81.276,105.154)\"><circle r=\"7.5\"></circle></g><g id=\"node-14\" transform=\"translate(62.392,83.980)\"><circle r=\"7.5\"></circle></g></g><g class=\"toytree-NodeLabels\" style=\"fill:rgb(14.9%,14.9%,14.9%);fill-opacity:1.0;font-size:9px;stroke:none\"><g transform=\"translate(192.07,214.49)\"><text>0</text></g><g transform=\"translate(192.07,193.15)\"><text>1</text></g><g transform=\"translate(192.07,171.81)\"><text>2</text></g><g transform=\"translate(192.07,150.47)\"><text>3</text></g><g transform=\"translate(192.07,129.13)\"><text>4</text></g><g transform=\"translate(192.07,107.79)\"><text>5</text></g><g transform=\"translate(192.07,86.45)\"><text>6</text></g><g transform=\"translate(192.07,65.10)\"><text>7</text></g><g transform=\"translate(173.19,203.82)\"><text>8</text></g><g transform=\"translate(154.31,187.82)\"><text>9</text></g><g transform=\"translate(132.92,169.14)\"><text>10</text></g><g transform=\"translate(114.04,149.14)\"><text>11</text></g><g transform=\"translate(95.16,128.46)\"><text>12</text></g><g transform=\"translate(76.27,107.45)\"><text>13</text></g><g transform=\"translate(57.39,86.28)\"><text>14</text></g></g><g class=\"toytree-TipLabels\" style=\"fill:rgb(14.9%,14.9%,14.9%);fill-opacity:1.0;font-family:helvetica;font-size:11px;font-weight:normal;stroke:none;white-space:pre\"><g transform=\"translate(194.58,212.20)rotate(0)\"><text style=\"\" x=\"15.00\" y=\"2.81\">r0</text></g><g transform=\"translate(194.58,190.85)rotate(0)\"><text style=\"\" x=\"15.00\" y=\"2.81\">r1</text></g><g transform=\"translate(194.58,169.51)rotate(0)\"><text style=\"\" x=\"15.00\" y=\"2.81\">r2</text></g><g transform=\"translate(194.58,148.17)rotate(0)\"><text style=\"\" x=\"15.00\" y=\"2.81\">r3</text></g><g transform=\"translate(194.58,126.83)rotate(0)\"><text style=\"\" x=\"15.00\" y=\"2.81\">r4</text></g><g transform=\"translate(194.58,105.49)rotate(0)\"><text style=\"\" x=\"15.00\" y=\"2.81\">r5</text></g><g transform=\"translate(194.58,84.15)rotate(0)\"><text style=\"\" x=\"15.00\" y=\"2.81\">r6</text></g><g transform=\"translate(194.58,62.80)rotate(0)\"><text style=\"\" x=\"15.00\" y=\"2.81\">r7</text></g></g></g></g></g></svg><div class=\"toyplot-behavior\"><script>(function()\n",
       "{\n",
       "var modules={};\n",
       "})();</script></div></div>"
      ]
     },
     "metadata": {},
     "output_type": "display_data"
    }
   ],
   "source": [
    "tree.draw(ts='s');"
   ]
  },
  {
   "cell_type": "code",
   "execution_count": 964,
   "metadata": {},
   "outputs": [
    {
     "data": {
      "text/plain": [
       "<toytree.Toytree.ToyTree at 0x13403c630>"
      ]
     },
     "execution_count": 964,
     "metadata": {},
     "output_type": "execute_result"
    }
   ],
   "source": [
    "pastetree = tree.copy()"
   ]
  },
  {
   "cell_type": "code",
   "execution_count": 937,
   "metadata": {},
   "outputs": [],
   "source": [
    "node = tree.treenode.search_nodes(idx=10)[0]"
   ]
  },
  {
   "cell_type": "code",
   "execution_count": 939,
   "metadata": {},
   "outputs": [
    {
     "data": {
      "text/plain": [
       "['r3', 'r2', 'r1', 'r0']"
      ]
     },
     "execution_count": 939,
     "metadata": {},
     "output_type": "execute_result"
    }
   ],
   "source": [
    "node.get_leaf_names()"
   ]
  },
  {
   "cell_type": "code",
   "execution_count": 941,
   "metadata": {},
   "outputs": [],
   "source": [
    "tree = tree.drop_tips(node.get_leaf_names())"
   ]
  },
  {
   "cell_type": "code",
   "execution_count": 943,
   "metadata": {},
   "outputs": [
    {
     "data": {
      "text/html": [
       "<div class=\"toyplot\" id=\"t21348795d80f490e86655ba75f1d262e\" style=\"text-align:center\"><svg class=\"toyplot-canvas-Canvas\" height=\"275.0px\" id=\"t929f0ee8a4df410d9437d59e418130c9\" preserveAspectRatio=\"xMidYMid meet\" style=\"background-color:transparent;border-color:#292724;border-style:none;border-width:1.0;fill:rgb(16.1%,15.3%,14.1%);fill-opacity:1.0;font-family:Helvetica;font-size:12px;opacity:1.0;stroke:rgb(16.1%,15.3%,14.1%);stroke-opacity:1.0;stroke-width:1.0\" viewBox=\"0 0 260.0 275.0\" width=\"260.0px\" xmlns=\"http://www.w3.org/2000/svg\" xmlns:toyplot=\"http://www.sandia.gov/toyplot\" xmlns:xlink=\"http://www.w3.org/1999/xlink\"><g class=\"toyplot-coordinates-Cartesian\" id=\"tf1298c8edc7f4ae0824cf011bb881969\"><clipPath id=\"t91a272ad875746539d9286061bf48cf4\"><rect height=\"215.0\" width=\"200.0\" x=\"30.0\" y=\"30.0\"></rect></clipPath><g clip-path=\"url(#t91a272ad875746539d9286061bf48cf4)\"><g class=\"toytree-mark-Toytree\" id=\"t8fa5683e6e8a4b36856d6ef3a0c5aa96\"><g class=\"toytree-Edges\" style=\"fill:none;stroke:rgb(14.9%,14.9%,14.9%);stroke-linecap:round;stroke-opacity:1;stroke-width:2\"><path d=\"M 62.4 106.4 L 62.4 149.9 L 106.5 149.9\" id=\"6,5\"></path><path d=\"M 106.5 149.9 L 106.5 187.3 L 150.5 187.3\" id=\"5,4\"></path><path d=\"M 62.4 106.4 L 62.4 62.8 L 194.6 62.8\" id=\"6,3\"></path><path d=\"M 106.5 149.9 L 106.5 112.6 L 194.6 112.6\" id=\"5,2\"></path><path d=\"M 150.5 187.3 L 150.5 162.4 L 194.6 162.4\" id=\"4,1\"></path><path d=\"M 150.5 187.3 L 150.5 212.2 L 194.6 212.2\" id=\"4,0\"></path></g><g class=\"toytree-Nodes\" style=\"fill:rgb(82.7%,82.7%,82.7%);fill-opacity:1.0;stroke:rgb(14.9%,14.9%,14.9%);stroke-opacity:1.0;stroke-width:1.5\"><g id=\"node-0\" transform=\"translate(194.577,212.195)\"><circle r=\"7.5\"></circle></g><g id=\"node-1\" transform=\"translate(194.577,162.398)\"><circle r=\"7.5\"></circle></g><g id=\"node-2\" transform=\"translate(194.577,112.602)\"><circle r=\"7.5\"></circle></g><g id=\"node-3\" transform=\"translate(194.577,62.805)\"><circle r=\"7.5\"></circle></g><g id=\"node-4\" transform=\"translate(150.515,187.297)\"><circle r=\"7.5\"></circle></g><g id=\"node-5\" transform=\"translate(106.454,149.949)\"><circle r=\"7.5\"></circle></g><g id=\"node-6\" transform=\"translate(62.392,106.377)\"><circle r=\"7.5\"></circle></g></g><g class=\"toytree-NodeLabels\" style=\"fill:rgb(14.9%,14.9%,14.9%);fill-opacity:1.0;font-size:9px;stroke:none\"><g transform=\"translate(192.07,214.49)\"><text>0</text></g><g transform=\"translate(192.07,164.70)\"><text>1</text></g><g transform=\"translate(192.07,114.90)\"><text>2</text></g><g transform=\"translate(192.07,65.10)\"><text>3</text></g><g transform=\"translate(148.01,189.60)\"><text>4</text></g><g transform=\"translate(103.95,152.25)\"><text>5</text></g><g transform=\"translate(59.89,108.68)\"><text>6</text></g></g><g class=\"toytree-TipLabels\" style=\"fill:rgb(14.9%,14.9%,14.9%);fill-opacity:1.0;font-family:helvetica;font-size:11px;font-weight:normal;stroke:none;white-space:pre\"><g transform=\"translate(194.58,212.20)rotate(0)\"><text style=\"\" x=\"15.00\" y=\"2.81\">r4</text></g><g transform=\"translate(194.58,162.40)rotate(0)\"><text style=\"\" x=\"15.00\" y=\"2.81\">r5</text></g><g transform=\"translate(194.58,112.60)rotate(0)\"><text style=\"\" x=\"15.00\" y=\"2.81\">r6</text></g><g transform=\"translate(194.58,62.80)rotate(0)\"><text style=\"\" x=\"15.00\" y=\"2.81\">r7</text></g></g></g></g></g></svg><div class=\"toyplot-behavior\"><script>(function()\n",
       "{\n",
       "var modules={};\n",
       "})();</script></div></div>"
      ]
     },
     "metadata": {},
     "output_type": "display_data"
    }
   ],
   "source": [
    "tree.draw(ts='s');"
   ]
  },
  {
   "cell_type": "code",
   "execution_count": 949,
   "metadata": {},
   "outputs": [],
   "source": [
    "removed_tree = toytree.tree(node)"
   ]
  },
  {
   "cell_type": "code",
   "execution_count": 951,
   "metadata": {},
   "outputs": [
    {
     "data": {
      "text/plain": [
       "'(r3:0.428571,(r2:0.285714,(r1:0.142857,r0:0.142857)0:0.142857)0:0.142857);'"
      ]
     },
     "execution_count": 951,
     "metadata": {},
     "output_type": "execute_result"
    }
   ],
   "source": [
    "removed_tree.newick"
   ]
  },
  {
   "cell_type": "code",
   "execution_count": 956,
   "metadata": {},
   "outputs": [],
   "source": [
    "for i in removed_tree.treenode.traverse():\n",
    "    if i.is_root():\n",
    "        i.dist = 1000000"
   ]
  },
  {
   "cell_type": "code",
   "execution_count": 957,
   "metadata": {},
   "outputs": [
    {
     "data": {
      "text/plain": [
       "'(r3:0.428571,(r2:0.285714,(r1:0.142857,r0:0.142857)0:0.142857)0:0.142857);'"
      ]
     },
     "execution_count": 957,
     "metadata": {},
     "output_type": "execute_result"
    }
   ],
   "source": [
    "removed_tree.newick"
   ]
  },
  {
   "cell_type": "code",
   "execution_count": 955,
   "metadata": {},
   "outputs": [
    {
     "data": {
      "text/plain": [
       "(<toyplot.canvas.Canvas at 0x140058cc0>,\n",
       " <toyplot.coordinates.Cartesian at 0x13059e1d0>,\n",
       " <toytree.Render.ToytreeMark at 0x14aed0e10>)"
      ]
     },
     "execution_count": 955,
     "metadata": {},
     "output_type": "execute_result"
    },
    {
     "data": {
      "text/html": [
       "<div class=\"toyplot\" id=\"td5ed90f5ce514e358b2491282bb23ad1\" style=\"text-align:center\"><svg class=\"toyplot-canvas-Canvas\" height=\"275.0px\" id=\"t10c0bfca0f1a4ebcb127be105e4287d4\" preserveAspectRatio=\"xMidYMid meet\" style=\"background-color:transparent;border-color:#292724;border-style:none;border-width:1.0;fill:rgb(16.1%,15.3%,14.1%);fill-opacity:1.0;font-family:Helvetica;font-size:12px;opacity:1.0;stroke:rgb(16.1%,15.3%,14.1%);stroke-opacity:1.0;stroke-width:1.0\" viewBox=\"0 0 260.0 275.0\" width=\"260.0px\" xmlns=\"http://www.w3.org/2000/svg\" xmlns:toyplot=\"http://www.sandia.gov/toyplot\" xmlns:xlink=\"http://www.w3.org/1999/xlink\"><g class=\"toyplot-coordinates-Cartesian\" id=\"t817eae4f2769405888543a0f9dad0b36\"><clipPath id=\"t51f5475a01b040f1bf7aaef9a2100768\"><rect height=\"215.0\" width=\"200.0\" x=\"30.0\" y=\"30.0\"></rect></clipPath><g clip-path=\"url(#t51f5475a01b040f1bf7aaef9a2100768)\"><g class=\"toytree-mark-Toytree\" id=\"t3e0d54ff2f7d409781d11584f00eee61\"><g class=\"toytree-Edges\" style=\"fill:none;stroke:rgb(14.9%,14.9%,14.9%);stroke-linecap:round;stroke-opacity:1;stroke-width:2\"><path d=\"M 51.8 123.8 L 51.8 80.1 L 122.6 80.1\" id=\"14,13\"></path><path d=\"M 51.8 123.8 L 51.8 167.5 L 122.6 167.5\" id=\"14,12\"></path><path d=\"M 122.6 80.1 L 122.6 99.3 L 132.7 99.3\" id=\"13,11\"></path><path d=\"M 122.6 167.5 L 122.6 186.7 L 132.7 186.7\" id=\"12,10\"></path><path d=\"M 132.7 99.3 L 132.7 115.6 L 142.9 115.6\" id=\"11,9\"></path><path d=\"M 132.7 186.7 L 132.7 203.1 L 142.9 203.1\" id=\"10,8\"></path><path d=\"M 122.6 80.1 L 122.6 61.0 L 153.0 61.0\" id=\"13,7\"></path><path d=\"M 132.7 99.3 L 132.7 82.9 L 153.0 82.9\" id=\"11,6\"></path><path d=\"M 142.9 115.6 L 142.9 104.7 L 153.0 104.7\" id=\"9,5\"></path><path d=\"M 142.9 115.6 L 142.9 126.6 L 153.0 126.6\" id=\"9,4\"></path><path d=\"M 122.6 167.5 L 122.6 148.4 L 193.5 148.4\" id=\"12,3\"></path><path d=\"M 132.7 186.7 L 132.7 170.3 L 193.5 170.3\" id=\"10,2\"></path><path d=\"M 142.9 203.1 L 142.9 192.1 L 193.5 192.1\" id=\"8,1\"></path><path d=\"M 142.9 203.1 L 142.9 214.0 L 193.5 214.0\" id=\"8,0\"></path></g><g class=\"toytree-TipLabels\" style=\"fill:rgb(14.9%,14.9%,14.9%);fill-opacity:1.0;font-family:helvetica;font-size:11px;font-weight:normal;stroke:none;white-space:pre\"><g transform=\"translate(193.47,213.99)rotate(0)\"><text style=\"\" x=\"15.00\" y=\"2.81\">r4</text></g><g transform=\"translate(193.47,192.13)rotate(0)\"><text style=\"\" x=\"15.00\" y=\"2.81\">r5</text></g><g transform=\"translate(193.47,170.28)rotate(0)\"><text style=\"\" x=\"15.00\" y=\"2.81\">r6</text></g><g transform=\"translate(193.47,148.43)rotate(0)\"><text style=\"\" x=\"15.00\" y=\"2.81\">r7</text></g><g transform=\"translate(152.98,126.57)rotate(0)\"><text style=\"\" x=\"15.00\" y=\"2.81\">r0</text></g><g transform=\"translate(152.98,104.72)rotate(0)\"><text style=\"\" x=\"15.00\" y=\"2.81\">r1</text></g><g transform=\"translate(152.98,82.87)rotate(0)\"><text style=\"\" x=\"15.00\" y=\"2.81\">r2</text></g><g transform=\"translate(152.98,61.01)rotate(0)\"><text style=\"\" x=\"15.00\" y=\"2.81\">r3</text></g></g></g></g></g></svg><div class=\"toyplot-behavior\"><script>(function()\n",
       "{\n",
       "var modules={};\n",
       "})();</script></div></div>"
      ]
     },
     "metadata": {},
     "output_type": "display_data"
    }
   ],
   "source": [
    "toytree.tree('((r3:0.428571,(r2:0.285714,(r1:0.142857,r0:0.142857)0:0.142857)0:0.142857),(r7:1,(r6:0.857143,(r5:0.714286,r4:0.714286)0:0.142857)0:0.142857));').draw()\n",
    "\n",
    "\n",
    "\n",
    "\n"
   ]
  },
  {
   "cell_type": "code",
   "execution_count": null,
   "metadata": {},
   "outputs": [],
   "source": [
    "def excise_clade_and_paste(tree,\n",
    "                           edge_to_grab,\n",
    "                           grab_dist_above_node,\n",
    "                           edge_to_paste,\n",
    "                           paste_dist_above_node):"
   ]
  },
  {
   "cell_type": "code",
   "execution_count": 967,
   "metadata": {},
   "outputs": [
    {
     "data": {
      "text/plain": [
       "(<toyplot.canvas.Canvas at 0x14ce4b898>,\n",
       " <toyplot.coordinates.Cartesian at 0x14ce4b7b8>,\n",
       " <toytree.Render.ToytreeMark at 0x14afb7a90>)"
      ]
     },
     "execution_count": 967,
     "metadata": {},
     "output_type": "execute_result"
    },
    {
     "data": {
      "text/html": [
       "<div class=\"toyplot\" id=\"t4ab5d2e337b84f9c8963121208d6ee62\" style=\"text-align:center\"><svg class=\"toyplot-canvas-Canvas\" height=\"275.0px\" id=\"teb0c74a30ffc4a3aba5a48cab2dbf6cf\" preserveAspectRatio=\"xMidYMid meet\" style=\"background-color:transparent;border-color:#292724;border-style:none;border-width:1.0;fill:rgb(16.1%,15.3%,14.1%);fill-opacity:1.0;font-family:Helvetica;font-size:12px;opacity:1.0;stroke:rgb(16.1%,15.3%,14.1%);stroke-opacity:1.0;stroke-width:1.0\" viewBox=\"0 0 260.0 275.0\" width=\"260.0px\" xmlns=\"http://www.w3.org/2000/svg\" xmlns:toyplot=\"http://www.sandia.gov/toyplot\" xmlns:xlink=\"http://www.w3.org/1999/xlink\"><g class=\"toyplot-coordinates-Cartesian\" id=\"tb26aaaaabec1428f977e8e1f70689aa0\"><clipPath id=\"t5d077843ad0c49229e7f8beb4430ac0f\"><rect height=\"215.0\" width=\"200.0\" x=\"30.0\" y=\"30.0\"></rect></clipPath><g clip-path=\"url(#t5d077843ad0c49229e7f8beb4430ac0f)\"><g class=\"toytree-mark-Toytree\" id=\"t584c7c450358486a9c9253cd3463f50f\"><g class=\"toytree-Edges\" style=\"fill:none;stroke:rgb(14.9%,14.9%,14.9%);stroke-linecap:round;stroke-opacity:1;stroke-width:2\"><path d=\"M 51.8 137.5 L 51.8 137.5 L 193.5 137.5\" id=\"1,0\"></path></g><g class=\"toytree-TipLabels\" style=\"fill:rgb(14.9%,14.9%,14.9%);fill-opacity:1.0;font-family:helvetica;font-size:11px;font-weight:normal;stroke:none;white-space:pre\"><g transform=\"translate(193.47,137.50)rotate(0)\"><text style=\"\" x=\"15.00\" y=\"2.81\">r0</text></g></g></g></g></g></svg><div class=\"toyplot-behavior\"><script>(function()\n",
       "{\n",
       "var modules={};\n",
       "})();</script></div></div>"
      ]
     },
     "metadata": {},
     "output_type": "display_data"
    }
   ],
   "source": [
    " = toytree.rtree.imbtree(1,1000).drop_tips('r1').draw()"
   ]
  },
  {
   "cell_type": "code",
   "execution_count": 968,
   "metadata": {},
   "outputs": [],
   "source": [
    "import msprime"
   ]
  },
  {
   "cell_type": "code",
   "execution_count": 969,
   "metadata": {},
   "outputs": [
    {
     "ename": "AttributeError",
     "evalue": "module 'msprime' has no attribute 'Demography'",
     "output_type": "error",
     "traceback": [
      "\u001b[0;31m---------------------------------------------------------------------------\u001b[0m",
      "\u001b[0;31mAttributeError\u001b[0m                            Traceback (most recent call last)",
      "\u001b[0;32m<ipython-input-969-8737fa73e44d>\u001b[0m in \u001b[0;36m<module>\u001b[0;34m\u001b[0m\n\u001b[0;32m----> 1\u001b[0;31m \u001b[0mdemography\u001b[0m \u001b[0;34m=\u001b[0m \u001b[0mmsprime\u001b[0m\u001b[0;34m.\u001b[0m\u001b[0mDemography\u001b[0m\u001b[0;34m(\u001b[0m\u001b[0;34m)\u001b[0m\u001b[0;34m\u001b[0m\u001b[0;34m\u001b[0m\u001b[0m\n\u001b[0m\u001b[1;32m      2\u001b[0m \u001b[0mdemography\u001b[0m\u001b[0;34m.\u001b[0m\u001b[0madd_population\u001b[0m\u001b[0;34m(\u001b[0m\u001b[0mname\u001b[0m\u001b[0;34m=\u001b[0m\u001b[0;34m\"A\"\u001b[0m\u001b[0;34m,\u001b[0m \u001b[0minitial_size\u001b[0m\u001b[0;34m=\u001b[0m\u001b[0;36m10_000\u001b[0m\u001b[0;34m)\u001b[0m\u001b[0;34m\u001b[0m\u001b[0;34m\u001b[0m\u001b[0m\n\u001b[1;32m      3\u001b[0m \u001b[0mdemography\u001b[0m\u001b[0;34m.\u001b[0m\u001b[0madd_population\u001b[0m\u001b[0;34m(\u001b[0m\u001b[0mname\u001b[0m\u001b[0;34m=\u001b[0m\u001b[0;34m\"B\"\u001b[0m\u001b[0;34m,\u001b[0m \u001b[0minitial_size\u001b[0m\u001b[0;34m=\u001b[0m\u001b[0;36m5_000\u001b[0m\u001b[0;34m)\u001b[0m\u001b[0;34m\u001b[0m\u001b[0;34m\u001b[0m\u001b[0m\n\u001b[1;32m      4\u001b[0m \u001b[0mdemography\u001b[0m\u001b[0;34m.\u001b[0m\u001b[0madd_population\u001b[0m\u001b[0;34m(\u001b[0m\u001b[0mname\u001b[0m\u001b[0;34m=\u001b[0m\u001b[0;34m\"C\"\u001b[0m\u001b[0;34m,\u001b[0m \u001b[0minitial_size\u001b[0m\u001b[0;34m=\u001b[0m\u001b[0;36m1_000\u001b[0m\u001b[0;34m)\u001b[0m\u001b[0;34m\u001b[0m\u001b[0;34m\u001b[0m\u001b[0m\n\u001b[1;32m      5\u001b[0m \u001b[0mdemography\u001b[0m\u001b[0;34m.\u001b[0m\u001b[0madd_population_split\u001b[0m\u001b[0;34m(\u001b[0m\u001b[0mtime\u001b[0m\u001b[0;34m=\u001b[0m\u001b[0;36m1000\u001b[0m\u001b[0;34m,\u001b[0m \u001b[0mderived\u001b[0m\u001b[0;34m=\u001b[0m\u001b[0;34m[\u001b[0m\u001b[0;34m\"A\"\u001b[0m\u001b[0;34m,\u001b[0m \u001b[0;34m\"B\"\u001b[0m\u001b[0;34m]\u001b[0m\u001b[0;34m,\u001b[0m \u001b[0mancestral\u001b[0m\u001b[0;34m=\u001b[0m\u001b[0;34m\"C\"\u001b[0m\u001b[0;34m)\u001b[0m\u001b[0;34m\u001b[0m\u001b[0;34m\u001b[0m\u001b[0m\n",
      "\u001b[0;31mAttributeError\u001b[0m: module 'msprime' has no attribute 'Demography'"
     ]
    }
   ],
   "source": [
    "demography = msprime.Demography()\n",
    "demography.add_population(name=\"A\", initial_size=10_000)\n",
    "demography.add_population(name=\"B\", initial_size=5_000)\n",
    "demography.add_population(name=\"C\", initial_size=1_000)\n",
    "demography.add_population_split(time=1000, derived=[\"A\", \"B\"], ancestral=\"C\")\n",
    "ts = msprime.sim_ancestry(samples={\"A\": 1, \"B\": 1}, demography=demography, random_seed=12)\n",
    "ts"
   ]
  },
  {
   "cell_type": "code",
   "execution_count": 1011,
   "metadata": {},
   "outputs": [],
   "source": [
    "mod = msprime.simulate(5,\n",
    "                       Ne=100,\n",
    "                       length = 100000000,\n",
    "                       recombination_rate=1e-9,\n",
    "                       model = msprime.SmcPrimeApproxCoalescent())"
   ]
  },
  {
   "cell_type": "code",
   "execution_count": 1008,
   "metadata": {},
   "outputs": [],
   "source": [
    "ts = mod.trees()"
   ]
  },
  {
   "cell_type": "code",
   "execution_count": 1009,
   "metadata": {},
   "outputs": [],
   "source": [
    "tr = next(ts)"
   ]
  },
  {
   "cell_type": "code",
   "execution_count": 1010,
   "metadata": {},
   "outputs": [
    {
     "data": {
      "text/plain": [
       "737685.2447021952"
      ]
     },
     "execution_count": 1010,
     "metadata": {},
     "output_type": "execute_result"
    }
   ],
   "source": [
    "tr.get_length()"
   ]
  },
  {
   "cell_type": "code",
   "execution_count": null,
   "metadata": {},
   "outputs": [],
   "source": []
  }
 ],
 "metadata": {
  "kernelspec": {
   "display_name": "Python 3",
   "language": "python",
   "name": "python3"
  },
  "language_info": {
   "codemirror_mode": {
    "name": "ipython",
    "version": 3
   },
   "file_extension": ".py",
   "mimetype": "text/x-python",
   "name": "python",
   "nbconvert_exporter": "python",
   "pygments_lexer": "ipython3",
   "version": "3.6.7"
  }
 },
 "nbformat": 4,
 "nbformat_minor": 2
}
