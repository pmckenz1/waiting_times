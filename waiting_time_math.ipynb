{
 "cells": [
  {
   "cell_type": "code",
   "execution_count": 1,
   "metadata": {},
   "outputs": [],
   "source": [
    "from IPython.display import SVG, display"
   ]
  },
  {
   "cell_type": "markdown",
   "metadata": {},
   "source": [
    "# Establishing the waiting time to a genealogical tree change along a chromosome produced under a multispecies coalescent model approximation with SMC'"
   ]
  },
  {
   "cell_type": "markdown",
   "metadata": {},
   "source": [
    "This is a direct adaptation of Deng et al. 2021: https://www.sciencedirect.com/science/article/pii/S0040580921000484#b2"
   ]
  },
  {
   "cell_type": "markdown",
   "metadata": {},
   "source": [
    "Let's assume a multispecies coalescent model where we have a topology, divergence times, and a separate, constant Ne value for each edge."
   ]
  },
  {
   "cell_type": "code",
   "execution_count": 2,
   "metadata": {
    "scrolled": false
   },
   "outputs": [
    {
     "data": {
      "image/svg+xml": [
       "<svg height=\"100mm\" id=\"svg15593\" inkscape:version=\"1.0beta1 (fe3e306, 2019-09-17)\" sodipodi:docname=\"species_tree_on_axis.svg\" version=\"1.1\" viewBox=\"0 0 120 100\" width=\"120mm\" xmlns=\"http://www.w3.org/2000/svg\" xmlns:cc=\"http://creativecommons.org/ns#\" xmlns:dc=\"http://purl.org/dc/elements/1.1/\" xmlns:inkscape=\"http://www.inkscape.org/namespaces/inkscape\" xmlns:rdf=\"http://www.w3.org/1999/02/22-rdf-syntax-ns#\" xmlns:sodipodi=\"http://sodipodi.sourceforge.net/DTD/sodipodi-0.dtd\" xmlns:svg=\"http://www.w3.org/2000/svg\">\n",
       "  <defs id=\"defs15587\"/>\n",
       "  <sodipodi:namedview bordercolor=\"#666666\" borderopacity=\"1.0\" id=\"base\" inkscape:current-layer=\"layer1\" inkscape:cx=\"348.7332\" inkscape:cy=\"269.33532\" inkscape:document-rotation=\"0\" inkscape:document-units=\"mm\" inkscape:pageopacity=\"0.0\" inkscape:pageshadow=\"2\" inkscape:window-height=\"666\" inkscape:window-maximized=\"0\" inkscape:window-width=\"1280\" inkscape:window-x=\"427\" inkscape:window-y=\"30\" inkscape:zoom=\"0.73614394\" pagecolor=\"#ffffff\" showgrid=\"false\"/>\n",
       "  <metadata id=\"metadata15590\">\n",
       "    <rdf:RDF>\n",
       "      <cc:Work rdf:about=\"\">\n",
       "        <dc:format>image/svg+xml</dc:format>\n",
       "        <dc:type rdf:resource=\"http://purl.org/dc/dcmitype/StillImage\"/>\n",
       "        <dc:title/>\n",
       "      </cc:Work>\n",
       "    </rdf:RDF>\n",
       "  </metadata>\n",
       "  <g id=\"layer1\" inkscape:groupmode=\"layer\" inkscape:label=\"Layer 1\">\n",
       "    <path d=\"M 89.386317,85.516989 79.937549,69.151251 Z\" id=\"path833-3-4\" inkscape:connector-curvature=\"0\" style=\"fill:none;stroke:#000000;stroke-width:2.419;stroke-linecap:round;stroke-linejoin:round;stroke-miterlimit:4;stroke-dasharray:none;stroke-opacity:1\"/>\n",
       "    <path d=\"M 79.937549,69.151251 70.488788,52.785539 Z\" id=\"path833-3-9-9\" inkscape:connector-curvature=\"0\" style=\"fill:none;stroke:#000000;stroke-width:2.419;stroke-linecap:round;stroke-linejoin:miter;stroke-miterlimit:4;stroke-dasharray:none;stroke-opacity:1\"/>\n",
       "    <path d=\"m 61.040028,69.15128 9.44876,-16.365741 z\" id=\"path833-7-1\" inkscape:connector-curvature=\"0\" style=\"fill:none;stroke:#000000;stroke-width:2.419;stroke-linecap:round;stroke-linejoin:miter;stroke-miterlimit:4;stroke-dasharray:none;stroke-opacity:1\"/>\n",
       "    <path d=\"M 51.591257,85.517021 61.040028,69.15128 Z\" id=\"path833-2-5\" inkscape:connector-curvature=\"0\" style=\"fill:none;stroke:#000000;stroke-width:2.419;stroke-linecap:round;stroke-linejoin:round;stroke-miterlimit:4;stroke-dasharray:none;stroke-opacity:1\"/>\n",
       "    <path d=\"m 70.488788,52.785539 -9.44876,-16.36569 z\" id=\"path833-3-9-5-5\" inkscape:connector-curvature=\"0\" style=\"fill:none;stroke:#000000;stroke-width:2.419;stroke-linecap:round;stroke-linejoin:miter;stroke-miterlimit:4;stroke-dasharray:none;stroke-opacity:1\"/>\n",
       "    <path d=\"m 61.040028,36.419849 -9.44876,-16.36568 z\" id=\"path833-3-9-5-1-5\" inkscape:connector-curvature=\"0\" style=\"fill:none;stroke:#000000;stroke-width:2.419;stroke-linecap:round;stroke-linejoin:round;stroke-miterlimit:4;stroke-dasharray:none;stroke-opacity:1\"/>\n",
       "    <path d=\"m 42.142492,36.419879 9.448776,-16.36571 z\" id=\"path833-4-8\" inkscape:connector-curvature=\"0\" style=\"fill:none;stroke:#000000;stroke-width:2.419;stroke-linecap:round;stroke-linejoin:round;stroke-miterlimit:4;stroke-dasharray:none;stroke-opacity:1\"/>\n",
       "    <path d=\"m 32.693723,52.785599 9.448769,-16.36572 z\" id=\"path833-4-7-2\" inkscape:connector-curvature=\"0\" style=\"fill:none;stroke:#000000;stroke-width:2.419;stroke-linecap:round;stroke-linejoin:miter;stroke-miterlimit:4;stroke-dasharray:none;stroke-opacity:1\"/>\n",
       "    <path d=\"M 23.244951,69.151341 32.693723,52.785599 Z\" id=\"path833-4-7-1-9\" inkscape:connector-curvature=\"0\" style=\"fill:none;stroke:#000000;stroke-width:2.419;stroke-linecap:round;stroke-linejoin:miter;stroke-miterlimit:4;stroke-dasharray:none;stroke-opacity:1\"/>\n",
       "    <path d=\"M 13.796176,85.517079 23.244951,69.151341 Z\" id=\"path833-4-7-1-3-8\" inkscape:connector-curvature=\"0\" style=\"fill:none;stroke:#000000;stroke-width:2.419;stroke-linecap:round;stroke-linejoin:round;stroke-miterlimit:4;stroke-dasharray:none;stroke-opacity:1\"/>\n",
       "    <path d=\"m 19.948573,74.952809 6.077345,10.52626 z\" id=\"path1024-2\" inkscape:connector-curvature=\"0\" style=\"fill:none;stroke:#000000;stroke-width:2.419;stroke-linecap:round;stroke-linejoin:round;stroke-miterlimit:4;stroke-dasharray:none;stroke-opacity:1\"/>\n",
       "    <path d=\"m 75.430409,85.619079 -11.91341,-20.6346 z\" id=\"path833-3-3-0\" inkscape:connector-curvature=\"0\" style=\"fill:none;stroke:#000000;stroke-width:2.419;stroke-linecap:round;stroke-linejoin:round;stroke-miterlimit:4;stroke-dasharray:none;stroke-opacity:1\"/>\n",
       "    <path d=\"M 93.030177,86.899649 H 11.540779 Z\" id=\"path1111\" inkscape:connector-curvature=\"0\" style=\"fill:none;stroke:#000000;stroke-width:0.564999;stroke-linecap:butt;stroke-linejoin:round;stroke-miterlimit:4;stroke-dasharray:none;stroke-opacity:1\"/>\n",
       "    <path d=\"M 11.540779,86.899649 V 16.526889 Z\" id=\"path1128\" inkscape:connector-curvature=\"0\" style=\"fill:none;stroke:#000000;stroke-width:0.564999;stroke-linecap:butt;stroke-linejoin:round;stroke-miterlimit:4;stroke-dasharray:none;stroke-opacity:1\"/>\n",
       "    <path d=\"m 63.516999,64.984479 v 21.72522 z\" id=\"path1130\" inkscape:connector-curvature=\"0\" style=\"fill:none;stroke:#000000;stroke-width:0.264583;stroke-linecap:butt;stroke-linejoin:miter;stroke-miterlimit:4;stroke-dasharray:0.529167, 1.05833;stroke-dashoffset:0.767292;stroke-opacity:1\"/>\n",
       "    <path d=\"M 63.516999,64.984479 H 98.708882 Z\" id=\"path1132\" inkscape:connector-curvature=\"0\" style=\"fill:none;stroke:#000000;stroke-width:0.264999;stroke-linecap:butt;stroke-linejoin:miter;stroke-miterlimit:4;stroke-dasharray:0.53, 1.06;stroke-dashoffset:0.0794999;stroke-opacity:1\"/>\n",
       "    <path d=\"M 70.488788,52.785539 V 86.58072 Z\" id=\"path1134\" inkscape:connector-curvature=\"0\" style=\"fill:none;stroke:#000000;stroke-width:0.264999;stroke-linecap:butt;stroke-linejoin:miter;stroke-miterlimit:4;stroke-dasharray:0.53, 1.06;stroke-dashoffset:0.662501;stroke-opacity:1\"/>\n",
       "    <path d=\"M 70.488788,52.785539 H 98.736451 Z\" id=\"path1136\" inkscape:connector-curvature=\"0\" style=\"fill:none;stroke:#000000;stroke-width:0.264999;stroke-linecap:butt;stroke-linejoin:miter;stroke-miterlimit:4;stroke-dasharray:0.53, 1.06;stroke-dashoffset:0.636;stroke-opacity:1\"/>\n",
       "    <path d=\"M 19.948572,74.952809 V 86.58072 Z\" id=\"path1138\" inkscape:connector-curvature=\"0\" style=\"fill:none;stroke:#000000;stroke-width:0.264583;stroke-linecap:butt;stroke-linejoin:miter;stroke-miterlimit:4;stroke-dasharray:0.529167, 1.05833;stroke-dashoffset:0.529167;stroke-opacity:1\"/>\n",
       "    <path d=\"M 19.94857,74.952809 H 98.73153 Z\" id=\"path1140\" inkscape:connector-curvature=\"0\" style=\"fill:none;stroke:#000000;stroke-width:0.264999;stroke-linecap:butt;stroke-linejoin:miter;stroke-miterlimit:4;stroke-dasharray:0.53, 1.06;stroke-dashoffset:0.1855;stroke-opacity:1\"/>\n",
       "    <path d=\"M 51.591268,20.054169 V 86.862671 Z\" id=\"path1142\" inkscape:connector-curvature=\"0\" style=\"fill:none;stroke:#000000;stroke-width:0.264583;stroke-linecap:butt;stroke-linejoin:miter;stroke-miterlimit:4;stroke-dasharray:0.529167, 1.05833;stroke-dashoffset:0.132291;stroke-opacity:1\"/>\n",
       "    <path d=\"M 51.591268,20.054169 H 98.694001 Z\" id=\"path1144\" inkscape:connector-curvature=\"0\" style=\"fill:none;stroke:#000000;stroke-width:0.264999;stroke-linecap:butt;stroke-linejoin:miter;stroke-miterlimit:4;stroke-dasharray:0.53, 1.59;stroke-dashoffset:0.848;stroke-opacity:1\"/>\n",
       "    <text id=\"text1150\" style=\"font-size:10.5833px;line-height:1.25;font-family:'Apple SD Gothic Neo';-inkscape-font-specification:'Apple SD Gothic Neo Normal';stroke-width:0.264583\" x=\"100.73349\" xml:space=\"preserve\" y=\"76.202354\"><tspan id=\"tspan1148\" sodipodi:role=\"line\" style=\"font-style:normal;font-variant:normal;font-weight:normal;font-stretch:normal;font-size:5.5562px;font-family:'Apple SD Gothic Neo';-inkscape-font-specification:'Apple SD Gothic Neo Normal';font-variant-ligatures:normal;font-variant-caps:normal;font-variant-numeric:normal;font-variant-east-asian:normal;stroke-width:0.264583\" x=\"100.73349\" y=\"76.202354\">τ<tspan id=\"tspan1154\" style=\"font-size:3.61154px;baseline-shift:sub;stroke-width:0.264583\">AB</tspan></tspan></text>\n",
       "    <text id=\"text1150-0\" style=\"font-size:10.5833px;line-height:1.25;font-family:'Apple SD Gothic Neo';-inkscape-font-specification:'Apple SD Gothic Neo Normal';stroke-width:0.264583\" x=\"100.15704\" xml:space=\"preserve\" y=\"21.746185\"><tspan id=\"tspan1148-6\" sodipodi:role=\"line\" style=\"font-style:normal;font-variant:normal;font-weight:normal;font-stretch:normal;font-size:5.5562px;font-family:'Apple SD Gothic Neo';-inkscape-font-specification:'Apple SD Gothic Neo Normal';font-variant-ligatures:normal;font-variant-caps:normal;font-variant-numeric:normal;font-variant-east-asian:normal;stroke-width:0.264583\" x=\"100.15704\" y=\"21.746185\">τ<tspan id=\"tspan1154-0\" style=\"font-size:3.61154px;baseline-shift:sub;stroke-width:0.264583\">ABCDE</tspan></tspan></text>\n",
       "    <text id=\"text1150-0-4\" style=\"font-size:10.5833px;line-height:1.25;font-family:'Apple SD Gothic Neo';-inkscape-font-specification:'Apple SD Gothic Neo Normal';stroke-width:0.264583\" x=\"100.72824\" xml:space=\"preserve\" y=\"54.194714\"><tspan id=\"tspan1148-6-0\" sodipodi:role=\"line\" style=\"font-style:normal;font-variant:normal;font-weight:normal;font-stretch:normal;font-size:5.5562px;font-family:'Apple SD Gothic Neo';-inkscape-font-specification:'Apple SD Gothic Neo Normal';font-variant-ligatures:normal;font-variant-caps:normal;font-variant-numeric:normal;font-variant-east-asian:normal;stroke-width:0.264583\" x=\"100.72824\" y=\"54.194714\">τ<tspan id=\"tspan1154-0-5\" style=\"font-size:3.61154px;baseline-shift:sub;stroke-width:0.264583\">CDE</tspan></tspan></text>\n",
       "    <text id=\"text1150-0-4-8\" style=\"font-size:10.5833px;line-height:1.25;font-family:'Apple SD Gothic Neo';-inkscape-font-specification:'Apple SD Gothic Neo Normal';stroke-width:0.264583\" x=\"100.53783\" xml:space=\"preserve\" y=\"66.285957\"><tspan id=\"tspan1148-6-0-6\" sodipodi:role=\"line\" style=\"font-style:normal;font-variant:normal;font-weight:normal;font-stretch:normal;font-size:5.5562px;font-family:'Apple SD Gothic Neo';-inkscape-font-specification:'Apple SD Gothic Neo Normal';font-variant-ligatures:normal;font-variant-caps:normal;font-variant-numeric:normal;font-variant-east-asian:normal;stroke-width:0.264583\" x=\"100.53783\" y=\"66.285957\">τ<tspan id=\"tspan1154-0-5-7\" style=\"font-size:3.61154px;baseline-shift:sub;stroke-width:0.264583\">CD</tspan></tspan></text>\n",
       "    <path d=\"m 14.206998,18.499098 -2.66622,0 -2.6662195,0 1.3331095,-2.309014 1.33311,-2.309014 1.33311,2.309014 z\" id=\"path1503\" inkscape:flatsided=\"false\" inkscape:randomized=\"0\" inkscape:rounded=\"0\" inkscape:transform-center-x=\"1.0081334e-06\" inkscape:transform-center-y=\"-0.78168275\" sodipodi:arg1=\"0.52359878\" sodipodi:arg2=\"1.5707963\" sodipodi:cx=\"11.540778\" sodipodi:cy=\"16.959755\" sodipodi:r1=\"3.0786853\" sodipodi:r2=\"1.5393426\" sodipodi:sides=\"3\" sodipodi:type=\"star\" style=\"fill:#000000;fill-opacity:1;stroke:#000000;stroke-width:0.0628298;stroke-linecap:round;stroke-linejoin:round;stroke-miterlimit:4;stroke-dasharray:none;stroke-dashoffset:0.0439811;stroke-opacity:1\"/>\n",
       "    <text id=\"text1150-0-3\" style=\"font-size:10.5833px;line-height:1.25;font-family:'Apple SD Gothic Neo';-inkscape-font-specification:'Apple SD Gothic Neo Normal';stroke-width:0.264583\" transform=\"rotate(-90)\" x=\"-60.966656\" xml:space=\"preserve\" y=\"9.9913454\"><tspan id=\"tspan1148-6-3\" sodipodi:role=\"line\" style=\"font-style:normal;font-variant:normal;font-weight:normal;font-stretch:normal;font-size:5.5562px;font-family:'Apple SD Gothic Neo';-inkscape-font-specification:'Apple SD Gothic Neo Normal';font-variant-ligatures:normal;font-variant-caps:normal;font-variant-numeric:normal;font-variant-east-asian:normal;stroke-width:0.264583\" x=\"-60.966656\" y=\"9.9913454\">Time</tspan></text>\n",
       "    <text id=\"text1150-0-3-0-6\" style=\"font-size:10.5833px;line-height:1.25;font-family:'Apple SD Gothic Neo';-inkscape-font-specification:'Apple SD Gothic Neo Normal';stroke-width:0.264583\" x=\"12.17604\" xml:space=\"preserve\" y=\"93.169304\"><tspan id=\"tspan1148-6-3-2-4\" sodipodi:role=\"line\" style=\"font-style:normal;font-variant:normal;font-weight:normal;font-stretch:normal;font-size:5.5562px;font-family:'Apple SD Gothic Neo';-inkscape-font-specification:'Apple SD Gothic Neo Normal';font-variant-ligatures:normal;font-variant-caps:normal;font-variant-numeric:normal;font-variant-east-asian:normal;stroke-width:0.264583\" x=\"12.17604\" y=\"93.169304\">A</tspan></text>\n",
       "    <text id=\"text1150-0-3-0-1-7\" style=\"font-size:10.5833px;line-height:1.25;font-family:'Apple SD Gothic Neo';-inkscape-font-specification:'Apple SD Gothic Neo Normal';stroke-width:0.264583\" x=\"87.79287\" xml:space=\"preserve\" y=\"93.169304\"><tspan id=\"tspan1148-6-3-2-8-1\" sodipodi:role=\"line\" style=\"font-style:normal;font-variant:normal;font-weight:normal;font-stretch:normal;font-size:5.5562px;font-family:'Apple SD Gothic Neo';-inkscape-font-specification:'Apple SD Gothic Neo Normal';font-variant-ligatures:normal;font-variant-caps:normal;font-variant-numeric:normal;font-variant-east-asian:normal;stroke-width:0.264583\" x=\"87.79287\" y=\"93.169304\">E</tspan></text>\n",
       "    <text id=\"text1150-0-3-0-11-1\" style=\"font-size:10.5833px;line-height:1.25;font-family:'Apple SD Gothic Neo';-inkscape-font-specification:'Apple SD Gothic Neo Normal';stroke-width:0.264583\" x=\"73.559448\" xml:space=\"preserve\" y=\"93.169304\"><tspan id=\"tspan1148-6-3-2-3-8\" sodipodi:role=\"line\" style=\"font-style:normal;font-variant:normal;font-weight:normal;font-stretch:normal;font-size:5.5562px;font-family:'Apple SD Gothic Neo';-inkscape-font-specification:'Apple SD Gothic Neo Normal';font-variant-ligatures:normal;font-variant-caps:normal;font-variant-numeric:normal;font-variant-east-asian:normal;stroke-width:0.264583\" x=\"73.559448\" y=\"93.169304\">D</tspan></text>\n",
       "    <text id=\"text1150-0-3-0-0-5\" style=\"font-size:10.5833px;line-height:1.25;font-family:'Apple SD Gothic Neo';-inkscape-font-specification:'Apple SD Gothic Neo Normal';stroke-width:0.264583\" x=\"50.276089\" xml:space=\"preserve\" y=\"93.169304\"><tspan id=\"tspan1148-6-3-2-7-2\" sodipodi:role=\"line\" style=\"font-style:normal;font-variant:normal;font-weight:normal;font-stretch:normal;font-size:5.5562px;font-family:'Apple SD Gothic Neo';-inkscape-font-specification:'Apple SD Gothic Neo Normal';font-variant-ligatures:normal;font-variant-caps:normal;font-variant-numeric:normal;font-variant-east-asian:normal;stroke-width:0.264583\" x=\"50.276089\" y=\"93.169304\">C</tspan></text>\n",
       "    <text id=\"text1150-0-3-0-2-0\" style=\"font-size:10.5833px;line-height:1.25;font-family:'Apple SD Gothic Neo';-inkscape-font-specification:'Apple SD Gothic Neo Normal';stroke-width:0.264583\" x=\"24.346886\" xml:space=\"preserve\" y=\"93.169304\"><tspan id=\"tspan1148-6-3-2-35-1\" sodipodi:role=\"line\" style=\"font-style:normal;font-variant:normal;font-weight:normal;font-stretch:normal;font-size:5.5562px;font-family:'Apple SD Gothic Neo';-inkscape-font-specification:'Apple SD Gothic Neo Normal';font-variant-ligatures:normal;font-variant-caps:normal;font-variant-numeric:normal;font-variant-east-asian:normal;stroke-width:0.264583\" x=\"24.346886\" y=\"93.169304\">B</tspan></text>\n",
       "  </g>\n",
       "</svg>"
      ],
      "text/plain": [
       "<IPython.core.display.SVG object>"
      ]
     },
     "metadata": {},
     "output_type": "display_data"
    }
   ],
   "source": [
    "display(SVG('./species_tree_on_axis.svg'));"
   ]
  },
  {
   "cell_type": "markdown",
   "metadata": {},
   "source": [
    "Note that that the variation in branch-specific Ne values isn't displayed here."
   ]
  },
  {
   "cell_type": "markdown",
   "metadata": {},
   "source": [
    "We can deconstruct that species tree, retaining the divergence times and order of the tips, preserving the topology. Here, the divergence times act like walls, where coalescences can't happen horizontally across them:"
   ]
  },
  {
   "cell_type": "code",
   "execution_count": 3,
   "metadata": {},
   "outputs": [
    {
     "data": {
      "image/svg+xml": [
       "<svg height=\"100mm\" id=\"svg15593\" inkscape:version=\"1.0beta1 (fe3e306, 2019-09-17)\" sodipodi:docname=\"deconstructed_species_tree.svg\" version=\"1.1\" viewBox=\"0 0 120 100\" width=\"120mm\" xmlns=\"http://www.w3.org/2000/svg\" xmlns:cc=\"http://creativecommons.org/ns#\" xmlns:dc=\"http://purl.org/dc/elements/1.1/\" xmlns:inkscape=\"http://www.inkscape.org/namespaces/inkscape\" xmlns:rdf=\"http://www.w3.org/1999/02/22-rdf-syntax-ns#\" xmlns:sodipodi=\"http://sodipodi.sourceforge.net/DTD/sodipodi-0.dtd\" xmlns:svg=\"http://www.w3.org/2000/svg\">\n",
       "  <defs id=\"defs15587\"/>\n",
       "  <sodipodi:namedview bordercolor=\"#666666\" borderopacity=\"1.0\" id=\"base\" inkscape:current-layer=\"layer1\" inkscape:cx=\"330.4801\" inkscape:cy=\"227.01702\" inkscape:document-rotation=\"0\" inkscape:document-units=\"mm\" inkscape:pageopacity=\"0.0\" inkscape:pageshadow=\"2\" inkscape:window-height=\"666\" inkscape:window-maximized=\"0\" inkscape:window-width=\"1280\" inkscape:window-x=\"427\" inkscape:window-y=\"30\" inkscape:zoom=\"0.80034762\" pagecolor=\"#ffffff\" showgrid=\"false\"/>\n",
       "  <metadata id=\"metadata15590\">\n",
       "    <rdf:RDF>\n",
       "      <cc:Work rdf:about=\"\">\n",
       "        <dc:format>image/svg+xml</dc:format>\n",
       "        <dc:type rdf:resource=\"http://purl.org/dc/dcmitype/StillImage\"/>\n",
       "        <dc:title/>\n",
       "      </cc:Work>\n",
       "    </rdf:RDF>\n",
       "  </metadata>\n",
       "  <g id=\"layer1\" inkscape:groupmode=\"layer\" inkscape:label=\"Layer 1\">\n",
       "    <path d=\"M 92.570295,84.465196 H 11.080908 Z\" id=\"path1111-4\" inkscape:connector-curvature=\"0\" style=\"fill:none;stroke:#000000;stroke-width:0.564999;stroke-linecap:butt;stroke-linejoin:round;stroke-miterlimit:4;stroke-dasharray:none;stroke-opacity:1\"/>\n",
       "    <path d=\"M 11.080908,84.465196 V 14.09238 Z\" id=\"path1128-4\" inkscape:connector-curvature=\"0\" style=\"fill:none;stroke:#000000;stroke-width:0.564999;stroke-linecap:butt;stroke-linejoin:round;stroke-miterlimit:4;stroke-dasharray:none;stroke-opacity:1\"/>\n",
       "    <path d=\"m 58.823785,62.550026 v 21.72522 z\" id=\"path1130-8\" inkscape:connector-curvature=\"0\" style=\"fill:none;stroke:#000000;stroke-width:2.419;stroke-linecap:butt;stroke-linejoin:miter;stroke-miterlimit:4;stroke-dasharray:none;stroke-dashoffset:0;stroke-opacity:1\"/>\n",
       "    <path d=\"m 58.823785,62.550026 h 39.42522 z\" id=\"path1132-6\" inkscape:connector-curvature=\"0\" style=\"fill:none;stroke:#000000;stroke-width:0.264999;stroke-linecap:butt;stroke-linejoin:miter;stroke-miterlimit:4;stroke-dasharray:0.53, 1.06;stroke-dashoffset:0.582999;stroke-opacity:1\"/>\n",
       "    <path d=\"m 74.426935,50.351086 v 34.05366 z\" id=\"path1134-1\" inkscape:connector-curvature=\"0\" style=\"fill:none;stroke:#000000;stroke-width:2.419;stroke-linecap:butt;stroke-linejoin:miter;stroke-miterlimit:4;stroke-dasharray:none;stroke-dashoffset:0;stroke-opacity:1\"/>\n",
       "    <path d=\"m 74.426935,50.351086 h 23.84964 z\" id=\"path1136-4\" inkscape:connector-curvature=\"0\" style=\"fill:none;stroke:#000000;stroke-width:0.264999;stroke-linecap:butt;stroke-linejoin:miter;stroke-miterlimit:4;stroke-dasharray:0.53, 1.06;stroke-dashoffset:0.2385;stroke-opacity:1\"/>\n",
       "    <path d=\"m 27.590896,72.518356 v 11.98979 z\" id=\"path1138-0\" inkscape:connector-curvature=\"0\" style=\"fill:none;stroke:#000000;stroke-width:2.419;stroke-linecap:butt;stroke-linejoin:miter;stroke-miterlimit:4;stroke-dasharray:none;stroke-dashoffset:0;stroke-opacity:1\"/>\n",
       "    <path d=\"M 27.590896,72.518356 H 98.271655 Z\" id=\"path1140-8\" inkscape:connector-curvature=\"0\" style=\"fill:none;stroke:#000000;stroke-width:0.264999;stroke-linecap:butt;stroke-linejoin:miter;stroke-miterlimit:4;stroke-dasharray:0.53, 1.06;stroke-dashoffset:0.344501;stroke-opacity:1\"/>\n",
       "    <path d=\"M 43.193885,17.61966 V 84.428216 Z\" id=\"path1142-1\" inkscape:connector-curvature=\"0\" style=\"fill:none;stroke:#000000;stroke-width:2.419;stroke-linecap:butt;stroke-linejoin:miter;stroke-miterlimit:4;stroke-dasharray:none;stroke-dashoffset:0;stroke-opacity:1\"/>\n",
       "    <path d=\"m 43.193885,17.61966 h 55.04024 z\" id=\"path1144-0\" inkscape:connector-curvature=\"0\" style=\"fill:none;stroke:#000000;stroke-width:0.264999;stroke-linecap:butt;stroke-linejoin:miter;stroke-miterlimit:4;stroke-dasharray:0.53, 1.59;stroke-dashoffset:0.370999;stroke-opacity:1\"/>\n",
       "    <text id=\"text1150-3\" style=\"font-size:10.5833px;line-height:1.25;font-family:'Apple SD Gothic Neo';-inkscape-font-specification:'Apple SD Gothic Neo Normal';stroke-width:0.264583\" x=\"100.27363\" xml:space=\"preserve\" y=\"73.768028\"><tspan id=\"tspan1148-1\" sodipodi:role=\"line\" style=\"font-style:normal;font-variant:normal;font-weight:normal;font-stretch:normal;font-size:5.5562px;font-family:'Apple SD Gothic Neo';-inkscape-font-specification:'Apple SD Gothic Neo Normal';font-variant-ligatures:normal;font-variant-caps:normal;font-variant-numeric:normal;font-variant-east-asian:normal;stroke-width:0.264583\" x=\"100.27363\" y=\"73.768028\">τ<tspan id=\"tspan1154-1\" style=\"font-size:3.61154px;baseline-shift:sub;stroke-width:0.264583\">AB</tspan></tspan></text>\n",
       "    <text id=\"text1150-0-5\" style=\"font-size:10.5833px;line-height:1.25;font-family:'Apple SD Gothic Neo';-inkscape-font-specification:'Apple SD Gothic Neo Normal';stroke-width:0.264583\" x=\"99.697151\" xml:space=\"preserve\" y=\"19.311981\"><tspan id=\"tspan1148-6-08\" sodipodi:role=\"line\" style=\"font-style:normal;font-variant:normal;font-weight:normal;font-stretch:normal;font-size:5.5562px;font-family:'Apple SD Gothic Neo';-inkscape-font-specification:'Apple SD Gothic Neo Normal';font-variant-ligatures:normal;font-variant-caps:normal;font-variant-numeric:normal;font-variant-east-asian:normal;stroke-width:0.264583\" x=\"99.697151\" y=\"19.311981\">τ<tspan id=\"tspan1154-0-4\" style=\"font-size:3.61154px;baseline-shift:sub;stroke-width:0.264583\">ABCDE</tspan></tspan></text>\n",
       "    <text id=\"text1150-0-4-9\" style=\"font-size:10.5833px;line-height:1.25;font-family:'Apple SD Gothic Neo';-inkscape-font-specification:'Apple SD Gothic Neo Normal';stroke-width:0.264583\" x=\"100.26836\" xml:space=\"preserve\" y=\"51.760513\"><tspan id=\"tspan1148-6-0-3\" sodipodi:role=\"line\" style=\"font-style:normal;font-variant:normal;font-weight:normal;font-stretch:normal;font-size:5.5562px;font-family:'Apple SD Gothic Neo';-inkscape-font-specification:'Apple SD Gothic Neo Normal';font-variant-ligatures:normal;font-variant-caps:normal;font-variant-numeric:normal;font-variant-east-asian:normal;stroke-width:0.264583\" x=\"100.26836\" y=\"51.760513\">τ<tspan id=\"tspan1154-0-5-0\" style=\"font-size:3.61154px;baseline-shift:sub;stroke-width:0.264583\">CDE</tspan></tspan></text>\n",
       "    <text id=\"text1150-0-4-8-5\" style=\"font-size:10.5833px;line-height:1.25;font-family:'Apple SD Gothic Neo';-inkscape-font-specification:'Apple SD Gothic Neo Normal';stroke-width:0.264583\" x=\"100.07795\" xml:space=\"preserve\" y=\"63.851669\"><tspan id=\"tspan1148-6-0-6-2\" sodipodi:role=\"line\" style=\"font-style:normal;font-variant:normal;font-weight:normal;font-stretch:normal;font-size:5.5562px;font-family:'Apple SD Gothic Neo';-inkscape-font-specification:'Apple SD Gothic Neo Normal';font-variant-ligatures:normal;font-variant-caps:normal;font-variant-numeric:normal;font-variant-east-asian:normal;stroke-width:0.264583\" x=\"100.07795\" y=\"63.851669\">τ<tspan id=\"tspan1154-0-5-7-3\" style=\"font-size:3.61154px;baseline-shift:sub;stroke-width:0.264583\">CD</tspan></tspan></text>\n",
       "    <path d=\"m 13.74713,16.064871 -2.666219,0 -2.66622,0 1.3331098,-2.309014 1.3331102,-2.309014 1.333109,2.309014 z\" id=\"path1503-8\" inkscape:flatsided=\"false\" inkscape:randomized=\"0\" inkscape:rounded=\"0\" inkscape:transform-center-x=\"1.0081334e-06\" inkscape:transform-center-y=\"-0.78168275\" sodipodi:arg1=\"0.52359878\" sodipodi:arg2=\"1.5707963\" sodipodi:cx=\"11.080911\" sodipodi:cy=\"14.525528\" sodipodi:r1=\"3.0786853\" sodipodi:r2=\"1.5393426\" sodipodi:sides=\"3\" sodipodi:type=\"star\" style=\"fill:#000000;fill-opacity:1;stroke:#000000;stroke-width:0.0628298;stroke-linecap:round;stroke-linejoin:round;stroke-miterlimit:4;stroke-dasharray:none;stroke-dashoffset:0.0439811;stroke-opacity:1\"/>\n",
       "    <text id=\"text1150-0-3-7\" style=\"font-size:10.5833px;line-height:1.25;font-family:'Apple SD Gothic Neo';-inkscape-font-specification:'Apple SD Gothic Neo Normal';stroke-width:0.264583\" transform=\"rotate(-90)\" x=\"-58.532394\" xml:space=\"preserve\" y=\"9.5314722\"><tspan id=\"tspan1148-6-3-8\" sodipodi:role=\"line\" style=\"font-style:normal;font-variant:normal;font-weight:normal;font-stretch:normal;font-size:5.5562px;font-family:'Apple SD Gothic Neo';-inkscape-font-specification:'Apple SD Gothic Neo Normal';font-variant-ligatures:normal;font-variant-caps:normal;font-variant-numeric:normal;font-variant-east-asian:normal;stroke-width:0.264583\" x=\"-58.532394\" y=\"9.5314722\">Time</tspan></text>\n",
       "    <text id=\"text1150-0-3-0-6-5\" style=\"font-size:10.5833px;line-height:1.25;font-family:'Apple SD Gothic Neo';-inkscape-font-specification:'Apple SD Gothic Neo Normal';stroke-width:0.264583\" x=\"18.118433\" xml:space=\"preserve\" y=\"90.831505\"><tspan id=\"tspan1148-6-3-2-4-2\" sodipodi:role=\"line\" style=\"font-style:normal;font-variant:normal;font-weight:normal;font-stretch:normal;font-size:5.5562px;font-family:'Apple SD Gothic Neo';-inkscape-font-specification:'Apple SD Gothic Neo Normal';font-variant-ligatures:normal;font-variant-caps:normal;font-variant-numeric:normal;font-variant-east-asian:normal;stroke-width:0.264583\" x=\"18.118433\" y=\"90.831505\">A</tspan></text>\n",
       "    <text id=\"text1150-0-3-0-1-7-3\" style=\"font-size:10.5833px;line-height:1.25;font-family:'Apple SD Gothic Neo';-inkscape-font-specification:'Apple SD Gothic Neo Normal';stroke-width:0.264583\" x=\"80.506065\" xml:space=\"preserve\" y=\"90.831505\"><tspan id=\"tspan1148-6-3-2-8-1-2\" sodipodi:role=\"line\" style=\"font-style:normal;font-variant:normal;font-weight:normal;font-stretch:normal;font-size:5.5562px;font-family:'Apple SD Gothic Neo';-inkscape-font-specification:'Apple SD Gothic Neo Normal';font-variant-ligatures:normal;font-variant-caps:normal;font-variant-numeric:normal;font-variant-east-asian:normal;stroke-width:0.264583\" x=\"80.506065\" y=\"90.831505\">E</tspan></text>\n",
       "    <text id=\"text1150-0-3-0-11-1-3\" style=\"font-size:10.5833px;line-height:1.25;font-family:'Apple SD Gothic Neo';-inkscape-font-specification:'Apple SD Gothic Neo Normal';stroke-width:0.264583\" x=\"64.685143\" xml:space=\"preserve\" y=\"90.831505\"><tspan id=\"tspan1148-6-3-2-3-8-1\" sodipodi:role=\"line\" style=\"font-style:normal;font-variant:normal;font-weight:normal;font-stretch:normal;font-size:5.5562px;font-family:'Apple SD Gothic Neo';-inkscape-font-specification:'Apple SD Gothic Neo Normal';font-variant-ligatures:normal;font-variant-caps:normal;font-variant-numeric:normal;font-variant-east-asian:normal;stroke-width:0.264583\" x=\"64.685143\" y=\"90.831505\">D</tspan></text>\n",
       "    <text id=\"text1150-0-3-0-0-5-1\" style=\"font-size:10.5833px;line-height:1.25;font-family:'Apple SD Gothic Neo';-inkscape-font-specification:'Apple SD Gothic Neo Normal';stroke-width:0.264583\" x=\"49.339287\" xml:space=\"preserve\" y=\"90.831505\"><tspan id=\"tspan1148-6-3-2-7-2-9\" sodipodi:role=\"line\" style=\"font-style:normal;font-variant:normal;font-weight:normal;font-stretch:normal;font-size:5.5562px;font-family:'Apple SD Gothic Neo';-inkscape-font-specification:'Apple SD Gothic Neo Normal';font-variant-ligatures:normal;font-variant-caps:normal;font-variant-numeric:normal;font-variant-east-asian:normal;stroke-width:0.264583\" x=\"49.339287\" y=\"90.831505\">C</tspan></text>\n",
       "    <text id=\"text1150-0-3-0-2-0-8\" style=\"font-size:10.5833px;line-height:1.25;font-family:'Apple SD Gothic Neo';-inkscape-font-specification:'Apple SD Gothic Neo Normal';stroke-width:0.264583\" x=\"33.464272\" xml:space=\"preserve\" y=\"90.831505\"><tspan id=\"tspan1148-6-3-2-35-1-0\" sodipodi:role=\"line\" style=\"font-style:normal;font-variant:normal;font-weight:normal;font-stretch:normal;font-size:5.5562px;font-family:'Apple SD Gothic Neo';-inkscape-font-specification:'Apple SD Gothic Neo Normal';font-variant-ligatures:normal;font-variant-caps:normal;font-variant-numeric:normal;font-variant-east-asian:normal;stroke-width:0.264583\" x=\"33.464272\" y=\"90.831505\">B</tspan></text>\n",
       "  </g>\n",
       "</svg>"
      ],
      "text/plain": [
       "<IPython.core.display.SVG object>"
      ]
     },
     "metadata": {},
     "output_type": "display_data"
    }
   ],
   "source": [
    "display(SVG('./deconstructed_species_tree.svg'));"
   ]
  },
  {
   "cell_type": "markdown",
   "metadata": {},
   "source": [
    "And now, conditional on the topology, divergence times, and branch-specific Ne values, we can simulate a single genealogy under the multispecies coalescent model:"
   ]
  },
  {
   "cell_type": "code",
   "execution_count": 4,
   "metadata": {},
   "outputs": [
    {
     "data": {
      "image/svg+xml": [
       "<svg height=\"100mm\" id=\"svg2165\" inkscape:version=\"1.0beta1 (fe3e306, 2019-09-17)\" sodipodi:docname=\"genealogy.svg\" version=\"1.1\" viewBox=\"0 0 120 100\" width=\"120mm\" xmlns=\"http://www.w3.org/2000/svg\" xmlns:cc=\"http://creativecommons.org/ns#\" xmlns:dc=\"http://purl.org/dc/elements/1.1/\" xmlns:inkscape=\"http://www.inkscape.org/namespaces/inkscape\" xmlns:rdf=\"http://www.w3.org/1999/02/22-rdf-syntax-ns#\" xmlns:sodipodi=\"http://sodipodi.sourceforge.net/DTD/sodipodi-0.dtd\" xmlns:svg=\"http://www.w3.org/2000/svg\">\n",
       "  <defs id=\"defs2159\"/>\n",
       "  <sodipodi:namedview bordercolor=\"#666666\" borderopacity=\"1.0\" id=\"base\" inkscape:current-layer=\"layer1\" inkscape:cx=\"153.06495\" inkscape:cy=\"204.66169\" inkscape:document-rotation=\"0\" inkscape:document-units=\"mm\" inkscape:pageopacity=\"0.0\" inkscape:pageshadow=\"2\" inkscape:window-height=\"666\" inkscape:window-maximized=\"0\" inkscape:window-width=\"1280\" inkscape:window-x=\"0\" inkscape:window-y=\"23\" inkscape:zoom=\"0.72937765\" pagecolor=\"#ffffff\" showgrid=\"false\"/>\n",
       "  <metadata id=\"metadata2162\">\n",
       "    <rdf:RDF>\n",
       "      <cc:Work rdf:about=\"\">\n",
       "        <dc:format>image/svg+xml</dc:format>\n",
       "        <dc:type rdf:resource=\"http://purl.org/dc/dcmitype/StillImage\"/>\n",
       "        <dc:title/>\n",
       "      </cc:Work>\n",
       "    </rdf:RDF>\n",
       "  </metadata>\n",
       "  <g id=\"layer1\" inkscape:groupmode=\"layer\" inkscape:label=\"Layer 1\">\n",
       "    <path d=\"M 102.10797,87.939805 H 20.618572 Z\" id=\"path1111-4-6-4-2\" inkscape:connector-curvature=\"0\" style=\"fill:none;stroke:#000000;stroke-width:0.564999;stroke-linecap:butt;stroke-linejoin:round;stroke-miterlimit:4;stroke-dasharray:none;stroke-opacity:1\"/>\n",
       "    <path d=\"M 20.618572,87.939805 V 17.566985 Z\" id=\"path1128-4-0-9-2\" inkscape:connector-curvature=\"0\" style=\"fill:none;stroke:#000000;stroke-width:0.564999;stroke-linecap:butt;stroke-linejoin:round;stroke-miterlimit:4;stroke-dasharray:none;stroke-opacity:1\"/>\n",
       "    <path d=\"M 68.361452,66.024634 V 87.749855 Z\" id=\"path1130-8-3-2-7\" inkscape:connector-curvature=\"0\" style=\"fill:none;stroke:#000000;stroke-width:2.419;stroke-linecap:butt;stroke-linejoin:miter;stroke-miterlimit:4;stroke-dasharray:none;stroke-dashoffset:0;stroke-opacity:1\"/>\n",
       "    <path d=\"M 83.964611,53.825694 V 87.788926 Z\" id=\"path1134-1-2-5-3\" inkscape:connector-curvature=\"0\" style=\"fill:none;stroke:#000000;stroke-width:2.419;stroke-linecap:butt;stroke-linejoin:miter;stroke-miterlimit:4;stroke-dasharray:none;stroke-dashoffset:0;stroke-opacity:1\"/>\n",
       "    <path d=\"m 37.128562,75.992965 v 11.77875 z\" id=\"path1138-0-4-7-7\" inkscape:connector-curvature=\"0\" style=\"fill:none;stroke:#000000;stroke-width:2.419;stroke-linecap:butt;stroke-linejoin:miter;stroke-miterlimit:4;stroke-dasharray:none;stroke-dashoffset:0;stroke-opacity:1\"/>\n",
       "    <path d=\"M 52.731552,21.094265 V 87.902826 Z\" id=\"path1142-1-7-4-9\" inkscape:connector-curvature=\"0\" style=\"fill:none;stroke:#000000;stroke-width:2.419;stroke-linecap:butt;stroke-linejoin:miter;stroke-miterlimit:4;stroke-dasharray:none;stroke-dashoffset:0;stroke-opacity:1\"/>\n",
       "    <path d=\"m 23.284849,19.539402 -2.66622,0 -2.666219,0 1.33311,-2.309014 1.333109,-2.309014 1.33311,2.309014 z\" id=\"path1503-8-3-9-8\" inkscape:flatsided=\"false\" inkscape:randomized=\"0\" inkscape:rounded=\"0\" inkscape:transform-center-x=\"1.0081334e-06\" inkscape:transform-center-y=\"-0.78168275\" sodipodi:arg1=\"0.52359878\" sodipodi:arg2=\"1.5707963\" sodipodi:cx=\"20.618629\" sodipodi:cy=\"18.000059\" sodipodi:r1=\"3.0786853\" sodipodi:r2=\"1.5393426\" sodipodi:sides=\"3\" sodipodi:type=\"star\" style=\"fill:#000000;fill-opacity:1;stroke:#000000;stroke-width:0.0628298;stroke-linecap:round;stroke-linejoin:round;stroke-miterlimit:4;stroke-dasharray:none;stroke-dashoffset:0.0439811;stroke-opacity:1\"/>\n",
       "    <text id=\"text1150-0-3-7-7-6-6\" style=\"font-size:10.5833px;line-height:1.25;font-family:'Apple SD Gothic Neo';-inkscape-font-specification:'Apple SD Gothic Neo Normal';stroke-width:0.264583\" transform=\"rotate(-90)\" x=\"-62.006927\" xml:space=\"preserve\" y=\"19.06916\"><tspan id=\"tspan1148-6-3-8-1-9-5\" sodipodi:role=\"line\" style=\"font-style:normal;font-variant:normal;font-weight:normal;font-stretch:normal;font-size:5.5562px;font-family:'Apple SD Gothic Neo';-inkscape-font-specification:'Apple SD Gothic Neo Normal';font-variant-ligatures:normal;font-variant-caps:normal;font-variant-numeric:normal;font-variant-east-asian:normal;stroke-width:0.264583\" x=\"-62.006927\" y=\"19.06916\">Time</tspan></text>\n",
       "    <path d=\"M 44.776732,66.012056 V 87.737277 Z\" id=\"path1130-8-1-9-7\" inkscape:connector-curvature=\"0\" style=\"fill:none;stroke:#000000;stroke-width:0.499999;stroke-linecap:butt;stroke-linejoin:round;stroke-miterlimit:4;stroke-dasharray:none;stroke-dashoffset:0;stroke-opacity:1\"/>\n",
       "    <path d=\"M 75.953922,47.551836 V 87.447134 Z\" id=\"path1130-8-1-5-3-8-6\" inkscape:connector-curvature=\"0\" style=\"fill:#ff0000;stroke:#000000;stroke-width:0.497414;stroke-linecap:butt;stroke-linejoin:round;stroke-miterlimit:4;stroke-dasharray:none;stroke-dashoffset:0;stroke-opacity:1\"/>\n",
       "    <path d=\"M 91.487242,34.083166 V 87.946975 Z\" id=\"path1130-8-1-5-3-1-0-2\" inkscape:connector-curvature=\"0\" style=\"fill:none;stroke:#000000;stroke-width:0.499999;stroke-linecap:butt;stroke-linejoin:round;stroke-miterlimit:4;stroke-dasharray:none;stroke-dashoffset:0;stroke-opacity:1\"/>\n",
       "    <path d=\"M 29.929382,66.004216 V 87.729434 Z\" id=\"path1130-8-1-1-3-7\" inkscape:connector-curvature=\"0\" style=\"fill:none;stroke:#000000;stroke-width:0.499999;stroke-linecap:butt;stroke-linejoin:round;stroke-miterlimit:4;stroke-dasharray:none;stroke-dashoffset:0;stroke-opacity:1\"/>\n",
       "    <path d=\"m 60.638442,47.501465 v 40.31139 z\" id=\"path1130-8-1-5-3-7-6-0\" inkscape:connector-curvature=\"0\" style=\"fill:none;stroke:#000000;stroke-width:0.499999;stroke-linecap:butt;stroke-linejoin:round;stroke-miterlimit:4;stroke-dasharray:none;stroke-dashoffset:0;stroke-opacity:1\"/>\n",
       "    <path d=\"m 60.638442,47.501465 15.31548,0.0529 z\" id=\"path1828-3-3\" inkscape:connector-curvature=\"0\" style=\"fill:none;stroke:#000000;stroke-width:0.499999;stroke-linecap:butt;stroke-linejoin:round;stroke-miterlimit:4;stroke-dasharray:none;stroke-opacity:1\"/>\n",
       "    <path d=\"M 91.487242,34.083166 H 68.232344 Z\" id=\"path1832-7-9\" inkscape:connector-curvature=\"0\" style=\"fill:none;stroke:#000000;stroke-width:0.499999;stroke-linecap:butt;stroke-linejoin:round;stroke-miterlimit:4;stroke-dasharray:none;stroke-opacity:1\"/>\n",
       "    <path d=\"m 68.232344,34.083166 v 13.28792 z\" id=\"path1834-5-9\" inkscape:connector-curvature=\"0\" style=\"fill:none;stroke:#000000;stroke-width:0.499999;stroke-linecap:butt;stroke-linejoin:round;stroke-miterlimit:4;stroke-dasharray:none;stroke-opacity:1\"/>\n",
       "    <path d=\"m 29.929382,66.004216 14.84735,0.008 z\" id=\"path1836-8-9\" inkscape:connector-curvature=\"0\" style=\"fill:none;stroke:#000000;stroke-width:0.499999;stroke-linecap:butt;stroke-linejoin:round;stroke-miterlimit:4;stroke-dasharray:none;stroke-opacity:1\"/>\n",
       "    <path d=\"m 37.128562,7.8580922 h 42.48082 z\" id=\"path1842-7-1\" inkscape:connector-curvature=\"0\" style=\"fill:none;stroke:#000000;stroke-width:0.499999;stroke-linecap:butt;stroke-linejoin:round;stroke-miterlimit:4;stroke-dasharray:none;stroke-opacity:1\"/>\n",
       "    <path d=\"M 79.609382,7.8580922 V 34.064085 Z\" id=\"path1844-7-7\" inkscape:connector-curvature=\"0\" style=\"fill:none;stroke:#000000;stroke-width:0.499999;stroke-linecap:butt;stroke-linejoin:round;stroke-miterlimit:4;stroke-dasharray:none;stroke-opacity:1\"/>\n",
       "    <path d=\"M 37.128562,7.8580922 V 66.016945 Z\" id=\"path1846-1-2\" inkscape:connector-curvature=\"0\" style=\"fill:none;stroke:#000000;stroke-width:0.499999;stroke-linecap:butt;stroke-linejoin:round;stroke-miterlimit:4;stroke-dasharray:none;stroke-opacity:1\"/>\n",
       "    <text id=\"text1150-0-3-0-6-5-9-0-6\" style=\"font-size:10.5833px;line-height:1.25;font-family:'Apple SD Gothic Neo';-inkscape-font-specification:'Apple SD Gothic Neo Normal';stroke-width:0.264583\" x=\"28.151514\" xml:space=\"preserve\" y=\"94.62088\"><tspan id=\"tspan1148-6-3-2-4-2-0-1-0\" sodipodi:role=\"line\" style=\"font-style:normal;font-variant:normal;font-weight:normal;font-stretch:normal;font-size:5.5562px;font-family:'Apple SD Gothic Neo';-inkscape-font-specification:'Apple SD Gothic Neo Normal';font-variant-ligatures:normal;font-variant-caps:normal;font-variant-numeric:normal;font-variant-east-asian:normal;stroke-width:0.264583\" x=\"28.151514\" y=\"94.62088\">A</tspan></text>\n",
       "    <text id=\"text1150-0-3-0-1-7-3-1-8-3\" style=\"font-size:10.5833px;line-height:1.25;font-family:'Apple SD Gothic Neo';-inkscape-font-specification:'Apple SD Gothic Neo Normal';stroke-width:0.264583\" x=\"90.539146\" xml:space=\"preserve\" y=\"94.62088\"><tspan id=\"tspan1148-6-3-2-8-1-2-5-6-2\" sodipodi:role=\"line\" style=\"font-style:normal;font-variant:normal;font-weight:normal;font-stretch:normal;font-size:5.5562px;font-family:'Apple SD Gothic Neo';-inkscape-font-specification:'Apple SD Gothic Neo Normal';font-variant-ligatures:normal;font-variant-caps:normal;font-variant-numeric:normal;font-variant-east-asian:normal;stroke-width:0.264583\" x=\"90.539146\" y=\"94.62088\">E</tspan></text>\n",
       "    <text id=\"text1150-0-3-0-11-1-3-8-3-6\" style=\"font-size:10.5833px;line-height:1.25;font-family:'Apple SD Gothic Neo';-inkscape-font-specification:'Apple SD Gothic Neo Normal';stroke-width:0.264583\" x=\"74.718224\" xml:space=\"preserve\" y=\"94.62088\"><tspan id=\"tspan1148-6-3-2-3-8-1-2-0-9\" sodipodi:role=\"line\" style=\"font-style:normal;font-variant:normal;font-weight:normal;font-stretch:normal;font-size:5.5562px;font-family:'Apple SD Gothic Neo';-inkscape-font-specification:'Apple SD Gothic Neo Normal';font-variant-ligatures:normal;font-variant-caps:normal;font-variant-numeric:normal;font-variant-east-asian:normal;stroke-width:0.264583\" x=\"74.718224\" y=\"94.62088\">D</tspan></text>\n",
       "    <text id=\"text1150-0-3-0-0-5-1-5-9-4\" style=\"font-size:10.5833px;line-height:1.25;font-family:'Apple SD Gothic Neo';-inkscape-font-specification:'Apple SD Gothic Neo Normal';stroke-width:0.264583\" x=\"59.372372\" xml:space=\"preserve\" y=\"94.62088\"><tspan id=\"tspan1148-6-3-2-7-2-9-0-6-1\" sodipodi:role=\"line\" style=\"font-style:normal;font-variant:normal;font-weight:normal;font-stretch:normal;font-size:5.5562px;font-family:'Apple SD Gothic Neo';-inkscape-font-specification:'Apple SD Gothic Neo Normal';font-variant-ligatures:normal;font-variant-caps:normal;font-variant-numeric:normal;font-variant-east-asian:normal;stroke-width:0.264583\" x=\"59.372372\" y=\"94.62088\">C</tspan></text>\n",
       "    <text id=\"text1150-0-3-0-2-0-8-2-2-3\" style=\"font-size:10.5833px;line-height:1.25;font-family:'Apple SD Gothic Neo';-inkscape-font-specification:'Apple SD Gothic Neo Normal';stroke-width:0.264583\" x=\"43.497353\" xml:space=\"preserve\" y=\"94.62088\"><tspan id=\"tspan1148-6-3-2-35-1-0-8-8-7\" sodipodi:role=\"line\" style=\"font-style:normal;font-variant:normal;font-weight:normal;font-stretch:normal;font-size:5.5562px;font-family:'Apple SD Gothic Neo';-inkscape-font-specification:'Apple SD Gothic Neo Normal';font-variant-ligatures:normal;font-variant-caps:normal;font-variant-numeric:normal;font-variant-east-asian:normal;stroke-width:0.264583\" x=\"43.497353\" y=\"94.62088\">B</tspan></text>\n",
       "  </g>\n",
       "</svg>"
      ],
      "text/plain": [
       "<IPython.core.display.SVG object>"
      ]
     },
     "metadata": {},
     "output_type": "display_data"
    }
   ],
   "source": [
    "display(SVG('./genealogy.svg'));"
   ]
  },
  {
   "cell_type": "markdown",
   "metadata": {},
   "source": [
    "### Defining terms:"
   ]
  },
  {
   "cell_type": "markdown",
   "metadata": {},
   "source": [
    "$t$ = location of recombination event  \n",
    "$b$ = some focal branch  \n",
    "$n$ = the number of tips on the tree  \n",
    "$D_{b}(t)$ = the number of available branches to coalesce with, divided by the population size  \n",
    "$x_{b}(t)$ = the interval number ($\\in 1, 2, 3, ...$) to which $t$ belongs  \n",
    "$T_{bx}$ = an interval along a branch within which $D_{b}(t)$ is constant. Bounded by $\\sigma_{b(x-1)}$ and $\\sigma_{bx}$  \n",
    "$\\sigma_{bx}$ = the time at which the interval $T_{bx}$ ends.  \n",
    "$|T_{bx}|$ = $(\\sigma_{bx} - \\sigma_{b(x-1)})$ =  the length of the interval $T_{bx}$  \n",
    "$i_{bx}$ =  the value of $D_{b}(t)$ at every time $t$ within the interval $T_{bx}$  \n",
    "$k_{b}$ =  number of distinct intervals $T_{bx}$ on branch b.  \n",
    "$\\Im$ = the genealogy  \n",
    "$L(\\Im)$ = total length of the genealogy  "
   ]
  },
  {
   "cell_type": "markdown",
   "metadata": {},
   "source": [
    "### Example branches broken into intervals:"
   ]
  },
  {
   "cell_type": "code",
   "execution_count": 5,
   "metadata": {},
   "outputs": [
    {
     "data": {
      "image/svg+xml": [
       "<svg height=\"100mm\" id=\"svg15593\" inkscape:version=\"1.0beta1 (fe3e306, 2019-09-17)\" sodipodi:docname=\"genealogy_dbranch.svg\" version=\"1.1\" viewBox=\"0 0 120 100\" width=\"120mm\" xmlns=\"http://www.w3.org/2000/svg\" xmlns:cc=\"http://creativecommons.org/ns#\" xmlns:dc=\"http://purl.org/dc/elements/1.1/\" xmlns:inkscape=\"http://www.inkscape.org/namespaces/inkscape\" xmlns:rdf=\"http://www.w3.org/1999/02/22-rdf-syntax-ns#\" xmlns:sodipodi=\"http://sodipodi.sourceforge.net/DTD/sodipodi-0.dtd\" xmlns:svg=\"http://www.w3.org/2000/svg\">\n",
       "  <defs id=\"defs15587\">\n",
       "    <marker id=\"Arrow1Mstart\" inkscape:isstock=\"true\" inkscape:stockid=\"Arrow1Mstart\" orient=\"auto\" refX=\"0\" refY=\"0\" style=\"overflow:visible\">\n",
       "      <path d=\"M 0,0 5,-5 -12.5,0 5,5 Z\" id=\"path1225\" inkscape:connector-curvature=\"0\" style=\"fill:#000000;fill-opacity:1;fill-rule:evenodd;stroke:#000000;stroke-width:1pt;stroke-opacity:1\" transform=\"matrix(0.4,0,0,0.4,4,0)\"/>\n",
       "    </marker>\n",
       "    <marker id=\"Arrow1Mend\" inkscape:isstock=\"true\" inkscape:stockid=\"Arrow1Mend\" orient=\"auto\" refX=\"0\" refY=\"0\" style=\"overflow:visible\">\n",
       "      <path d=\"M 0,0 5,-5 -12.5,0 5,5 Z\" id=\"path1228\" inkscape:connector-curvature=\"0\" style=\"fill:#000000;fill-opacity:1;fill-rule:evenodd;stroke:#000000;stroke-width:1pt;stroke-opacity:1\" transform=\"matrix(-0.4,0,0,-0.4,-4,0)\"/>\n",
       "    </marker>\n",
       "    <marker id=\"Arrow1Mstart-6\" inkscape:isstock=\"true\" inkscape:stockid=\"Arrow1Mstart\" orient=\"auto\" refX=\"0\" refY=\"0\" style=\"overflow:visible\">\n",
       "      <path d=\"M 0,0 5,-5 -12.5,0 5,5 Z\" id=\"path1225-6\" inkscape:connector-curvature=\"0\" style=\"fill:#000000;fill-opacity:1;fill-rule:evenodd;stroke:#000000;stroke-width:1pt;stroke-opacity:1\" transform=\"matrix(0.4,0,0,0.4,4,0)\"/>\n",
       "    </marker>\n",
       "    <marker id=\"Arrow1Mend-6\" inkscape:isstock=\"true\" inkscape:stockid=\"Arrow1Mend\" orient=\"auto\" refX=\"0\" refY=\"0\" style=\"overflow:visible\">\n",
       "      <path d=\"M 0,0 5,-5 -12.5,0 5,5 Z\" id=\"path1228-4\" inkscape:connector-curvature=\"0\" style=\"fill:#000000;fill-opacity:1;fill-rule:evenodd;stroke:#000000;stroke-width:1pt;stroke-opacity:1\" transform=\"matrix(-0.4,0,0,-0.4,-4,0)\"/>\n",
       "    </marker>\n",
       "    <marker id=\"Arrow1Mstart-6-7\" inkscape:isstock=\"true\" inkscape:stockid=\"Arrow1Mstart\" orient=\"auto\" refX=\"0\" refY=\"0\" style=\"overflow:visible\">\n",
       "      <path d=\"M 0,0 5,-5 -12.5,0 5,5 Z\" id=\"path1225-6-3\" inkscape:connector-curvature=\"0\" style=\"fill:#000000;fill-opacity:1;fill-rule:evenodd;stroke:#000000;stroke-width:1pt;stroke-opacity:1\" transform=\"matrix(0.4,0,0,0.4,4,0)\"/>\n",
       "    </marker>\n",
       "    <marker id=\"Arrow1Mend-6-0\" inkscape:isstock=\"true\" inkscape:stockid=\"Arrow1Mend\" orient=\"auto\" refX=\"0\" refY=\"0\" style=\"overflow:visible\">\n",
       "      <path d=\"M 0,0 5,-5 -12.5,0 5,5 Z\" id=\"path1228-4-9\" inkscape:connector-curvature=\"0\" style=\"fill:#000000;fill-opacity:1;fill-rule:evenodd;stroke:#000000;stroke-width:1pt;stroke-opacity:1\" transform=\"matrix(-0.4,0,0,-0.4,-4,0)\"/>\n",
       "    </marker>\n",
       "  </defs>\n",
       "  <sodipodi:namedview bordercolor=\"#666666\" borderopacity=\"1.0\" id=\"base\" inkscape:current-layer=\"layer1\" inkscape:cx=\"330.4801\" inkscape:cy=\"227.01702\" inkscape:document-rotation=\"0\" inkscape:document-units=\"mm\" inkscape:pageopacity=\"0.0\" inkscape:pageshadow=\"2\" inkscape:window-height=\"666\" inkscape:window-maximized=\"0\" inkscape:window-width=\"1280\" inkscape:window-x=\"427\" inkscape:window-y=\"30\" inkscape:zoom=\"0.80034762\" pagecolor=\"#ffffff\" showgrid=\"false\"/>\n",
       "  <metadata id=\"metadata15590\">\n",
       "    <rdf:RDF>\n",
       "      <cc:Work rdf:about=\"\">\n",
       "        <dc:format>image/svg+xml</dc:format>\n",
       "        <dc:type rdf:resource=\"http://purl.org/dc/dcmitype/StillImage\"/>\n",
       "        <dc:title/>\n",
       "      </cc:Work>\n",
       "    </rdf:RDF>\n",
       "  </metadata>\n",
       "  <g id=\"layer1\" inkscape:groupmode=\"layer\" inkscape:label=\"Layer 1\">\n",
       "    <path d=\"M 95.460333,88.219917 H 13.970943 Z\" id=\"path1111-4-6\" inkscape:connector-curvature=\"0\" style=\"fill:none;stroke:#000000;stroke-width:0.564999;stroke-linecap:butt;stroke-linejoin:round;stroke-miterlimit:4;stroke-dasharray:none;stroke-opacity:1\"/>\n",
       "    <path d=\"M 13.970943,88.219917 V 17.847099 Z\" id=\"path1128-4-0\" inkscape:connector-curvature=\"0\" style=\"fill:none;stroke:#000000;stroke-width:0.564999;stroke-linecap:butt;stroke-linejoin:round;stroke-miterlimit:4;stroke-dasharray:none;stroke-opacity:1\"/>\n",
       "    <path d=\"M 61.713824,66.304749 V 88.029964 Z\" id=\"path1130-8-3\" inkscape:connector-curvature=\"0\" style=\"fill:none;stroke:#000000;stroke-width:2.419;stroke-linecap:butt;stroke-linejoin:miter;stroke-miterlimit:4;stroke-dasharray:none;stroke-dashoffset:0;stroke-opacity:1\"/>\n",
       "    <path d=\"M 69.468873,66.304749 H 101.13905 Z\" id=\"path1132-6-2\" inkscape:connector-curvature=\"0\" style=\"fill:none;stroke:#000000;stroke-width:0.264999;stroke-linecap:butt;stroke-linejoin:miter;stroke-miterlimit:4;stroke-dasharray:0.53, 1.06;stroke-dashoffset:0.397499;stroke-opacity:1\"/>\n",
       "    <path d=\"M 77.316983,54.105809 V 88.069035 Z\" id=\"path1134-1-2\" inkscape:connector-curvature=\"0\" style=\"fill:none;stroke:#000000;stroke-width:2.419;stroke-linecap:butt;stroke-linejoin:miter;stroke-miterlimit:4;stroke-dasharray:none;stroke-dashoffset:0;stroke-opacity:1\"/>\n",
       "    <path d=\"M 69.493304,54.105809 H 101.16662 Z\" id=\"path1136-4-1\" inkscape:connector-curvature=\"0\" style=\"fill:none;stroke:#000000;stroke-width:0.264999;stroke-linecap:butt;stroke-linejoin:miter;stroke-miterlimit:4;stroke-dasharray:0.53, 1.06;stroke-dashoffset:0.397499;stroke-opacity:1\"/>\n",
       "    <path d=\"m 30.480933,76.273074 v 11.77875 z\" id=\"path1138-0-4\" inkscape:connector-curvature=\"0\" style=\"fill:none;stroke:#000000;stroke-width:2.419;stroke-linecap:butt;stroke-linejoin:miter;stroke-miterlimit:4;stroke-dasharray:none;stroke-dashoffset:0;stroke-opacity:1\"/>\n",
       "    <path d=\"M 69.527663,87.914815 H 101.1617 Z\" id=\"path1140-8-7\" inkscape:connector-curvature=\"0\" style=\"fill:none;stroke:#000000;stroke-width:0.264999;stroke-linecap:butt;stroke-linejoin:miter;stroke-miterlimit:4;stroke-dasharray:0.53, 1.06;stroke-dashoffset:0.397499;stroke-opacity:1\"/>\n",
       "    <path d=\"M 46.083923,21.374379 V 88.182936 Z\" id=\"path1142-1-7\" inkscape:connector-curvature=\"0\" style=\"fill:none;stroke:#000000;stroke-width:2.419;stroke-linecap:butt;stroke-linejoin:miter;stroke-miterlimit:4;stroke-dasharray:none;stroke-dashoffset:0;stroke-opacity:1\"/>\n",
       "    <text id=\"text1150-3-9\" style=\"font-size:10.5833px;line-height:1.25;font-family:'Apple SD Gothic Neo';-inkscape-font-specification:'Apple SD Gothic Neo Normal';stroke-width:0.264583\" x=\"103.1638\" xml:space=\"preserve\" y=\"89.164612\"><tspan id=\"tspan1148-1-5\" sodipodi:role=\"line\" style=\"font-style:normal;font-variant:normal;font-weight:normal;font-stretch:normal;font-size:5.5562px;font-family:'Apple SD Gothic Neo';-inkscape-font-specification:'Apple SD Gothic Neo Normal';font-variant-ligatures:normal;font-variant-caps:normal;font-variant-numeric:normal;font-variant-east-asian:normal;stroke-width:0.264583\" x=\"103.1638\" y=\"89.164612\">σ<tspan id=\"tspan1154-1-7\" style=\"font-size:3.61154px;baseline-shift:sub;stroke-width:0.264583\">D0</tspan></tspan></text>\n",
       "    <text id=\"text1150-0-4-9-6\" style=\"font-size:10.5833px;line-height:1.25;font-family:'Apple SD Gothic Neo';-inkscape-font-specification:'Apple SD Gothic Neo Normal';stroke-width:0.264583\" x=\"103.15852\" xml:space=\"preserve\" y=\"55.515198\"><tspan id=\"tspan1148-6-0-3-8\" sodipodi:role=\"line\" style=\"font-style:normal;font-variant:normal;font-weight:normal;font-stretch:normal;font-size:5.5562px;font-family:'Apple SD Gothic Neo';-inkscape-font-specification:'Apple SD Gothic Neo Normal';font-variant-ligatures:normal;font-variant-caps:normal;font-variant-numeric:normal;font-variant-east-asian:normal;stroke-width:0.264583\" x=\"103.15852\" y=\"55.515198\">σ<tspan id=\"tspan1154-0-5-0-2\" style=\"font-size:3.61154px;baseline-shift:sub;stroke-width:0.264583\">D2</tspan></tspan></text>\n",
       "    <text id=\"text1150-0-4-8-5-9\" style=\"font-size:10.5833px;line-height:1.25;font-family:'Apple SD Gothic Neo';-inkscape-font-specification:'Apple SD Gothic Neo Normal';stroke-width:0.264583\" x=\"102.96811\" xml:space=\"preserve\" y=\"67.606323\"><tspan id=\"tspan1148-6-0-6-2-9\" sodipodi:role=\"line\" style=\"font-style:normal;font-variant:normal;font-weight:normal;font-stretch:normal;font-size:5.5562px;font-family:'Apple SD Gothic Neo';-inkscape-font-specification:'Apple SD Gothic Neo Normal';font-variant-ligatures:normal;font-variant-caps:normal;font-variant-numeric:normal;font-variant-east-asian:normal;stroke-width:0.264583\" x=\"102.96811\" y=\"67.606323\">σ<tspan id=\"tspan1154-0-5-7-3-8\" style=\"font-size:3.61154px;baseline-shift:sub;stroke-width:0.264583\">D1</tspan></tspan></text>\n",
       "    <path d=\"m 16.637241,19.81953 -2.666219,0 -2.66622,0 1.33311,-2.309014 1.33311,-2.309014 1.333109,2.309014 z\" id=\"path1503-8-3\" inkscape:flatsided=\"false\" inkscape:randomized=\"0\" inkscape:rounded=\"0\" inkscape:transform-center-x=\"1.0081334e-06\" inkscape:transform-center-y=\"-0.78168275\" sodipodi:arg1=\"0.52359878\" sodipodi:arg2=\"1.5707963\" sodipodi:cx=\"13.971022\" sodipodi:cy=\"18.280187\" sodipodi:r1=\"3.0786853\" sodipodi:r2=\"1.5393426\" sodipodi:sides=\"3\" sodipodi:type=\"star\" style=\"fill:#000000;fill-opacity:1;stroke:#000000;stroke-width:0.0628298;stroke-linecap:round;stroke-linejoin:round;stroke-miterlimit:4;stroke-dasharray:none;stroke-dashoffset:0.0439811;stroke-opacity:1\"/>\n",
       "    <text id=\"text1150-0-3-7-7\" style=\"font-size:10.5833px;line-height:1.25;font-family:'Apple SD Gothic Neo';-inkscape-font-specification:'Apple SD Gothic Neo Normal';stroke-width:0.264583\" transform=\"rotate(-90)\" x=\"-62.287079\" xml:space=\"preserve\" y=\"12.421539\"><tspan id=\"tspan1148-6-3-8-1\" sodipodi:role=\"line\" style=\"font-style:normal;font-variant:normal;font-weight:normal;font-stretch:normal;font-size:5.5562px;font-family:'Apple SD Gothic Neo';-inkscape-font-specification:'Apple SD Gothic Neo Normal';font-variant-ligatures:normal;font-variant-caps:normal;font-variant-numeric:normal;font-variant-east-asian:normal;stroke-width:0.264583\" x=\"-62.287079\" y=\"12.421539\">Time</tspan></text>\n",
       "    <path d=\"M 38.129104,66.292168 V 88.017386 Z\" id=\"path1130-8-1\" inkscape:connector-curvature=\"0\" style=\"fill:none;stroke:#000000;stroke-width:0.499999;stroke-linecap:butt;stroke-linejoin:round;stroke-miterlimit:4;stroke-dasharray:none;stroke-dashoffset:0;stroke-opacity:1\"/>\n",
       "    <path d=\"M 69.306302,47.83194 V 87.727246 Z\" id=\"path1130-8-1-5-3\" inkscape:connector-curvature=\"0\" style=\"fill:#ff0000;stroke:#ff0000;stroke-width:0.497414;stroke-linecap:butt;stroke-linejoin:round;stroke-miterlimit:4;stroke-dasharray:none;stroke-dashoffset:0;stroke-opacity:1\"/>\n",
       "    <path d=\"M 84.839614,34.363278 V 88.227084 Z\" id=\"path1130-8-1-5-3-1\" inkscape:connector-curvature=\"0\" style=\"fill:none;stroke:#000000;stroke-width:0.499999;stroke-linecap:butt;stroke-linejoin:round;stroke-miterlimit:4;stroke-dasharray:none;stroke-dashoffset:0;stroke-opacity:1\"/>\n",
       "    <path d=\"M 23.281753,66.284328 V 88.009546 Z\" id=\"path1130-8-1-1\" inkscape:connector-curvature=\"0\" style=\"fill:none;stroke:#000000;stroke-width:0.499999;stroke-linecap:butt;stroke-linejoin:round;stroke-miterlimit:4;stroke-dasharray:none;stroke-dashoffset:0;stroke-opacity:1\"/>\n",
       "    <path d=\"M 53.990814,47.781579 V 88.092964 Z\" id=\"path1130-8-1-5-3-7\" inkscape:connector-curvature=\"0\" style=\"fill:none;stroke:#000000;stroke-width:0.499999;stroke-linecap:butt;stroke-linejoin:round;stroke-miterlimit:4;stroke-dasharray:none;stroke-dashoffset:0;stroke-opacity:1\"/>\n",
       "    <path d=\"m 53.990814,47.781579 15.315488,0.0529 z\" id=\"path1828\" inkscape:connector-curvature=\"0\" style=\"fill:none;stroke:#000000;stroke-width:0.499999;stroke-linecap:butt;stroke-linejoin:round;stroke-miterlimit:4;stroke-dasharray:none;stroke-opacity:1\"/>\n",
       "    <path d=\"M 84.839614,34.363278 H 61.584713 Z\" id=\"path1832\" inkscape:connector-curvature=\"0\" style=\"fill:none;stroke:#000000;stroke-width:0.499999;stroke-linecap:butt;stroke-linejoin:round;stroke-miterlimit:4;stroke-dasharray:none;stroke-opacity:1\"/>\n",
       "    <path d=\"m 61.584713,34.363278 v 13.28792 z\" id=\"path1834\" inkscape:connector-curvature=\"0\" style=\"fill:none;stroke:#000000;stroke-width:0.499999;stroke-linecap:butt;stroke-linejoin:round;stroke-miterlimit:4;stroke-dasharray:none;stroke-opacity:1\"/>\n",
       "    <path d=\"m 23.281753,66.284328 14.847351,0.008 z\" id=\"path1836\" inkscape:connector-curvature=\"0\" style=\"fill:none;stroke:#000000;stroke-width:0.499999;stroke-linecap:butt;stroke-linejoin:round;stroke-miterlimit:4;stroke-dasharray:none;stroke-opacity:1\"/>\n",
       "    <path d=\"M 30.480933,8.1382052 H 72.961754 Z\" id=\"path1842\" inkscape:connector-curvature=\"0\" style=\"fill:none;stroke:#000000;stroke-width:0.499999;stroke-linecap:butt;stroke-linejoin:round;stroke-miterlimit:4;stroke-dasharray:none;stroke-opacity:1\"/>\n",
       "    <path d=\"M 72.961754,8.1382052 V 34.344199 Z\" id=\"path1844\" inkscape:connector-curvature=\"0\" style=\"fill:none;stroke:#000000;stroke-width:0.499999;stroke-linecap:butt;stroke-linejoin:round;stroke-miterlimit:4;stroke-dasharray:none;stroke-opacity:1\"/>\n",
       "    <path d=\"M 30.480933,8.1382052 V 66.29705 Z\" id=\"path1846\" inkscape:connector-curvature=\"0\" style=\"fill:none;stroke:#000000;stroke-width:0.499999;stroke-linecap:butt;stroke-linejoin:round;stroke-miterlimit:4;stroke-dasharray:none;stroke-opacity:1\"/>\n",
       "    <path d=\"M 69.493304,47.755769 H 101.16662 Z\" id=\"path1136-4-1-0\" inkscape:connector-curvature=\"0\" style=\"fill:none;stroke:#000000;stroke-width:0.264999;stroke-linecap:butt;stroke-linejoin:round;stroke-miterlimit:4;stroke-dasharray:0.53, 1.06;stroke-dashoffset:0.397499;stroke-opacity:1\"/>\n",
       "    <text id=\"text1150-0-4-9-6-1\" style=\"font-size:10.5833px;line-height:1.25;font-family:'Apple SD Gothic Neo';-inkscape-font-specification:'Apple SD Gothic Neo Normal';stroke-width:0.264583\" x=\"103.15604\" xml:space=\"preserve\" y=\"49.192959\"><tspan id=\"tspan1148-6-0-3-8-2\" sodipodi:role=\"line\" style=\"font-style:normal;font-variant:normal;font-weight:normal;font-stretch:normal;font-size:5.5562px;font-family:'Apple SD Gothic Neo';-inkscape-font-specification:'Apple SD Gothic Neo Normal';font-variant-ligatures:normal;font-variant-caps:normal;font-variant-numeric:normal;font-variant-east-asian:normal;stroke-width:0.264583\" x=\"103.15604\" y=\"49.192959\">σ<tspan id=\"tspan1154-0-5-0-2-1\" style=\"font-size:3.61154px;baseline-shift:sub;stroke-width:0.264583\">D3</tspan></tspan></text>\n",
       "    <path d=\"M 88.976133,87.272806 V 66.9956\" id=\"path1966\" inkscape:connector-curvature=\"0\" style=\"fill:none;stroke:#000000;stroke-width:0.264999;stroke-linecap:butt;stroke-linejoin:miter;stroke-miterlimit:1.7;stroke-dasharray:none;stroke-opacity:1;marker-start:url(#Arrow1Mstart);marker-end:url(#Arrow1Mend)\"/>\n",
       "    <path d=\"M 88.976133,65.546099 V 54.881239\" id=\"path1966-4\" inkscape:connector-curvature=\"0\" style=\"fill:none;stroke:#000000;stroke-width:0.264999;stroke-linecap:butt;stroke-linejoin:miter;stroke-miterlimit:1.7;stroke-dasharray:none;stroke-opacity:1;marker-start:url(#Arrow1Mstart-6);marker-end:url(#Arrow1Mend-6)\"/>\n",
       "    <path d=\"m 88.976133,53.559219 v -5.49275\" id=\"path1966-4-0\" inkscape:connector-curvature=\"0\" style=\"fill:none;stroke:#000000;stroke-width:0.264999;stroke-linecap:butt;stroke-linejoin:miter;stroke-miterlimit:1.7;stroke-dasharray:none;stroke-opacity:1;marker-start:url(#Arrow1Mstart-6-7);marker-end:url(#Arrow1Mend-6-0)\"/>\n",
       "    <text id=\"text1150-0-4-9-6-1-9\" style=\"font-size:10.5833px;line-height:1.25;font-family:'Apple SD Gothic Neo';-inkscape-font-specification:'Apple SD Gothic Neo Normal';stroke-width:0.264583\" x=\"90.727997\" xml:space=\"preserve\" y=\"52.579742\"><tspan id=\"tspan1148-6-0-3-8-2-6\" sodipodi:role=\"line\" style=\"font-style:normal;font-variant:normal;font-weight:normal;font-stretch:normal;font-size:5.5562px;font-family:'Apple SD Gothic Neo';-inkscape-font-specification:'Apple SD Gothic Neo Normal';font-variant-ligatures:normal;font-variant-caps:normal;font-variant-numeric:normal;font-variant-east-asian:normal;stroke-width:0.264583\" x=\"90.727997\" y=\"52.579742\">T<tspan id=\"tspan1154-0-5-0-2-1-8\" style=\"font-size:3.61154px;baseline-shift:sub;stroke-width:0.264583\">D3</tspan></tspan></text>\n",
       "    <text id=\"text1150-0-4-9-6-1-9-1\" style=\"font-size:10.5833px;line-height:1.25;font-family:'Apple SD Gothic Neo';-inkscape-font-specification:'Apple SD Gothic Neo Normal';stroke-width:0.264583\" x=\"90.612206\" xml:space=\"preserve\" y=\"61.641479\"><tspan id=\"tspan1148-6-0-3-8-2-6-1\" sodipodi:role=\"line\" style=\"font-style:normal;font-variant:normal;font-weight:normal;font-stretch:normal;font-size:5.5562px;font-family:'Apple SD Gothic Neo';-inkscape-font-specification:'Apple SD Gothic Neo Normal';font-variant-ligatures:normal;font-variant-caps:normal;font-variant-numeric:normal;font-variant-east-asian:normal;stroke-width:0.264583\" x=\"90.612206\" y=\"61.641479\">T<tspan id=\"tspan1154-0-5-0-2-1-8-8\" style=\"font-size:3.61154px;baseline-shift:sub;stroke-width:0.264583\">D2</tspan></tspan></text>\n",
       "    <text id=\"text1150-0-4-9-6-1-9-1-5\" style=\"font-size:10.5833px;line-height:1.25;font-family:'Apple SD Gothic Neo';-inkscape-font-specification:'Apple SD Gothic Neo Normal';stroke-width:0.264583\" x=\"90.532104\" xml:space=\"preserve\" y=\"78.487572\"><tspan id=\"tspan1148-6-0-3-8-2-6-1-4\" sodipodi:role=\"line\" style=\"font-style:normal;font-variant:normal;font-weight:normal;font-stretch:normal;font-size:5.5562px;font-family:'Apple SD Gothic Neo';-inkscape-font-specification:'Apple SD Gothic Neo Normal';font-variant-ligatures:normal;font-variant-caps:normal;font-variant-numeric:normal;font-variant-east-asian:normal;stroke-width:0.264583\" x=\"90.532104\" y=\"78.487572\">T<tspan id=\"tspan1154-0-5-0-2-1-8-8-2\" style=\"font-size:3.61154px;baseline-shift:sub;stroke-width:0.264583\">D1</tspan></tspan></text>\n",
       "    <text id=\"text1150-0-3-0-6-5-9\" style=\"font-size:10.5833px;line-height:1.25;font-family:'Apple SD Gothic Neo';-inkscape-font-specification:'Apple SD Gothic Neo Normal';stroke-width:0.264583\" x=\"21.503889\" xml:space=\"preserve\" y=\"94.901001\"><tspan id=\"tspan1148-6-3-2-4-2-0\" sodipodi:role=\"line\" style=\"font-style:normal;font-variant:normal;font-weight:normal;font-stretch:normal;font-size:5.5562px;font-family:'Apple SD Gothic Neo';-inkscape-font-specification:'Apple SD Gothic Neo Normal';font-variant-ligatures:normal;font-variant-caps:normal;font-variant-numeric:normal;font-variant-east-asian:normal;stroke-width:0.264583\" x=\"21.503889\" y=\"94.901001\">A</tspan></text>\n",
       "    <text id=\"text1150-0-3-0-1-7-3-1\" style=\"font-size:10.5833px;line-height:1.25;font-family:'Apple SD Gothic Neo';-inkscape-font-specification:'Apple SD Gothic Neo Normal';stroke-width:0.264583\" x=\"83.891525\" xml:space=\"preserve\" y=\"94.901001\"><tspan id=\"tspan1148-6-3-2-8-1-2-5\" sodipodi:role=\"line\" style=\"font-style:normal;font-variant:normal;font-weight:normal;font-stretch:normal;font-size:5.5562px;font-family:'Apple SD Gothic Neo';-inkscape-font-specification:'Apple SD Gothic Neo Normal';font-variant-ligatures:normal;font-variant-caps:normal;font-variant-numeric:normal;font-variant-east-asian:normal;stroke-width:0.264583\" x=\"83.891525\" y=\"94.901001\">E</tspan></text>\n",
       "    <text id=\"text1150-0-3-0-11-1-3-8\" style=\"font-size:10.5833px;line-height:1.25;font-family:'Apple SD Gothic Neo';-inkscape-font-specification:'Apple SD Gothic Neo Normal';stroke-width:0.264583\" x=\"68.070602\" xml:space=\"preserve\" y=\"94.901001\"><tspan id=\"tspan1148-6-3-2-3-8-1-2\" sodipodi:role=\"line\" style=\"font-style:normal;font-variant:normal;font-weight:normal;font-stretch:normal;font-size:5.5562px;font-family:'Apple SD Gothic Neo';-inkscape-font-specification:'Apple SD Gothic Neo Normal';font-variant-ligatures:normal;font-variant-caps:normal;font-variant-numeric:normal;font-variant-east-asian:normal;stroke-width:0.264583\" x=\"68.070602\" y=\"94.901001\">D</tspan></text>\n",
       "    <text id=\"text1150-0-3-0-0-5-1-5\" style=\"font-size:10.5833px;line-height:1.25;font-family:'Apple SD Gothic Neo';-inkscape-font-specification:'Apple SD Gothic Neo Normal';stroke-width:0.264583\" x=\"52.724747\" xml:space=\"preserve\" y=\"94.901001\"><tspan id=\"tspan1148-6-3-2-7-2-9-0\" sodipodi:role=\"line\" style=\"font-style:normal;font-variant:normal;font-weight:normal;font-stretch:normal;font-size:5.5562px;font-family:'Apple SD Gothic Neo';-inkscape-font-specification:'Apple SD Gothic Neo Normal';font-variant-ligatures:normal;font-variant-caps:normal;font-variant-numeric:normal;font-variant-east-asian:normal;stroke-width:0.264583\" x=\"52.724747\" y=\"94.901001\">C</tspan></text>\n",
       "    <text id=\"text1150-0-3-0-2-0-8-2\" style=\"font-size:10.5833px;line-height:1.25;font-family:'Apple SD Gothic Neo';-inkscape-font-specification:'Apple SD Gothic Neo Normal';stroke-width:0.264583\" x=\"36.849728\" xml:space=\"preserve\" y=\"94.901001\"><tspan id=\"tspan1148-6-3-2-35-1-0-8\" sodipodi:role=\"line\" style=\"font-style:normal;font-variant:normal;font-weight:normal;font-stretch:normal;font-size:5.5562px;font-family:'Apple SD Gothic Neo';-inkscape-font-specification:'Apple SD Gothic Neo Normal';font-variant-ligatures:normal;font-variant-caps:normal;font-variant-numeric:normal;font-variant-east-asian:normal;stroke-width:0.264583\" x=\"36.849728\" y=\"94.901001\">B</tspan></text>\n",
       "  </g>\n",
       "</svg>"
      ],
      "text/plain": [
       "<IPython.core.display.SVG object>"
      ]
     },
     "metadata": {},
     "output_type": "display_data"
    }
   ],
   "source": [
    "display(SVG('./genealogy_dbranch.svg'));"
   ]
  },
  {
   "cell_type": "markdown",
   "metadata": {},
   "source": [
    "$i_{D1} = \\frac{1}{2Ne_{D}}$  \n",
    "  \n",
    "$i_{D2} = \\frac{2}{2Ne_{CD}}$  \n",
    "  \n",
    "$i_{D3} = \\frac{3}{2Ne_{CDE}}$  "
   ]
  },
  {
   "cell_type": "code",
   "execution_count": 8,
   "metadata": {
    "scrolled": false
   },
   "outputs": [
    {
     "data": {
      "image/svg+xml": [
       "<svg height=\"100mm\" id=\"svg15593\" inkscape:version=\"1.0beta1 (fe3e306, 2019-09-17)\" sodipodi:docname=\"genealogy_ebranch.svg\" version=\"1.1\" viewBox=\"0 0 120 100\" width=\"120mm\" xmlns=\"http://www.w3.org/2000/svg\" xmlns:cc=\"http://creativecommons.org/ns#\" xmlns:dc=\"http://purl.org/dc/elements/1.1/\" xmlns:inkscape=\"http://www.inkscape.org/namespaces/inkscape\" xmlns:rdf=\"http://www.w3.org/1999/02/22-rdf-syntax-ns#\" xmlns:sodipodi=\"http://sodipodi.sourceforge.net/DTD/sodipodi-0.dtd\" xmlns:svg=\"http://www.w3.org/2000/svg\">\n",
       "  <defs id=\"defs15587\">\n",
       "    <marker id=\"Arrow1Mstart\" inkscape:isstock=\"true\" inkscape:stockid=\"Arrow1Mstart\" orient=\"auto\" refX=\"0\" refY=\"0\" style=\"overflow:visible\">\n",
       "      <path d=\"M 0,0 5,-5 -12.5,0 5,5 Z\" id=\"path1225\" inkscape:connector-curvature=\"0\" style=\"fill:#000000;fill-opacity:1;fill-rule:evenodd;stroke:#000000;stroke-width:1pt;stroke-opacity:1\" transform=\"matrix(0.4,0,0,0.4,4,0)\"/>\n",
       "    </marker>\n",
       "    <marker id=\"Arrow1Mend\" inkscape:isstock=\"true\" inkscape:stockid=\"Arrow1Mend\" orient=\"auto\" refX=\"0\" refY=\"0\" style=\"overflow:visible\">\n",
       "      <path d=\"M 0,0 5,-5 -12.5,0 5,5 Z\" id=\"path1228\" inkscape:connector-curvature=\"0\" style=\"fill:#000000;fill-opacity:1;fill-rule:evenodd;stroke:#000000;stroke-width:1pt;stroke-opacity:1\" transform=\"matrix(-0.4,0,0,-0.4,-4,0)\"/>\n",
       "    </marker>\n",
       "    <marker id=\"Arrow1Mstart-6\" inkscape:isstock=\"true\" inkscape:stockid=\"Arrow1Mstart\" orient=\"auto\" refX=\"0\" refY=\"0\" style=\"overflow:visible\">\n",
       "      <path d=\"M 0,0 5,-5 -12.5,0 5,5 Z\" id=\"path1225-6\" inkscape:connector-curvature=\"0\" style=\"fill:#000000;fill-opacity:1;fill-rule:evenodd;stroke:#000000;stroke-width:1pt;stroke-opacity:1\" transform=\"matrix(0.4,0,0,0.4,4,0)\"/>\n",
       "    </marker>\n",
       "    <marker id=\"Arrow1Mend-6\" inkscape:isstock=\"true\" inkscape:stockid=\"Arrow1Mend\" orient=\"auto\" refX=\"0\" refY=\"0\" style=\"overflow:visible\">\n",
       "      <path d=\"M 0,0 5,-5 -12.5,0 5,5 Z\" id=\"path1228-4\" inkscape:connector-curvature=\"0\" style=\"fill:#000000;fill-opacity:1;fill-rule:evenodd;stroke:#000000;stroke-width:1pt;stroke-opacity:1\" transform=\"matrix(-0.4,0,0,-0.4,-4,0)\"/>\n",
       "    </marker>\n",
       "    <marker id=\"Arrow1Mstart-6-7\" inkscape:isstock=\"true\" inkscape:stockid=\"Arrow1Mstart\" orient=\"auto\" refX=\"0\" refY=\"0\" style=\"overflow:visible\">\n",
       "      <path d=\"M 0,0 5,-5 -12.5,0 5,5 Z\" id=\"path1225-6-3\" inkscape:connector-curvature=\"0\" style=\"fill:#000000;fill-opacity:1;fill-rule:evenodd;stroke:#000000;stroke-width:1pt;stroke-opacity:1\" transform=\"matrix(0.4,0,0,0.4,4,0)\"/>\n",
       "    </marker>\n",
       "    <marker id=\"Arrow1Mend-6-0\" inkscape:isstock=\"true\" inkscape:stockid=\"Arrow1Mend\" orient=\"auto\" refX=\"0\" refY=\"0\" style=\"overflow:visible\">\n",
       "      <path d=\"M 0,0 5,-5 -12.5,0 5,5 Z\" id=\"path1228-4-9\" inkscape:connector-curvature=\"0\" style=\"fill:#000000;fill-opacity:1;fill-rule:evenodd;stroke:#000000;stroke-width:1pt;stroke-opacity:1\" transform=\"matrix(-0.4,0,0,-0.4,-4,0)\"/>\n",
       "    </marker>\n",
       "    <marker id=\"Arrow1Mstart-3\" inkscape:isstock=\"true\" inkscape:stockid=\"Arrow1Mstart\" orient=\"auto\" refX=\"0\" refY=\"0\" style=\"overflow:visible\">\n",
       "      <path d=\"M 0,0 5,-5 -12.5,0 5,5 Z\" id=\"path1225-9\" inkscape:connector-curvature=\"0\" style=\"fill:#000000;fill-opacity:1;fill-rule:evenodd;stroke:#000000;stroke-width:1pt;stroke-opacity:1\" transform=\"matrix(0.4,0,0,0.4,4,0)\"/>\n",
       "    </marker>\n",
       "    <marker id=\"Arrow1Mend-9\" inkscape:isstock=\"true\" inkscape:stockid=\"Arrow1Mend\" orient=\"auto\" refX=\"0\" refY=\"0\" style=\"overflow:visible\">\n",
       "      <path d=\"M 0,0 5,-5 -12.5,0 5,5 Z\" id=\"path1228-3\" inkscape:connector-curvature=\"0\" style=\"fill:#000000;fill-opacity:1;fill-rule:evenodd;stroke:#000000;stroke-width:1pt;stroke-opacity:1\" transform=\"matrix(-0.4,0,0,-0.4,-4,0)\"/>\n",
       "    </marker>\n",
       "    <marker id=\"Arrow1Mstart-6-0\" inkscape:isstock=\"true\" inkscape:stockid=\"Arrow1Mstart\" orient=\"auto\" refX=\"0\" refY=\"0\" style=\"overflow:visible\">\n",
       "      <path d=\"M 0,0 5,-5 -12.5,0 5,5 Z\" id=\"path1225-6-1\" inkscape:connector-curvature=\"0\" style=\"fill:#000000;fill-opacity:1;fill-rule:evenodd;stroke:#000000;stroke-width:1pt;stroke-opacity:1\" transform=\"matrix(0.4,0,0,0.4,4,0)\"/>\n",
       "    </marker>\n",
       "    <marker id=\"Arrow1Mend-6-5\" inkscape:isstock=\"true\" inkscape:stockid=\"Arrow1Mend\" orient=\"auto\" refX=\"0\" refY=\"0\" style=\"overflow:visible\">\n",
       "      <path d=\"M 0,0 5,-5 -12.5,0 5,5 Z\" id=\"path1228-4-2\" inkscape:connector-curvature=\"0\" style=\"fill:#000000;fill-opacity:1;fill-rule:evenodd;stroke:#000000;stroke-width:1pt;stroke-opacity:1\" transform=\"matrix(-0.4,0,0,-0.4,-4,0)\"/>\n",
       "    </marker>\n",
       "    <marker id=\"Arrow1Mstart-6-7-7\" inkscape:isstock=\"true\" inkscape:stockid=\"Arrow1Mstart\" orient=\"auto\" refX=\"0\" refY=\"0\" style=\"overflow:visible\">\n",
       "      <path d=\"M 0,0 5,-5 -12.5,0 5,5 Z\" id=\"path1225-6-3-3\" inkscape:connector-curvature=\"0\" style=\"fill:#000000;fill-opacity:1;fill-rule:evenodd;stroke:#000000;stroke-width:1pt;stroke-opacity:1\" transform=\"matrix(0.4,0,0,0.4,4,0)\"/>\n",
       "    </marker>\n",
       "    <marker id=\"Arrow1Mend-6-0-9\" inkscape:isstock=\"true\" inkscape:stockid=\"Arrow1Mend\" orient=\"auto\" refX=\"0\" refY=\"0\" style=\"overflow:visible\">\n",
       "      <path d=\"M 0,0 5,-5 -12.5,0 5,5 Z\" id=\"path1228-4-9-6\" inkscape:connector-curvature=\"0\" style=\"fill:#000000;fill-opacity:1;fill-rule:evenodd;stroke:#000000;stroke-width:1pt;stroke-opacity:1\" transform=\"matrix(-0.4,0,0,-0.4,-4,0)\"/>\n",
       "    </marker>\n",
       "  </defs>\n",
       "  <sodipodi:namedview bordercolor=\"#666666\" borderopacity=\"1.0\" id=\"base\" inkscape:current-layer=\"layer1\" inkscape:cx=\"264.6074\" inkscape:cy=\"192.0237\" inkscape:document-rotation=\"0\" inkscape:document-units=\"mm\" inkscape:pageopacity=\"0.0\" inkscape:pageshadow=\"2\" inkscape:window-height=\"666\" inkscape:window-maximized=\"0\" inkscape:window-width=\"1280\" inkscape:window-x=\"427\" inkscape:window-y=\"30\" inkscape:zoom=\"0.82541917\" pagecolor=\"#ffffff\" showgrid=\"false\"/>\n",
       "  <metadata id=\"metadata15590\">\n",
       "    <rdf:RDF>\n",
       "      <cc:Work rdf:about=\"\">\n",
       "        <dc:format>image/svg+xml</dc:format>\n",
       "        <dc:type rdf:resource=\"http://purl.org/dc/dcmitype/StillImage\"/>\n",
       "        <dc:title/>\n",
       "      </cc:Work>\n",
       "    </rdf:RDF>\n",
       "  </metadata>\n",
       "  <g id=\"layer1\" inkscape:groupmode=\"layer\" inkscape:label=\"Layer 1\">\n",
       "    <path d=\"M 94.980189,86.898734 H 13.490796 Z\" id=\"path1111-4-6-4\" inkscape:connector-curvature=\"0\" style=\"fill:none;stroke:#000000;stroke-width:0.564999;stroke-linecap:butt;stroke-linejoin:round;stroke-miterlimit:4;stroke-dasharray:none;stroke-opacity:1\"/>\n",
       "    <path d=\"M 13.490796,86.898734 V 16.525914 Z\" id=\"path1128-4-0-9\" inkscape:connector-curvature=\"0\" style=\"fill:none;stroke:#000000;stroke-width:0.564999;stroke-linecap:butt;stroke-linejoin:round;stroke-miterlimit:4;stroke-dasharray:none;stroke-opacity:1\"/>\n",
       "    <path d=\"M 61.233676,64.983563 V 86.708784 Z\" id=\"path1130-8-3-2\" inkscape:connector-curvature=\"0\" style=\"fill:none;stroke:#000000;stroke-width:2.419;stroke-linecap:butt;stroke-linejoin:miter;stroke-miterlimit:4;stroke-dasharray:none;stroke-dashoffset:0;stroke-opacity:1\"/>\n",
       "    <path d=\"M 76.836835,52.784623 V 86.747855 Z\" id=\"path1134-1-2-5\" inkscape:connector-curvature=\"0\" style=\"fill:none;stroke:#000000;stroke-width:2.419;stroke-linecap:butt;stroke-linejoin:miter;stroke-miterlimit:4;stroke-dasharray:none;stroke-dashoffset:0;stroke-opacity:1\"/>\n",
       "    <path d=\"m 30.000786,74.951894 v 11.77875 z\" id=\"path1138-0-4-7\" inkscape:connector-curvature=\"0\" style=\"fill:none;stroke:#000000;stroke-width:2.419;stroke-linecap:butt;stroke-linejoin:miter;stroke-miterlimit:4;stroke-dasharray:none;stroke-dashoffset:0;stroke-opacity:1\"/>\n",
       "    <path d=\"M 45.603775,20.053194 V 86.861755 Z\" id=\"path1142-1-7-4\" inkscape:connector-curvature=\"0\" style=\"fill:none;stroke:#000000;stroke-width:2.419;stroke-linecap:butt;stroke-linejoin:miter;stroke-miterlimit:4;stroke-dasharray:none;stroke-dashoffset:0;stroke-opacity:1\"/>\n",
       "    <text id=\"text1150-3-9-2\" style=\"font-size:10.5833px;line-height:1.25;font-family:'Apple SD Gothic Neo';-inkscape-font-specification:'Apple SD Gothic Neo Normal';stroke-width:0.264583\" x=\"102.68364\" xml:space=\"preserve\" y=\"87.843422\"><tspan id=\"tspan1148-1-5-4\" sodipodi:role=\"line\" style=\"font-style:normal;font-variant:normal;font-weight:normal;font-stretch:normal;font-size:5.5562px;font-family:'Apple SD Gothic Neo';-inkscape-font-specification:'Apple SD Gothic Neo Normal';font-variant-ligatures:normal;font-variant-caps:normal;font-variant-numeric:normal;font-variant-east-asian:normal;stroke-width:0.264583\" x=\"102.68364\" y=\"87.843422\">σ<tspan id=\"tspan1154-1-7-6\" style=\"font-size:3.61154px;baseline-shift:sub;stroke-width:0.264583\">E0</tspan></tspan></text>\n",
       "    <text id=\"text1150-0-4-9-6-7\" style=\"font-size:10.5833px;line-height:1.25;font-family:'Apple SD Gothic Neo';-inkscape-font-specification:'Apple SD Gothic Neo Normal';stroke-width:0.264583\" x=\"102.67839\" xml:space=\"preserve\" y=\"54.193985\"><tspan id=\"tspan1148-6-0-3-8-5\" sodipodi:role=\"line\" style=\"font-style:normal;font-variant:normal;font-weight:normal;font-stretch:normal;font-size:5.5562px;font-family:'Apple SD Gothic Neo';-inkscape-font-specification:'Apple SD Gothic Neo Normal';font-variant-ligatures:normal;font-variant-caps:normal;font-variant-numeric:normal;font-variant-east-asian:normal;stroke-width:0.264583\" x=\"102.67839\" y=\"54.193985\">σ<tspan id=\"tspan1154-0-5-0-2-9\" style=\"font-size:3.61154px;baseline-shift:sub;stroke-width:0.264583\">E1</tspan></tspan></text>\n",
       "    <text id=\"text1150-0-4-8-5-9-2\" style=\"font-size:10.5833px;line-height:1.25;font-family:'Apple SD Gothic Neo';-inkscape-font-specification:'Apple SD Gothic Neo Normal';stroke-width:0.264583\" x=\"102.48796\" xml:space=\"preserve\" y=\"34.006371\"><tspan id=\"tspan1148-6-0-6-2-9-6\" sodipodi:role=\"line\" style=\"font-style:normal;font-variant:normal;font-weight:normal;font-stretch:normal;font-size:5.5562px;font-family:'Apple SD Gothic Neo';-inkscape-font-specification:'Apple SD Gothic Neo Normal';font-variant-ligatures:normal;font-variant-caps:normal;font-variant-numeric:normal;font-variant-east-asian:normal;stroke-width:0.264583\" x=\"102.48796\" y=\"34.006371\">σ<tspan id=\"tspan1154-0-5-7-3-8-2\" style=\"font-size:3.61154px;baseline-shift:sub;stroke-width:0.264583\">E3</tspan></tspan></text>\n",
       "    <path d=\"m 16.157079,18.498346 -2.66622,0 -2.66622,0 1.33311,-2.309014 1.33311,-2.309014 1.33311,2.309014 z\" id=\"path1503-8-3-9\" inkscape:flatsided=\"false\" inkscape:randomized=\"0\" inkscape:rounded=\"0\" inkscape:transform-center-x=\"1.0081334e-06\" inkscape:transform-center-y=\"-0.78168275\" sodipodi:arg1=\"0.52359878\" sodipodi:arg2=\"1.5707963\" sodipodi:cx=\"13.490859\" sodipodi:cy=\"16.959003\" sodipodi:r1=\"3.0786853\" sodipodi:r2=\"1.5393426\" sodipodi:sides=\"3\" sodipodi:type=\"star\" style=\"fill:#000000;fill-opacity:1;stroke:#000000;stroke-width:0.0628298;stroke-linecap:round;stroke-linejoin:round;stroke-miterlimit:4;stroke-dasharray:none;stroke-dashoffset:0.0439811;stroke-opacity:1\"/>\n",
       "    <text id=\"text1150-0-3-7-7-6\" style=\"font-size:10.5833px;line-height:1.25;font-family:'Apple SD Gothic Neo';-inkscape-font-specification:'Apple SD Gothic Neo Normal';stroke-width:0.264583\" transform=\"rotate(-90)\" x=\"-60.965866\" xml:space=\"preserve\" y=\"11.941388\"><tspan id=\"tspan1148-6-3-8-1-9\" sodipodi:role=\"line\" style=\"font-style:normal;font-variant:normal;font-weight:normal;font-stretch:normal;font-size:5.5562px;font-family:'Apple SD Gothic Neo';-inkscape-font-specification:'Apple SD Gothic Neo Normal';font-variant-ligatures:normal;font-variant-caps:normal;font-variant-numeric:normal;font-variant-east-asian:normal;stroke-width:0.264583\" x=\"-60.965866\" y=\"11.941388\">Time</tspan></text>\n",
       "    <path d=\"M 37.648956,64.970985 V 86.696206 Z\" id=\"path1130-8-1-9\" inkscape:connector-curvature=\"0\" style=\"fill:none;stroke:#000000;stroke-width:0.499999;stroke-linecap:butt;stroke-linejoin:round;stroke-miterlimit:4;stroke-dasharray:none;stroke-dashoffset:0;stroke-opacity:1\"/>\n",
       "    <path d=\"M 68.826146,46.510765 V 86.406063 Z\" id=\"path1130-8-1-5-3-8\" inkscape:connector-curvature=\"0\" style=\"fill:#ff0000;stroke:#000000;stroke-width:0.497414;stroke-linecap:butt;stroke-linejoin:round;stroke-miterlimit:4;stroke-dasharray:none;stroke-dashoffset:0;stroke-opacity:1\"/>\n",
       "    <path d=\"M 84.359466,33.042095 V 86.905904 Z\" id=\"path1130-8-1-5-3-1-0\" inkscape:connector-curvature=\"0\" style=\"fill:none;stroke:#fe0000;stroke-width:0.499999;stroke-linecap:butt;stroke-linejoin:round;stroke-miterlimit:4;stroke-dasharray:none;stroke-dashoffset:0;stroke-opacity:1\"/>\n",
       "    <path d=\"M 22.801606,64.963145 V 86.688363 Z\" id=\"path1130-8-1-1-3\" inkscape:connector-curvature=\"0\" style=\"fill:none;stroke:#000000;stroke-width:0.499999;stroke-linecap:butt;stroke-linejoin:round;stroke-miterlimit:4;stroke-dasharray:none;stroke-dashoffset:0;stroke-opacity:1\"/>\n",
       "    <path d=\"m 53.510666,46.460394 v 40.31139 z\" id=\"path1130-8-1-5-3-7-6\" inkscape:connector-curvature=\"0\" style=\"fill:none;stroke:#000000;stroke-width:0.499999;stroke-linecap:butt;stroke-linejoin:round;stroke-miterlimit:4;stroke-dasharray:none;stroke-dashoffset:0;stroke-opacity:1\"/>\n",
       "    <path d=\"m 53.510666,46.460394 15.31548,0.0529 z\" id=\"path1828-3\" inkscape:connector-curvature=\"0\" style=\"fill:none;stroke:#000000;stroke-width:0.499999;stroke-linecap:butt;stroke-linejoin:round;stroke-miterlimit:4;stroke-dasharray:none;stroke-opacity:1\"/>\n",
       "    <path d=\"M 84.359466,33.042095 H 61.104567 Z\" id=\"path1832-7\" inkscape:connector-curvature=\"0\" style=\"fill:none;stroke:#000000;stroke-width:0.499999;stroke-linecap:butt;stroke-linejoin:round;stroke-miterlimit:4;stroke-dasharray:none;stroke-opacity:1\"/>\n",
       "    <path d=\"m 61.104567,33.042095 v 13.28792 z\" id=\"path1834-5\" inkscape:connector-curvature=\"0\" style=\"fill:none;stroke:#000000;stroke-width:0.499999;stroke-linecap:butt;stroke-linejoin:round;stroke-miterlimit:4;stroke-dasharray:none;stroke-opacity:1\"/>\n",
       "    <path d=\"m 22.801606,64.963145 14.84735,0.008 z\" id=\"path1836-8\" inkscape:connector-curvature=\"0\" style=\"fill:none;stroke:#000000;stroke-width:0.499999;stroke-linecap:butt;stroke-linejoin:round;stroke-miterlimit:4;stroke-dasharray:none;stroke-opacity:1\"/>\n",
       "    <path d=\"m 30.000786,6.8170198 h 42.48082 z\" id=\"path1842-7\" inkscape:connector-curvature=\"0\" style=\"fill:none;stroke:#000000;stroke-width:0.499999;stroke-linecap:butt;stroke-linejoin:round;stroke-miterlimit:4;stroke-dasharray:none;stroke-opacity:1\"/>\n",
       "    <path d=\"M 72.481606,6.8170198 V 33.023014 Z\" id=\"path1844-7\" inkscape:connector-curvature=\"0\" style=\"fill:none;stroke:#000000;stroke-width:0.499999;stroke-linecap:butt;stroke-linejoin:round;stroke-miterlimit:4;stroke-dasharray:none;stroke-opacity:1\"/>\n",
       "    <path d=\"M 30.000786,6.8170198 V 64.975874 Z\" id=\"path1846-1\" inkscape:connector-curvature=\"0\" style=\"fill:none;stroke:#000000;stroke-width:0.499999;stroke-linecap:butt;stroke-linejoin:round;stroke-miterlimit:4;stroke-dasharray:none;stroke-opacity:1\"/>\n",
       "    <text id=\"text1150-0-4-9-6-1-1\" style=\"font-size:10.5833px;line-height:1.25;font-family:'Apple SD Gothic Neo';-inkscape-font-specification:'Apple SD Gothic Neo Normal';stroke-width:0.264583\" x=\"102.6759\" xml:space=\"preserve\" y=\"47.87175\"><tspan id=\"tspan1148-6-0-3-8-2-3\" sodipodi:role=\"line\" style=\"font-style:normal;font-variant:normal;font-weight:normal;font-stretch:normal;font-size:5.5562px;font-family:'Apple SD Gothic Neo';-inkscape-font-specification:'Apple SD Gothic Neo Normal';font-variant-ligatures:normal;font-variant-caps:normal;font-variant-numeric:normal;font-variant-east-asian:normal;stroke-width:0.264583\" x=\"102.6759\" y=\"47.87175\">σ<tspan id=\"tspan1154-0-5-0-2-1-4\" style=\"font-size:3.61154px;baseline-shift:sub;stroke-width:0.264583\">E2</tspan></tspan></text>\n",
       "    <path d=\"M 88.495985,85.651215 V 53.539104\" id=\"path1966-3\" inkscape:connector-curvature=\"0\" style=\"fill:none;stroke:#000000;stroke-width:0.264999;stroke-linecap:butt;stroke-linejoin:miter;stroke-miterlimit:1.7;stroke-dasharray:none;stroke-opacity:1;marker-start:url(#Arrow1Mstart-3);marker-end:url(#Arrow1Mend-9)\"/>\n",
       "    <path d=\"M 88.495985,45.625485 V 33.357854\" id=\"path1966-4-2\" inkscape:connector-curvature=\"0\" style=\"fill:none;stroke:#000000;stroke-width:0.264999;stroke-linecap:butt;stroke-linejoin:miter;stroke-miterlimit:1.7;stroke-dasharray:none;stroke-opacity:1;marker-start:url(#Arrow1Mstart-6-0);marker-end:url(#Arrow1Mend-6-5)\"/>\n",
       "    <path d=\"m 88.495985,52.238034 v -5.49275\" id=\"path1966-4-0-2\" inkscape:connector-curvature=\"0\" style=\"fill:none;stroke:#000000;stroke-width:0.264999;stroke-linecap:butt;stroke-linejoin:miter;stroke-miterlimit:1.7;stroke-dasharray:none;stroke-opacity:1;marker-start:url(#Arrow1Mstart-6-7-7);marker-end:url(#Arrow1Mend-6-0-9)\"/>\n",
       "    <text id=\"text1150-0-4-9-6-1-9-11\" style=\"font-size:10.5833px;line-height:1.25;font-family:'Apple SD Gothic Neo';-inkscape-font-specification:'Apple SD Gothic Neo Normal';stroke-width:0.264583\" x=\"90.247849\" xml:space=\"preserve\" y=\"51.25853\"><tspan id=\"tspan1148-6-0-3-8-2-6-12\" sodipodi:role=\"line\" style=\"font-style:normal;font-variant:normal;font-weight:normal;font-stretch:normal;font-size:5.5562px;font-family:'Apple SD Gothic Neo';-inkscape-font-specification:'Apple SD Gothic Neo Normal';font-variant-ligatures:normal;font-variant-caps:normal;font-variant-numeric:normal;font-variant-east-asian:normal;stroke-width:0.264583\" x=\"90.247849\" y=\"51.25853\">T<tspan id=\"tspan1154-0-5-0-2-1-8-3\" style=\"font-size:3.61154px;baseline-shift:sub;stroke-width:0.264583\">E2</tspan></tspan></text>\n",
       "    <text id=\"text1150-0-4-9-6-1-9-1-3\" style=\"font-size:10.5833px;line-height:1.25;font-family:'Apple SD Gothic Neo';-inkscape-font-specification:'Apple SD Gothic Neo Normal';stroke-width:0.264583\" x=\"90.132072\" xml:space=\"preserve\" y=\"41.799686\"><tspan id=\"tspan1148-6-0-3-8-2-6-1-0\" sodipodi:role=\"line\" style=\"font-style:normal;font-variant:normal;font-weight:normal;font-stretch:normal;font-size:5.5562px;font-family:'Apple SD Gothic Neo';-inkscape-font-specification:'Apple SD Gothic Neo Normal';font-variant-ligatures:normal;font-variant-caps:normal;font-variant-numeric:normal;font-variant-east-asian:normal;stroke-width:0.264583\" x=\"90.132072\" y=\"41.799686\">T<tspan id=\"tspan1154-0-5-0-2-1-8-8-0\" style=\"font-size:3.61154px;baseline-shift:sub;stroke-width:0.264583\">E3</tspan></tspan></text>\n",
       "    <text id=\"text1150-0-4-9-6-1-9-1-5-4\" style=\"font-size:10.5833px;line-height:1.25;font-family:'Apple SD Gothic Neo';-inkscape-font-specification:'Apple SD Gothic Neo Normal';stroke-width:0.264583\" x=\"90.051956\" xml:space=\"preserve\" y=\"70.816452\"><tspan id=\"tspan1148-6-0-3-8-2-6-1-4-5\" sodipodi:role=\"line\" style=\"font-style:normal;font-variant:normal;font-weight:normal;font-stretch:normal;font-size:5.5562px;font-family:'Apple SD Gothic Neo';-inkscape-font-specification:'Apple SD Gothic Neo Normal';font-variant-ligatures:normal;font-variant-caps:normal;font-variant-numeric:normal;font-variant-east-asian:normal;stroke-width:0.264583\" x=\"90.051956\" y=\"70.816452\">T<tspan id=\"tspan1154-0-5-0-2-1-8-8-2-7\" style=\"font-size:3.61154px;baseline-shift:sub;stroke-width:0.264583\">E1</tspan></tspan></text>\n",
       "    <text id=\"text1150-0-3-0-6-5-9-0\" style=\"font-size:10.5833px;line-height:1.25;font-family:'Apple SD Gothic Neo';-inkscape-font-specification:'Apple SD Gothic Neo Normal';stroke-width:0.264583\" x=\"21.023743\" xml:space=\"preserve\" y=\"93.579803\"><tspan id=\"tspan1148-6-3-2-4-2-0-1\" sodipodi:role=\"line\" style=\"font-style:normal;font-variant:normal;font-weight:normal;font-stretch:normal;font-size:5.5562px;font-family:'Apple SD Gothic Neo';-inkscape-font-specification:'Apple SD Gothic Neo Normal';font-variant-ligatures:normal;font-variant-caps:normal;font-variant-numeric:normal;font-variant-east-asian:normal;stroke-width:0.264583\" x=\"21.023743\" y=\"93.579803\">A</tspan></text>\n",
       "    <text id=\"text1150-0-3-0-1-7-3-1-8\" style=\"font-size:10.5833px;line-height:1.25;font-family:'Apple SD Gothic Neo';-inkscape-font-specification:'Apple SD Gothic Neo Normal';stroke-width:0.264583\" x=\"83.411377\" xml:space=\"preserve\" y=\"93.579803\"><tspan id=\"tspan1148-6-3-2-8-1-2-5-6\" sodipodi:role=\"line\" style=\"font-style:normal;font-variant:normal;font-weight:normal;font-stretch:normal;font-size:5.5562px;font-family:'Apple SD Gothic Neo';-inkscape-font-specification:'Apple SD Gothic Neo Normal';font-variant-ligatures:normal;font-variant-caps:normal;font-variant-numeric:normal;font-variant-east-asian:normal;stroke-width:0.264583\" x=\"83.411377\" y=\"93.579803\">E</tspan></text>\n",
       "    <text id=\"text1150-0-3-0-11-1-3-8-3\" style=\"font-size:10.5833px;line-height:1.25;font-family:'Apple SD Gothic Neo';-inkscape-font-specification:'Apple SD Gothic Neo Normal';stroke-width:0.264583\" x=\"67.590454\" xml:space=\"preserve\" y=\"93.579803\"><tspan id=\"tspan1148-6-3-2-3-8-1-2-0\" sodipodi:role=\"line\" style=\"font-style:normal;font-variant:normal;font-weight:normal;font-stretch:normal;font-size:5.5562px;font-family:'Apple SD Gothic Neo';-inkscape-font-specification:'Apple SD Gothic Neo Normal';font-variant-ligatures:normal;font-variant-caps:normal;font-variant-numeric:normal;font-variant-east-asian:normal;stroke-width:0.264583\" x=\"67.590454\" y=\"93.579803\">D</tspan></text>\n",
       "    <text id=\"text1150-0-3-0-0-5-1-5-9\" style=\"font-size:10.5833px;line-height:1.25;font-family:'Apple SD Gothic Neo';-inkscape-font-specification:'Apple SD Gothic Neo Normal';stroke-width:0.264583\" x=\"52.244602\" xml:space=\"preserve\" y=\"93.579803\"><tspan id=\"tspan1148-6-3-2-7-2-9-0-6\" sodipodi:role=\"line\" style=\"font-style:normal;font-variant:normal;font-weight:normal;font-stretch:normal;font-size:5.5562px;font-family:'Apple SD Gothic Neo';-inkscape-font-specification:'Apple SD Gothic Neo Normal';font-variant-ligatures:normal;font-variant-caps:normal;font-variant-numeric:normal;font-variant-east-asian:normal;stroke-width:0.264583\" x=\"52.244602\" y=\"93.579803\">C</tspan></text>\n",
       "    <text id=\"text1150-0-3-0-2-0-8-2-2\" style=\"font-size:10.5833px;line-height:1.25;font-family:'Apple SD Gothic Neo';-inkscape-font-specification:'Apple SD Gothic Neo Normal';stroke-width:0.264583\" x=\"36.369583\" xml:space=\"preserve\" y=\"93.579803\"><tspan id=\"tspan1148-6-3-2-35-1-0-8-8\" sodipodi:role=\"line\" style=\"font-style:normal;font-variant:normal;font-weight:normal;font-stretch:normal;font-size:5.5562px;font-family:'Apple SD Gothic Neo';-inkscape-font-specification:'Apple SD Gothic Neo Normal';font-variant-ligatures:normal;font-variant-caps:normal;font-variant-numeric:normal;font-variant-east-asian:normal;stroke-width:0.264583\" x=\"36.369583\" y=\"93.579803\">B</tspan></text>\n",
       "    <path d=\"M 84.554477,32.704194 H 100.65891 Z\" id=\"path1132-6-2-3-5\" inkscape:connector-curvature=\"0\" style=\"fill:none;stroke:#000000;stroke-width:0.264999;stroke-linecap:butt;stroke-linejoin:miter;stroke-miterlimit:4;stroke-dasharray:0.53, 1.06;stroke-dashoffset:0.053;stroke-opacity:1\"/>\n",
       "    <path d=\"M 84.582047,46.434584 H 100.68648 Z\" id=\"path1132-6-2-3-5-6\" inkscape:connector-curvature=\"0\" style=\"fill:none;stroke:#000000;stroke-width:0.264999;stroke-linecap:butt;stroke-linejoin:miter;stroke-miterlimit:4;stroke-dasharray:0.53, 1.06;stroke-dashoffset:0.053;stroke-opacity:1\"/>\n",
       "    <path d=\"M 84.582047,52.784623 H 100.68648 Z\" id=\"path1132-6-2-3-5-6-3\" inkscape:connector-curvature=\"0\" style=\"fill:none;stroke:#000000;stroke-width:0.264999;stroke-linecap:butt;stroke-linejoin:miter;stroke-miterlimit:4;stroke-dasharray:0.53, 1.06;stroke-dashoffset:0.053;stroke-opacity:1\"/>\n",
       "    <path d=\"M 84.577125,86.593635 H 100.68156 Z\" id=\"path1132-6-2-3-5-6-3-8\" inkscape:connector-curvature=\"0\" style=\"fill:none;stroke:#000000;stroke-width:0.264999;stroke-linecap:butt;stroke-linejoin:miter;stroke-miterlimit:4;stroke-dasharray:0.53, 1.06;stroke-dashoffset:0.053;stroke-opacity:1\"/>\n",
       "  </g>\n",
       "</svg>"
      ],
      "text/plain": [
       "<IPython.core.display.SVG object>"
      ]
     },
     "metadata": {},
     "output_type": "display_data"
    }
   ],
   "source": [
    "display(SVG('./genealogy_ebranch.svg'));"
   ]
  },
  {
   "cell_type": "markdown",
   "metadata": {},
   "source": [
    "$i_{D1} = \\frac{1}{2Ne_{E}}$  \n",
    "  \n",
    "$i_{D2} = \\frac{3}{2Ne_{CDE}}$  \n",
    "  \n",
    "$i_{D3} = \\frac{2}{2Ne_{CDE}}$  "
   ]
  },
  {
   "cell_type": "markdown",
   "metadata": {},
   "source": [
    "### The math:"
   ]
  },
  {
   "cell_type": "markdown",
   "metadata": {},
   "source": [
    "## Proposition 1:  "
   ]
  },
  {
   "cell_type": "markdown",
   "metadata": {},
   "source": [
    "$\\mathbb{P}($tree unchanged$ | b, t, \\Im) = \\int_{t}^{t_{b}^{u}} \\frac{1}{D_{b}(t)} p(\\tau | t) d\\tau$"
   ]
  },
  {
   "cell_type": "markdown",
   "metadata": {},
   "source": [
    "$= \\int_{t}^{t_{b}^{u}} \\exp{[-\\int_{t}^{\\tau} D_{b}(s) ds]d\\tau}$"
   ]
  },
  {
   "cell_type": "markdown",
   "metadata": {},
   "source": [
    "$= \\int_{t}^{\\sigma_{bx_{b}(t)}} \\exp{[-\\int_{t}^{\\tau} D_{b}(s) ds]} + \\Sigma_{j=x_{b}(t) + 1}^{k_{b}} \\int_{\\sigma_{b(j-1)}}^{\\sigma_{bj}} \\exp{[-\\int_{t}^{\\tau} D_{b}(s) ds]d\\tau}$"
   ]
  },
  {
   "cell_type": "markdown",
   "metadata": {},
   "source": [
    "Let's take the first term:"
   ]
  },
  {
   "cell_type": "markdown",
   "metadata": {},
   "source": [
    "$\\int_{t}^{\\sigma_{bx_{b}(t)}} \\exp{[-\\int_{t}^{\\tau} D_{b}(s) ds]}$"
   ]
  },
  {
   "cell_type": "markdown",
   "metadata": {},
   "source": [
    "Since $D_{b}(s)$ is constant through the interval $[t,\\tau]$, we can pull the $D_{b}(s)$ out in front of the integral."
   ]
  },
  {
   "cell_type": "markdown",
   "metadata": {},
   "source": [
    "$=\\int_{t}^{\\sigma_{bx_{b}(t)}} \\exp{[-D_{b}(t)(\\tau-t)]}d\\tau$"
   ]
  },
  {
   "cell_type": "markdown",
   "metadata": {},
   "source": [
    "$=\\int_{t}^{\\sigma_{bx_{b}(t)}} \\exp{[-i_{bx_{b}(t)}(\\tau-t)]}d\\tau$"
   ]
  },
  {
   "cell_type": "markdown",
   "metadata": {},
   "source": [
    "$=\\frac{\\exp{[-i_{bx_{b}(t)}(\\sigma_{bx_{b}(t)}-t)]}}{-i_{bx_{b}(t)}} - \\frac{1}{-i_{bx_{b}(t)}}$"
   ]
  },
  {
   "cell_type": "markdown",
   "metadata": {},
   "source": [
    "$=\\frac{1-\\exp{[-i_{bx_{b}(t)}(\\sigma_{bx_{b}(t)}-t)]}}{i_{bx_{b}(t)}}$"
   ]
  },
  {
   "cell_type": "markdown",
   "metadata": {},
   "source": [
    "$=\\frac{1-\\exp{[i_{bx_{b}(t)}t-i_{bx_{b}(t)}\\sigma_{bx_{b}(t)}]}}{i_{bx_{b}(t)}}$"
   ]
  },
  {
   "cell_type": "markdown",
   "metadata": {},
   "source": [
    "$=\\frac{1}{i_{bx_{b}(t)}} - \\frac{1}{i_{bx_{b}(t)}}e^{-i_{bx_{b}(t)}\\sigma_{bx_{b}(t)}}e^{i_{bx_{b}(t)}t}$"
   ]
  },
  {
   "cell_type": "markdown",
   "metadata": {},
   "source": [
    "To condense it:"
   ]
  },
  {
   "cell_type": "markdown",
   "metadata": {},
   "source": [
    "= $\\frac{1}{i_{bx_{b}(t)}} + P_{ii}e^{i_{bx_{b}(t)}t}$"
   ]
  },
  {
   "cell_type": "markdown",
   "metadata": {},
   "source": [
    "Yay! Save this for later. Now let's refocus on the second term:"
   ]
  },
  {
   "cell_type": "markdown",
   "metadata": {},
   "source": [
    "$\\Sigma_{j=x_{b}(t) + 1}^{k_{b}} \\int_{\\sigma_{b(j-1)}}^{\\sigma_{bj}} \\exp{[-\\int_{t}^{\\tau} D_{b}(s) ds]d\\tau}$"
   ]
  },
  {
   "cell_type": "markdown",
   "metadata": {},
   "source": [
    "Let's work inside the summation (save the summation for the end!):"
   ]
  },
  {
   "cell_type": "markdown",
   "metadata": {},
   "source": [
    "$\\int_{\\sigma_{b(j-1)}}^{\\sigma_{bj}} \\exp{[-\\int_{t}^{\\tau} D_{b}(s) ds]d\\tau}$"
   ]
  },
  {
   "cell_type": "markdown",
   "metadata": {},
   "source": [
    "$=\\exp{[-\\int_{t}^{\\sigma_{b(j-1)}}D_{b}(s)ds]}*[\\int_{\\sigma_{b(j-1)}}^{\\sigma_{bj}}\\exp{(-\\int_{\\sigma_{b(j-1)}}^{\\tau}D_{b}(s)ds)}d\\tau]$"
   ]
  },
  {
   "cell_type": "markdown",
   "metadata": {},
   "source": [
    "Again, let's break this apart and focus on the first half:"
   ]
  },
  {
   "cell_type": "markdown",
   "metadata": {},
   "source": [
    "$\\exp{[-\\int_{t}^{\\sigma_{b(j-1)}}D_{b}(s)ds]}$"
   ]
  },
  {
   "cell_type": "markdown",
   "metadata": {},
   "source": [
    "$=\\exp{[-\\int_{t}^{\\sigma_{bx_{b}(t)}}D_{b}(s)ds -\\int_{\\sigma_{bx_{b}(t)}}^{\\sigma_{b(j-1)}}D_{b}(s)ds]}$"
   ]
  },
  {
   "cell_type": "markdown",
   "metadata": {},
   "source": [
    "$=\\exp[-i_{bx_{b}(t)}(\\sigma_{bx_{b}(t)}-t) - \\Sigma_{m=x_{b}(t)+1}^{j-1}i_{bm}|T_{bm}|]$"
   ]
  },
  {
   "cell_type": "markdown",
   "metadata": {},
   "source": [
    "$=e^{i_{bx_{b}(t)}t}\\exp[-i_{bx_{b}(t)}\\sigma_{bx_{b}(t)} - \\Sigma_{m=x_{b}(t)+1}^{j-1}i_{bm}|T_{bm}|]$"
   ]
  },
  {
   "cell_type": "markdown",
   "metadata": {},
   "source": [
    "Great! Save this for later. And now we can finish with the second half:"
   ]
  },
  {
   "cell_type": "markdown",
   "metadata": {},
   "source": [
    "$\\int_{\\sigma_{b(j-1)}}^{\\sigma_{bj}}\\exp{(-\\int_{\\sigma_{b(j-1)}}^{\\tau}D_{b}(s)ds)}d\\tau$"
   ]
  },
  {
   "cell_type": "markdown",
   "metadata": {},
   "source": [
    "$=\\int_{\\sigma_{b(j-1)}}^{\\sigma_{bj}}\\exp{(-i_{bj}(\\tau-\\sigma_{b(j-1)}))}$"
   ]
  },
  {
   "cell_type": "markdown",
   "metadata": {},
   "source": [
    "$=\\frac{\\exp{(-i_{bj}(\\sigma_{bj}-\\sigma_{b(j-1)}))}}{-i_{bj}} - \\frac{1}{-i_{bj}}$"
   ]
  },
  {
   "cell_type": "markdown",
   "metadata": {},
   "source": [
    "$=\\frac{1}{i_{bj}} - \\frac{\\exp{(-i_{bj}(\\sigma_{bj}-\\sigma_{b(j-1)}))}}{i_{bj}} $"
   ]
  },
  {
   "cell_type": "markdown",
   "metadata": {},
   "source": [
    "$=\\frac{1}{i_{bj}}(1-e^{-i_{bj}|T_{bj}|})$"
   ]
  },
  {
   "cell_type": "markdown",
   "metadata": {},
   "source": [
    "Now let's put the whole second term back together, and condense it:"
   ]
  },
  {
   "cell_type": "markdown",
   "metadata": {},
   "source": [
    "$e^{i_{bx_{b}(t)}t}\\exp[-i_{bx_{b}(t)}\\sigma_{bx_{b}(t)} - \\Sigma_{m=x_{b}(t)+1}^{j-1}i_{bm}|T_{bm}|]\\frac{1}{i_{bj}}(1-e^{-i_{bj}|T_{bj}|})$"
   ]
  },
  {
   "cell_type": "markdown",
   "metadata": {},
   "source": [
    "$=P_{ij}e^{i_{bx_{b}(t)}t}$"
   ]
  },
  {
   "cell_type": "markdown",
   "metadata": {},
   "source": [
    "And we're done. Now we can finally stitch everything back together:"
   ]
  },
  {
   "cell_type": "markdown",
   "metadata": {},
   "source": [
    "$\\frac{1}{i_{bx_{b}(t)}} - \\frac{1}{i_{bx_{b}(t)}}e^{-i_{bx_{b}(t)}\\sigma_{bx_{b}(t)}}e^{i_{bx_{b}(t)}t} + \\Sigma_{j=x_{b}(t) + 1}^{k_{b}} \\frac{1}{i_{bj}}(1-e^{-i_{bj}|T_{bj}|})e^{i_{bx_{b}(t)}t}\\exp(-i_{bx_{b}(t)}\\sigma_{bx_{b}(t)} - \\Sigma_{m=x_{b}(t)+1}^{\\sigma_{b(j-1)}}i_{bm}|T_{bm}|)$"
   ]
  },
  {
   "cell_type": "markdown",
   "metadata": {},
   "source": [
    "$= \\frac{1}{i_{bx_{b}(t)}} + P_{ii}e^{i_{bx_{b}(t)}t} + \\Sigma_{j=x_{b}(t) + 1}^{k_{b}} P_{ij}e^{i_{bx_{b}(t)}t} $"
   ]
  },
  {
   "cell_type": "markdown",
   "metadata": {},
   "source": [
    "### Final answer:"
   ]
  },
  {
   "cell_type": "markdown",
   "metadata": {},
   "source": [
    "$\\mathbb{P}($tree unchanged$ | b, t, \\Im) = \\frac{1}{i_{bx_{b}(t)}} + e^{i_{bx_{b}(t)}t} (P_{ii} + \\Sigma_{j=x_{b}(t) + 1}^{k_{b}} P_{ij})$"
   ]
  },
  {
   "cell_type": "markdown",
   "metadata": {},
   "source": [
    "Where:"
   ]
  },
  {
   "cell_type": "markdown",
   "metadata": {},
   "source": [
    "$P_{ii} = - \\frac{1}{i_{bx_{b}(t)}}e^{-i_{bx_{b}(t)}\\sigma_{bx_{b}(t)}}$  \n",
    "$P_{ij} = \\exp[-i_{bx_{b}(t)}\\sigma_{bx_{b}(t)} - \\Sigma_{m=x_{b}(t)+1}^{j-1}i_{bm}|T_{bm}|]\\frac{1}{i_{bj}}(1-e^{-i_{bj}|T_{bj}|})$  \n",
    "$i_{bz} = D_{b}(t)$, where $x(t) = z$"
   ]
  },
  {
   "cell_type": "markdown",
   "metadata": {},
   "source": [
    "## Proposition 2:"
   ]
  },
  {
   "cell_type": "markdown",
   "metadata": {},
   "source": [
    "$\\mathbb{P}($tree unchanged$ | b, \\Im)=\\frac{1}{t_b^u-t_b^l} \\times \\int_{t_{b}^{l}}^{t_{b}^{u}}\\mathbb{P}($tree unchanged$ | b, t, \\Im)$"
   ]
  },
  {
   "cell_type": "markdown",
   "metadata": {},
   "source": [
    "$= \\frac{1}{t_b^u-t_b^l} \\Sigma_{x=1}^{k_b} \\int_{\\sigma_{x-1}}^{\\sigma_{x}}\\mathbb{P}($tree unchanged$ | b, t, \\Im)dt$"
   ]
  },
  {
   "cell_type": "markdown",
   "metadata": {},
   "source": [
    "Let's tackle the integral:"
   ]
  },
  {
   "cell_type": "markdown",
   "metadata": {},
   "source": [
    "$\\int_{\\sigma_{b(x-1)}}^{\\sigma_{bx}}\\mathbb{P}($tree unchanged$ | b, t, \\Im)dt$"
   ]
  },
  {
   "cell_type": "markdown",
   "metadata": {},
   "source": [
    "$=\\int_{\\sigma_{b(x-1)}}^{\\sigma_{bx}} \\frac{1}{i_{bx_{b}(t)}} + e^{i_{bx_{b}(t)}t} (P_{ii} + \\Sigma_{j=x_{b}(t) + 1}^{k_{b}} P_{ij})dt$"
   ]
  },
  {
   "cell_type": "markdown",
   "metadata": {},
   "source": [
    "$=\\frac{1}{i_{bx_{b}(t)}} [T_{bx} + (e^{i_{bx_{b}(t)}\\sigma_{bx}}-e^{i_{bx_{b}(t)}\\sigma_{b(x-1)}})(P_{ii} + \\Sigma_{j=x_{b}(t) + 1}^{k_{b}} P_{ij})]$"
   ]
  },
  {
   "cell_type": "markdown",
   "metadata": {},
   "source": [
    "$=p_{b}^{(i)}$"
   ]
  },
  {
   "cell_type": "markdown",
   "metadata": {},
   "source": [
    "So, finally:"
   ]
  },
  {
   "cell_type": "markdown",
   "metadata": {},
   "source": [
    "$\\mathbb{P}($tree unchanged$ | b, \\Im)=\\frac{1}{t_b^u-t_b^l} \\Sigma_{x=1}^{k_b}p_{b}^{(i)}$"
   ]
  },
  {
   "cell_type": "markdown",
   "metadata": {},
   "source": [
    "## Theorem 1:"
   ]
  },
  {
   "cell_type": "markdown",
   "metadata": {},
   "source": [
    "The probability of a recombination event not changing the tree is:"
   ]
  },
  {
   "cell_type": "markdown",
   "metadata": {},
   "source": [
    "$\\mathbb{P}($tree unchanged$ | \\Im) = \\Sigma_{b=1}^{2n-2}[\\frac{t_b^u-t_b^l}{L(\\Im)}]\\mathbb{P}($tree unchanged$ | b, \\Im)$"
   ]
  },
  {
   "cell_type": "markdown",
   "metadata": {},
   "source": [
    "$= \\frac{1}{L(\\Im)}\\Sigma_{b=1}^{2n-2}\\Sigma_{x=1}^{k_b}p_{b}^{(i)}$"
   ]
  },
  {
   "cell_type": "markdown",
   "metadata": {},
   "source": [
    "## Theorem 2:"
   ]
  },
  {
   "cell_type": "markdown",
   "metadata": {},
   "source": [
    "The distribution of waiting distance until the next tree change given the current genealogical tree $\\Im$ is given by:"
   ]
  },
  {
   "cell_type": "markdown",
   "metadata": {},
   "source": [
    "$p_r(d|\\Im)=\\frac{\\rho}{2}\\alpha(\\Im)L(\\Im)\\exp{[-\\frac{\\rho}{2}\\alpha(\\Im)L(\\Im)d]}$"
   ]
  },
  {
   "cell_type": "markdown",
   "metadata": {},
   "source": [
    "where:"
   ]
  },
  {
   "cell_type": "markdown",
   "metadata": {},
   "source": [
    "$\\alpha(\\Im)=1-\\mathbb{P}($tree unchanged$ | \\Im)$"
   ]
  }
 ],
 "metadata": {
  "kernelspec": {
   "display_name": "Python 3",
   "language": "python",
   "name": "python3"
  },
  "language_info": {
   "codemirror_mode": {
    "name": "ipython",
    "version": 3
   },
   "file_extension": ".py",
   "mimetype": "text/x-python",
   "name": "python",
   "nbconvert_exporter": "python",
   "pygments_lexer": "ipython3",
   "version": "3.6.7"
  }
 },
 "nbformat": 4,
 "nbformat_minor": 2
}
